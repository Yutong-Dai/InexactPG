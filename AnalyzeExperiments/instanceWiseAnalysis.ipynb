{
 "metadata": {
  "language_info": {
   "codemirror_mode": {
    "name": "ipython",
    "version": 3
   },
   "file_extension": ".py",
   "mimetype": "text/x-python",
   "name": "python",
   "nbconvert_exporter": "python",
   "pygments_lexer": "ipython3",
   "version": "3.7.9-final"
  },
  "orig_nbformat": 2,
  "kernelspec": {
   "name": "python379jvsc74a57bd0aee8b7b246df8f9039afb4144a1f6fd8d2ca17a180786b69acc140d282b71a49",
   "display_name": "Python 3.7.9 64-bit"
  },
  "metadata": {
   "interpreter": {
    "hash": "aee8b7b246df8f9039afb4144a1f6fd8d2ca17a180786b69acc140d282b71a49"
   }
  }
 },
 "nbformat": 4,
 "nbformat_minor": 2,
 "cells": [
  {
   "cell_type": "code",
   "execution_count": 1,
   "metadata": {},
   "outputs": [],
   "source": [
    "def get_datasets(loss):\n",
    "    if loss == 'logit':\n",
    "        datasets = [\"a9a\", \"australian\", \"breast_cancer\", \"german_numer\",\n",
    "                    \"ijcnn1\", \"ionosphere\", \"splice\", \"svmguide3\", \"w8a\"]\n",
    "    elif loss == 'ls':\n",
    "        datasets = ['abalone_scale', 'bodyfat_scale', 'cpusmall_scale',\n",
    "                    'housing_scale', 'pyrim_scale',\n",
    "                    'YearPredictionMSD', 'triazines_scale', 'virusShare']\n",
    "    else:\n",
    "        raise ValueError(f'Invalid loss:{loss}')\n",
    "    return datasets"
   ]
  },
  {
   "cell_type": "code",
   "execution_count": null,
   "metadata": {},
   "outputs": [],
   "source": [
    "logdir='../IPG/test'; date = \"04_10_2021\"; loss = 'ls'\n",
    "datasets = get_datasets(loss)\n",
    "solver='naive';safeguard_opt='laststep'; safeguard_const='1.0'\n",
    "sch_solver='schimdtPrescribe'; sch_safeguard_opt=''; sch_safeguard_const=''"
   ]
  }
 ]
}