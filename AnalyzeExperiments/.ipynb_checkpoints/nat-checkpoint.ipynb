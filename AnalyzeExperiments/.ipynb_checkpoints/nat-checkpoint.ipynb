{
 "cells": [
  {
   "cell_type": "code",
   "execution_count": 1,
   "metadata": {},
   "outputs": [],
   "source": [
    "import pandas as pd\n",
    "import numpy as np\n",
    "from plotutils import *\n",
    "from matplotlib import pyplot as plt"
   ]
  },
  {
   "cell_type": "markdown",
   "metadata": {},
   "source": [
    "# Natural Formulation"
   ]
  },
  {
   "cell_type": "code",
   "execution_count": 2,
   "metadata": {},
   "outputs": [],
   "source": [
    "# logdir='/scratch/yud319/inexactPGlog/log/'; date='06_20_2021'\n",
    "logdir='../IPG/test/log'; date='07_09_2021'\n",
    "subsolver='projectedGD'; warm_start=True\n",
    "loss='logit'; lam_shrink=[0.1, 0.05]; group_size=[10, 100]; overlap_ratio=[0.1, 0.3, 0.5]\n",
    "excludes= ['australian', 'gisette', 'news20', 'rcv1', 'real-sim', 'madelon']"
   ]
  },
  {
   "cell_type": "markdown",
   "metadata": {},
   "source": [
    "## Option I"
   ]
  },
  {
   "cell_type": "code",
   "execution_count": 20,
   "metadata": {},
   "outputs": [
    {
     "name": "stdout",
     "output_type": "stream",
     "text": [
      "1-projectedGD-True-1e-12-empty\n",
      " 72/72 instances terminate with status:  0\n",
      "1-projectedGD-True-1e-11-empty\n",
      " 72/72 instances terminate with status:  0\n",
      "1-projectedGD-True-1e-10-empty\n",
      " 72/72 instances terminate with status:  0\n",
      "1-projectedGD-True-1e-09-empty\n",
      " 72/72 instances terminate with status:  0\n",
      "1-projectedGD-True-1e-08-empty\n",
      " 72/72 instances terminate with status:  0\n",
      "1-projectedGD-True-1e-07-empty\n",
      " 72/72 instances terminate with status:  0\n",
      "1-projectedGD-True-1e-06-empty\n",
      " 72/72 instances terminate with status:  0\n",
      "1-projectedGD-True-1e-05-empty\n",
      " 72/72 instances terminate with status:  0\n",
      "1-projectedGD-True-0.0001-empty\n",
      " 72/72 instances terminate with status:  0\n",
      "1-projectedGD-True-0.001-empty\n",
      " 72/72 instances terminate with status:  0\n"
     ]
    }
   ],
   "source": [
    "inexact_type=1; param1_lst = [1e-12, 1e-11, 1e-10, 1e-9, 1e-8, 1e-7, 1e-6, 1e-5, 1e-4, 1e-3]; param2_lst = ['empty']\n",
    "algo_df_dict_inexact_type1 = get_all(logdir, date, inexact_type, loss, subsolver, warm_start,\n",
    "                             lam_shrink, group_size, overlap_ratio,\n",
    "                             excludes, param1_lst, param2_lst)\n",
    "time_type1 = []\n",
    "for key in algo_df_dict_inexact_type1.keys():\n",
    "    df_ = algo_df_dict_inexact_type1[key]\n",
    "    time_ = np.sum(df_['time'])\n",
    "    time_type1.append(time_)"
   ]
  },
  {
   "cell_type": "markdown",
   "metadata": {},
   "source": [
    "## Option II"
   ]
  },
  {
   "cell_type": "code",
   "execution_count": 30,
   "metadata": {},
   "outputs": [
    {
     "name": "stdout",
     "output_type": "stream",
     "text": [
      "2-projectedGD-True-1e-12-0.1\n",
      " 72/72 instances terminate with status:  0\n",
      "2-projectedGD-True-1e-11-0.1\n",
      " 72/72 instances terminate with status:  0\n",
      "2-projectedGD-True-1e-10-0.1\n",
      " 72/72 instances terminate with status:  0\n",
      "2-projectedGD-True-1e-09-0.1\n",
      " 72/72 instances terminate with status:  0\n",
      "2-projectedGD-True-1e-08-0.1\n",
      " 72/72 instances terminate with status:  0\n",
      "2-projectedGD-True-1e-07-0.1\n",
      " 72/72 instances terminate with status:  0\n",
      "2-projectedGD-True-1e-06-0.1\n",
      " 72/72 instances terminate with status:  0\n",
      "2-projectedGD-True-1e-05-0.1\n",
      " 72/72 instances terminate with status:  0\n",
      "2-projectedGD-True-0.0001-0.1\n",
      " 72/72 instances terminate with status:  0\n",
      "2-projectedGD-True-0.001-0.1\n",
      " 72/72 instances terminate with status:  0\n"
     ]
    }
   ],
   "source": [
    "inexact_type=2; param1_lst = [1e-12, 1e-11, 1e-10, 1e-9, 1e-8, 1e-7, 1e-6, 1e-5, 1e-4, 1e-3]; param2_lst = [0.1]\n",
    "algo_df_dict_inexact_type2 = get_all(logdir, date, inexact_type, loss, subsolver, warm_start,\n",
    "                             lam_shrink, group_size, overlap_ratio,\n",
    "                             excludes, param1_lst, param2_lst)\n",
    "\n",
    "time_type2 = []\n",
    "for key in algo_df_dict_inexact_type2.keys():\n",
    "    df_ = algo_df_dict_inexact_type2[key]\n",
    "    time_ = np.sum(df_['time'])\n",
    "    time_type2.append(time_)"
   ]
  },
  {
   "cell_type": "markdown",
   "metadata": {},
   "source": [
    "# option III"
   ]
  },
  {
   "cell_type": "code",
   "execution_count": 33,
   "metadata": {},
   "outputs": [
    {
     "name": "stdout",
     "output_type": "stream",
     "text": [
      "3-projectedGD-True-3.0-1.0\n",
      " 72/72 instances terminate with status:  0\n",
      "3-projectedGD-True-3.0-10.0\n",
      " 72/72 instances terminate with status:  0\n",
      "3-projectedGD-True-3.0-100.0\n",
      " 72/72 instances terminate with status:  0\n",
      "3-projectedGD-True-3.0-1000.0\n",
      " 72/72 instances terminate with status:  0\n",
      "3-projectedGD-True-3.0-10000.0\n",
      " 72/72 instances terminate with status:  0\n",
      "3-projectedGD-True-3.0-100000.0\n",
      " 72/72 instances terminate with status:  0\n",
      "3-projectedGD-True-3.0-1000000.0\n",
      " 71/72 instances terminate with status:  0\n",
      "  1/72 instances terminate with status:  2\n",
      "3-projectedGD-True-3.0-10000000.0\n",
      " 71/72 instances terminate with status:  0\n",
      "  1/72 instances terminate with status:  2\n",
      "3-projectedGD-True-3.0-100000000.0\n",
      " 71/72 instances terminate with status:  0\n",
      "  1/72 instances terminate with status:  2\n",
      "3-projectedGD-True-3.0-1000000000.0\n",
      " 69/72 instances terminate with status:  0\n",
      "  3/72 instances terminate with status:  2\n"
     ]
    }
   ],
   "source": [
    "inexact_type=3; param1_lst = [3.0]; param2_lst = [1e0, 1e1, 1e2, 1e3, 1e4, 1e5, 1e6, 1e7, 1e8, 1e9]\n",
    "algo_df_dict_inexact_type3 = get_all(logdir, date, inexact_type, loss, subsolver, warm_start,\n",
    "                             lam_shrink, group_size, overlap_ratio,\n",
    "                             excludes, param1_lst, param2_lst)\n",
    "time_type3 = []\n",
    "for key in algo_df_dict_inexact_type3.keys():\n",
    "    df_ = algo_df_dict_inexact_type3[key]\n",
    "    time_ = np.sum(df_['time'])\n",
    "    time_type3.append(time_)"
   ]
  },
  {
   "cell_type": "code",
   "execution_count": 34,
   "metadata": {},
   "outputs": [
    {
     "data": {
      "text/plain": [
       "<matplotlib.legend.Legend at 0x7f741da0b710>"
      ]
     },
     "execution_count": 34,
     "metadata": {},
     "output_type": "execute_result"
    },
    {
     "data": {
      "image/png": "[encoded data removed]",
      "text/plain": [
       "<Figure size 432x288 with 1 Axes>"
      ]
     },
     "metadata": {
      "needs_background": "light"
     },
     "output_type": "display_data"
    }
   ],
   "source": [
    "plt.figure()\n",
    "plt.plot(time_type1, 'r-*', label='1')\n",
    "plt.plot(time_type3, 'k-o', label='3')\n",
    "plt.yscale('log')\n",
    "plt.legend()"
   ]
  },
  {
   "cell_type": "code",
   "execution_count": 35,
   "metadata": {},
   "outputs": [
    {
     "data": {
      "text/plain": [
       "<matplotlib.legend.Legend at 0x7f7418919910>"
      ]
     },
     "execution_count": 35,
     "metadata": {},
     "output_type": "execute_result"
    },
    {
     "data": {
      "image/png": "[encoded data removed]",
      "text/plain": [
       "<Figure size 432x288 with 1 Axes>"
      ]
     },
     "metadata": {
      "needs_background": "light"
     },
     "output_type": "display_data"
    }
   ],
   "source": [
    "plt.figure()\n",
    "plt.plot(time_type2, 'b-^', label='2')\n",
    "plt.plot(time_type3, 'k-o', label='3')\n",
    "plt.yscale('log')\n",
    "plt.legend()"
   ]
  },
  {
   "cell_type": "markdown",
   "metadata": {},
   "source": [
    "## Morales Plots"
   ]
  },
  {
   "cell_type": "code",
   "execution_count": 36,
   "metadata": {},
   "outputs": [
    {
     "name": "stdout",
     "output_type": "stream",
     "text": [
      "1-projectedGD-True-1e-12-empty\n",
      " 72/72 instances terminate with status:  0\n",
      "1-projectedGD-True-1e-11-empty\n",
      " 72/72 instances terminate with status:  0\n",
      "1-projectedGD-True-1e-10-empty\n",
      " 72/72 instances terminate with status:  0\n",
      "1-projectedGD-True-1e-09-empty\n",
      " 72/72 instances terminate with status:  0\n",
      "1-projectedGD-True-1e-08-empty\n",
      " 72/72 instances terminate with status:  0\n",
      "1-projectedGD-True-1e-07-empty\n",
      " 72/72 instances terminate with status:  0\n",
      "1-projectedGD-True-1e-06-empty\n",
      " 72/72 instances terminate with status:  0\n",
      "1-projectedGD-True-1e-05-empty\n",
      " 72/72 instances terminate with status:  0\n",
      "1-projectedGD-True-0.0001-empty\n",
      " 72/72 instances terminate with status:  0\n",
      "1-projectedGD-True-0.001-empty\n",
      " 72/72 instances terminate with status:  0\n",
      "All algorithms failed in 0 instances (failure code -2)\n",
      "Metrics for failed instances are overwritten with np.inf\n",
      "After subsetting, 72 instances are kept.\n",
      "=================\n",
      "no stric ordering, choose max instances\n",
      "Best params: 1-projectedGD-True-1e-08-empty\n"
     ]
    }
   ],
   "source": [
    "inexact_type=1; param1_lst = [1e-12, 1e-11, 1e-10, 1e-9, 1e-8, 1e-7, 1e-6, 1e-5, 1e-4, 1e-3]; param2_lst = ['empty']\n",
    "algo_df_dict_inexact_type1 = get_all(logdir, date, inexact_type, loss, subsolver, warm_start,\n",
    "                             lam_shrink, group_size, overlap_ratio,\n",
    "                             excludes, param1_lst, param2_lst)\n",
    "ppf = PerformanceProfile(algo_df_dict_inexact_type1)\n",
    "ppf.get_subset_by_time(threshold=1, remove_failed=True)\n",
    "pools = ppf.plot(column='time', show_num=True, options={'ratio_max':4}, plot=False)\n",
    "print(\"=================\")\n",
    "inexact_type1_best = get_best(pools)\n",
    "print('Best params:', inexact_type1_best)"
   ]
  },
  {
   "cell_type": "code",
   "execution_count": 37,
   "metadata": {},
   "outputs": [
    {
     "name": "stdout",
     "output_type": "stream",
     "text": [
      "2-projectedGD-True-1e-12-0.1\n",
      " 72/72 instances terminate with status:  0\n",
      "2-projectedGD-True-1e-11-0.1\n",
      " 72/72 instances terminate with status:  0\n",
      "2-projectedGD-True-1e-10-0.1\n",
      " 72/72 instances terminate with status:  0\n",
      "2-projectedGD-True-1e-09-0.1\n",
      " 72/72 instances terminate with status:  0\n",
      "2-projectedGD-True-1e-08-0.1\n",
      " 72/72 instances terminate with status:  0\n",
      "2-projectedGD-True-1e-07-0.1\n",
      " 72/72 instances terminate with status:  0\n",
      "2-projectedGD-True-1e-06-0.1\n",
      " 72/72 instances terminate with status:  0\n",
      "2-projectedGD-True-1e-05-0.1\n",
      " 72/72 instances terminate with status:  0\n",
      "2-projectedGD-True-0.0001-0.1\n",
      " 72/72 instances terminate with status:  0\n",
      "2-projectedGD-True-0.001-0.1\n",
      " 72/72 instances terminate with status:  0\n",
      "All algorithms failed in 0 instances (failure code -2)\n",
      "Metrics for failed instances are overwritten with np.inf\n",
      "After subsetting, 72 instances are kept.\n",
      "=================\n",
      "no stric ordering, choose max instances\n",
      "Best params: 2-projectedGD-True-1e-05-0.1\n"
     ]
    }
   ],
   "source": [
    "inexact_type=2; param1_lst = [1e-12, 1e-11, 1e-10, 1e-9, 1e-8, 1e-7, 1e-6, 1e-5, 1e-4, 1e-3]; param2_lst = [0.1]\n",
    "algo_df_dict_inexact_type2 = get_all(logdir, date, inexact_type, loss, subsolver, warm_start,\n",
    "                             lam_shrink, group_size, overlap_ratio,\n",
    "                             excludes, param1_lst, param2_lst)\n",
    "ppf = PerformanceProfile(algo_df_dict_inexact_type2)\n",
    "ppf.get_subset_by_time(threshold=1, remove_failed=True)\n",
    "pools = ppf.plot(column='time', show_num=True, options={'ratio_max':4}, plot=False)\n",
    "print(\"=================\")\n",
    "inexact_type2_best = get_best(pools)\n",
    "print('Best params:', inexact_type2_best)"
   ]
  },
  {
   "cell_type": "code",
   "execution_count": 38,
   "metadata": {},
   "outputs": [
    {
     "name": "stdout",
     "output_type": "stream",
     "text": [
      "3-projectedGD-True-3.0-1.0\n",
      " 72/72 instances terminate with status:  0\n",
      "3-projectedGD-True-3.0-10.0\n",
      " 72/72 instances terminate with status:  0\n",
      "3-projectedGD-True-3.0-100.0\n",
      " 72/72 instances terminate with status:  0\n",
      "3-projectedGD-True-3.0-1000.0\n",
      " 72/72 instances terminate with status:  0\n",
      "3-projectedGD-True-3.0-10000.0\n",
      " 72/72 instances terminate with status:  0\n",
      "3-projectedGD-True-3.0-100000.0\n",
      " 72/72 instances terminate with status:  0\n",
      "3-projectedGD-True-3.0-1000000.0\n",
      " 71/72 instances terminate with status:  0\n",
      "  1/72 instances terminate with status:  2\n",
      "3-projectedGD-True-3.0-10000000.0\n",
      " 71/72 instances terminate with status:  0\n",
      "  1/72 instances terminate with status:  2\n",
      "3-projectedGD-True-3.0-100000000.0\n",
      " 71/72 instances terminate with status:  0\n",
      "  1/72 instances terminate with status:  2\n",
      "3-projectedGD-True-3.0-1000000000.0\n",
      " 69/72 instances terminate with status:  0\n",
      "  3/72 instances terminate with status:  2\n",
      "All algorithms failed in 0 instances (failure code -2)\n",
      "Metrics for failed instances are overwritten with np.inf\n",
      "After subsetting, 72 instances are kept.\n",
      "no stric ordering, choose max instances\n",
      "Best params: 3-projectedGD-True-3.0-100.0\n"
     ]
    }
   ],
   "source": [
    "inexact_type=3; param1_lst = [3.0]; param2_lst = [1e0, 1e1, 1e2, 1e3, 1e4, 1e5, 1e6, 1e7, 1e8, 1e9]\n",
    "algo_df_dict_inexact_type3 = get_all(logdir, date, inexact_type, loss, subsolver, warm_start,\n",
    "                             lam_shrink, group_size, overlap_ratio,\n",
    "                             excludes, param1_lst, param2_lst)\n",
    "ppf = PerformanceProfile(algo_df_dict_inexact_type3)\n",
    "ppf.get_subset_by_time(threshold=1, remove_failed=True)\n",
    "pools = ppf.plot(column='time', show_num=True, options={'ratio_max':4}, plot=False)\n",
    "# print(\"=================\")\n",
    "inexact_type3_best = get_best(pools)\n",
    "print('Best params:', inexact_type3_best)"
   ]
  },
  {
   "cell_type": "code",
   "execution_count": 39,
   "metadata": {},
   "outputs": [
    {
     "name": "stdout",
     "output_type": "stream",
     "text": [
      "For 1-3 comparsion:\n",
      "==========================\n",
      " In terms final F:\n",
      "  better:45 | same:27 | worse: 0\n",
      " In terms #z:\n",
      "  better:36 | same:35 | worse: 1\n",
      "For 2-3 comparsion:\n",
      "==========================\n",
      " In terms final F:\n",
      "  better:66 | same:6 | worse: 0\n",
      " In terms #z:\n",
      "  better:39 | same:33 | worse: 0\n"
     ]
    }
   ],
   "source": [
    "cols = ['datasetid', 'F', 'time', 'nz']\n",
    "df1 = algo_df_dict_inexact_type1[inexact_type1_best][cols].copy()\n",
    "df2 = algo_df_dict_inexact_type2[inexact_type2_best][cols].copy()\n",
    "df3 = algo_df_dict_inexact_type3[inexact_type3_best][cols].copy()\n",
    "df13_merged = pd.merge(df1, df3, on='datasetid', suffixes=(\"_type1\", \"_type3\"), how='left')\n",
    "\n",
    "better13_z = np.sum((df13_merged['nz_type1'] - df13_merged['nz_type3']) > 0 ) \n",
    "same13_z = np.sum((df13_merged['nz_type1'] - df13_merged['nz_type3']) == 0 ) \n",
    "worse13_z = np.sum((df13_merged['nz_type1'] - df13_merged['nz_type3']) <0 ) \n",
    "\n",
    "better13_F = np.sum((df13_merged['F_type1'] - df13_merged['F_type3']) < -1e-8 ) \n",
    "same13_F = np.sum(np.abs(df13_merged['F_type1'] - df13_merged['F_type3']) <= 1e-8 ) \n",
    "worse13_F = np.sum((df13_merged['F_type1'] - df13_merged['F_type3']) > 1e-8 ) \n",
    "\n",
    "df23_merged = pd.merge(df2, df3, on='datasetid', suffixes=(\"_type2\", \"_type3\"), how='left')\n",
    "better23_z = np.sum((df23_merged['nz_type2'] - df23_merged['nz_type3']) > 0 ) \n",
    "same23_z = np.sum((df23_merged['nz_type2'] - df23_merged['nz_type3']) == 0 ) \n",
    "worse23_z = np.sum((df23_merged['nz_type2'] - df23_merged['nz_type3']) <0 ) \n",
    "\n",
    "better23_F = np.sum((df23_merged['F_type2'] - df23_merged['F_type3']) < -1e-8 ) \n",
    "same23_F = np.sum(np.abs(df23_merged['F_type2'] - df23_merged['F_type3']) <=1e-8 ) \n",
    "worse23_F = np.sum((df23_merged['F_type2'] - df23_merged['F_type3']) > 1e-8 ) \n",
    "\n",
    "print(\"For 1-3 comparsion:\\n==========================\")\n",
    "print(\" In terms final F:\")\n",
    "print(f\"  better:{better13_F} | same:{same13_F} | worse: {worse13_F}\")\n",
    "print(\" In terms #z:\")\n",
    "print(f\"  better:{better13_z} | same:{same13_z} | worse: {worse13_z}\")\n",
    "print(\"For 2-3 comparsion:\\n==========================\")\n",
    "print(\" In terms final F:\")\n",
    "print(f\"  better:{better23_F} | same:{same23_F} | worse: {worse23_F}\")\n",
    "print(\" In terms #z:\")\n",
    "print(f\"  better:{better23_z} | same:{same23_z} | worse: {worse23_z}\")"
   ]
  },
  {
   "cell_type": "code",
   "execution_count": null,
   "metadata": {},
   "outputs": [],
   "source": []
  },
  {
   "cell_type": "code",
   "execution_count": null,
   "metadata": {},
   "outputs": [],
   "source": []
  },
  {
   "cell_type": "code",
   "execution_count": null,
   "metadata": {},
   "outputs": [],
   "source": []
  },
  {
   "cell_type": "code",
   "execution_count": null,
   "metadata": {},
   "outputs": [],
   "source": []
  },
  {
   "cell_type": "code",
   "execution_count": null,
   "metadata": {},
   "outputs": [],
   "source": []
  },
  {
   "cell_type": "code",
   "execution_count": null,
   "metadata": {},
   "outputs": [],
   "source": []
  },
  {
   "cell_type": "code",
   "execution_count": null,
   "metadata": {},
   "outputs": [],
   "source": []
  },
  {
   "cell_type": "code",
   "execution_count": 40,
   "metadata": {},
   "outputs": [
    {
     "name": "stdout",
     "output_type": "stream",
     "text": [
      "All algorithms failed in 0 instances (failure code -2)\n",
      "Metrics for failed instances are overwritten with np.inf\n",
      "After subsetting, 72 instances are kept.\n",
      "1-projectedGD-True-1e-08-empty Win:6 | Lose:66\n",
      "1-projectedGD-True-1e-08-empty Win:47 | Lose:25\n",
      "2-projectedGD-True-1e-05-0.1 Win:63 | Lose:9\n"
     ]
    },
    {
     "data": {
      "image/png": "[encoded data removed]",
      "text/plain": [
       "<Figure size 432x288 with 1 Axes>"
      ]
     },
     "metadata": {
      "needs_background": "light"
     },
     "output_type": "display_data"
    },
    {
     "data": {
      "image/png": "[encoded data removed]",
      "text/plain": [
       "<Figure size 432x288 with 1 Axes>"
      ]
     },
     "metadata": {
      "needs_background": "light"
     },
     "output_type": "display_data"
    },
    {
     "data": {
      "image/png": "[encoded data removed]",
      "text/plain": [
       "<Figure size 432x288 with 1 Axes>"
      ]
     },
     "metadata": {
      "needs_background": "light"
     },
     "output_type": "display_data"
    }
   ],
   "source": [
    "final = {}\n",
    "final[inexact_type1_best] = algo_df_dict_inexact_type1[inexact_type1_best]\n",
    "final[inexact_type2_best] = algo_df_dict_inexact_type2[inexact_type2_best]\n",
    "final[inexact_type3_best] = algo_df_dict_inexact_type3[inexact_type3_best]\n",
    "ppf = PerformanceProfile(final)\n",
    "ppf.get_subset_by_time(threshold=1, remove_failed=True)\n",
    "_ = ppf.plot(column='time',show_num=False, options={'ratio_max':6}, save=True, saveDir='./natOG/', labels=['option I\\ \\ \\ ', 'option II\\ \\ ', 'option III'])"
   ]
  },
  {
   "cell_type": "markdown",
   "metadata": {},
   "source": [
    "# Latent Formulation"
   ]
  },
  {
   "cell_type": "code",
   "execution_count": 3,
   "metadata": {},
   "outputs": [],
   "source": [
    "import pandas as pd\n",
    "import numpy as np\n",
    "from plotutils import *\n",
    "from matplotlib import pyplot as plt"
   ]
  },
  {
   "cell_type": "code",
   "execution_count": 4,
   "metadata": {},
   "outputs": [],
   "source": [
    "# logdir='/scratch/yud319/inexactPGlog/log/'; date='06_21_2021'\n",
    "logdir='../IPG/test/log'; date='07_10_2021'\n",
    "subsolver='projectedGD'; warm_start=True\n",
    "loss='logit'; lam_shrink=[0.1, 0.05]; group_size=[10, 100]; overlap_ratio=[0.1, 0.3, 0.5]\n",
    "# excludes= ['australian', 'gisette', 'news20', 'rcv1', 'real-sim', 'madelon']\n",
    "excludes= None"
   ]
  },
  {
   "cell_type": "markdown",
   "metadata": {},
   "source": [
    "## Option I"
   ]
  },
  {
   "cell_type": "code",
   "execution_count": 5,
   "metadata": {},
   "outputs": [
    {
     "name": "stdout",
     "output_type": "stream",
     "text": [
      "1-projectedGD-True-1e-10-empty\n",
      " 72/72 instances terminate with status:  0\n",
      "1-projectedGD-True-1e-09-empty\n",
      " 72/72 instances terminate with status:  0\n",
      "1-projectedGD-True-1e-08-empty\n",
      " 72/72 instances terminate with status:  0\n",
      "1-projectedGD-True-1e-07-empty\n",
      " 72/72 instances terminate with status:  0\n",
      "1-projectedGD-True-1e-06-empty\n",
      " 72/72 instances terminate with status:  0\n"
     ]
    }
   ],
   "source": [
    "inexact_type=1; param1_lst = [1e-10, 1e-9, 1e-8, 1e-7, 1e-6]; param2_lst = ['empty']\n",
    "algo_df_dict_inexact_type1 = get_all(logdir, date, inexact_type, loss, subsolver, warm_start,\n",
    "                             lam_shrink, group_size, overlap_ratio,\n",
    "                             excludes, param1_lst, param2_lst)\n",
    "time_type1 = []\n",
    "for key in algo_df_dict_inexact_type1.keys():\n",
    "    df_ = algo_df_dict_inexact_type1[key]\n",
    "    time_ = np.sum(df_['time'])\n",
    "    time_type1.append(time_)"
   ]
  },
  {
   "cell_type": "markdown",
   "metadata": {},
   "source": [
    "## Option II"
   ]
  },
  {
   "cell_type": "code",
   "execution_count": 29,
   "metadata": {},
   "outputs": [
    {
     "name": "stdout",
     "output_type": "stream",
     "text": [
      "2-projectedGD-True-1e-25-0.1\n",
      " 72/72 instances terminate with status:  0\n",
      "2-projectedGD-True-1e-08-0.1\n",
      " 72/72 instances terminate with status:  0\n",
      "2-projectedGD-True-1e-07-0.1\n",
      " 72/72 instances terminate with status:  0\n",
      "2-projectedGD-True-1e-06-0.1\n",
      " 72/72 instances terminate with status:  0\n",
      "2-projectedGD-True-1e-05-0.1\n",
      " 72/72 instances terminate with status:  0\n",
      "2-projectedGD-True-0.0001-0.1\n",
      " 72/72 instances terminate with status:  0\n",
      "2-projectedGD-True-0.001-0.1\n",
      " 72/72 instances terminate with status:  0\n"
     ]
    }
   ],
   "source": [
    "inexact_type=2; param1_lst = [1e-25, 1e-8, 1e-7, 1e-6, 1e-5, 1e-4, 1e-3]; param2_lst = [0.1]\n",
    "algo_df_dict_inexact_type2 = get_all(logdir, date, inexact_type, loss, subsolver, warm_start,\n",
    "                             lam_shrink, group_size, overlap_ratio,\n",
    "                             excludes, param1_lst, param2_lst)\n",
    "\n",
    "time_type2 = []\n",
    "for key in algo_df_dict_inexact_type2.keys():\n",
    "    df_ = algo_df_dict_inexact_type2[key]\n",
    "    time_ = np.sum(df_['time'])\n",
    "    time_type2.append(time_)"
   ]
  },
  {
   "cell_type": "markdown",
   "metadata": {},
   "source": [
    "## Option III"
   ]
  },
  {
   "cell_type": "code",
   "execution_count": 7,
   "metadata": {},
   "outputs": [
    {
     "name": "stdout",
     "output_type": "stream",
     "text": [
      "3-projectedGD-True-3.0-10000.0\n",
      " 72/72 instances terminate with status:  0\n",
      "3-projectedGD-True-3.0-100000.0\n",
      " 72/72 instances terminate with status:  0\n",
      "3-projectedGD-True-3.0-1000000.0\n",
      " 72/72 instances terminate with status:  0\n",
      "3-projectedGD-True-3.0-10000000.0\n",
      " 72/72 instances terminate with status:  0\n",
      "3-projectedGD-True-3.0-100000000.0\n",
      " 72/72 instances terminate with status:  0\n",
      "3-projectedGD-True-3.0-1000000000.0\n",
      " 72/72 instances terminate with status:  0\n",
      "3-projectedGD-True-3.0-10000000000.0\n",
      " 72/72 instances terminate with status:  0\n",
      "3-projectedGD-True-3.0-100000000000.0\n",
      " 72/72 instances terminate with status:  0\n",
      "3-projectedGD-True-3.0-1000000000000.0\n",
      " 72/72 instances terminate with status:  0\n"
     ]
    }
   ],
   "source": [
    "inexact_type=3; param1_lst = [3.0]; param2_lst = [1e4, 1e5, 1e6, 1e7, 1e8, 1e9, 1e10, 1e11, 1e12]\n",
    "algo_df_dict_inexact_type3 = get_all(logdir, date, inexact_type, loss, subsolver, warm_start,\n",
    "                             lam_shrink, group_size, overlap_ratio,\n",
    "                             excludes, param1_lst, param2_lst)\n",
    "time_type3 = []\n",
    "for key in algo_df_dict_inexact_type3.keys():\n",
    "    df_ = algo_df_dict_inexact_type3[key]\n",
    "    time_ = np.sum(df_['time'])\n",
    "    time_type3.append(time_)"
   ]
  },
  {
   "cell_type": "code",
   "execution_count": 49,
   "metadata": {},
   "outputs": [
    {
     "data": {
      "text/plain": [
       "<matplotlib.legend.Legend at 0x7fbf2dd1b490>"
      ]
     },
     "execution_count": 49,
     "metadata": {},
     "output_type": "execute_result"
    },
    {
     "data": {
      "image/png": "[encoded data removed]",
      "text/plain": [
       "<Figure size 432x288 with 1 Axes>"
      ]
     },
     "metadata": {
      "needs_background": "light"
     },
     "output_type": "display_data"
    }
   ],
   "source": [
    "plt.figure()\n",
    "plt.plot(time_type1, 'r-*', label='1')\n",
    "plt.plot(time_type3, 'k-o', label='3' )\n",
    "plt.legend()"
   ]
  },
  {
   "cell_type": "code",
   "execution_count": 50,
   "metadata": {},
   "outputs": [
    {
     "data": {
      "text/plain": [
       "<matplotlib.legend.Legend at 0x7fbf2dd106d0>"
      ]
     },
     "execution_count": 50,
     "metadata": {},
     "output_type": "execute_result"
    },
    {
     "data": {
      "image/png": "[encoded data removed]",
      "text/plain": [
       "<Figure size 432x288 with 1 Axes>"
      ]
     },
     "metadata": {
      "needs_background": "light"
     },
     "output_type": "display_data"
    }
   ],
   "source": [
    "plt.figure()\n",
    "plt.plot(time_type2, 'b-.', label='2')\n",
    "plt.plot(time_type3, 'k-o', label='3' )\n",
    "plt.legend()"
   ]
  },
  {
   "cell_type": "code",
   "execution_count": 8,
   "metadata": {},
   "outputs": [
    {
     "data": {
      "text/plain": [
       "([9573.853875398636,\n",
       "  9267.184880018234,\n",
       "  9208.988396644592,\n",
       "  9251.400318861008,\n",
       "  9278.822405099869],\n",
       " [7571.1898646354675,\n",
       "  7887.642962932587,\n",
       "  7610.204954385757,\n",
       "  7673.804279088974,\n",
       "  7723.183288097382,\n",
       "  7685.205902338028],\n",
       " [14590.076770067215,\n",
       "  6470.901130437851,\n",
       "  5547.527290344238,\n",
       "  5429.282121419907,\n",
       "  5939.072687625885,\n",
       "  5518.661186218262,\n",
       "  5975.242364168167,\n",
       "  6019.764567613602,\n",
       "  6018.382739067078])"
      ]
     },
     "execution_count": 8,
     "metadata": {},
     "output_type": "execute_result"
    }
   ],
   "source": [
    "time_type1,time_type2,time_type3"
   ]
  },
  {
   "cell_type": "markdown",
   "metadata": {},
   "source": [
    "# Morales Plot"
   ]
  },
  {
   "cell_type": "code",
   "execution_count": 13,
   "metadata": {},
   "outputs": [
    {
     "name": "stdout",
     "output_type": "stream",
     "text": [
      "1-projectedGD-True-1e-10-empty\n",
      " 72/72 instances terminate with status:  0\n",
      "1-projectedGD-True-1e-09-empty\n",
      " 72/72 instances terminate with status:  0\n",
      "1-projectedGD-True-1e-08-empty\n",
      " 72/72 instances terminate with status:  0\n",
      "1-projectedGD-True-1e-07-empty\n",
      " 72/72 instances terminate with status:  0\n",
      "1-projectedGD-True-1e-06-empty\n",
      " 72/72 instances terminate with status:  0\n",
      "All algorithms failed in 0 instances (failure code -2)\n",
      "Metrics for failed instances are overwritten with np.inf\n",
      "After subsetting, 72 instances are kept.\n",
      "=================\n",
      "Best params: 1-projectedGD-True-1e-08-empty\n"
     ]
    }
   ],
   "source": [
    "inexact_type=1; param1_lst = [1e-10, 1e-9, 1e-8, 1e-7, 1e-6]; param2_lst = ['empty']\n",
    "algo_df_dict_inexact_type1 = get_all(logdir, date, inexact_type, loss, subsolver, warm_start,\n",
    "                             lam_shrink, group_size, overlap_ratio,\n",
    "                             excludes, param1_lst, param2_lst)\n",
    "ppf = PerformanceProfile(algo_df_dict_inexact_type1)\n",
    "ppf.get_subset_by_time(threshold=1, remove_failed=True)\n",
    "pools = ppf.plot(column='time', show_num=True, options={'ratio_max':4}, plot=False)\n",
    "print(\"=================\")\n",
    "inexact_type1_best = get_best(pools)\n",
    "print('Best params:', inexact_type1_best)"
   ]
  },
  {
   "cell_type": "code",
   "execution_count": 14,
   "metadata": {},
   "outputs": [
    {
     "name": "stdout",
     "output_type": "stream",
     "text": [
      "2-projectedGD-True-1e-07-0.1\n",
      " 72/72 instances terminate with status:  0\n",
      "2-projectedGD-True-1e-06-0.1\n",
      " 72/72 instances terminate with status:  0\n",
      "2-projectedGD-True-1e-05-0.1\n",
      " 72/72 instances terminate with status:  0\n",
      "2-projectedGD-True-0.0001-0.1\n",
      " 72/72 instances terminate with status:  0\n",
      "2-projectedGD-True-0.001-0.1\n",
      " 72/72 instances terminate with status:  0\n",
      "All algorithms failed in 0 instances (failure code -2)\n",
      "Metrics for failed instances are overwritten with np.inf\n",
      "After subsetting, 72 instances are kept.\n",
      "=================\n",
      "Best params: 2-projectedGD-True-0.001-0.1\n"
     ]
    }
   ],
   "source": [
    "inexact_type=2; param1_lst = [1e-7, 1e-6, 1e-5, 1e-4, 1e-3]; param2_lst = [0.1]\n",
    "algo_df_dict_inexact_type2 = get_all(logdir, date, inexact_type, loss, subsolver, warm_start,\n",
    "                             lam_shrink, group_size, overlap_ratio,\n",
    "                             excludes, param1_lst, param2_lst)\n",
    "ppf = PerformanceProfile(algo_df_dict_inexact_type2)\n",
    "ppf.get_subset_by_time(threshold=1, remove_failed=True)\n",
    "pools = ppf.plot(column='time', show_num=True, options={'ratio_max':4}, plot=False)\n",
    "print(\"=================\")\n",
    "inexact_type2_best = get_best(pools)\n",
    "print('Best params:', inexact_type2_best)"
   ]
  },
  {
   "cell_type": "code",
   "execution_count": 32,
   "metadata": {},
   "outputs": [
    {
     "name": "stdout",
     "output_type": "stream",
     "text": [
      "3-projectedGD-True-3.0-10000.0\n",
      " 72/72 instances terminate with status:  0\n",
      "3-projectedGD-True-3.0-100000.0\n",
      " 72/72 instances terminate with status:  0\n",
      "3-projectedGD-True-3.0-1000000.0\n",
      " 72/72 instances terminate with status:  0\n",
      "3-projectedGD-True-3.0-10000000.0\n",
      " 72/72 instances terminate with status:  0\n",
      "3-projectedGD-True-3.0-100000000.0\n",
      " 72/72 instances terminate with status:  0\n",
      "3-projectedGD-True-3.0-1000000000.0\n",
      " 72/72 instances terminate with status:  0\n",
      "3-projectedGD-True-3.0-10000000000.0\n",
      " 72/72 instances terminate with status:  0\n",
      "3-projectedGD-True-3.0-100000000000.0\n",
      " 72/72 instances terminate with status:  0\n",
      "3-projectedGD-True-3.0-1000000000000.0\n",
      " 72/72 instances terminate with status:  0\n",
      "All algorithms failed in 0 instances (failure code -2)\n",
      "Metrics for failed instances are overwritten with np.inf\n",
      "After subsetting, 72 instances are kept.\n",
      "Best params: 3-projectedGD-True-3.0-10000000.0\n"
     ]
    }
   ],
   "source": [
    "inexact_type=3; param1_lst = [3.0]; param2_lst = [1e4, 1e5, 1e6, 1e7, 1e8, 1e9, 1e10, 1e11, 1e12]\n",
    "algo_df_dict_inexact_type3 = get_all(logdir, date, inexact_type, loss, subsolver, warm_start,\n",
    "                             lam_shrink, group_size, overlap_ratio,\n",
    "                             excludes, param1_lst, param2_lst)\n",
    "ppf = PerformanceProfile(algo_df_dict_inexact_type3)\n",
    "ppf.get_subset_by_time(threshold=1, remove_failed=True)\n",
    "pools = ppf.plot(column='time', show_num=True, options={'ratio_max':4}, plot=False)\n",
    "# print(\"=================\")\n",
    "inexact_type3_best = get_best(pools)\n",
    "print('Best params:', inexact_type3_best)"
   ]
  },
  {
   "cell_type": "code",
   "execution_count": 44,
   "metadata": {},
   "outputs": [
    {
     "name": "stdout",
     "output_type": "stream",
     "text": [
      "For 1-3 comparsion:\n",
      "==========================\n",
      " In terms #z:\n",
      "  better:14 | same:52 | worse: 6\n",
      "For 2-3 comparsion:\n",
      "==========================\n",
      " In terms #z:\n",
      "  better:12 | same:54 | worse: 6\n"
     ]
    }
   ],
   "source": [
    "cols = ['datasetid', 'time', 'nz']\n",
    "df1 = algo_df_dict_inexact_type1[inexact_type1_best][cols].copy()\n",
    "df2 = algo_df_dict_inexact_type2[inexact_type2_best][cols].copy()\n",
    "df3 = algo_df_dict_inexact_type3[inexact_type3_best][cols].copy()\n",
    "df13_merged = pd.merge(df1, df3, on='datasetid', suffixes=(\"_type1\", \"_type3\"), how='left')\n",
    "\n",
    "better13_z = np.sum((df13_merged['nz_type1'] - df13_merged['nz_type3']) > 0 ) \n",
    "same13_z = np.sum((df13_merged['nz_type1'] - df13_merged['nz_type3']) == 0 ) \n",
    "worse13_z = np.sum((df13_merged['nz_type1'] - df13_merged['nz_type3']) <0 ) \n",
    "\n",
    "df23_merged = pd.merge(df2, df3, on='datasetid', suffixes=(\"_type2\", \"_type3\"), how='left')\n",
    "better23_z = np.sum((df23_merged['nz_type2'] - df23_merged['nz_type3']) > 0 ) \n",
    "same23_z = np.sum((df23_merged['nz_type2'] - df23_merged['nz_type3']) == 0 ) \n",
    "worse23_z = np.sum((df23_merged['nz_type2'] - df23_merged['nz_type3']) <0 ) \n",
    "\n",
    "print(\"For 1-3 comparsion:\\n==========================\")\n",
    "print(\" In terms #z:\")\n",
    "print(f\"  better:{better13_z} | same:{same13_z} | worse: {worse13_z}\")\n",
    "print(\"For 2-3 comparsion:\\n==========================\")\n",
    "print(\" In terms #z:\")\n",
    "print(f\"  better:{better23_z} | same:{same23_z} | worse: {worse23_z}\")"
   ]
  },
  {
   "cell_type": "code",
   "execution_count": 17,
   "metadata": {},
   "outputs": [
    {
     "ename": "NameError",
     "evalue": "name 'inexact_type3_best' is not defined",
     "output_type": "error",
     "traceback": [
      "\u001b[0;31m---------------------------------\u001b[0m",
      "\u001b[0;31mNameError\u001b[0mTraceback (most recent call last)",
      "\u001b[0;32m<ipython-input-17-7598f2d02bec>\u001b[0m in \u001b[0;36m<module>\u001b[0;34m\u001b[0m\n\u001b[1;32m      2\u001b[0m \u001b[0;31m# final[inexact_type1_best] = algo_df_dict_inexact_type1[inexact_type1_best]\u001b[0m\u001b[0;34m\u001b[0m\u001b[0;34m\u001b[0m\u001b[0;34m\u001b[0m\u001b[0m\n\u001b[1;32m      3\u001b[0m \u001b[0mfinal\u001b[0m\u001b[0;34m[\u001b[0m\u001b[0;34m'2-projectedGD-True-1e-07-0.1'\u001b[0m\u001b[0;34m]\u001b[0m \u001b[0;34m=\u001b[0m \u001b[0malgo_df_dict_inexact_type2\u001b[0m\u001b[0;34m[\u001b[0m\u001b[0;34m'2-projectedGD-True-1e-07-0.1'\u001b[0m\u001b[0;34m]\u001b[0m\u001b[0;34m\u001b[0m\u001b[0;34m\u001b[0m\u001b[0m\n\u001b[0;32m----> 4\u001b[0;31m \u001b[0mfinal\u001b[0m\u001b[0;34m[\u001b[0m\u001b[0minexact_type3_best\u001b[0m\u001b[0;34m]\u001b[0m \u001b[0;34m=\u001b[0m \u001b[0malgo_df_dict_inexact_type3\u001b[0m\u001b[0;34m[\u001b[0m\u001b[0minexact_type3_best\u001b[0m\u001b[0;34m]\u001b[0m\u001b[0;34m\u001b[0m\u001b[0;34m\u001b[0m\u001b[0m\n\u001b[0m\u001b[1;32m      5\u001b[0m \u001b[0mppf\u001b[0m \u001b[0;34m=\u001b[0m \u001b[0mPerformanceProfile\u001b[0m\u001b[0;34m(\u001b[0m\u001b[0mfinal\u001b[0m\u001b[0;34m)\u001b[0m\u001b[0;34m\u001b[0m\u001b[0;34m\u001b[0m\u001b[0m\n\u001b[1;32m      6\u001b[0m \u001b[0mppf\u001b[0m\u001b[0;34m.\u001b[0m\u001b[0mget_subset_by_time\u001b[0m\u001b[0;34m(\u001b[0m\u001b[0mthreshold\u001b[0m\u001b[0;34m=\u001b[0m\u001b[0;36m1\u001b[0m\u001b[0;34m,\u001b[0m \u001b[0mremove_failed\u001b[0m\u001b[0;34m=\u001b[0m\u001b[0;32mTrue\u001b[0m\u001b[0;34m)\u001b[0m\u001b[0;34m\u001b[0m\u001b[0;34m\u001b[0m\u001b[0m\n",
      "\u001b[0;31mNameError\u001b[0m: name 'inexact_type3_best' is not defined"
     ]
    }
   ],
   "source": [
    "final = {}\n",
    "final[inexact_type1_best] = algo_df_dict_inexact_type1[inexact_type1_best]\n",
    "final[inexact_type2_best] = algo_df_dict_inexact_type2[inexact_type2_best]\n",
    "final[inexact_type3_best] = algo_df_dict_inexact_type3[inexact_type3_best]\n",
    "ppf = PerformanceProfile(final)\n",
    "ppf.get_subset_by_time(threshold=1, remove_failed=True)\n",
    "_ = ppf.plot(column='time',show_num=False, options={'ratio_max':2}, save=True, saveDir='./natOG/', labels=['option I\\ \\ \\ ', 'option II\\ \\ ', 'option III'])"
   ]
  },
  {
   "cell_type": "code",
   "execution_count": 30,
   "metadata": {},
   "outputs": [],
   "source": [
    "cols = ['datasetid', 'time', 'subits'] #'nz', 'nnz',\n",
    "df2 = algo_df_dict_inexact_type2['2-projectedGD-True-1e-25-0.1'][cols]\n",
    "df3 = algo_df_dict_inexact_type3['3-projectedGD-True-3.0-1000000.0'][cols]"
   ]
  },
  {
   "cell_type": "code",
   "execution_count": 31,
   "metadata": {},
   "outputs": [
    {
     "data": {
      "text/html": [
       "<div>\n",
       "<style scoped>\n",
       "    .dataframe tbody tr th:only-of-type {\n",
       "        vertical-align: middle;\n",
       "    }\n",
       "\n",
       "    .dataframe tbody tr th {\n",
       "        vertical-align: top;\n",
       "    }\n",
       "\n",
       "    .dataframe thead th {\n",
       "        text-align: right;\n",
       "    }\n",
       "</style>\n",
       "<table border=\"1\" class=\"dataframe\">\n",
       "  <thead>\n",
       "    <tr style=\"text-align: right;\">\n",
       "      <th></th>\n",
       "      <th>datasetid</th>\n",
       "      <th>time_type2</th>\n",
       "      <th>subits_type2</th>\n",
       "      <th>time_type3</th>\n",
       "      <th>subits_type3</th>\n",
       "    </tr>\n",
       "  </thead>\n",
       "  <tbody>\n",
       "    <tr>\n",
       "      <th>0</th>\n",
       "      <td>a9a_0.1_10_0.1</td>\n",
       "      <td>9.105253</td>\n",
       "      <td>1358</td>\n",
       "      <td>7.795343</td>\n",
       "      <td>469</td>\n",
       "    </tr>\n",
       "    <tr>\n",
       "      <th>1</th>\n",
       "      <td>colon_cancer_0.1_10_0.1</td>\n",
       "      <td>310.876493</td>\n",
       "      <td>27954</td>\n",
       "      <td>141.693576</td>\n",
       "      <td>6304</td>\n",
       "    </tr>\n",
       "    <tr>\n",
       "      <th>2</th>\n",
       "      <td>duke_0.1_10_0.1</td>\n",
       "      <td>150.604563</td>\n",
       "      <td>2628</td>\n",
       "      <td>151.273395</td>\n",
       "      <td>2540</td>\n",
       "    </tr>\n",
       "    <tr>\n",
       "      <th>3</th>\n",
       "      <td>leu_0.1_10_0.1</td>\n",
       "      <td>357.446672</td>\n",
       "      <td>8726</td>\n",
       "      <td>262.799737</td>\n",
       "      <td>4707</td>\n",
       "    </tr>\n",
       "    <tr>\n",
       "      <th>4</th>\n",
       "      <td>mushrooms_0.1_10_0.1</td>\n",
       "      <td>37.622901</td>\n",
       "      <td>15063</td>\n",
       "      <td>25.296754</td>\n",
       "      <td>3096</td>\n",
       "    </tr>\n",
       "    <tr>\n",
       "      <th>5</th>\n",
       "      <td>w8a_0.1_10_0.1</td>\n",
       "      <td>16.817558</td>\n",
       "      <td>4148</td>\n",
       "      <td>10.309878</td>\n",
       "      <td>427</td>\n",
       "    </tr>\n",
       "    <tr>\n",
       "      <th>6</th>\n",
       "      <td>a9a_0.1_10_0.3</td>\n",
       "      <td>8.299261</td>\n",
       "      <td>995</td>\n",
       "      <td>7.616927</td>\n",
       "      <td>425</td>\n",
       "    </tr>\n",
       "    <tr>\n",
       "      <th>7</th>\n",
       "      <td>colon_cancer_0.1_10_0.3</td>\n",
       "      <td>343.159936</td>\n",
       "      <td>25537</td>\n",
       "      <td>165.696301</td>\n",
       "      <td>6414</td>\n",
       "    </tr>\n",
       "    <tr>\n",
       "      <th>8</th>\n",
       "      <td>duke_0.1_10_0.3</td>\n",
       "      <td>223.223832</td>\n",
       "      <td>3410</td>\n",
       "      <td>221.230754</td>\n",
       "      <td>3183</td>\n",
       "    </tr>\n",
       "    <tr>\n",
       "      <th>9</th>\n",
       "      <td>leu_0.1_10_0.3</td>\n",
       "      <td>414.249755</td>\n",
       "      <td>8398</td>\n",
       "      <td>314.721785</td>\n",
       "      <td>4893</td>\n",
       "    </tr>\n",
       "    <tr>\n",
       "      <th>10</th>\n",
       "      <td>mushrooms_0.1_10_0.3</td>\n",
       "      <td>68.677610</td>\n",
       "      <td>26674</td>\n",
       "      <td>41.658646</td>\n",
       "      <td>4611</td>\n",
       "    </tr>\n",
       "    <tr>\n",
       "      <th>11</th>\n",
       "      <td>w8a_0.1_10_0.3</td>\n",
       "      <td>20.256902</td>\n",
       "      <td>4799</td>\n",
       "      <td>12.287025</td>\n",
       "      <td>525</td>\n",
       "    </tr>\n",
       "    <tr>\n",
       "      <th>12</th>\n",
       "      <td>a9a_0.1_10_0.5</td>\n",
       "      <td>8.611848</td>\n",
       "      <td>1019</td>\n",
       "      <td>9.553237</td>\n",
       "      <td>525</td>\n",
       "    </tr>\n",
       "    <tr>\n",
       "      <th>13</th>\n",
       "      <td>colon_cancer_0.1_10_0.5</td>\n",
       "      <td>345.423181</td>\n",
       "      <td>18714</td>\n",
       "      <td>189.121265</td>\n",
       "      <td>6107</td>\n",
       "    </tr>\n",
       "    <tr>\n",
       "      <th>14</th>\n",
       "      <td>duke_0.1_10_0.5</td>\n",
       "      <td>310.123435</td>\n",
       "      <td>3924</td>\n",
       "      <td>290.279283</td>\n",
       "      <td>3280</td>\n",
       "    </tr>\n",
       "    <tr>\n",
       "      <th>15</th>\n",
       "      <td>leu_0.1_10_0.5</td>\n",
       "      <td>1043.027017</td>\n",
       "      <td>18689</td>\n",
       "      <td>705.140761</td>\n",
       "      <td>9169</td>\n",
       "    </tr>\n",
       "    <tr>\n",
       "      <th>16</th>\n",
       "      <td>mushrooms_0.1_10_0.5</td>\n",
       "      <td>34.035119</td>\n",
       "      <td>6784</td>\n",
       "      <td>30.349488</td>\n",
       "      <td>3328</td>\n",
       "    </tr>\n",
       "    <tr>\n",
       "      <th>17</th>\n",
       "      <td>w8a_0.1_10_0.5</td>\n",
       "      <td>55.877517</td>\n",
       "      <td>16253</td>\n",
       "      <td>21.385056</td>\n",
       "      <td>816</td>\n",
       "    </tr>\n",
       "    <tr>\n",
       "      <th>18</th>\n",
       "      <td>a9a_0.1_61_0.1</td>\n",
       "      <td>9.658852</td>\n",
       "      <td>1353</td>\n",
       "      <td>9.110943</td>\n",
       "      <td>517</td>\n",
       "    </tr>\n",
       "    <tr>\n",
       "      <th>19</th>\n",
       "      <td>colon_cancer_0.1_100_0.1</td>\n",
       "      <td>86.571857</td>\n",
       "      <td>21026</td>\n",
       "      <td>55.345876</td>\n",
       "      <td>4876</td>\n",
       "    </tr>\n",
       "    <tr>\n",
       "      <th>20</th>\n",
       "      <td>duke_0.1_100_0.1</td>\n",
       "      <td>8.721185</td>\n",
       "      <td>425</td>\n",
       "      <td>8.829264</td>\n",
       "      <td>409</td>\n",
       "    </tr>\n",
       "    <tr>\n",
       "      <th>21</th>\n",
       "      <td>leu_0.1_100_0.1</td>\n",
       "      <td>36.364280</td>\n",
       "      <td>1801</td>\n",
       "      <td>36.065382</td>\n",
       "      <td>1718</td>\n",
       "    </tr>\n",
       "    <tr>\n",
       "      <th>22</th>\n",
       "      <td>mushrooms_0.1_56_0.1</td>\n",
       "      <td>18.874912</td>\n",
       "      <td>2873</td>\n",
       "      <td>17.681172</td>\n",
       "      <td>2221</td>\n",
       "    </tr>\n",
       "    <tr>\n",
       "      <th>23</th>\n",
       "      <td>w8a_0.1_100_0.1</td>\n",
       "      <td>7.989112</td>\n",
       "      <td>1440</td>\n",
       "      <td>7.322840</td>\n",
       "      <td>328</td>\n",
       "    </tr>\n",
       "    <tr>\n",
       "      <th>24</th>\n",
       "      <td>a9a_0.1_61_0.3</td>\n",
       "      <td>8.310275</td>\n",
       "      <td>975</td>\n",
       "      <td>7.573359</td>\n",
       "      <td>457</td>\n",
       "    </tr>\n",
       "    <tr>\n",
       "      <th>25</th>\n",
       "      <td>colon_cancer_0.1_100_0.3</td>\n",
       "      <td>64.914202</td>\n",
       "      <td>10466</td>\n",
       "      <td>50.824496</td>\n",
       "      <td>4266</td>\n",
       "    </tr>\n",
       "    <tr>\n",
       "      <th>26</th>\n",
       "      <td>duke_0.1_100_0.3</td>\n",
       "      <td>8.479176</td>\n",
       "      <td>377</td>\n",
       "      <td>8.586556</td>\n",
       "      <td>362</td>\n",
       "    </tr>\n",
       "    <tr>\n",
       "      <th>27</th>\n",
       "      <td>leu_0.1_100_0.3</td>\n",
       "      <td>34.159043</td>\n",
       "      <td>1721</td>\n",
       "      <td>33.755806</td>\n",
       "      <td>1420</td>\n",
       "    </tr>\n",
       "    <tr>\n",
       "      <th>28</th>\n",
       "      <td>mushrooms_0.1_56_0.3</td>\n",
       "      <td>28.530181</td>\n",
       "      <td>3296</td>\n",
       "      <td>28.802699</td>\n",
       "      <td>3275</td>\n",
       "    </tr>\n",
       "    <tr>\n",
       "      <th>29</th>\n",
       "      <td>w8a_0.1_100_0.3</td>\n",
       "      <td>10.968653</td>\n",
       "      <td>3698</td>\n",
       "      <td>7.797287</td>\n",
       "      <td>370</td>\n",
       "    </tr>\n",
       "    <tr>\n",
       "      <th>30</th>\n",
       "      <td>a9a_0.1_61_0.5</td>\n",
       "      <td>7.092989</td>\n",
       "      <td>673</td>\n",
       "      <td>6.585033</td>\n",
       "      <td>403</td>\n",
       "    </tr>\n",
       "    <tr>\n",
       "      <th>31</th>\n",
       "      <td>colon_cancer_0.1_100_0.5</td>\n",
       "      <td>57.817538</td>\n",
       "      <td>9401</td>\n",
       "      <td>41.440158</td>\n",
       "      <td>3319</td>\n",
       "    </tr>\n",
       "    <tr>\n",
       "      <th>32</th>\n",
       "      <td>duke_0.1_100_0.5</td>\n",
       "      <td>8.912357</td>\n",
       "      <td>341</td>\n",
       "      <td>8.397322</td>\n",
       "      <td>327</td>\n",
       "    </tr>\n",
       "    <tr>\n",
       "      <th>33</th>\n",
       "      <td>leu_0.1_100_0.5</td>\n",
       "      <td>20.539193</td>\n",
       "      <td>785</td>\n",
       "      <td>19.489645</td>\n",
       "      <td>765</td>\n",
       "    </tr>\n",
       "    <tr>\n",
       "      <th>34</th>\n",
       "      <td>mushrooms_0.1_56_0.5</td>\n",
       "      <td>15.680096</td>\n",
       "      <td>2645</td>\n",
       "      <td>13.665120</td>\n",
       "      <td>1875</td>\n",
       "    </tr>\n",
       "    <tr>\n",
       "      <th>35</th>\n",
       "      <td>w8a_0.1_100_0.5</td>\n",
       "      <td>14.670541</td>\n",
       "      <td>5773</td>\n",
       "      <td>9.896433</td>\n",
       "      <td>461</td>\n",
       "    </tr>\n",
       "    <tr>\n",
       "      <th>36</th>\n",
       "      <td>a9a_0.05_10_0.1</td>\n",
       "      <td>23.019372</td>\n",
       "      <td>1683</td>\n",
       "      <td>21.727347</td>\n",
       "      <td>1325</td>\n",
       "    </tr>\n",
       "    <tr>\n",
       "      <th>37</th>\n",
       "      <td>colon_cancer_0.05_10_0.1</td>\n",
       "      <td>381.499960</td>\n",
       "      <td>27356</td>\n",
       "      <td>252.077760</td>\n",
       "      <td>11353</td>\n",
       "    </tr>\n",
       "    <tr>\n",
       "      <th>38</th>\n",
       "      <td>duke_0.05_10_0.1</td>\n",
       "      <td>38.734803</td>\n",
       "      <td>626</td>\n",
       "      <td>37.949690</td>\n",
       "      <td>605</td>\n",
       "    </tr>\n",
       "    <tr>\n",
       "      <th>39</th>\n",
       "      <td>leu_0.05_10_0.1</td>\n",
       "      <td>117.113094</td>\n",
       "      <td>2029</td>\n",
       "      <td>112.063969</td>\n",
       "      <td>1958</td>\n",
       "    </tr>\n",
       "    <tr>\n",
       "      <th>40</th>\n",
       "      <td>mushrooms_0.05_10_0.1</td>\n",
       "      <td>134.953327</td>\n",
       "      <td>78561</td>\n",
       "      <td>58.329355</td>\n",
       "      <td>6264</td>\n",
       "    </tr>\n",
       "    <tr>\n",
       "      <th>41</th>\n",
       "      <td>w8a_0.05_10_0.1</td>\n",
       "      <td>40.353853</td>\n",
       "      <td>13727</td>\n",
       "      <td>17.859581</td>\n",
       "      <td>749</td>\n",
       "    </tr>\n",
       "    <tr>\n",
       "      <th>42</th>\n",
       "      <td>a9a_0.05_10_0.3</td>\n",
       "      <td>20.279015</td>\n",
       "      <td>1307</td>\n",
       "      <td>21.141281</td>\n",
       "      <td>1114</td>\n",
       "    </tr>\n",
       "    <tr>\n",
       "      <th>43</th>\n",
       "      <td>colon_cancer_0.05_10_0.3</td>\n",
       "      <td>543.748498</td>\n",
       "      <td>36395</td>\n",
       "      <td>375.809490</td>\n",
       "      <td>15994</td>\n",
       "    </tr>\n",
       "    <tr>\n",
       "      <th>44</th>\n",
       "      <td>duke_0.05_10_0.3</td>\n",
       "      <td>72.629139</td>\n",
       "      <td>993</td>\n",
       "      <td>89.710326</td>\n",
       "      <td>968</td>\n",
       "    </tr>\n",
       "    <tr>\n",
       "      <th>45</th>\n",
       "      <td>leu_0.05_10_0.3</td>\n",
       "      <td>139.917898</td>\n",
       "      <td>2111</td>\n",
       "      <td>167.736669</td>\n",
       "      <td>1958</td>\n",
       "    </tr>\n",
       "    <tr>\n",
       "      <th>46</th>\n",
       "      <td>mushrooms_0.05_10_0.3</td>\n",
       "      <td>145.328217</td>\n",
       "      <td>75700</td>\n",
       "      <td>69.811545</td>\n",
       "      <td>6680</td>\n",
       "    </tr>\n",
       "    <tr>\n",
       "      <th>47</th>\n",
       "      <td>w8a_0.05_10_0.3</td>\n",
       "      <td>49.218260</td>\n",
       "      <td>15441</td>\n",
       "      <td>22.471240</td>\n",
       "      <td>858</td>\n",
       "    </tr>\n",
       "    <tr>\n",
       "      <th>48</th>\n",
       "      <td>a9a_0.05_10_0.5</td>\n",
       "      <td>24.200222</td>\n",
       "      <td>4881</td>\n",
       "      <td>18.863884</td>\n",
       "      <td>1036</td>\n",
       "    </tr>\n",
       "    <tr>\n",
       "      <th>49</th>\n",
       "      <td>colon_cancer_0.05_10_0.5</td>\n",
       "      <td>623.433260</td>\n",
       "      <td>32891</td>\n",
       "      <td>384.684359</td>\n",
       "      <td>13020</td>\n",
       "    </tr>\n",
       "    <tr>\n",
       "      <th>50</th>\n",
       "      <td>duke_0.05_10_0.5</td>\n",
       "      <td>86.319029</td>\n",
       "      <td>928</td>\n",
       "      <td>85.796445</td>\n",
       "      <td>914</td>\n",
       "    </tr>\n",
       "    <tr>\n",
       "      <th>51</th>\n",
       "      <td>leu_0.05_10_0.5</td>\n",
       "      <td>275.223795</td>\n",
       "      <td>3779</td>\n",
       "      <td>234.163374</td>\n",
       "      <td>2728</td>\n",
       "    </tr>\n",
       "    <tr>\n",
       "      <th>52</th>\n",
       "      <td>mushrooms_0.05_10_0.5</td>\n",
       "      <td>89.100635</td>\n",
       "      <td>28038</td>\n",
       "      <td>60.648429</td>\n",
       "      <td>6195</td>\n",
       "    </tr>\n",
       "    <tr>\n",
       "      <th>53</th>\n",
       "      <td>w8a_0.05_10_0.5</td>\n",
       "      <td>43.037216</td>\n",
       "      <td>9220</td>\n",
       "      <td>22.937897</td>\n",
       "      <td>929</td>\n",
       "    </tr>\n",
       "    <tr>\n",
       "      <th>54</th>\n",
       "      <td>a9a_0.05_61_0.1</td>\n",
       "      <td>16.979055</td>\n",
       "      <td>1583</td>\n",
       "      <td>16.713837</td>\n",
       "      <td>952</td>\n",
       "    </tr>\n",
       "    <tr>\n",
       "      <th>55</th>\n",
       "      <td>colon_cancer_0.05_100_0.1</td>\n",
       "      <td>70.062279</td>\n",
       "      <td>9856</td>\n",
       "      <td>62.447063</td>\n",
       "      <td>5232</td>\n",
       "    </tr>\n",
       "    <tr>\n",
       "      <th>56</th>\n",
       "      <td>duke_0.05_100_0.1</td>\n",
       "      <td>8.346638</td>\n",
       "      <td>404</td>\n",
       "      <td>8.403523</td>\n",
       "      <td>391</td>\n",
       "    </tr>\n",
       "    <tr>\n",
       "      <th>57</th>\n",
       "      <td>leu_0.05_100_0.1</td>\n",
       "      <td>14.224478</td>\n",
       "      <td>678</td>\n",
       "      <td>13.483218</td>\n",
       "      <td>624</td>\n",
       "    </tr>\n",
       "    <tr>\n",
       "      <th>58</th>\n",
       "      <td>mushrooms_0.05_56_0.1</td>\n",
       "      <td>60.854885</td>\n",
       "      <td>13356</td>\n",
       "      <td>55.427735</td>\n",
       "      <td>6063</td>\n",
       "    </tr>\n",
       "    <tr>\n",
       "      <th>59</th>\n",
       "      <td>w8a_0.05_100_0.1</td>\n",
       "      <td>14.561025</td>\n",
       "      <td>1974</td>\n",
       "      <td>13.447119</td>\n",
       "      <td>588</td>\n",
       "    </tr>\n",
       "  </tbody>\n",
       "</table>\n",
       "</div>"
      ],
      "text/plain": [
       "                    datasetid   time_type2  subits_type2  time_type3  \\\n",
       "0              a9a_0.1_10_0.1     9.105253          1358    7.795343   \n",
       "1     colon_cancer_0.1_10_0.1   310.876493         27954  141.693576   \n",
       "2             duke_0.1_10_0.1   150.604563          2628  151.273395   \n",
       "3              leu_0.1_10_0.1   357.446672          8726  262.799737   \n",
       "4        mushrooms_0.1_10_0.1    37.622901         15063   25.296754   \n",
       "5              w8a_0.1_10_0.1    16.817558          4148   10.309878   \n",
       "6              a9a_0.1_10_0.3     8.299261           995    7.616927   \n",
       "7     colon_cancer_0.1_10_0.3   343.159936         25537  165.696301   \n",
       "8             duke_0.1_10_0.3   223.223832          3410  221.230754   \n",
       "9              leu_0.1_10_0.3   414.249755          8398  314.721785   \n",
       "10       mushrooms_0.1_10_0.3    68.677610         26674   41.658646   \n",
       "11             w8a_0.1_10_0.3    20.256902          4799   12.287025   \n",
       "12             a9a_0.1_10_0.5     8.611848          1019    9.553237   \n",
       "13    colon_cancer_0.1_10_0.5   345.423181         18714  189.121265   \n",
       "14            duke_0.1_10_0.5   310.123435          3924  290.279283   \n",
       "15             leu_0.1_10_0.5  1043.027017         18689  705.140761   \n",
       "16       mushrooms_0.1_10_0.5    34.035119          6784   30.349488   \n",
       "17             w8a_0.1_10_0.5    55.877517         16253   21.385056   \n",
       "18             a9a_0.1_61_0.1     9.658852          1353    9.110943   \n",
       "19   colon_cancer_0.1_100_0.1    86.571857         21026   55.345876   \n",
       "20           duke_0.1_100_0.1     8.721185           425    8.829264   \n",
       "21            leu_0.1_100_0.1    36.364280          1801   36.065382   \n",
       "22       mushrooms_0.1_56_0.1    18.874912          2873   17.681172   \n",
       "23            w8a_0.1_100_0.1     7.989112          1440    7.322840   \n",
       "24             a9a_0.1_61_0.3     8.310275           975    7.573359   \n",
       "25   colon_cancer_0.1_100_0.3    64.914202         10466   50.824496   \n",
       "26           duke_0.1_100_0.3     8.479176           377    8.586556   \n",
       "27            leu_0.1_100_0.3    34.159043          1721   33.755806   \n",
       "28       mushrooms_0.1_56_0.3    28.530181          3296   28.802699   \n",
       "29            w8a_0.1_100_0.3    10.968653          3698    7.797287   \n",
       "30             a9a_0.1_61_0.5     7.092989           673    6.585033   \n",
       "31   colon_cancer_0.1_100_0.5    57.817538          9401   41.440158   \n",
       "32           duke_0.1_100_0.5     8.912357           341    8.397322   \n",
       "33            leu_0.1_100_0.5    20.539193           785   19.489645   \n",
       "34       mushrooms_0.1_56_0.5    15.680096          2645   13.665120   \n",
       "35            w8a_0.1_100_0.5    14.670541          5773    9.896433   \n",
       "36            a9a_0.05_10_0.1    23.019372          1683   21.727347   \n",
       "37   colon_cancer_0.05_10_0.1   381.499960         27356  252.077760   \n",
       "38           duke_0.05_10_0.1    38.734803           626   37.949690   \n",
       "39            leu_0.05_10_0.1   117.113094          2029  112.063969   \n",
       "40      mushrooms_0.05_10_0.1   134.953327         78561   58.329355   \n",
       "41            w8a_0.05_10_0.1    40.353853         13727   17.859581   \n",
       "42            a9a_0.05_10_0.3    20.279015          1307   21.141281   \n",
       "43   colon_cancer_0.05_10_0.3   543.748498         36395  375.809490   \n",
       "44           duke_0.05_10_0.3    72.629139           993   89.710326   \n",
       "45            leu_0.05_10_0.3   139.917898          2111  167.736669   \n",
       "46      mushrooms_0.05_10_0.3   145.328217         75700   69.811545   \n",
       "47            w8a_0.05_10_0.3    49.218260         15441   22.471240   \n",
       "48            a9a_0.05_10_0.5    24.200222          4881   18.863884   \n",
       "49   colon_cancer_0.05_10_0.5   623.433260         32891  384.684359   \n",
       "50           duke_0.05_10_0.5    86.319029           928   85.796445   \n",
       "51            leu_0.05_10_0.5   275.223795          3779  234.163374   \n",
       "52      mushrooms_0.05_10_0.5    89.100635         28038   60.648429   \n",
       "53            w8a_0.05_10_0.5    43.037216          9220   22.937897   \n",
       "54            a9a_0.05_61_0.1    16.979055          1583   16.713837   \n",
       "55  colon_cancer_0.05_100_0.1    70.062279          9856   62.447063   \n",
       "56          duke_0.05_100_0.1     8.346638           404    8.403523   \n",
       "57           leu_0.05_100_0.1    14.224478           678   13.483218   \n",
       "58      mushrooms_0.05_56_0.1    60.854885         13356   55.427735   \n",
       "59           w8a_0.05_100_0.1    14.561025          1974   13.447119   \n",
       "\n",
       "    subits_type3  \n",
       "0            469  \n",
       "1           6304  \n",
       "2           2540  \n",
       "3           4707  \n",
       "4           3096  \n",
       "5            427  \n",
       "6            425  \n",
       "7           6414  \n",
       "8           3183  \n",
       "9           4893  \n",
       "10          4611  \n",
       "11           525  \n",
       "12           525  \n",
       "13          6107  \n",
       "14          3280  \n",
       "15          9169  \n",
       "16          3328  \n",
       "17           816  \n",
       "18           517  \n",
       "19          4876  \n",
       "20           409  \n",
       "21          1718  \n",
       "22          2221  \n",
       "23           328  \n",
       "24           457  \n",
       "25          4266  \n",
       "26           362  \n",
       "27          1420  \n",
       "28          3275  \n",
       "29           370  \n",
       "30           403  \n",
       "31          3319  \n",
       "32           327  \n",
       "33           765  \n",
       "34          1875  \n",
       "35           461  \n",
       "36          1325  \n",
       "37         11353  \n",
       "38           605  \n",
       "39          1958  \n",
       "40          6264  \n",
       "41           749  \n",
       "42          1114  \n",
       "43         15994  \n",
       "44           968  \n",
       "45          1958  \n",
       "46          6680  \n",
       "47           858  \n",
       "48          1036  \n",
       "49         13020  \n",
       "50           914  \n",
       "51          2728  \n",
       "52          6195  \n",
       "53           929  \n",
       "54           952  \n",
       "55          5232  \n",
       "56           391  \n",
       "57           624  \n",
       "58          6063  \n",
       "59           588  "
      ]
     },
     "execution_count": 31,
     "metadata": {},
     "output_type": "execute_result"
    }
   ],
   "source": [
    "pd.merge(df2, df3, on='datasetid', suffixes=(\"_type2\", \"_type3\"), how='left').head(60)"
   ]
  },
  {
   "cell_type": "code",
   "execution_count": 32,
   "metadata": {},
   "outputs": [
    {
     "name": "stdout",
     "output_type": "stream",
     "text": [
      "All algorithms failed in 0 instances (failure code -2)\n",
      "Metrics for failed instances are overwritten with np.inf\n",
      "After subsetting, 72 instances are kept.\n",
      "2-projectedGD-True-1e-25-0.1 Win:14 | Lose:58\n"
     ]
    },
    {
     "data": {
      "image/png": "[encoded data removed]",
      "text/plain": [
       "<Figure size 432x288 with 1 Axes>"
      ]
     },
     "metadata": {
      "needs_background": "light"
     },
     "output_type": "display_data"
    }
   ],
   "source": [
    "final = {}\n",
    "final['2-projectedGD-True-1e-25-0.1'] = algo_df_dict_inexact_type2['2-projectedGD-True-1e-25-0.1']\n",
    "final['3-projectedGD-True-3.0-1000000.0'] = algo_df_dict_inexact_type3['3-projectedGD-True-3.0-1000000.0']\n",
    "ppf = PerformanceProfile(final)\n",
    "ppf.get_subset_by_time(threshold=1, remove_failed=True)\n",
    "_ = ppf.plot(column='time',show_num=False, options={'ratio_max':2}, save=False, labels=['option I\\ \\ \\ ', 'option II\\ \\ ', 'option III'])"
   ]
  },
  {
   "cell_type": "code",
   "execution_count": null,
   "metadata": {},
   "outputs": [],
   "source": []
  }
 ],
 "metadata": {
  "kernelspec": {
   "display_name": "Python 3",
   "language": "python",
   "name": "python3"
  },
  "language_info": {
   "codemirror_mode": {
    "name": "ipython",
    "version": 3
   },
   "file_extension": ".py",
   "mimetype": "text/x-python",
   "name": "python",
   "nbconvert_exporter": "python",
   "pygments_lexer": "ipython3",
   "version": "3.7.7"
  }
 },
 "nbformat": 4,
 "nbformat_minor": 4
}
