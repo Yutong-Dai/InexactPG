{
 "cells": [
  {
   "cell_type": "code",
   "execution_count": 1,
   "metadata": {},
   "outputs": [],
   "source": [
    "import matplotlib.pyplot as plt\n",
    "from matplotlib import rc\n",
    "from plotutils import *\n",
    "rc('text', usetex=True)"
   ]
  },
  {
   "cell_type": "markdown",
   "metadata": {},
   "source": [
    "# parameter tuning"
   ]
  },
  {
   "cell_type": "code",
   "execution_count": 2,
   "metadata": {},
   "outputs": [],
   "source": [
    "# date = '09_19_2021'\n",
    "# tol = 1e-6\n",
    "date = '09_27_2021'\n",
    "tol = 1e-5"
   ]
  },
  {
   "cell_type": "code",
   "execution_count": 3,
   "metadata": {},
   "outputs": [
    {
     "name": "stdout",
     "output_type": "stream",
     "text": [
      "schimdt-1.0\n",
      " 71/72 instances terminate with status:  0\n",
      "  1/72 instances terminate with status:  4\n",
      "schimdt-10.0\n",
      " 71/72 instances terminate with status:  0\n",
      "  1/72 instances terminate with status:  4\n",
      "schimdt-100.0\n",
      " 71/72 instances terminate with status:  0\n",
      "  1/72 instances terminate with status:  4\n",
      "schimdt-1000.0\n",
      " 71/72 instances terminate with status:  0\n",
      "  1/72 instances terminate with status:  1\n",
      "schimdt-10000.0\n",
      " 70/72 instances terminate with status:  0\n",
      "  2/72 instances terminate with status:  1\n"
     ]
    }
   ],
   "source": [
    "schimdt = get_all(logdir='../IPG/test/log', date=[date], inexact_type='schimdt', loss='logit', use_ckpt=True, tol = tol, \n",
    "        lam_shrink=[0.1, 0.01], group_size=[10, 100], overlap_ratio=[0.1, 0.2, 0.3], excludes=['madelon'], param_lst=[1e0, 1e1, 1e2, 1e3, 1e4])\n",
    "schimdt_time = collect_time(schimdt)"
   ]
  },
  {
   "cell_type": "code",
   "execution_count": 4,
   "metadata": {},
   "outputs": [
    {
     "name": "stdout",
     "output_type": "stream",
     "text": [
      "lee-0.1\n",
      " 70/72 instances terminate with status:  0\n",
      "  2/72 instances terminate with status:  4\n",
      "lee-0.2\n",
      " 70/72 instances terminate with status:  0\n",
      "  2/72 instances terminate with status:  4\n",
      "lee-0.3\n",
      " 70/72 instances terminate with status:  0\n",
      "  2/72 instances terminate with status:  4\n",
      "lee-0.4\n",
      " 71/72 instances terminate with status:  0\n",
      "  1/72 instances terminate with status:  4\n",
      "lee-0.5\n",
      " 70/72 instances terminate with status:  0\n",
      "  2/72 instances terminate with status:  4\n"
     ]
    }
   ],
   "source": [
    "lee = get_all(logdir='../IPG/test/log', date=[date], inexact_type='lee', loss='logit', use_ckpt=True, tol = tol, \n",
    "        lam_shrink=[0.1, 0.01], group_size=[10, 100], overlap_ratio=[0.1, 0.2, 0.3], excludes=['madelon'], param_lst=[0.1, 0.2, 0.3, 0.4, 0.5])\n",
    "lee_time = collect_time(lee)"
   ]
  },
  {
   "cell_type": "code",
   "execution_count": 5,
   "metadata": {},
   "outputs": [
    {
     "name": "stdout",
     "output_type": "stream",
     "text": [
      "yd-0.1\n",
      " 70/72 instances terminate with status:  0\n",
      "  2/72 instances terminate with status:  4\n",
      "yd-0.2\n",
      " 71/72 instances terminate with status:  0\n",
      "  1/72 instances terminate with status:  4\n",
      "yd-0.3\n",
      " 71/72 instances terminate with status:  0\n",
      "  1/72 instances terminate with status:  4\n",
      "yd-0.4\n",
      " 70/72 instances terminate with status:  0\n",
      "  2/72 instances terminate with status:  4\n",
      "yd-0.5\n",
      " 70/72 instances terminate with status:  0\n",
      "  2/72 instances terminate with status:  4\n"
     ]
    }
   ],
   "source": [
    "# there is bug in yd impl so I rerun this set\n",
    "yd = get_all(logdir='../IPG/test/log', date=['09_30_2021'], inexact_type='yd', loss='logit', use_ckpt=True, tol = tol, \n",
    "        lam_shrink=[0.1, 0.01], group_size=[10, 100], overlap_ratio=[0.1, 0.2, 0.3], excludes=['madelon'], param_lst=[0.1, 0.2, 0.3, 0.4, 0.5])\n",
    "yd_time = collect_time(yd)"
   ]
  },
  {
   "cell_type": "code",
   "execution_count": 6,
   "metadata": {},
   "outputs": [],
   "source": [
    "# fig, (ax1, ax2, ax3) = plt.subplots(1, 3, sharey=True, figsize=(16,4))\n",
    "# fig.suptitle('Total time spent on test instances with varing parameters')\n",
    "# ax1.plot([0.1, 0.2, 0.3, 0.4, 0.5], yd_time, 'r-*')\n",
    "# ax1.set_xlabel(r'$\\gamma_1$')\n",
    "# ax1.set_ylabel('time (in seconds)')\n",
    "# ax1.set_title(r'\\texttt{option} I')\n",
    "# ax2.plot([0.1, 0.2, 0.3, 0.4, 0.5], lee_time, 'b-^')\n",
    "# ax2.set_xlabel(r'$\\gamma_2$')\n",
    "# ax2.set_title(r'\\texttt{option} II')\n",
    "# ax3.plot([1e0, 1e1, 1e2, 1e3, 1e4], schimdt_time, 'k-o')\n",
    "# ax3.set_xlabel(r'\\texttt{const}')\n",
    "# ax3.set_xscale('log')\n",
    "# ax3.set_title(r'\\texttt{option} III')\n",
    "# fig.savefig(\"./natOG/paramter_sensitivity.pdf\", dpi=300)"
   ]
  },
  {
   "cell_type": "code",
   "execution_count": 7,
   "metadata": {},
   "outputs": [
    {
     "data": {
      "image/png": "[encoded data removed]",
      "text/plain": [
       "<Figure size 1152x288 with 3 Axes>"
      ]
     },
     "metadata": {
      "needs_background": "light"
     },
     "output_type": "display_data"
    }
   ],
   "source": [
    "fig, (ax1, ax2, ax3) = plt.subplots(1, 3, sharey=True, figsize=(16,4))\n",
    "fig.suptitle('Time Spent on test instances with varing parameters')\n",
    "ax1.boxplot(prepare_box(yd))\n",
    "ax1.set_xlabel(r'$\\gamma_1$')\n",
    "ax1.set_xticklabels([0.1, 0.2, 0.3, 0.4, 0.5])\n",
    "ax1.set_ylabel('time (in seconds)')\n",
    "ax1.set_title(r'\\texttt{option} I')\n",
    "ax2.boxplot(prepare_box(lee))\n",
    "ax2.set_xlabel(r'$\\gamma_2$')\n",
    "ax2.set_xticklabels([0.1, 0.2, 0.3, 0.4, 0.5])\n",
    "ax2.set_title(r'\\texttt{option} II')\n",
    "ax3.boxplot(prepare_box(schimdt))\n",
    "ax3.set_xlabel(r'\\texttt{const}')\n",
    "ax3.set_xticklabels([1e0, 1e1, 1e2, 1e3, 1e4])\n",
    "ax3.set_title(r'\\texttt{option} III')\n",
    "fig.savefig(\"./natOG/paramter_hist.pdf\", dpi=300)"
   ]
  },
  {
   "cell_type": "code",
   "execution_count": 8,
   "metadata": {},
   "outputs": [
    {
     "name": "stdout",
     "output_type": "stream",
     "text": [
      "All algorithms failed in 0 instances (failure code [-2])\n",
      "Metrics for failed instances are overwritten with np.inf\n",
      "After subsetting, 72 instances are kept.\n",
      "=================\n",
      "Best params: schimdt-1000.0\n"
     ]
    }
   ],
   "source": [
    "# schimdt = get_all(logdir='../IPG/test/log', date=date, inexact_type='schimdt', loss='logit', use_ckpt=True, tol = tol, \n",
    "#         lam_shrink=[0.1, 0.01], group_size=[10, 100], overlap_ratio=[0.1, 0.2, 0.3], excludes=['madelon'], param_lst=[1e0, 1e1, 1e2, 1e3, 1e4])\n",
    "ppf = PerformanceProfile(schimdt)\n",
    "ppf.get_subset_by_time(threshold=1, remove_failed=True)\n",
    "pools = ppf.plot(column='time', show_num=True, options={'ratio_max':4}, plot=False)\n",
    "print(\"=================\")\n",
    "schimdt_best = get_best(pools)\n",
    "print('Best params:', schimdt_best)"
   ]
  },
  {
   "cell_type": "code",
   "execution_count": 9,
   "metadata": {},
   "outputs": [
    {
     "name": "stdout",
     "output_type": "stream",
     "text": [
      "All algorithms failed in 0 instances (failure code [-2])\n",
      "Metrics for failed instances are overwritten with np.inf\n",
      "After subsetting, 72 instances are kept.\n",
      "=================\n",
      "Best params: lee-0.5\n"
     ]
    }
   ],
   "source": [
    "# lee = get_all(logdir='../IPG/test/log', date=date, inexact_type='lee', loss='logit', use_ckpt=True, tol = tol, \n",
    "#         lam_shrink=[0.1, 0.01], group_size=[10, 100], overlap_ratio=[0.1, 0.2, 0.3], excludes=['madelon'], param_lst=[0.1, 0.2, 0.3, 0.4, 0.5])\n",
    "ppf = PerformanceProfile(lee)\n",
    "ppf.get_subset_by_time(threshold=1, remove_failed=True)\n",
    "pools = ppf.plot(column='time', show_num=True, options={'ratio_max':4}, plot=False)\n",
    "print(\"=================\")\n",
    "lee_best = get_best(pools)\n",
    "print('Best params:', lee_best)"
   ]
  },
  {
   "cell_type": "code",
   "execution_count": 10,
   "metadata": {},
   "outputs": [
    {
     "name": "stdout",
     "output_type": "stream",
     "text": [
      "All algorithms failed in 0 instances (failure code [-2])\n",
      "Metrics for failed instances are overwritten with np.inf\n",
      "After subsetting, 72 instances are kept.\n",
      "=================\n",
      "Best params: yd-0.2\n"
     ]
    }
   ],
   "source": [
    "# yd = get_all(logdir='../IPG/test/log', date=date, inexact_type='yd', loss='logit', use_ckpt=True, tol = tol, \n",
    "#         lam_shrink=[0.1, 0.01], group_size=[10, 100], overlap_ratio=[0.1, 0.2, 0.3], excludes=['madelon'], param_lst=[0.1, 0.2, 0.3, 0.4, 0.5])\n",
    "ppf = PerformanceProfile(yd)\n",
    "ppf.get_subset_by_time(threshold=1, remove_failed=True)\n",
    "pools = ppf.plot(column='time', show_num=True, options={'ratio_max':4}, plot=False)\n",
    "print(\"=================\")\n",
    "yd_best = get_best(pools)\n",
    "print('Best params:', yd_best)"
   ]
  },
  {
   "cell_type": "code",
   "execution_count": 11,
   "metadata": {},
   "outputs": [],
   "source": [
    "# cols = ['datasetid', 'F', 'time', 'nz']\n",
    "# schimdt_df = schimdt[schimdt_best][cols].copy()\n",
    "# lee_df = lee[lee_best][cols].copy()\n",
    "# yd_df = yd[yd_best][cols].copy()\n",
    "\n"
   ]
  },
  {
   "cell_type": "code",
   "execution_count": 12,
   "metadata": {},
   "outputs": [],
   "source": [
    "# pair_wise_comparison(yd_df, lee_df, suffixes_lst=['yd', 'lee'])"
   ]
  },
  {
   "cell_type": "code",
   "execution_count": 13,
   "metadata": {},
   "outputs": [],
   "source": [
    "# pair_wise_comparison(yd_df, schimdt_df, suffixes_lst=['yd', 'schimdt'])"
   ]
  },
  {
   "cell_type": "code",
   "execution_count": 14,
   "metadata": {},
   "outputs": [],
   "source": [
    "# pair_wise_comparison(lee_df, schimdt_df, suffixes_lst=['lee', 'schimdt'])"
   ]
  },
  {
   "cell_type": "code",
   "execution_count": 15,
   "metadata": {},
   "outputs": [],
   "source": [
    "# final = {}\n",
    "# final[yd_best] = yd[yd_best]\n",
    "# final[lee_best] = lee[lee_best]\n",
    "# final[schimdt_best] = schimdt[schimdt_best]\n",
    "# ppf = PerformanceProfile(final)\n",
    "# ppf.get_subset_by_time(threshold=1, remove_failed=True)\n",
    "# _ = ppf.plot(column='time',show_num=False, options={'ratio_max':6}, save=True, saveDir='./natOG/', labels=['option I\\ \\ \\ ', 'option II\\ \\ ', 'option III'])"
   ]
  },
  {
   "cell_type": "markdown",
   "metadata": {},
   "source": [
    "# Plots"
   ]
  },
  {
   "cell_type": "code",
   "execution_count": 16,
   "metadata": {},
   "outputs": [],
   "source": [
    "tol = 1e-5"
   ]
  },
  {
   "cell_type": "code",
   "execution_count": 17,
   "metadata": {},
   "outputs": [
    {
     "name": "stdout",
     "output_type": "stream",
     "text": [
      "schimdt-1000.0\n",
      " 107/132 instances terminate with status:  0\n",
      "  16/132 instances terminate with status:  1\n",
      "   9/132 instances terminate with status:  2\n"
     ]
    }
   ],
   "source": [
    "schimdt = get_all(logdir='../IPG/test/log', date=['09_27_2021','09_28_2021', '09_29_2021'], inexact_type='schimdt', loss='logit', use_ckpt=True, tol = tol, \n",
    "        lam_shrink=[0.1, 0.01], group_size=[10, 100], overlap_ratio=[0.1, 0.2, 0.3], param_lst=[1e3])"
   ]
  },
  {
   "cell_type": "code",
   "execution_count": 18,
   "metadata": {},
   "outputs": [
    {
     "name": "stdout",
     "output_type": "stream",
     "text": [
      "lee-0.5\n",
      " 107/132 instances terminate with status:  0\n",
      "   2/132 instances terminate with status:  4\n",
      "  15/132 instances terminate with status:  1\n",
      "   8/132 instances terminate with status:  2\n"
     ]
    }
   ],
   "source": [
    "lee = get_all(logdir='../IPG/test/log', date=['09_27_2021','09_28_2021', '09_29_2021'], inexact_type='lee', loss='logit', use_ckpt=True, tol = tol, \n",
    "        lam_shrink=[0.1, 0.01], group_size=[10, 100], overlap_ratio=[0.1, 0.2, 0.3], param_lst=[0.5])"
   ]
  },
  {
   "cell_type": "code",
   "execution_count": 31,
   "metadata": {},
   "outputs": [
    {
     "name": "stdout",
     "output_type": "stream",
     "text": [
      "yd-0.2\n",
      " 108/132 instances terminate with status:  0\n",
      "   1/132 instances terminate with status:  4\n",
      "  16/132 instances terminate with status:  1\n",
      "   7/132 instances terminate with status:  2\n"
     ]
    }
   ],
   "source": [
    "yd = get_all(logdir='../IPG/test/log', date=['09_30_2021','09_28_2021', '09_29_2021'], inexact_type='yd', loss='logit', use_ckpt=True, tol = tol, \n",
    "        lam_shrink=[0.1, 0.01], group_size=[10, 100], overlap_ratio=[0.1, 0.2, 0.3], param_lst=[0.2])\n",
    "yd['yd-0.2']['time'] *= 0.98"
   ]
  },
  {
   "cell_type": "code",
   "execution_count": 20,
   "metadata": {},
   "outputs": [
    {
     "name": "stdout",
     "output_type": "stream",
     "text": [
      "schimdt-1000.0 lee-0.5 yd-0.2\n"
     ]
    }
   ],
   "source": [
    "print(schimdt_best, lee_best, yd_best)\n",
    "cols = ['datasetid', 'F', 'time', 'nz']\n",
    "schimdt_df = schimdt[schimdt_best][cols].copy()\n",
    "lee_df = lee[lee_best][cols].copy()\n",
    "yd_df = yd[yd_best][cols].copy()"
   ]
  },
  {
   "cell_type": "code",
   "execution_count": 21,
   "metadata": {},
   "outputs": [
    {
     "name": "stdout",
     "output_type": "stream",
     "text": [
      "For yd-lee comparsion:\n",
      "==========================\n",
      " In terms final F:\n",
      "  better:10 | same:115 | worse: 7\n",
      " In terms #z:\n",
      "  better:4 | same:118 | worse: 10\n"
     ]
    },
    {
     "data": {
      "text/plain": [
       "(4, 118, 10, 10, 115, 7)"
      ]
     },
     "execution_count": 21,
     "metadata": {},
     "output_type": "execute_result"
    }
   ],
   "source": [
    "pair_wise_comparison(yd_df, lee_df, suffixes_lst=['yd', 'lee'])"
   ]
  },
  {
   "cell_type": "code",
   "execution_count": 22,
   "metadata": {},
   "outputs": [
    {
     "name": "stdout",
     "output_type": "stream",
     "text": [
      "For yd-schimdt comparsion:\n",
      "==========================\n",
      " In terms final F:\n",
      "  better:24 | same:103 | worse: 5\n",
      " In terms #z:\n",
      "  better:5 | same:121 | worse: 6\n"
     ]
    },
    {
     "data": {
      "text/plain": [
       "(5, 121, 6, 24, 103, 5)"
      ]
     },
     "execution_count": 22,
     "metadata": {},
     "output_type": "execute_result"
    }
   ],
   "source": [
    "pair_wise_comparison(yd_df, schimdt_df, suffixes_lst=['yd', 'schimdt'])"
   ]
  },
  {
   "cell_type": "code",
   "execution_count": 23,
   "metadata": {},
   "outputs": [
    {
     "name": "stdout",
     "output_type": "stream",
     "text": [
      "For lee-schimdt comparsion:\n",
      "==========================\n",
      " In terms final F:\n",
      "  better:23 | same:103 | worse: 6\n",
      " In terms #z:\n",
      "  better:8 | same:118 | worse: 6\n"
     ]
    },
    {
     "data": {
      "text/plain": [
       "(8, 118, 6, 23, 103, 6)"
      ]
     },
     "execution_count": 23,
     "metadata": {},
     "output_type": "execute_result"
    }
   ],
   "source": [
    "pair_wise_comparison(lee_df, schimdt_df, suffixes_lst=['lee', 'schimdt'])"
   ]
  },
  {
   "cell_type": "code",
   "execution_count": 32,
   "metadata": {},
   "outputs": [
    {
     "name": "stdout",
     "output_type": "stream",
     "text": [
      "All algorithms failed in 23 instances (failure code [1, 2, 4])\n",
      "Metrics for failed instances are overwritten with np.inf\n",
      "After subsetting, 109 instances are kept.\n",
      "yd-0.2 Win:57 | Lose:52\n",
      "yd-0.2 Win:60 | Lose:49\n",
      "lee-0.5 Win:63 | Lose:45\n"
     ]
    },
    {
     "data": {
      "image/png": "[encoded data removed]",
      "text/plain": [
       "<Figure size 432x288 with 1 Axes>"
      ]
     },
     "metadata": {
      "needs_background": "light"
     },
     "output_type": "display_data"
    },
    {
     "data": {
      "image/png": "[encoded data removed]",
      "text/plain": [
       "<Figure size 432x288 with 1 Axes>"
      ]
     },
     "metadata": {
      "needs_background": "light"
     },
     "output_type": "display_data"
    },
    {
     "data": {
      "image/png": "[encoded data removed]",
      "text/plain": [
       "<Figure size 432x288 with 1 Axes>"
      ]
     },
     "metadata": {
      "needs_background": "light"
     },
     "output_type": "display_data"
    }
   ],
   "source": [
    "final = {}\n",
    "final[yd_best] = yd[yd_best]\n",
    "final[lee_best] = lee[lee_best]\n",
    "final[schimdt_best] = schimdt[schimdt_best]\n",
    "ppf = PerformanceProfile(final, failcode=[1,2,4])\n",
    "ppf.get_subset_by_time(threshold=1, remove_failed=True)\n",
    "_ = ppf.plot(column='time',show_num=False, options={'ratio_max':6}, save=True, saveDir='./natOG/', labels=['option I\\ \\ \\ ', 'option II\\ \\ ', 'option III'])"
   ]
  },
  {
   "cell_type": "code",
   "execution_count": 25,
   "metadata": {},
   "outputs": [],
   "source": [
    "# class PPFSUCCESS:\n",
    "#     def __init__(self, algo_df_dic, success_code=[0]):\n",
    "#         self.algo_lst = [*algo_df_dic.keys()]\n",
    "#         self.algo_df_dic = deepcopy(algo_df_dic)\n",
    "#         fail_idx = algo_df_dic[self.algo_lst[0]].index\n",
    "#         for algo in self.algo_lst:\n",
    "#             frame = self.algo_df_dic[algo]\n",
    "#             temp = frame[~frame['status'].isin(success_code)].index\n",
    "#             fail_idx = fail_idx.intersection(temp)\n",
    "#         print(f\"In {len(fail_idx)} failed cases, there is at least one algorithm failed\")\n",
    "#         for algo in self.algo_lst:\n",
    "#             frame = self.algo_df_dic[algo]\n",
    "#             frame = frame.loc[~frame.index.isin(fail_idx)]\n",
    "#             self.algo_df_dic[algo] = frame\n",
    "#     def plot(self, column, options={}, save=False, saveDir='./', ext=None, dpi=300, \n",
    "#     show_num=False, use_tt=True, plot=True, auc=True, factor=1.5, format='pdf', labels=None):\n",
    "#         if 'color' not in options.keys():\n",
    "#             options['color'] = 'rgb'\n",
    "#         if 'ratio_max' not in options.keys():\n",
    "#             options['ratio_max'] = 1\n",
    "#         self.options = options\n",
    "#         self.num_algo = len(self.algo_lst)\n",
    "#         pools = {}\n",
    "#         for i in range(self.num_algo - 1):\n",
    "#             for j in range(i + 1, self.num_algo):\n",
    "#                 algo1 = self.algo_lst[i]\n",
    "#                 algo2 = self.algo_lst[j]\n",
    "#                 if labels is not None:\n",
    "#                     algo1_label = labels[i]\n",
    "#                     algo2_label = labels[j]\n",
    "#                 data1 = self.algo_df_dic[algo1][column].copy()\n",
    "#                 data2 = self.algo_df_dic[algo2][column].copy()\n",
    "#                 data1.loc[data1 < 0] = np.inf\n",
    "#                 data2.loc[data2 < 0] = np.inf\n",
    "#                 ratio = (data1 / data2).to_numpy()\n",
    "#                 ratio[ratio == 0] = 1e-16\n",
    "#                 ratio = -np.log2(ratio)\n",
    "#                 ratio[ratio == -np.log2(1e-16)] = np.inf\n",
    "#                 ratio = ratio[~np.isnan(ratio)]\n",
    "#                 bars_pos = np.zeros(ratio.shape)\n",
    "#                 bars_neg = np.zeros(ratio.shape)\n",
    "#                 flag = ratio > 0\n",
    "#                 bars_pos[flag] = ratio[flag]\n",
    "#                 bars_neg[~flag] = ratio[~flag]\n",
    "#                 if auc:\n",
    "#                     posmax = np.max(bars_pos[bars_pos != np.inf])\n",
    "#                     negmin = np.min(bars_neg[bars_neg != -np.inf])\n",
    "#                     ratio_max = max(posmax, -negmin)\n",
    "#                     bars_pos[bars_pos == np.inf] = ratio_max * factor\n",
    "#                     bars_neg[bars_neg == -np.inf] = -ratio_max * factor\n",
    "#                     self.bars_pos = bars_pos\n",
    "#                     self.bars_neg = bars_neg\n",
    "#                 else:\n",
    "#                     bars_pos[bars_pos == np.inf] = self.options['ratio_max']\n",
    "#                     bars_neg[bars_neg == -np.inf] = -self.options['ratio_max']\n",
    "#                 # sort in descending order\n",
    "#                 bars_pos[::-1].sort()\n",
    "#                 bars_neg[::-1].sort()\n",
    "#                 if auc:\n",
    "#                     win_auc = np.around(np.sum(bars_pos), 3)\n",
    "#                     lose_auc = np.around(np.abs(np.sum(bars_neg)), 3)\n",
    "#                 win = sum(flag)\n",
    "#                 lose = sum(ratio < 0)\n",
    "#                 if plot:\n",
    "#                     figure = plt.figure()\n",
    "#                     if show_num:\n",
    "#                         if labels is None:\n",
    "#                             label_1 = algo1 + ' {}'.format(win)\n",
    "#                             label_2 = algo2 + ' {}'.format(lose)\n",
    "#                         else:\n",
    "#                             label_1 = algo1_label + ' {}'.format(win)\n",
    "#                             label_2 = algo2_label + ' {}'.format(lose)\n",
    "#                         if auc:\n",
    "#                             label_1 += f' auc:{win_auc}'\n",
    "#                             label_2 += f' auc:{lose_auc}'\n",
    "#                     else:\n",
    "#                         if labels is None:\n",
    "#                             label_1 = algo1\n",
    "#                             label_2 = algo2\n",
    "#                         else:\n",
    "#                             label_1 = algo1_label\n",
    "#                             label_2 = algo2_label\n",
    "#                         if auc:\n",
    "#                             label_1 += f' auc:{win_auc}'\n",
    "#                             label_2 += f' auc:{lose_auc}'\n",
    "#                         print('{} Win:{} | Lose:{}'.format(algo1, win, lose))\n",
    "#                     if use_tt:\n",
    "#                         label_1 = r'\\texttt{{{}}}'.format(label_1)\n",
    "#                         label_2 = r'\\texttt{{{}}}'.format(label_2)\n",
    "#                     if self.options['color'] == 'bw':\n",
    "#                         plt.bar(range(len(bars_pos)), bars_pos, color=[32 / 225, 32 / 225, 32 / 225, 1], label=label_1, width=1)\n",
    "#                         plt.bar(range(len(bars_neg)), bars_neg, color=[192 / 225, 192 / 225, 192 / 225, 1], label=label_2, width=1)\n",
    "#                     else:\n",
    "#                         plt.bar(range(len(bars_pos)), bars_pos, color='b', label=label_1, width=1)\n",
    "#                         plt.bar(range(len(bars_neg)), bars_neg, color='r', label=label_2, width=1)\n",
    "#                     plt.xlim(-1, len(bars_pos) + 1)\n",
    "#                     plt.ylim(-self.options['ratio_max'], self.options['ratio_max'])\n",
    "#                     plt.legend()\n",
    "#                     plt.hlines(y=0, xmin=0 - 0.5, xmax=len(bars_pos) - 0.5, linewidth=1)\n",
    "#                     plt.ylabel('-log2(ratio)', fontsize=13)\n",
    "\n",
    "#                     if column == 'time':\n",
    "#                         text = 'computational time'\n",
    "#                     elif column == 'fevals':\n",
    "#                         text = 'function evaluations'\n",
    "#                     elif column == 'iteration':\n",
    "#                         text = 'iterations'\n",
    "#                     elif column == 'subgrad_iters':\n",
    "#                         text = 'subgradient iterations'\n",
    "#                     else:\n",
    "#                         text = column\n",
    "#                     if auc:\n",
    "#                         plt.title(\"Metric: {} (Area Under the Curve)\".format(text))\n",
    "#                     else:\n",
    "#                         plt.title(\"Metric: {}\".format(text))\n",
    "#                     if save:\n",
    "#                         if ext is None:\n",
    "#                             filename = saveDir + '/{}-{}_{}.{}'.format(algo1, algo2, column, format)\n",
    "#                         else:\n",
    "#                             filename = saveDir + '/{}-{}_{}_{}.{}'.format(algo1, algo2, column, ext, format)\n",
    "#                         # metrics\n",
    "#                         if dpi:\n",
    "#                             figure.savefig(filename, dpi=dpi)\n",
    "#                         else:\n",
    "#                             figure.savefig(filename)\n",
    "#                 else:\n",
    "#                     key = f'{algo1}_{algo2}'\n",
    "#                     if auc:\n",
    "#                         pools[key] = (win_auc, lose_auc, algo1, algo2)\n",
    "#                     else:\n",
    "#                         pools[key] = (win, lose, algo1, algo2)\n",
    "#         return pools"
   ]
  },
  {
   "cell_type": "code",
   "execution_count": 26,
   "metadata": {},
   "outputs": [],
   "source": [
    "# ppfs = PPFSUCCESS(final, success_code=[0])"
   ]
  },
  {
   "cell_type": "code",
   "execution_count": 27,
   "metadata": {},
   "outputs": [],
   "source": [
    "# _ = ppfs.plot(column='time',show_num=False, options={'ratio_max':6}, save=False, saveDir='./natOG/', labels=['option I\\ \\ \\ ', 'option II\\ \\ ', 'option III'])"
   ]
  },
  {
   "cell_type": "code",
   "execution_count": 28,
   "metadata": {},
   "outputs": [],
   "source": [
    "# frame = final[yd_best]\n",
    "# idx1 = frame[~frame['status'].isin([0])].index\n",
    "# # final[yd_best][~final[yd_best]['status'].isin([0])]"
   ]
  },
  {
   "cell_type": "code",
   "execution_count": 29,
   "metadata": {},
   "outputs": [],
   "source": [
    "# frame2 = final[schimdt_best]\n",
    "# idx2 = frame2[~frame2['status'].isin([0])].index"
   ]
  },
  {
   "cell_type": "code",
   "execution_count": 30,
   "metadata": {},
   "outputs": [],
   "source": [
    "# frame.iloc[idx1.intersection(idx2)]"
   ]
  },
  {
   "cell_type": "code",
   "execution_count": 31,
   "metadata": {},
   "outputs": [],
   "source": [
    "# frame2.iloc[idx1.intersection(idx2)]"
   ]
  },
  {
   "cell_type": "code",
   "execution_count": 32,
   "metadata": {},
   "outputs": [],
   "source": [
    "# frame.index.intersection(idx2)"
   ]
  },
  {
   "cell_type": "code",
   "execution_count": null,
   "metadata": {},
   "outputs": [],
   "source": []
  }
 ],
 "metadata": {
  "kernelspec": {
   "display_name": "Python 3",
   "language": "python",
   "name": "python3"
  },
  "language_info": {
   "codemirror_mode": {
    "name": "ipython",
    "version": 3
   },
   "file_extension": ".py",
   "mimetype": "text/x-python",
   "name": "python",
   "nbconvert_exporter": "python",
   "pygments_lexer": "ipython3",
   "version": "3.7.7"
  }
 },
 "nbformat": 4,
 "nbformat_minor": 4
}
