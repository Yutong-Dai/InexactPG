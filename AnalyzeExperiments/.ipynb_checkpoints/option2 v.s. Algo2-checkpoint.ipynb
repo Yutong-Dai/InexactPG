{
 "cells": [
  {
   "cell_type": "code",
   "execution_count": 2,
   "metadata": {},
   "outputs": [],
   "source": [
    "import pandas as pd\n",
    "import numpy as np\n",
    "from plotutils import *\n",
    "from matplotlib import pyplot as plt"
   ]
  },
  {
   "cell_type": "code",
   "execution_count": 3,
   "metadata": {},
   "outputs": [],
   "source": [
    "logdir='../IPG/test/log'; date='07_17_2021'\n",
    "subsolver='projectedGD'; warm_start=True\n",
    "loss='logit'; lam_shrink=[0.1, 0.05]; group_size=[10, 100]; overlap_ratio=[0.1, 0.3, 0.5]\n",
    "excludes= None"
   ]
  },
  {
   "cell_type": "code",
   "execution_count": 4,
   "metadata": {},
   "outputs": [
    {
     "name": "stdout",
     "output_type": "stream",
     "text": [
      "4-projectedGD-True-0.99999-0.1\n",
      " 72/72 instances terminate with status:  0\n"
     ]
    }
   ],
   "source": [
    "inexact_type='4'; param1_lst = [1-1e-5]\n",
    "param2_lst = [0.1]\n",
    "algo_df_dict_inexact_type4 = get_all(logdir, date, inexact_type, loss, subsolver, warm_start,\n",
    "                             lam_shrink, group_size, overlap_ratio,\n",
    "                             excludes, param1_lst, param2_lst)\n",
    "\n",
    "time_type4 = []\n",
    "for key in algo_df_dict_inexact_type4.keys():\n",
    "    df_ = algo_df_dict_inexact_type4[key]\n",
    "    time_ = np.sum(df_['time'])\n",
    "    time_type4.append(time_)"
   ]
  },
  {
   "cell_type": "code",
   "execution_count": 5,
   "metadata": {},
   "outputs": [
    {
     "name": "stdout",
     "output_type": "stream",
     "text": [
      "2-projectedGD-True-1e-05-0.1\n",
      " 72/72 instances terminate with status:  0\n"
     ]
    }
   ],
   "source": [
    "loss='logit'; lam_shrink=[0.1, 0.05]; group_size=[10, 100]; overlap_ratio=[0.1, 0.3, 0.5]\n",
    "excludes= None\n",
    "inexact_type=2; param1_lst = [1e-5]; param2_lst = [0.1]\n",
    "algo_df_dict_inexact_type2_part1 = get_all(logdir, '07_17_2021', inexact_type, loss, subsolver, warm_start,\n",
    "                             lam_shrink, group_size, overlap_ratio,\n",
    "                             excludes, param1_lst, param2_lst)\n",
    "df_2 = algo_df_dict_inexact_type2_part1['2-projectedGD-True-1e-05-0.1']"
   ]
  },
  {
   "cell_type": "code",
   "execution_count": 6,
   "metadata": {},
   "outputs": [],
   "source": [
    "df_4 = algo_df_dict_inexact_type4['4-projectedGD-True-0.99999-0.1']"
   ]
  },
  {
   "cell_type": "code",
   "execution_count": 13,
   "metadata": {},
   "outputs": [
    {
     "name": "stdout",
     "output_type": "stream",
     "text": [
      "All algorithms failed in 0 instances (failure code 2)\n",
      "Metrics for failed instances are overwritten with np.inf\n",
      "After subsetting, 72 instances are kept.\n",
      "2-projectedGD-True-1e-05-empty Win:38 | Lose:34\n"
     ]
    },
    {
     "data": {
      "image/png": "[encoded data removed]",
      "text/plain": [
       "<Figure size 432x288 with 1 Axes>"
      ]
     },
     "metadata": {
      "needs_background": "light"
     },
     "output_type": "display_data"
    }
   ],
   "source": [
    "final = {}\n",
    "final['2-projectedGD-True-1e-05-empty'] = df_2\n",
    "final['4-projectedGD-True-0.99999-0.1'] = df_4\n",
    "ppf = PerformanceProfile(final, failcode=2)\n",
    "ppf.get_subset_by_time(threshold=1, remove_failed=True)\n",
    "_ = ppf.plot(column='time',show_num=False, options={'ratio_max':7}, save=True, saveDir='./natOG/', labels=['option II \\ \\ \\ \\ \\ \\ ', 'ISQA-Algo2.Var1'])"
   ]
  },
  {
   "cell_type": "code",
   "execution_count": 8,
   "metadata": {},
   "outputs": [
    {
     "name": "stdout",
     "output_type": "stream",
     "text": [
      "For 2-4 comparsion:\n",
      "==========================\n",
      " In terms final F:\n",
      "  better:18 | same:37 | worse: 17\n",
      " In terms #z:\n",
      "  better:14 | same:41 | worse: 17\n"
     ]
    }
   ],
   "source": [
    "cols = ['datasetid', 'F', 'time', 'nz']\n",
    "df24_merged = pd.merge(df_2, df_4, on='datasetid', suffixes=(\"_type2\", \"_type4\"), how='left')\n",
    "better24_z = np.sum((df24_merged['nz_type2'] - df24_merged['nz_type4']) > 0 ) \n",
    "same24_z = np.sum((df24_merged['nz_type2'] - df24_merged['nz_type4']) == 0 ) \n",
    "worse24_z = np.sum((df24_merged['nz_type2'] - df24_merged['nz_type4']) <0 ) \n",
    "\n",
    "better24_F = np.sum((df24_merged['F_type2'] - df24_merged['F_type4']) < -1e-8 ) \n",
    "same24_F = np.sum(np.abs(df24_merged['F_type2'] - df24_merged['F_type4']) <=1e-8 ) \n",
    "worse24_F = np.sum((df24_merged['F_type2'] - df24_merged['F_type4']) > 1e-8 ) \n",
    "\n",
    "print(\"For 2-4 comparsion:\\n==========================\")\n",
    "print(\" In terms final F:\")\n",
    "print(f\"  better:{better24_F} | same:{same24_F} | worse: {worse24_F}\")\n",
    "print(\" In terms #z:\")\n",
    "print(f\"  better:{better24_z} | same:{same24_z} | worse: {worse24_z}\")"
   ]
  },
  {
   "cell_type": "markdown",
   "metadata": {},
   "source": [
    "# Fallback 0 versus Fallback 1000"
   ]
  },
  {
   "cell_type": "code",
   "execution_count": 14,
   "metadata": {},
   "outputs": [
    {
     "name": "stdout",
     "output_type": "stream",
     "text": [
      "4_fallback0-projectedGD-True-0.99999-0.1\n",
      " 72/72 instances terminate with status:  0\n"
     ]
    }
   ],
   "source": [
    "inexact_type='4_fallback0'; param1_lst = [1-1e-5]\n",
    "param2_lst = [0.1]\n",
    "algo_df_dict_inexact_type4_2 = get_all(logdir, date, inexact_type, loss, subsolver, warm_start,\n",
    "                             lam_shrink, group_size, overlap_ratio,\n",
    "                             excludes, param1_lst, param2_lst)\n",
    "\n",
    "time_type4_2 = []\n",
    "for key in algo_df_dict_inexact_type4_2.keys():\n",
    "    df_ = algo_df_dict_inexact_type4_2[key]\n",
    "    time_ = np.sum(df_['time'])\n",
    "    time_type4_2.append(time_)    \n",
    "df_42 = algo_df_dict_inexact_type4_2['4_fallback0-projectedGD-True-0.99999-0.1']    "
   ]
  },
  {
   "cell_type": "code",
   "execution_count": 15,
   "metadata": {},
   "outputs": [
    {
     "name": "stdout",
     "output_type": "stream",
     "text": [
      "All algorithms failed in 0 instances (failure code 2)\n",
      "Metrics for failed instances are overwritten with np.inf\n",
      "After subsetting, 72 instances are kept.\n",
      "4-projectedGD-True-0.99999-0.1 Win:55 | Lose:17\n"
     ]
    },
    {
     "data": {
      "image/png": "[encoded data removed]",
      "text/plain": [
       "<Figure size 432x288 with 1 Axes>"
      ]
     },
     "metadata": {
      "needs_background": "light"
     },
     "output_type": "display_data"
    }
   ],
   "source": [
    "final = {}\n",
    "final['4-projectedGD-True-0.99999-0.1'] = df_4\n",
    "final['4_fallback0-projectedGD-True-0.99999-0.1'] = df_42\n",
    "\n",
    "ppf = PerformanceProfile(final, failcode=2)\n",
    "ppf.get_subset_by_time(threshold=1, remove_failed=True)\n",
    "_ = ppf.plot(column='time',show_num=False, options={'ratio_max':7}, save=True, saveDir='./natOG/', labels=['ISQA-Algo2.Var1 Adaptive', 'ISQA-Algo2.Var1 Non-adpative'])"
   ]
  },
  {
   "cell_type": "code",
   "execution_count": 16,
   "metadata": {},
   "outputs": [
    {
     "name": "stdout",
     "output_type": "stream",
     "text": [
      "For 4_2-4 comparsion:\n",
      "==========================\n",
      " In terms final F:\n",
      "  better:1 | same:8 | worse: 63\n",
      " In terms #z:\n",
      "  better:7 | same:38 | worse: 27\n"
     ]
    }
   ],
   "source": [
    "cols = ['datasetid', 'F', 'time', 'nz']\n",
    "df24_merged = pd.merge(df_42, df_4, on='datasetid', suffixes=(\"_type42\", \"_type4\"), how='left')\n",
    "better24_z = np.sum((df24_merged['nz_type42'] - df24_merged['nz_type4']) > 0 ) \n",
    "same24_z = np.sum((df24_merged['nz_type42'] - df24_merged['nz_type4']) == 0 ) \n",
    "worse24_z = np.sum((df24_merged['nz_type42'] - df24_merged['nz_type4']) <0 ) \n",
    "\n",
    "better24_F = np.sum((df24_merged['F_type42'] - df24_merged['F_type4']) < -1e-8 ) \n",
    "same24_F = np.sum(np.abs(df24_merged['F_type42'] - df24_merged['F_type4']) <=1e-8 ) \n",
    "worse24_F = np.sum((df24_merged['F_type42'] - df24_merged['F_type4']) > 1e-8 ) \n",
    "\n",
    "print(\"For 4_2-4 comparsion:\\n==========================\")\n",
    "print(\" In terms final F:\")\n",
    "print(f\"  better:{better24_F} | same:{same24_F} | worse: {worse24_F}\")\n",
    "print(\" In terms #z:\")\n",
    "print(f\"  better:{better24_z} | same:{same24_z} | worse: {worse24_z}\")"
   ]
  },
  {
   "cell_type": "code",
   "execution_count": null,
   "metadata": {},
   "outputs": [],
   "source": []
  }
 ],
 "metadata": {
  "kernelspec": {
   "display_name": "Python 3",
   "language": "python",
   "name": "python3"
  },
  "language_info": {
   "codemirror_mode": {
    "name": "ipython",
    "version": 3
   },
   "file_extension": ".py",
   "mimetype": "text/x-python",
   "name": "python",
   "nbconvert_exporter": "python",
   "pygments_lexer": "ipython3",
   "version": "3.7.7"
  }
 },
 "nbformat": 4,
 "nbformat_minor": 4
}
