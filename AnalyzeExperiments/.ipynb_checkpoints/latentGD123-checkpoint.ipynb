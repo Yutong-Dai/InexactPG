{
 "cells": [
  {
   "cell_type": "code",
   "execution_count": 1,
   "metadata": {
    "ExecuteTime": {
     "end_time": "2021-06-24T01:12:10.166423Z",
     "start_time": "2021-06-24T01:11:59.139555Z"
    }
   },
   "outputs": [],
   "source": [
    "# import pandas as pd\n",
    "# import numpy as np\n",
    "# from plotutils import *\n",
    "# np.seterr(all='raise')"
   ]
  },
  {
   "cell_type": "markdown",
   "metadata": {},
   "source": [
    "# logit"
   ]
  },
  {
   "cell_type": "code",
   "execution_count": 2,
   "metadata": {
    "ExecuteTime": {
     "end_time": "2021-06-24T01:12:10.180191Z",
     "start_time": "2021-06-24T01:12:10.172326Z"
    }
   },
   "outputs": [],
   "source": [
    "# logdir='../IPG/test/log'; date='06_21_2021'\n",
    "# subsolver='projectedGD'; warm_start=True\n",
    "# loss='logit'; lam_shrink=[0.1, 0.05]; group_size=[10, 100]; overlap_ratio=[0.1, 0.3, 0.5]; excludes= None"
   ]
  },
  {
   "cell_type": "code",
   "execution_count": 3,
   "metadata": {
    "ExecuteTime": {
     "end_time": "2021-06-24T01:12:15.693832Z",
     "start_time": "2021-06-24T01:12:14.250734Z"
    }
   },
   "outputs": [],
   "source": [
    "# inexact_type=1; param1_lst = [1e-12]; param2_lst = ['empty']\n",
    "# algo_df_dict_inexact_type1 = get_all(logdir, date, inexact_type, loss, subsolver, warm_start,\n",
    "#                              lam_shrink, group_size, overlap_ratio,\n",
    "#                              excludes, param1_lst, param2_lst)\n",
    "# ppf = PerformanceProfile(algo_df_dict_inexact_type1)\n",
    "# ppf.get_subset_by_time(threshold=1, remove_failed=True)\n",
    "# pools = ppf.plot(column='time', show_num=True, options={'ratio_max':4}, plot=False)\n",
    "# print(\"=================\")\n",
    "# inexact_type1_best = '1-projectedGD-True-1e-12-empty'\n",
    "# print('Best params:', inexact_type1_best)"
   ]
  },
  {
   "cell_type": "code",
   "execution_count": 4,
   "metadata": {
    "ExecuteTime": {
     "end_time": "2021-06-24T01:12:17.778314Z",
     "start_time": "2021-06-24T01:12:17.772617Z"
    }
   },
   "outputs": [],
   "source": [
    "# algo_df_dict_inexact_type1['1-projectedGD-True-1e-12-empty'][algo_df_dict_inexact_type1['1-projectedGD-True-1e-12-empty']['status'] != 0]\n",
    "# algo_df_dict_inexact_type1['1-projectedGD-True-1e-12-empty'].head(60)"
   ]
  },
  {
   "cell_type": "code",
   "execution_count": 4,
   "metadata": {
    "ExecuteTime": {
     "end_time": "2021-06-24T01:12:22.670795Z",
     "start_time": "2021-06-24T01:12:18.237282Z"
    }
   },
   "outputs": [],
   "source": [
    "# inexact_type=2; param1_lst = [1e-12]; param2_lst = [0.1, 0.5, 0.9]\n",
    "# algo_df_dict_inexact_type2 = get_all(logdir, date, inexact_type, loss, subsolver, warm_start,\n",
    "#                              lam_shrink, group_size, overlap_ratio,\n",
    "#                              excludes, param1_lst, param2_lst)\n",
    "# ppf = PerformanceProfile(algo_df_dict_inexact_type2)\n",
    "# ppf.get_subset_by_time(threshold=1, remove_failed=True)\n",
    "# pools = ppf.plot(column='time', show_num=True, options={'ratio_max':4}, plot=False)\n",
    "# print(\"=================\")\n",
    "# inexact_type2_best = get_best(pools)\n",
    "# # inexact_type2_best = '2-projectedGD-True-1e-12-0.5'\n",
    "# print('Best params:', inexact_type2_best)"
   ]
  },
  {
   "cell_type": "code",
   "execution_count": 5,
   "metadata": {
    "ExecuteTime": {
     "end_time": "2021-06-24T01:12:36.522433Z",
     "start_time": "2021-06-24T01:12:26.434676Z"
    }
   },
   "outputs": [],
   "source": [
    "# inexact_type=3; param1_lst = [3.0]; param2_lst = [1e0, 1e1, 1e2, 1e3, 1e4, 1e5, 1e6]\n",
    "# algo_df_dict_inexact_type3 = get_all(logdir, date, inexact_type, loss, subsolver, warm_start,\n",
    "#                              lam_shrink, group_size, overlap_ratio,\n",
    "#                              excludes, param1_lst, param2_lst)\n",
    "# ppf = PerformanceProfile(algo_df_dict_inexact_type3)\n",
    "# ppf.get_subset_by_time(threshold=1, remove_failed=True)\n",
    "# pools = ppf.plot(column='time', show_num=True, options={'ratio_max':4}, plot=False)\n",
    "# # print(\"=================\")\n",
    "# inexact_type3_best = get_best(pools)\n",
    "# # inexact_type3_best = '3-projectedGD-True-3.0-1.0'\n",
    "# print('Best params:', inexact_type3_best)"
   ]
  },
  {
   "cell_type": "code",
   "execution_count": 6,
   "metadata": {
    "ExecuteTime": {
     "end_time": "2021-06-24T01:16:40.616257Z",
     "start_time": "2021-06-24T01:16:27.895357Z"
    }
   },
   "outputs": [],
   "source": [
    "# final = {}\n",
    "# final[inexact_type1_best] = algo_df_dict_inexact_type1[inexact_type1_best]\n",
    "# final[inexact_type2_best] = algo_df_dict_inexact_type2[inexact_type2_best]\n",
    "# final[inexact_type3_best] = algo_df_dict_inexact_type3[inexact_type3_best]\n",
    "# ppf = PerformanceProfile(final)\n",
    "# ppf.get_subset_by_time(threshold=1, remove_failed=True)\n",
    "# # _ = ppf.plot(column='subits',show_num=True, options={'ratio_max':5})\n",
    "# _ = ppf.plot(column='time',show_num=False, save=True,\n",
    "#              options={'ratio_max':4}, saveDir='./latentOG/', labels=['option I\\ \\ \\ ', 'option II\\ \\ ', 'option III'])"
   ]
  },
  {
   "cell_type": "code",
   "execution_count": 7,
   "metadata": {
    "ExecuteTime": {
     "end_time": "2021-06-24T01:17:17.705136Z",
     "start_time": "2021-06-24T01:17:17.647425Z"
    }
   },
   "outputs": [],
   "source": [
    "# cols = ['datasetid', 'f', 'time', 'nz']\n",
    "# df1 = algo_df_dict_inexact_type1[inexact_type1_best][cols].copy()\n",
    "# df2 = algo_df_dict_inexact_type2[inexact_type2_best][cols].copy()\n",
    "# df3 = algo_df_dict_inexact_type3[inexact_type3_best][cols].copy()\n",
    "# df13_merged = pd.merge(df1, df3, on='datasetid', suffixes=(\"_type1\", \"_type3\"), how='left')\n",
    "\n",
    "# better13_z = np.sum((df13_merged['nz_type1'] - df13_merged['nz_type3']) > 0 ) \n",
    "# same13_z = np.sum((df13_merged['nz_type1'] - df13_merged['nz_type3']) == 0 ) \n",
    "# worse13_z = np.sum((df13_merged['nz_type1'] - df13_merged['nz_type3']) <0 ) \n",
    "\n",
    "# # better13_F = np.sum((df13_merged['F_type1'] - df13_merged['F_type3']) < -1e-8 ) \n",
    "# # same13_F = np.sum(np.abs(df13_merged['F_type1'] - df13_merged['F_type3']) <= 1e-8 ) \n",
    "# # worse13_F = np.sum((df13_merged['F_type1'] - df13_merged['F_type3']) > 1e-8 ) \n",
    "\n",
    "# df23_merged = pd.merge(df2, df3, on='datasetid', suffixes=(\"_type2\", \"_type3\"), how='left')\n",
    "# better23_z = np.sum((df23_merged['nz_type2'] - df23_merged['nz_type3']) > 0 ) \n",
    "# same23_z = np.sum((df23_merged['nz_type2'] - df23_merged['nz_type3']) == 0 ) \n",
    "# worse23_z = np.sum((df23_merged['nz_type2'] - df23_merged['nz_type3']) <0 ) \n",
    "\n",
    "# # better23_F = np.sum((df23_merged['F_type2'] - df23_merged['F_type3']) < -1e-8 ) \n",
    "# # same23_F = np.sum(np.abs(df23_merged['F_type2'] - df23_merged['F_type3']) <=1e-8 ) \n",
    "# # worse23_F = np.sum((df23_merged['F_type2'] - df23_merged['F_type3']) > 1e-8 ) \n",
    "\n",
    "# print(\"For 1-3 comparsion:\\n==========================\")\n",
    "# # print(\" In terms final F:\")\n",
    "# # print(f\"  better:{better13_F} | same:{same13_F} | worse: {worse13_F}\")\n",
    "# print(\" In terms #z:\")\n",
    "# print(f\"  better:{better13_z} | same:{same13_z} | worse: {worse13_z}\")\n",
    "# print(\"For 2-3 comparsion:\\n==========================\")\n",
    "# # print(\" In terms final F:\")\n",
    "# # print(f\"  better:{better23_F} | same:{same23_F} | worse: {worse23_F}\")\n",
    "# print(\" In terms #z:\")\n",
    "# print(f\"  better:{better23_z} | same:{same23_z} | worse: {worse23_z}\")"
   ]
  },
  {
   "cell_type": "code",
   "execution_count": 8,
   "metadata": {
    "ExecuteTime": {
     "end_time": "2021-06-24T01:21:06.783466Z",
     "start_time": "2021-06-24T01:20:45.256484Z"
    }
   },
   "outputs": [],
   "source": [
    "# for c in [1e0, 1e1, 1e2, 1e3, 1e4, 1e5, 1e6]:\n",
    "#     final = {}\n",
    "#     final[inexact_type1_best] = algo_df_dict_inexact_type1[inexact_type1_best]\n",
    "#     type3_sensitivity = f'3-projectedGD-True-3.0-{c}'\n",
    "#     final[type3_sensitivity] = algo_df_dict_inexact_type3[type3_sensitivity]\n",
    "#     ppf = PerformanceProfile(final)\n",
    "#     ppf.get_subset_by_time(threshold=1, remove_failed=True)\n",
    "#     _ = ppf.plot(column='time',show_num=False, options={'ratio_max':6}, save=True, saveDir='./latentOG/sensitivity', labels=['option I\\ \\ \\ \\ \\ \\ \\ \\ \\ ', f'option III-{c:1.0e}'])"
   ]
  },
  {
   "cell_type": "code",
   "execution_count": 9,
   "metadata": {
    "ExecuteTime": {
     "end_time": "2021-06-24T01:21:24.680859Z",
     "start_time": "2021-06-24T01:21:06.791816Z"
    }
   },
   "outputs": [],
   "source": [
    "# for c in [1e0, 1e1, 1e2, 1e3, 1e4, 1e5]:\n",
    "#     final = {}\n",
    "#     final[inexact_type2_best] = algo_df_dict_inexact_type2[inexact_type2_best]\n",
    "#     type3_sensitivity = f'3-projectedGD-True-3.0-{c}'\n",
    "#     final[type3_sensitivity] = algo_df_dict_inexact_type3[type3_sensitivity]\n",
    "#     ppf = PerformanceProfile(final)\n",
    "#     ppf.get_subset_by_time(threshold=1, remove_failed=True)\n",
    "#     _ = ppf.plot(column='time',show_num=False, options={'ratio_max':6}, save=True, saveDir='./latentOG/sensitivity', labels=['option II\\ \\ \\ \\ \\ \\ \\ \\ ', f'option III-{c:1.0e}'])"
   ]
  },
  {
   "cell_type": "code",
   "execution_count": null,
   "metadata": {},
   "outputs": [],
   "source": [
    "cp -R latentOG/ ~/Dropbox\\ \\(LU\\ Student\\)/Apps/Overleaf/inexact\\ Proximal\\ gradient\\ doc/paper_adaptiveIPG/images/latentOG"
   ]
  },
  {
   "cell_type": "markdown",
   "metadata": {},
   "source": [
    "# Main figures"
   ]
  },
  {
   "cell_type": "code",
   "execution_count": 6,
   "metadata": {},
   "outputs": [],
   "source": [
    "import pandas as pd\n",
    "import numpy as np\n",
    "from plotutils import *\n",
    "import shutil\n",
    "import os\n",
    "np.seterr(all='raise')\n",
    "logdir='../IPG/test/log';subsolver='projectedGD'; warm_start=True\n",
    "loss='logit'; lam_shrink=[0.1, 0.05]; group_size=[10, 100]; overlap_ratio=[0.1, 0.3, 0.5]; excludes= ['australian', 'news20', 'rcv1', 'real-sim']"
   ]
  },
  {
   "cell_type": "code",
   "execution_count": 25,
   "metadata": {},
   "outputs": [
    {
     "name": "stdout",
     "output_type": "stream",
     "text": [
      "1-projectedGD-True-1e-12-empty\n",
      " 89/96 instances terminate with status:  0\n",
      "  7/96 instances terminate with status:  2\n",
      "======\n",
      "1-projectedGD-True-1e-12-empty\n",
      " 24/36 instances terminate with status:  2\n",
      " 12/36 instances terminate with status:  0\n"
     ]
    }
   ],
   "source": [
    "inexact_type1_best = '1-projectedGD-True-1e-12-empty'\n",
    "inexact_type=1; param1_lst = [1e-12]; param2_lst = ['empty']\n",
    "# part 1\n",
    "date='06_21_2021'\n",
    "algo_df_dict_inexact_type1_part1 = get_all(logdir, date, inexact_type, loss, subsolver, warm_start,\n",
    "                             lam_shrink, group_size, overlap_ratio,\n",
    "                             excludes, param1_lst, param2_lst)\n",
    "df1_part1 = algo_df_dict_inexact_type1_part1[inexact_type1_best]\n",
    "print(\"======\")\n",
    "date='07_02_2021'\n",
    "algo_df_dict_inexact_type1_part2 = get_all(logdir, date, inexact_type, loss+\"_ckpt\", subsolver, warm_start,\n",
    "                             lam_shrink, group_size, overlap_ratio,\n",
    "                             None, param1_lst, param2_lst)\n",
    "df1_part2 = algo_df_dict_inexact_type1_part2[inexact_type1_best]\n",
    "df1 = pd.concat([df1_part1, df1_part2])\n",
    "# print(f\"Exceed 12hours with: {132-df1.shape[0]} instances\")"
   ]
  },
  {
   "cell_type": "code",
   "execution_count": 26,
   "metadata": {},
   "outputs": [
    {
     "name": "stdout",
     "output_type": "stream",
     "text": [
      "2-projectedGD-True-1e-12-0.1\n",
      " 96/96 instances terminate with status:  0\n",
      "2-projectedGD-True-1e-12-0.1\n",
      " 22/36 instances terminate with status:  2\n",
      " 14/36 instances terminate with status:  0\n"
     ]
    }
   ],
   "source": [
    "inexact_type=2; param1_lst = [1e-12]; param2_lst = [0.1]\n",
    "inexact_type2_best = '2-projectedGD-True-1e-12-0.1'\n",
    "# part 1\n",
    "date='06_21_2021'\n",
    "algo_df_dict_inexact_type2_part1 = get_all(logdir, date, inexact_type, loss, subsolver, warm_start,\n",
    "                             lam_shrink, group_size, overlap_ratio,\n",
    "                             excludes, param1_lst, param2_lst)\n",
    "df2_part1 = algo_df_dict_inexact_type2_part1 [inexact_type2_best]\n",
    "date='07_02_2021'\n",
    "algo_df_dict_inexact_type2_part2 = get_all(logdir, date, inexact_type, loss+\"_ckpt\", subsolver, warm_start,\n",
    "                             lam_shrink, group_size, overlap_ratio,\n",
    "                             None, param1_lst, param2_lst)\n",
    "df2_part2 = algo_df_dict_inexact_type2_part2[inexact_type2_best]\n",
    "df2 = pd.concat([df2_part1, df2_part2])\n",
    "# print(f\"Exceed 12hours with: {132-df1.shape[0]} instances\")"
   ]
  },
  {
   "cell_type": "code",
   "execution_count": 27,
   "metadata": {},
   "outputs": [
    {
     "name": "stdout",
     "output_type": "stream",
     "text": [
      "3-projectedGD-True-3.0-1.0\n",
      " 67/96 instances terminate with status:  0\n",
      " 29/96 instances terminate with status:  2\n",
      "3-projectedGD-True-3.0-10.0\n",
      " 67/96 instances terminate with status:  0\n",
      " 29/96 instances terminate with status:  2\n",
      "3-projectedGD-True-3.0-100.0\n",
      " 71/96 instances terminate with status:  0\n",
      " 25/96 instances terminate with status:  2\n",
      "3-projectedGD-True-3.0-1000.0\n",
      " 73/96 instances terminate with status:  0\n",
      " 23/96 instances terminate with status:  2\n",
      "3-projectedGD-True-3.0-10000.0\n",
      " 86/96 instances terminate with status:  0\n",
      " 10/96 instances terminate with status:  2\n",
      "3-projectedGD-True-3.0-100000.0\n",
      " 95/96 instances terminate with status:  0\n",
      "  1/96 instances terminate with status:  2\n",
      "3-projectedGD-True-3.0-1000000.0\n",
      " 96/96 instances terminate with status:  0\n",
      "3-projectedGD-True-3.0-1000000.0\n",
      " 13/36 instances terminate with status:  2\n",
      " 23/36 instances terminate with status:  0\n"
     ]
    }
   ],
   "source": [
    "inexact_type=3; param1_lst = [3.0]; param2_lst = [1000000.0]\n",
    "inexact_type3_best = '3-projectedGD-True-3.0-1000000.0'\n",
    "# part 1\n",
    "date='06_21_2021'\n",
    "algo_df_dict_inexact_type3_part1 = get_all(logdir, date, inexact_type, loss, subsolver, warm_start,\n",
    "                             lam_shrink, group_size, overlap_ratio,\n",
    "                             excludes, param1_lst, [1e0, 1e1, 1e2, 1e3, 1e4, 1e5, 1e6])\n",
    "df3_part1 = algo_df_dict_inexact_type3_part1[inexact_type3_best]\n",
    "date='07_02_2021'\n",
    "algo_df_dict_inexact_type3_part2 = get_all(logdir, date, inexact_type, loss+\"_ckpt\", subsolver, warm_start,\n",
    "                             lam_shrink, group_size, overlap_ratio,\n",
    "                             None, param1_lst, param2_lst)\n",
    "df3_part2 = algo_df_dict_inexact_type3_part2[inexact_type3_best]\n",
    "df3 = pd.concat([df3_part1, df3_part2])\n",
    "# print(f\"Exceed 12hours with: {132-df3.shape[0]} instances\")"
   ]
  },
  {
   "cell_type": "code",
   "execution_count": 28,
   "metadata": {},
   "outputs": [
    {
     "name": "stdout",
     "output_type": "stream",
     "text": [
      "All algorithms failed in 13 instances (failure code 2)\n",
      "Metrics for failed instances are overwritten with np.inf\n",
      "After subsetting, 119 instances are kept.\n",
      "1-projectedGD-True-1e-12-empty Win:17 | Lose:93\n",
      "1-projectedGD-True-1e-12-empty Win:13 | Lose:106\n",
      "2-projectedGD-True-1e-12-0.1 Win:20 | Lose:99\n"
     ]
    },
    {
     "data": {
      "image/png": "[encoded data removed]",
      "text/plain": [
       "<Figure size 432x288 with 1 Axes>"
      ]
     },
     "metadata": {
      "needs_background": "light"
     },
     "output_type": "display_data"
    },
    {
     "data": {
      "image/png": "[encoded data removed]",
      "text/plain": [
       "<Figure size 432x288 with 1 Axes>"
      ]
     },
     "metadata": {
      "needs_background": "light"
     },
     "output_type": "display_data"
    },
    {
     "data": {
      "image/png": "[encoded data removed]",
      "text/plain": [
       "<Figure size 432x288 with 1 Axes>"
      ]
     },
     "metadata": {
      "needs_background": "light"
     },
     "output_type": "display_data"
    }
   ],
   "source": [
    "final = {}\n",
    "final[inexact_type1_best] = df1\n",
    "final[inexact_type2_best] = df2\n",
    "final[inexact_type3_best] = df3\n",
    "ppf = PerformanceProfile(final, failcode=2)\n",
    "ppf.get_subset_by_time(threshold=1, remove_failed=True)\n",
    "_ = ppf.plot(column='time', show_num=False, options={'ratio_max':6}, save=True, saveDir='./latentOG/', labels=['option I\\ \\ \\ \\ \\ \\ \\ \\ \\ ', 'option II\\ \\ \\ \\ \\ \\ \\ \\ ', f'option III-{1e6:1.0e}'])"
   ]
  },
  {
   "cell_type": "code",
   "execution_count": 30,
   "metadata": {},
   "outputs": [
    {
     "name": "stdout",
     "output_type": "stream",
     "text": [
      "For 1-3 comparsion:\n",
      "==========================\n",
      " In terms #z:\n",
      "  better:28 | same:81 | worse: 23\n",
      "For 2-3 comparsion:\n",
      "==========================\n",
      " In terms #z:\n",
      "  better:27 | same:91 | worse: 14\n"
     ]
    }
   ],
   "source": [
    "cols = ['datasetid', 'F', 'time', 'nz']\n",
    "df13_merged = pd.merge(df1, df3, on='datasetid', suffixes=(\"_type1\", \"_type3\"), how='left')\n",
    "\n",
    "better13_z = np.sum((df13_merged['nz_type1'] - df13_merged['nz_type3']) > 0 ) \n",
    "same13_z = np.sum((df13_merged['nz_type1'] - df13_merged['nz_type3']) == 0 ) \n",
    "worse13_z = np.sum((df13_merged['nz_type1'] - df13_merged['nz_type3']) <0 ) \n",
    "\n",
    "df23_merged = pd.merge(df2, df3, on='datasetid', suffixes=(\"_type2\", \"_type3\"), how='left')\n",
    "better23_z = np.sum((df23_merged['nz_type2'] - df23_merged['nz_type3']) > 0 ) \n",
    "same23_z = np.sum((df23_merged['nz_type2'] - df23_merged['nz_type3']) == 0 ) \n",
    "worse23_z = np.sum((df23_merged['nz_type2'] - df23_merged['nz_type3']) <0 ) \n",
    "\n",
    "print(\"For 1-3 comparsion:\\n==========================\")\n",
    "print(\" In terms #z:\")\n",
    "print(f\"  better:{better13_z} | same:{same13_z} | worse: {worse13_z}\")\n",
    "print(\"For 2-3 comparsion:\\n==========================\")\n",
    "print(\" In terms #z:\")\n",
    "print(f\"  better:{better23_z} | same:{same23_z} | worse: {worse23_z}\")"
   ]
  },
  {
   "cell_type": "code",
   "execution_count": 31,
   "metadata": {},
   "outputs": [
    {
     "name": "stdout",
     "output_type": "stream",
     "text": [
      "3-projectedGD-True-3.0-1.0\n",
      " 27/36 instances terminate with status:  2\n",
      "  9/36 instances terminate with status:  0\n"
     ]
    }
   ],
   "source": [
    "date='07_02_2021'\n",
    "algo_df_dict_inexact_type3_part2_sensitivity = get_all(logdir, date, inexact_type, loss+\"_ckpt\", subsolver, warm_start,\n",
    "                             lam_shrink, group_size, overlap_ratio,\n",
    "                             None, param1_lst, [1e0])\n",
    "df3_part2_sen = algo_df_dict_inexact_type3_part2_sensitivity['3-projectedGD-True-3.0-1.0']"
   ]
  },
  {
   "cell_type": "code",
   "execution_count": 32,
   "metadata": {},
   "outputs": [
    {
     "name": "stdout",
     "output_type": "stream",
     "text": [
      "All algorithms failed in 31 instances (failure code 2)\n",
      "Metrics for failed instances are overwritten with np.inf\n",
      "After subsetting, 101 instances are kept.\n",
      "1-projectedGD-True-1e-12-empty Win:79 | Lose:22\n",
      "All algorithms failed in 31 instances (failure code 2)\n",
      "Metrics for failed instances are overwritten with np.inf\n",
      "After subsetting, 101 instances are kept.\n",
      "1-projectedGD-True-1e-12-empty Win:73 | Lose:28\n",
      "All algorithms failed in 31 instances (failure code 2)\n",
      "Metrics for failed instances are overwritten with np.inf\n",
      "After subsetting, 101 instances are kept.\n",
      "1-projectedGD-True-1e-12-empty Win:56 | Lose:45\n",
      "All algorithms failed in 31 instances (failure code 2)\n",
      "Metrics for failed instances are overwritten with np.inf\n",
      "After subsetting, 101 instances are kept.\n",
      "1-projectedGD-True-1e-12-empty Win:49 | Lose:52\n",
      "All algorithms failed in 20 instances (failure code 2)\n",
      "Metrics for failed instances are overwritten with np.inf\n",
      "After subsetting, 112 instances are kept.\n",
      "1-projectedGD-True-1e-12-empty Win:19 | Lose:93\n",
      "All algorithms failed in 14 instances (failure code 2)\n",
      "Metrics for failed instances are overwritten with np.inf\n",
      "After subsetting, 118 instances are kept.\n",
      "1-projectedGD-True-1e-12-empty Win:13 | Lose:105\n",
      "All algorithms failed in 13 instances (failure code 2)\n",
      "Metrics for failed instances are overwritten with np.inf\n",
      "After subsetting, 119 instances are kept.\n",
      "1-projectedGD-True-1e-12-empty Win:13 | Lose:106\n"
     ]
    },
    {
     "data": {
      "image/png": "[encoded data removed]",
      "text/plain": [
       "<Figure size 432x288 with 1 Axes>"
      ]
     },
     "metadata": {
      "needs_background": "light"
     },
     "output_type": "display_data"
    },
    {
     "data": {
      "image/png": "[encoded data removed]",
      "text/plain": [
       "<Figure size 432x288 with 1 Axes>"
      ]
     },
     "metadata": {
      "needs_background": "light"
     },
     "output_type": "display_data"
    },
    {
     "data": {
      "image/png": "[encoded data removed]",
      "text/plain": [
       "<Figure size 432x288 with 1 Axes>"
      ]
     },
     "metadata": {
      "needs_background": "light"
     },
     "output_type": "display_data"
    },
    {
     "data": {
      "image/png": "[encoded data removed]",
      "text/plain": [
       "<Figure size 432x288 with 1 Axes>"
      ]
     },
     "metadata": {
      "needs_background": "light"
     },
     "output_type": "display_data"
    },
    {
     "data": {
      "image/png": "[encoded data removed]",
      "text/plain": [
       "<Figure size 432x288 with 1 Axes>"
      ]
     },
     "metadata": {
      "needs_background": "light"
     },
     "output_type": "display_data"
    },
    {
     "data": {
      "image/png": "[encoded data removed]",
      "text/plain": [
       "<Figure size 432x288 with 1 Axes>"
      ]
     },
     "metadata": {
      "needs_background": "light"
     },
     "output_type": "display_data"
    },
    {
     "data": {
      "image/png": "[encoded data removed]",
      "text/plain": [
       "<Figure size 432x288 with 1 Axes>"
      ]
     },
     "metadata": {
      "needs_background": "light"
     },
     "output_type": "display_data"
    }
   ],
   "source": [
    "for c in [1e0, 1e1, 1e2, 1e3, 1e4, 1e5, 1e6]:\n",
    "    final = {}\n",
    "    final[inexact_type1_best] = df1\n",
    "    type3_sensitivity = f'3-projectedGD-True-3.0-{c}'\n",
    "    df3_part1 = algo_df_dict_inexact_type3_part1[type3_sensitivity]\n",
    "    df3_part2 = algo_df_dict_inexact_type3_part2[inexact_type3_best]\n",
    "    if c <= 1e3:\n",
    "        df3 = pd.concat([df3_part1, df3_part2_sen])\n",
    "    else:\n",
    "        df3 = pd.concat([df3_part1, df3_part2])\n",
    "    final[type3_sensitivity] = df3\n",
    "    ppf = PerformanceProfile(final, failcode=2)\n",
    "    ppf.get_subset_by_time(threshold=1, remove_failed=True)\n",
    "    _ = ppf.plot(column='time',show_num=False, options={'ratio_max':8}, save=True, saveDir='./latentOG/sensitivity', labels=['option I\\ \\ \\ \\ \\ \\ \\ \\ \\ ', f'option III-{c:1.0e}'])"
   ]
  },
  {
   "cell_type": "code",
   "execution_count": null,
   "metadata": {},
   "outputs": [],
   "source": []
  }
 ],
 "metadata": {
  "interpreter": {
   "hash": "6145dc6f00c22d3ede2ee05e781a2635223215613d4a1d08b74a51516cd2f72d"
  },
  "kernelspec": {
   "display_name": "Python 3",
   "language": "python",
   "name": "python3"
  },
  "language_info": {
   "codemirror_mode": {
    "name": "ipython",
    "version": 3
   },
   "file_extension": ".py",
   "mimetype": "text/x-python",
   "name": "python",
   "nbconvert_exporter": "python",
   "pygments_lexer": "ipython3",
   "version": "3.7.7"
  },
  "metadata": {
   "interpreter": {
    "hash": "6145dc6f00c22d3ede2ee05e781a2635223215613d4a1d08b74a51516cd2f72d"
   }
  }
 },
 "nbformat": 4,
 "nbformat_minor": 4
}
