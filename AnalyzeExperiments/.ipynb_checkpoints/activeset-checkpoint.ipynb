{
 "cells": [
  {
   "cell_type": "code",
   "execution_count": 1,
   "metadata": {
    "execution": {
     "iopub.execute_input": "2021-10-02T00:24:06.420716Z",
     "iopub.status.busy": "2021-10-02T00:24:06.419383Z",
     "iopub.status.idle": "2021-10-02T00:24:07.929170Z",
     "shell.execute_reply": "2021-10-02T00:24:07.928220Z",
     "shell.execute_reply.started": "2021-10-02T00:24:06.420586Z"
    }
   },
   "outputs": [],
   "source": [
    "import os\n",
    "import sys\n",
    "sys.path.append(\"../\")\n",
    "from scipy.io import savemat, loadmat\n",
    "from IPG.src.lossfunction import LogisticLoss\n",
    "from IPG.src.regularizer import NatOG\n",
    "from IPG.src.solver import IpgSolver\n",
    "import IPG.src.utils as utils\n",
    "from IPG.src.params import *\n",
    "import yaml\n",
    "import numpy as np"
   ]
  },
  {
   "cell_type": "code",
   "execution_count": 2,
   "metadata": {
    "execution": {
     "iopub.execute_input": "2021-10-02T00:24:08.451324Z",
     "iopub.status.busy": "2021-10-02T00:24:08.450946Z",
     "iopub.status.idle": "2021-10-02T00:24:08.472956Z",
     "shell.execute_reply": "2021-10-02T00:24:08.471599Z",
     "shell.execute_reply.started": "2021-10-02T00:24:08.451284Z"
    }
   },
   "outputs": [],
   "source": [
    "def main(lam_shrink = 0.1, datasetName = 'a9a', dbDir = '../../GroupFaRSA/db', grp_size = 10, \n",
    "    overlap_ratio = 0.2):\n",
    "    loss = 'logit'\n",
    "    fileType = fileTypeDict[datasetName]\n",
    "    print(\"Working on: {}...\".format(datasetName))\n",
    "    X, y = utils.set_up_xy(datasetName, fileType, dbDir)\n",
    "    if loss == 'logit':\n",
    "        f = LogisticLoss(X, y, datasetName)\n",
    "    p = X.shape[1]\n",
    "    grp_size = min(p // 2, grp_size)\n",
    "    generator = utils.GenOverlapGroup(\n",
    "        p, grp_size=grp_size, overlap_ratio=overlap_ratio)\n",
    "    groups, starts, ends = generator.get_group()\n",
    "\n",
    "    lammax_path = f'{dbDir}/lammax-{datasetName}-{grp_size}-{overlap_ratio}.mat'\n",
    "    if os.path.exists(lammax_path):\n",
    "        lammax = loadmat(lammax_path)[\"lammax\"][0][0]\n",
    "        print(f\"loading lammax from: {lammax_path}\")\n",
    "    else:\n",
    "        lammax = utils.lam_max(X, y, starts, ends, loss)\n",
    "        savemat(lammax_path, {\"lammax\": lammax})\n",
    "        print(f\"save lammax to: {lammax_path}\")\n",
    "\n",
    "    r = NatOG(penalty=lammax * lam_shrink, groups=groups, weights=None)\n",
    "\n",
    "\n",
    "    alpha_init = 1.0\n",
    "\n",
    "    print(f\"Lambda use:{lammax * lam_shrink} | overlap ratio:{overlap_ratio} | group size:{grp_size}\")\n",
    "    print(\"Inexact subprobsolve: schimdt\")\n",
    "    with open('../IPG/src/config.yaml', \"r\") as stream:\n",
    "        config = yaml.load(stream, Loader=yaml.SafeLoader)\n",
    "    config['mainsolver']['exact_pg_computation'] = False\n",
    "    config['mainsolver']['inexact_pg_computation'] = 'schimdt'\n",
    "    config['inexactpg']['schimdt']['c'] = 1e3\n",
    "    solver = IpgSolver(f, r, config)\n",
    "    info_schimdt = solver.solve(alpha_init=alpha_init, save_ckpt=False)\n",
    "\n",
    "    print(\"Inexact subprobsolve: lee\")\n",
    "    with open('../IPG/src/config.yaml', \"r\") as stream:\n",
    "        config = yaml.load(stream, Loader=yaml.SafeLoader)\n",
    "    config['mainsolver']['exact_pg_computation'] = False\n",
    "    config['mainsolver']['inexact_pg_computation'] = 'lee'\n",
    "    config['inexactpg']['lee']['gamma'] = 0.5\n",
    "    solver = IpgSolver(f, r, config)\n",
    "    info_lee = solver.solve(alpha_init=alpha_init,  save_ckpt=False)\n",
    "\n",
    "    print(\"Inexact subprobsolve: yd\")\n",
    "    with open('../IPG/src/config.yaml', \"r\") as stream:\n",
    "        config = yaml.load(stream, Loader=yaml.SafeLoader)\n",
    "    config['mainsolver']['exact_pg_computation'] = False\n",
    "    config['mainsolver']['inexact_pg_computation'] = 'yd'\n",
    "    config['inexactpg']['yd']['gamma'] = 0.1    \n",
    "    solver = IpgSolver(f, r, config)\n",
    "    info_yd = solver.solve(alpha_init=alpha_init,  save_ckpt=False)\n",
    "    print(f\"Yd-      #nz:{info_yd['nz']}/#nnz:{info_yd['nnz']}\\nlee-     #nz:{info_lee['nz']}/#nnz:{info_lee['nnz']}\\nschimdt- #nz:{info_schimdt['nz']}/#nnz:{info_schimdt['nnz']}\")\n",
    "    return info_schimdt, info_lee, info_yd"
   ]
  },
  {
   "cell_type": "markdown",
   "metadata": {},
   "source": [
    "# a9a dataset"
   ]
  },
  {
   "cell_type": "code",
   "execution_count": 4,
   "metadata": {
    "execution": {
     "iopub.execute_input": "2021-10-02T00:24:43.328396Z",
     "iopub.status.busy": "2021-10-02T00:24:43.328114Z",
     "iopub.status.idle": "2021-10-02T00:24:44.984991Z",
     "shell.execute_reply": "2021-10-02T00:24:44.984087Z",
     "shell.execute_reply.started": "2021-10-02T00:24:43.328357Z"
    }
   },
   "outputs": [
    {
     "name": "stdout",
     "output_type": "stream",
     "text": [
      "Working on: a9a...\n",
      "loading lammax from: ../../GroupFaRSA/db/lammax-a9a-10-0.2.mat\n",
      "Lambda use:0.06729056227972936 | overlap ratio:0.2 | group size:10\n",
      "Inexact subprobsolve: schimdt\n",
      "\n",
      "==============================\n",
      "Exit: Optimal Solution Found\n",
      "\n",
      "Inexact subprobsolve: lee\n",
      "\n",
      "==============================\n",
      "Exit: Optimal Solution Found\n",
      "\n",
      "Inexact subprobsolve: yd\n",
      "\n",
      "==============================\n",
      "Exit: Optimal Solution Found\n",
      "\n",
      "Yd-      #nz:14/#nnz:2\n",
      "lee-     #nz:14/#nnz:2\n",
      "schimdt- #nz:14/#nnz:2\n"
     ]
    }
   ],
   "source": [
    "info_schimdt, info_lee, info_yd = main(lam_shrink = 0.5, datasetName = 'a9a', dbDir = '../../GroupFaRSA/db')"
   ]
  },
  {
   "cell_type": "code",
   "execution_count": 3,
   "metadata": {
    "execution": {
     "iopub.execute_input": "2021-10-02T00:24:09.808105Z",
     "iopub.status.busy": "2021-10-02T00:24:09.807739Z",
     "iopub.status.idle": "2021-10-02T00:24:15.080288Z",
     "shell.execute_reply": "2021-10-02T00:24:15.079222Z",
     "shell.execute_reply.started": "2021-10-02T00:24:09.808073Z"
    }
   },
   "outputs": [
    {
     "name": "stdout",
     "output_type": "stream",
     "text": [
      "Working on: a9a...\n",
      "loading lammax from: ../../GroupFaRSA/db/lammax-a9a-10-0.2.mat\n",
      "Lambda use:0.013458112455945873 | overlap ratio:0.2 | group size:10\n",
      "Inexact subprobsolve: schimdt\n",
      "\n",
      "==============================\n",
      "Exit: Optimal Solution Found\n",
      "\n",
      "Inexact subprobsolve: lee\n",
      "\n",
      "==============================\n",
      "Exit: Optimal Solution Found\n",
      "\n",
      "Inexact subprobsolve: yd\n",
      "\n",
      "==============================\n",
      "Exit: Optimal Solution Found\n",
      "\n",
      "Yd-      #nz:11/#nnz:5\n",
      "lee-     #nz:11/#nnz:5\n",
      "schimdt- #nz:11/#nnz:5\n"
     ]
    }
   ],
   "source": [
    "info_schimdt, info_lee, info_yd = main(lam_shrink = 0.1, datasetName = 'a9a', dbDir = '../../GroupFaRSA/db')"
   ]
  },
  {
   "cell_type": "code",
   "execution_count": 6,
   "metadata": {
    "execution": {
     "iopub.execute_input": "2021-10-02T00:25:11.117156Z",
     "iopub.status.busy": "2021-10-02T00:25:11.116852Z",
     "iopub.status.idle": "2021-10-02T00:25:39.933117Z",
     "shell.execute_reply": "2021-10-02T00:25:39.932209Z",
     "shell.execute_reply.started": "2021-10-02T00:25:11.117118Z"
    }
   },
   "outputs": [
    {
     "name": "stdout",
     "output_type": "stream",
     "text": [
      "Working on: a9a...\n",
      "loading lammax from: ../../GroupFaRSA/db/lammax-a9a-10-0.2.mat\n",
      "Lambda use:0.0013458112455945873 | overlap ratio:0.2 | group size:10\n",
      "Inexact subprobsolve: schimdt\n",
      "\n",
      "==============================\n",
      "Exit: Optimal Solution Found\n",
      "\n",
      "Inexact subprobsolve: lee\n",
      "\n",
      "==============================\n",
      "Exit: Optimal Solution Found\n",
      "\n",
      "Inexact subprobsolve: yd\n",
      "\n",
      "==============================\n",
      "Exit: Optimal Solution Found\n",
      "\n",
      "Yd-      #nz:8/#nnz:8\n",
      "lee-     #nz:8/#nnz:8\n",
      "schimdt- #nz:8/#nnz:8\n"
     ]
    }
   ],
   "source": [
    "info_schimdt, info_lee, info_yd = main(lam_shrink = 0.01, datasetName = 'a9a', dbDir = '../../GroupFaRSA/db')"
   ]
  },
  {
   "cell_type": "markdown",
   "metadata": {},
   "source": [
    "# colon-cancer dataset"
   ]
  },
  {
   "cell_type": "code",
   "execution_count": 10,
   "metadata": {
    "execution": {
     "iopub.execute_input": "2021-10-02T00:33:00.501232Z",
     "iopub.status.busy": "2021-10-02T00:33:00.500905Z",
     "iopub.status.idle": "2021-10-02T00:33:07.129082Z",
     "shell.execute_reply": "2021-10-02T00:33:07.128152Z",
     "shell.execute_reply.started": "2021-10-02T00:33:00.501193Z"
    }
   },
   "outputs": [
    {
     "name": "stdout",
     "output_type": "stream",
     "text": [
      "Working on: colon_cancer...\n",
      "loading lammax from: ../../GroupFaRSA/db/lammax-colon_cancer-10-0.1.mat\n",
      "Lambda use:0.08875471937724845 | overlap ratio:0.1 | group size:10\n",
      "Inexact subprobsolve: schimdt\n",
      "\n",
      "==============================\n",
      "Exit: Optimal Solution Found\n",
      "\n",
      "Inexact subprobsolve: lee\n",
      "\n",
      "==============================\n",
      "Exit: Optimal Solution Found\n",
      "\n",
      "Inexact subprobsolve: yd\n",
      "\n",
      "==============================\n",
      "Exit: Optimal Solution Found\n",
      "\n",
      "Yd-      #nz:217/#nnz:6\n",
      "lee-     #nz:217/#nnz:6\n",
      "schimdt- #nz:217/#nnz:6\n"
     ]
    }
   ],
   "source": [
    "info_schimdt, info_lee, info_yd = main(lam_shrink = 0.5, datasetName = 'colon_cancer', dbDir = '../../GroupFaRSA/db', grp_size = 10, overlap_ratio = 0.1)"
   ]
  },
  {
   "cell_type": "code",
   "execution_count": 8,
   "metadata": {
    "execution": {
     "iopub.execute_input": "2021-10-02T00:31:35.989226Z",
     "iopub.status.busy": "2021-10-02T00:31:35.988909Z",
     "iopub.status.idle": "2021-10-02T00:31:51.418372Z",
     "shell.execute_reply": "2021-10-02T00:31:51.417342Z",
     "shell.execute_reply.started": "2021-10-02T00:31:35.989198Z"
    }
   },
   "outputs": [
    {
     "name": "stdout",
     "output_type": "stream",
     "text": [
      "Working on: colon_cancer...\n",
      "loading lammax from: ../../GroupFaRSA/db/lammax-colon_cancer-10-0.1.mat\n",
      "Lambda use:0.01775094387544969 | overlap ratio:0.1 | group size:10\n",
      "Inexact subprobsolve: schimdt\n",
      "\n",
      "==============================\n",
      "Exit: Optimal Solution Found\n",
      "\n",
      "Inexact subprobsolve: lee\n",
      "\n",
      "==============================\n",
      "Exit: Optimal Solution Found\n",
      "\n",
      "Inexact subprobsolve: yd\n",
      "\n",
      "==============================\n",
      "Exit: Optimal Solution Found\n",
      "\n",
      "Yd-      #nz:213/#nnz:10\n",
      "lee-     #nz:213/#nnz:10\n",
      "schimdt- #nz:213/#nnz:10\n"
     ]
    }
   ],
   "source": [
    "info_schimdt, info_lee, info_yd = main(lam_shrink = 0.1, datasetName = 'colon_cancer', dbDir = '../../GroupFaRSA/db', grp_size = 10, overlap_ratio = 0.1)"
   ]
  },
  {
   "cell_type": "code",
   "execution_count": 11,
   "metadata": {
    "execution": {
     "iopub.execute_input": "2021-10-02T00:33:41.825225Z",
     "iopub.status.busy": "2021-10-02T00:33:41.824826Z",
     "iopub.status.idle": "2021-10-02T00:34:55.217291Z",
     "shell.execute_reply": "2021-10-02T00:34:55.216366Z",
     "shell.execute_reply.started": "2021-10-02T00:33:41.825172Z"
    }
   },
   "outputs": [
    {
     "name": "stdout",
     "output_type": "stream",
     "text": [
      "Working on: colon_cancer...\n",
      "loading lammax from: ../../GroupFaRSA/db/lammax-colon_cancer-10-0.1.mat\n",
      "Lambda use:0.001775094387544969 | overlap ratio:0.1 | group size:10\n",
      "Inexact subprobsolve: schimdt\n",
      "\n",
      "==============================\n",
      "Exit: Optimal Solution Found\n",
      "\n",
      "Inexact subprobsolve: lee\n",
      "\n",
      "==============================\n",
      "Exit: Optimal Solution Found\n",
      "\n",
      "Inexact subprobsolve: yd\n",
      "\n",
      "==============================\n",
      "Exit: Optimal Solution Found\n",
      "\n",
      "Yd-      #nz:201/#nnz:22\n",
      "lee-     #nz:201/#nnz:22\n",
      "schimdt- #nz:201/#nnz:22\n"
     ]
    }
   ],
   "source": [
    "info_schimdt, info_lee, info_yd = main(lam_shrink = 0.01, datasetName = 'colon_cancer', dbDir = '../../GroupFaRSA/db', grp_size = 10, overlap_ratio = 0.1)"
   ]
  },
  {
   "cell_type": "code",
   "execution_count": null,
   "metadata": {},
   "outputs": [],
   "source": []
  }
 ],
 "metadata": {
  "kernelspec": {
   "display_name": "Python 3",
   "language": "python",
   "name": "python3"
  },
  "language_info": {
   "codemirror_mode": {
    "name": "ipython",
    "version": 3
   },
   "file_extension": ".py",
   "mimetype": "text/x-python",
   "name": "python",
   "nbconvert_exporter": "python",
   "pygments_lexer": "ipython3",
   "version": "3.7.10"
  }
 },
 "nbformat": 4,
 "nbformat_minor": 4
}
