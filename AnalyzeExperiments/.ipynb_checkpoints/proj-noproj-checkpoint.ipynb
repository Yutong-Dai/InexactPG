{
 "cells": [
  {
   "cell_type": "code",
   "execution_count": 1,
   "metadata": {
    "execution": {
     "iopub.execute_input": "2021-10-02T01:40:46.669638Z",
     "iopub.status.busy": "2021-10-02T01:40:46.669334Z",
     "iopub.status.idle": "2021-10-02T01:40:49.869276Z",
     "shell.execute_reply": "2021-10-02T01:40:49.868251Z",
     "shell.execute_reply.started": "2021-10-02T01:40:46.669551Z"
    }
   },
   "outputs": [],
   "source": [
    "import os\n",
    "import sys\n",
    "sys.path.append(\"../\")\n",
    "from scipy.io import savemat, loadmat\n",
    "from IPG.src.lossfunction import LogisticLoss\n",
    "from IPG.src.regularizer_noidentification import NatOG as NatOGNO\n",
    "from IPG.src.regularizer import NatOG\n",
    "from IPG.src.solver import IpgSolver\n",
    "import IPG.src.utils as utils\n",
    "from IPG.src.params import *\n",
    "import yaml\n",
    "import numpy as np"
   ]
  },
  {
   "cell_type": "code",
   "execution_count": 2,
   "metadata": {
    "execution": {
     "iopub.execute_input": "2021-10-02T01:40:49.870946Z",
     "iopub.status.busy": "2021-10-02T01:40:49.870731Z",
     "iopub.status.idle": "2021-10-02T01:40:49.887551Z",
     "shell.execute_reply": "2021-10-02T01:40:49.886174Z",
     "shell.execute_reply.started": "2021-10-02T01:40:49.870920Z"
    }
   },
   "outputs": [],
   "source": [
    "def main(lam_shrink = 0.1, datasetName = 'a9a', dbDir = '../../GroupFaRSA/db', grp_size = 10, overlap_ratio = 0.1):\n",
    "    loss = 'logit'\n",
    "    fileType = fileTypeDict[datasetName]\n",
    "    print(\"Working on: {}...\".format(datasetName))\n",
    "    X, y = utils.set_up_xy(datasetName, fileType, dbDir)\n",
    "    if loss == 'logit':\n",
    "        f = LogisticLoss(X, y, datasetName)\n",
    "    p = X.shape[1]\n",
    "    grp_size = min(p // 2, grp_size)\n",
    "    generator = utils.GenOverlapGroup(\n",
    "        p, grp_size=grp_size, overlap_ratio=overlap_ratio)\n",
    "    groups, starts, ends = generator.get_group()\n",
    "\n",
    "    lammax_path = f'{dbDir}/lammax-{datasetName}-{grp_size}-{overlap_ratio}.mat'\n",
    "    if os.path.exists(lammax_path):\n",
    "        lammax = loadmat(lammax_path)[\"lammax\"][0][0]\n",
    "        print(f\"loading lammax from: {lammax_path}\")\n",
    "    else:\n",
    "        lammax = utils.lam_max(X, y, starts, ends, loss)\n",
    "        savemat(lammax_path, {\"lammax\": lammax})\n",
    "        print(f\"save lammax to: {lammax_path}\")\n",
    "\n",
    "    r = NatOG(penalty=lammax * lam_shrink, groups=groups, weights=None)\n",
    "    rno = NatOGNO(penalty=lammax * lam_shrink, groups=groups, weights=None)\n",
    "    \n",
    "    alpha_init = 1.0\n",
    "    print(f\"Lambda use:{lammax * lam_shrink} | overlap ratio:{overlap_ratio} | group size:{grp_size}\")\n",
    "    print(\"Inexact subprobsolve: yd\")\n",
    "    with open('../IPG/src/config.yaml', \"r\") as stream:\n",
    "        config = yaml.load(stream, Loader=yaml.SafeLoader)\n",
    "    config['mainsolver']['exact_pg_computation'] = False\n",
    "    config['mainsolver']['inexact_pg_computation'] = 'yd'\n",
    "    config['inexactpg']['yd']['gamma'] = 0.1    \n",
    "\n",
    "    solver = IpgSolver(f, r, config)\n",
    "    info_yd = solver.solve(alpha_init=alpha_init,  save_ckpt=False)\n",
    "    print(f\"Yd with id:    #nz:{info_yd['nz']:5d}/#nnz:{info_yd['nnz']:5d}/F:{info_yd['F']:.6e}\")\n",
    "    solver_no = IpgSolver(f, rno, config)\n",
    "    info_yd_no = solver_no.solve(alpha_init=alpha_init,  save_ckpt=False)\n",
    "    print(f\"Yd Without id: #nz:{info_yd_no['nz']:5d}/#nnz:{info_yd_no['nnz']:5d}/F:{info_yd_no['F']:.6e}\")\n",
    "    result = {\"lambda_shrink\":{lam_shrink}, \"lambda\":lammax * lam_shrink, \n",
    "              \"grp_size\":grp_size, \"overlap_ratio\":overlap_ratio,\n",
    "              \"id\": {\"nz\":info_yd['nz'], \"nnz\":info_yd['nnz'] , \"F\":info_yd['F']},\n",
    "              \"noid\": {\"nz\":info_yd_no['nz'], \"nnz\":info_yd_no['nnz'] , \"F\":info_yd_no['F']},\n",
    "             }\n",
    "    np.save(\"projnoproj_ckpt/{}_info.npy\".format(datasetName), result)\n",
    "    return result"
   ]
  },
  {
   "cell_type": "code",
   "execution_count": 4,
   "metadata": {
    "execution": {
     "iopub.execute_input": "2021-10-02T01:41:09.649694Z",
     "iopub.status.busy": "2021-10-02T01:41:09.649349Z",
     "iopub.status.idle": "2021-10-02T01:41:16.314589Z",
     "shell.execute_reply": "2021-10-02T01:41:16.313788Z",
     "shell.execute_reply.started": "2021-10-02T01:41:09.649654Z"
    }
   },
   "outputs": [
    {
     "name": "stdout",
     "output_type": "stream",
     "text": [
      "Working on: a9a...\n",
      "loading lammax from: ../../GroupFaRSA/db/lammax-a9a-10-0.1.mat\n",
      "Lambda use:0.013458112455945873 | overlap ratio:0.1 | group size:10\n",
      "Inexact subprobsolve: yd\n",
      "\n",
      "==============================\n",
      "Exit: Optimal Solution Found\n",
      "\n",
      "Yd with id:    #nz:   12/#nnz:    2/F:5.083373e-01\n",
      "\n",
      "==============================\n",
      "Exit: Early stoppiong. (2 correction steps cap reached).\n",
      "\n",
      "Yd Without id: #nz:    0/#nnz:   14/F:5.083373e-01\n"
     ]
    }
   ],
   "source": [
    "result = main(lam_shrink = 0.1, datasetName = 'a9a', dbDir = '../../GroupFaRSA/db', grp_size = 10, overlap_ratio = 0.1)"
   ]
  },
  {
   "cell_type": "code",
   "execution_count": 7,
   "metadata": {
    "execution": {
     "iopub.execute_input": "2021-10-02T01:38:59.424759Z",
     "iopub.status.busy": "2021-10-02T01:38:59.424408Z",
     "iopub.status.idle": "2021-10-02T01:39:33.040976Z",
     "shell.execute_reply": "2021-10-02T01:39:33.040148Z",
     "shell.execute_reply.started": "2021-10-02T01:38:59.424715Z"
    }
   },
   "outputs": [
    {
     "name": "stdout",
     "output_type": "stream",
     "text": [
      "Working on: colon_cancer...\n",
      "loading lammax from: ../../GroupFaRSA/db/lammax-colon_cancer-10-0.1.mat\n",
      "Lambda use:0.01775094387544969 | overlap ratio:0.1 | group size:10\n",
      "Inexact subprobsolve: yd\n",
      "\n",
      "==============================\n",
      "Exit: Optimal Solution Found\n",
      "\n",
      "Yd with id:    #nz:  213/#nnz:   10/F:3.362699e-01\n",
      "\n",
      "==============================\n",
      "Exit: Early stoppiong. (2 correction steps cap reached).\n",
      "\n",
      "Yd Without id: #nz:    1/#nnz:  222/F:3.362699e-01\n"
     ]
    }
   ],
   "source": [
    "result = main(lam_shrink = 0.1, datasetName = 'colon_cancer', dbDir = '../../GroupFaRSA/db', grp_size = 10, overlap_ratio = 0.1)"
   ]
  },
  {
   "cell_type": "code",
   "execution_count": null,
   "metadata": {},
   "outputs": [],
   "source": [
    "result = main(lam_shrink = 0.1, datasetName = 'duke', dbDir = '../../GroupFaRSA/db', grp_size = 10, overlap_ratio = 0.1)"
   ]
  },
  {
   "cell_type": "code",
   "execution_count": 4,
   "metadata": {
    "execution": {
     "iopub.execute_input": "2021-10-02T01:37:01.789598Z",
     "iopub.status.busy": "2021-10-02T01:37:01.789286Z",
     "iopub.status.idle": "2021-10-02T01:37:14.677813Z",
     "shell.execute_reply": "2021-10-02T01:37:14.677093Z",
     "shell.execute_reply.started": "2021-10-02T01:37:01.789555Z"
    }
   },
   "outputs": [
    {
     "name": "stdout",
     "output_type": "stream",
     "text": [
      "Working on: w8a...\n",
      "loading lammax from: ../../GroupFaRSA/db/lammax-w8a-10-0.1.mat\n",
      "Lambda use:0.006686974129108611 | overlap ratio:0.1 | group size:10\n",
      "Inexact subprobsolve: yd\n",
      "\n",
      "==============================\n",
      "Exit: Optimal Solution Found\n",
      "\n",
      "Yd with id:    #nz:   24/#nnz:   10/F:4.290289e-01\n",
      "\n",
      "==============================\n",
      "Exit: Early stoppiong. (2 correction steps cap reached).\n",
      "\n",
      "Yd Without id: #nz:    0/#nnz:   34/F:4.290289e-01\n"
     ]
    }
   ],
   "source": [
    "result = main(lam_shrink = 0.1, datasetName = 'w8a', dbDir = '../../GroupFaRSA/db', grp_size = 10, overlap_ratio = 0.1)"
   ]
  },
  {
   "cell_type": "code",
   "execution_count": 5,
   "metadata": {
    "execution": {
     "iopub.execute_input": "2021-10-02T01:37:55.002786Z",
     "iopub.status.busy": "2021-10-02T01:37:55.002460Z",
     "iopub.status.idle": "2021-10-02T01:37:55.019933Z",
     "shell.execute_reply": "2021-10-02T01:37:55.018954Z",
     "shell.execute_reply.started": "2021-10-02T01:37:55.002737Z"
    }
   },
   "outputs": [
    {
     "data": {
      "text/plain": [
       "{'lambda_shrink': {0.1},\n",
       " 'lambda': 0.006686974129108611,\n",
       " 'grp_size': 10,\n",
       " 'overlap_ratio': 0.1,\n",
       " 'id': {'nz': 24, 'nnz': 10, 'F': 0.4290289109838439},\n",
       " 'noid': {'nz': 0, 'nnz': 34, 'F': 0.42902891100442325}}"
      ]
     },
     "execution_count": 5,
     "metadata": {},
     "output_type": "execute_result"
    }
   ],
   "source": [
    "np.load(\"projnoproj_ckpt/w8a_info.npy\", allow_pickle=True).item()"
   ]
  },
  {
   "cell_type": "code",
   "execution_count": null,
   "metadata": {},
   "outputs": [],
   "source": []
  },
  {
   "cell_type": "code",
   "execution_count": null,
   "metadata": {},
   "outputs": [],
   "source": []
  },
  {
   "cell_type": "code",
   "execution_count": null,
   "metadata": {},
   "outputs": [],
   "source": []
  },
  {
   "cell_type": "code",
   "execution_count": null,
   "metadata": {},
   "outputs": [],
   "source": [
    "# datasetName = 'w8a'\n",
    "# lam_shrink = 0.1;  dbDir = '../../GroupFaRSA/db'; grp_size = 10; overlap_ratio = 0.1\n",
    "# loss = 'logit'\n",
    "# fileType = fileTypeDict[datasetName]\n",
    "# print(\"Working on: {}...\".format(datasetName))\n",
    "# X, y = utils.set_up_xy(datasetName, fileType, dbDir)\n",
    "# if loss == 'logit':\n",
    "#     f = LogisticLoss(X, y, datasetName)\n",
    "# p = X.shape[1]\n",
    "# grp_size = min(p // 2, grp_size)\n",
    "# generator = utils.GenOverlapGroup(\n",
    "#     p, grp_size=grp_size, overlap_ratio=overlap_ratio)\n",
    "# groups, starts, ends = generator.get_group()\n",
    "\n",
    "# lammax_path = f'{dbDir}/lammax-{datasetName}-{grp_size}-{overlap_ratio}.mat'\n",
    "# if os.path.exists(lammax_path):\n",
    "#     lammax = loadmat(lammax_path)[\"lammax\"][0][0]\n",
    "#     print(f\"loading lammax from: {lammax_path}\")\n",
    "# else:\n",
    "#     lammax = utils.lam_max(X, y, starts, ends, loss)\n",
    "#     savemat(lammax_path, {\"lammax\": lammax})\n",
    "#     print(f\"save lammax to: {lammax_path}\")\n",
    "\n",
    "# r = NatOG(penalty=lammax * lam_shrink, groups=groups, weights=None)\n",
    "# rno = NatOGNO(penalty=lammax * lam_shrink, groups=groups, weights=None)\n",
    "\n",
    "# alpha_init = 1.0\n",
    "\n",
    "# print(f\"Lambda use:{lammax * lam_shrink} | overlap ratio:{overlap_ratio} | group size:{grp_size}\")\n",
    "\n",
    "# print(\"Inexact subprobsolve: yd\")\n",
    "# with open('../IPG/src/config.yaml', \"r\") as stream:\n",
    "#     config = yaml.load(stream, Loader=yaml.SafeLoader)\n",
    "# config['mainsolver']['exact_pg_computation'] = False\n",
    "# config['mainsolver']['inexact_pg_computation'] = 'yd'\n",
    "# config['inexactpg']['yd']['gamma'] = 0.1    \n",
    "\n",
    "# solver = IpgSolver(f, r, config)\n",
    "# info_yd = solver.solve(alpha_init=alpha_init,  save_ckpt=False)\n",
    "\n",
    "# solver_no = IpgSolver(f, rno, config)\n",
    "# info_yd_no = solver_no.solve(alpha_init=alpha_init,  save_ckpt=False)\n",
    "\n",
    "# print(f\"Yd with id:    #nz:{info_yd['nz']:5d}/#nnz:{info_yd['nnz']:5d}/F:{info_yd['F']:.6e}\\n   Without id: #nz:{info_yd_no['nz']:5d}/#nnz:{info_yd_no['nnz']:5d}/F:{info_yd_no['F']:.6e}\")"
   ]
  }
 ],
 "metadata": {
  "kernelspec": {
   "display_name": "Python 3",
   "language": "python",
   "name": "python3"
  },
  "language_info": {
   "codemirror_mode": {
    "name": "ipython",
    "version": 3
   },
   "file_extension": ".py",
   "mimetype": "text/x-python",
   "name": "python",
   "nbconvert_exporter": "python",
   "pygments_lexer": "ipython3",
   "version": "3.7.10"
  }
 },
 "nbformat": 4,
 "nbformat_minor": 4
}
