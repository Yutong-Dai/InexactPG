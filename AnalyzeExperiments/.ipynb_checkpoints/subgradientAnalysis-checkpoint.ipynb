{
 "cells": [
  {
   "cell_type": "code",
   "execution_count": 1,
   "metadata": {},
   "outputs": [
    {
     "data": {
      "text/plain": [
       "{'divide': 'warn', 'over': 'warn', 'under': 'ignore', 'invalid': 'warn'}"
      ]
     },
     "execution_count": 1,
     "metadata": {},
     "output_type": "execute_result"
    }
   ],
   "source": [
    "import pandas as pd\n",
    "import numpy as np\n",
    "from plotutils import *\n",
    "np.seterr(all='raise')\n",
    "# from copy import deepcopy"
   ]
  },
  {
   "cell_type": "markdown",
   "metadata": {},
   "source": [
    "# logit"
   ]
  },
  {
   "cell_type": "code",
   "execution_count": 2,
   "metadata": {},
   "outputs": [],
   "source": [
    "logdir='../IPG/test/log'; date='04_18_2021'; solver='naive'; loss='logit'; lam_shrink=[0.1, 0.01]; percent=[0.1, 0.2];"
   ]
  },
  {
   "cell_type": "code",
   "execution_count": 3,
   "metadata": {},
   "outputs": [
    {
     "name": "stdout",
     "output_type": "stream",
     "text": [
      "naive-1e-12-const-1000.0\n",
      " 29/44 instances terminate with status:  0\n",
      " 13/44 instances terminate with status: -2\n",
      "  2/44 instances terminate with status:  2\n",
      "naive-0.001-const-1000.0\n",
      " 28/44 instances terminate with status:  0\n",
      " 13/44 instances terminate with status: -2\n",
      "  3/44 instances terminate with status:  2\n",
      "naive-1.0-const-1000.0\n",
      " 24/44 instances terminate with status:  0\n",
      " 20/44 instances terminate with status: -2\n",
      "All algorithms failed in 13 instances\n",
      "Metrics for failed instances are overwritten with np.inf\n",
      "After subsetting, 29 instabces are kept.\n",
      "=================\n",
      "Best params: naive-0.001-const-1000.0\n"
     ]
    }
   ],
   "source": [
    "algo_df_dict_naive_const = get_all_naive(logdir, date, loss, lam_shrink, percent, safeguard='const')\n",
    "ppf = PerformanceProfile(algo_df_dict_naive_const)\n",
    "ppf.get_subset_by_time(threshold=1, remove_failed=True)\n",
    "pools = ppf.plot(column='time', show_num=True, options={'ratio_max':4}, plot=False)\n",
    "print(\"=================\")\n",
    "naive_const_best = get_best(pools)\n",
    "print('Best params:', naive_const_best)"
   ]
  },
  {
   "cell_type": "code",
   "execution_count": 4,
   "metadata": {},
   "outputs": [
    {
     "name": "stdout",
     "output_type": "stream",
     "text": [
      "naive-1e-12-laststep-0.1\n",
      " 24/44 instances terminate with status:  0\n",
      " 20/44 instances terminate with status: -2\n",
      "naive-0.001-laststep-0.1\n",
      " 24/44 instances terminate with status:  0\n",
      " 20/44 instances terminate with status: -2\n",
      "naive-1.0-laststep-0.1\n",
      " 24/44 instances terminate with status:  0\n",
      " 20/44 instances terminate with status: -2\n",
      "naive-1e-12-laststep-1.0\n",
      " 29/44 instances terminate with status:  0\n",
      " 13/44 instances terminate with status: -2\n",
      "  2/44 instances terminate with status:  2\n",
      "naive-0.001-laststep-1.0\n",
      " 29/44 instances terminate with status:  0\n",
      " 13/44 instances terminate with status: -2\n",
      "  2/44 instances terminate with status:  2\n",
      "naive-1.0-laststep-1.0\n",
      " 24/44 instances terminate with status:  0\n",
      " 20/44 instances terminate with status: -2\n",
      "naive-1e-12-laststep-10.0\n",
      " 29/44 instances terminate with status:  0\n",
      " 13/44 instances terminate with status: -2\n",
      "  2/44 instances terminate with status:  2\n",
      "naive-0.001-laststep-10.0\n",
      " 29/44 instances terminate with status:  0\n",
      " 13/44 instances terminate with status: -2\n",
      "  2/44 instances terminate with status:  2\n",
      "naive-1.0-laststep-10.0\n",
      " 24/44 instances terminate with status:  0\n",
      " 20/44 instances terminate with status: -2\n",
      "All algorithms failed in 13 instances\n",
      "Metrics for failed instances are overwritten with np.inf\n",
      "After subsetting, 30 instabces are kept.\n",
      "=================\n",
      "Best params: naive-1e-12-laststep-1.0\n"
     ]
    }
   ],
   "source": [
    "algo_df_dict_naive_laststep = get_all_naive(logdir, date, loss, lam_shrink, percent, safeguard='laststep')\n",
    "ppf = PerformanceProfile(algo_df_dict_naive_laststep)\n",
    "ppf.get_subset_by_time(threshold=1, remove_failed=True)\n",
    "pools = ppf.plot(column='time', plot=False,show_num=True, options={'ratio_max':4})\n",
    "print(\"=================\")\n",
    "naive_laststep_best = get_best(pools)\n",
    "print('Best params:', naive_laststep_best)"
   ]
  },
  {
   "cell_type": "code",
   "execution_count": 5,
   "metadata": {},
   "outputs": [
    {
     "name": "stdout",
     "output_type": "stream",
     "text": [
      "naive-1e-12-schimdt-0.1\n",
      " 23/44 instances terminate with status:  0\n",
      " 19/44 instances terminate with status: -2\n",
      "  2/44 instances terminate with status:  2\n",
      "naive-0.001-schimdt-0.1\n",
      " 23/44 instances terminate with status:  0\n",
      " 19/44 instances terminate with status: -2\n",
      "  2/44 instances terminate with status:  2\n",
      "naive-1.0-schimdt-0.1\n",
      " 22/44 instances terminate with status:  0\n",
      " 20/44 instances terminate with status: -2\n",
      "  2/44 instances terminate with status:  2\n",
      "naive-1e-12-schimdt-1.0\n",
      " 25/44 instances terminate with status:  0\n",
      " 17/44 instances terminate with status: -2\n",
      "  2/44 instances terminate with status:  2\n",
      "naive-0.001-schimdt-1.0\n",
      " 25/44 instances terminate with status:  0\n",
      " 16/44 instances terminate with status: -2\n",
      "  3/44 instances terminate with status:  2\n",
      "naive-1.0-schimdt-1.0\n",
      " 23/44 instances terminate with status:  0\n",
      " 20/44 instances terminate with status: -2\n",
      "  1/44 instances terminate with status:  2\n",
      "naive-1e-12-schimdt-10.0\n",
      " 28/44 instances terminate with status:  0\n",
      " 15/44 instances terminate with status: -2\n",
      "  1/44 instances terminate with status:  2\n",
      "naive-0.001-schimdt-10.0\n",
      " 28/44 instances terminate with status:  0\n",
      " 15/44 instances terminate with status: -2\n",
      "  1/44 instances terminate with status:  2\n",
      "naive-1.0-schimdt-10.0\n",
      " 24/44 instances terminate with status:  0\n",
      " 20/44 instances terminate with status: -2\n",
      "All algorithms failed in 15 instances\n",
      "Metrics for failed instances are overwritten with np.inf\n",
      "After subsetting, 27 instabces are kept.\n",
      "=================\n",
      "Best params: naive-1e-12-schimdt-10.0\n"
     ]
    }
   ],
   "source": [
    "algo_df_dict_naive_schimdt = get_all_naive(logdir, date, loss, lam_shrink, percent, safeguard='schimdt')\n",
    "ppf = PerformanceProfile(algo_df_dict_naive_schimdt)\n",
    "ppf.get_subset_by_time(threshold=1, remove_failed=True)\n",
    "pools = ppf.plot(column='time', plot=False,show_num=True, options={'ratio_max':4})\n",
    "print(\"=================\")\n",
    "naive_schimdt_best = get_best(pools)\n",
    "print('Best params:', naive_schimdt_best)"
   ]
  },
  {
   "cell_type": "code",
   "execution_count": 6,
   "metadata": {},
   "outputs": [
    {
     "name": "stdout",
     "output_type": "stream",
     "text": [
      "schimdt-none-0.1\n",
      " 27/44 instances terminate with status:  0\n",
      " 15/44 instances terminate with status: -2\n",
      "  2/44 instances terminate with status:  2\n",
      "schimdt-none-1.0\n",
      " 29/44 instances terminate with status:  0\n",
      " 13/44 instances terminate with status: -2\n",
      "  2/44 instances terminate with status:  2\n",
      "schimdt-none-10.0\n",
      " 32/44 instances terminate with status:  0\n",
      " 11/44 instances terminate with status: -2\n",
      "  1/44 instances terminate with status:  2\n",
      "All algorithms failed in 11 instances\n",
      "Metrics for failed instances are overwritten with np.inf\n",
      "After subsetting, 31 instabces are kept.\n",
      "=================\n",
      "Best params: schimdt-none-10.0\n"
     ]
    }
   ],
   "source": [
    "algo_df_dict_schimdt = get_all_schimdt(logdir, date, loss, lam_shrink, percent)\n",
    "ppf = PerformanceProfile(algo_df_dict_schimdt)\n",
    "ppf.get_subset_by_time(threshold=1, remove_failed=True)\n",
    "pools = ppf.plot(column='time', plot=False,show_num=True, options={'ratio_max':4})\n",
    "print(\"=================\")\n",
    "schimdt_best = get_best(pools)\n",
    "print('Best params:', schimdt_best)"
   ]
  },
  {
   "cell_type": "markdown",
   "metadata": {},
   "source": [
    "## const safeguard"
   ]
  },
  {
   "cell_type": "code",
   "execution_count": 7,
   "metadata": {},
   "outputs": [
    {
     "name": "stdout",
     "output_type": "stream",
     "text": [
      "All algorithms failed in 9 instances\n",
      "Metrics for failed instances are overwritten with np.inf\n",
      "After subsetting, 30 instabces are kept.\n"
     ]
    },
    {
     "data": {
      "image/png": "[encoded data removed]",
      "text/plain": [
       "<Figure size 432x288 with 1 Axes>"
      ]
     },
     "metadata": {
      "needs_background": "light"
     },
     "output_type": "display_data"
    },
    {
     "data": {
      "image/png": "[encoded data removed]",
      "text/plain": [
       "<Figure size 432x288 with 1 Axes>"
      ]
     },
     "metadata": {
      "needs_background": "light"
     },
     "output_type": "display_data"
    }
   ],
   "source": [
    "final = {}; target = naive_const_best; df= algo_df_dict_naive_const\n",
    "final[target] = df[target]\n",
    "final[schimdt_best] = algo_df_dict_schimdt[schimdt_best]\n",
    "ppf = PerformanceProfile(final)\n",
    "ppf.get_subset_by_time(threshold=1, remove_failed=True)\n",
    "_ = ppf.plot(column='time',show_num=True, options={'ratio_max':10})\n",
    "_ = ppf.plot(column='subgrad_iters',show_num=True, options={'ratio_max':10})"
   ]
  },
  {
   "cell_type": "markdown",
   "metadata": {},
   "source": [
    "# laststep safeguard"
   ]
  },
  {
   "cell_type": "code",
   "execution_count": 51,
   "metadata": {},
   "outputs": [
    {
     "name": "stdout",
     "output_type": "stream",
     "text": [
      "All algorithms failed in 9 instances\n",
      "Metrics for failed instances are overwritten with np.inf\n",
      "After subsetting, 30 instabces are kept.\n"
     ]
    },
    {
     "data": {
      "image/png": "[encoded data removed]",
      "text/plain": [
       "<Figure size 432x288 with 1 Axes>"
      ]
     },
     "metadata": {
      "needs_background": "light"
     },
     "output_type": "display_data"
    },
    {
     "data": {
      "image/png": "[encoded data removed]",
      "text/plain": [
       "<Figure size 432x288 with 1 Axes>"
      ]
     },
     "metadata": {
      "needs_background": "light"
     },
     "output_type": "display_data"
    }
   ],
   "source": [
    "final = {}; target = naive_laststep_best; df= algo_df_dict_naive_laststep\n",
    "final[target] = df[target]\n",
    "final[schimdt_best] = algo_df_dict_schimdt[schimdt_best]\n",
    "ppf = PerformanceProfile(final)\n",
    "ppf.get_subset_by_time(threshold=1, remove_failed=True)\n",
    "_ = ppf.plot(column='time',show_num=True, options={'ratio_max':10})\n",
    "_ = ppf.plot(column='subgrad_iters',show_num=True, options={'ratio_max':10})"
   ]
  },
  {
   "cell_type": "markdown",
   "metadata": {},
   "source": [
    "# Schimdt safeguard"
   ]
  },
  {
   "cell_type": "code",
   "execution_count": 53,
   "metadata": {},
   "outputs": [
    {
     "name": "stdout",
     "output_type": "stream",
     "text": [
      "All algorithms failed in 11 instances\n",
      "Metrics for failed instances are overwritten with np.inf\n",
      "After subsetting, 28 instabces are kept.\n"
     ]
    },
    {
     "data": {
      "image/png": "[encoded data removed]",
      "text/plain": [
       "<Figure size 432x288 with 1 Axes>"
      ]
     },
     "metadata": {
      "needs_background": "light"
     },
     "output_type": "display_data"
    },
    {
     "data": {
      "image/png": "[encoded data removed]",
      "text/plain": [
       "<Figure size 432x288 with 1 Axes>"
      ]
     },
     "metadata": {
      "needs_background": "light"
     },
     "output_type": "display_data"
    }
   ],
   "source": [
    "final = {}; target = naive_schimdt_best; df= algo_df_dict_naive_schimdt\n",
    "final[target] = df[target]\n",
    "final[schimdt_best] = algo_df_dict_schimdt[schimdt_best]\n",
    "ppf = PerformanceProfile(final)\n",
    "ppf.get_subset_by_time(threshold=1, remove_failed=True)\n",
    "_ = ppf.plot(column='time',show_num=True, options={'ratio_max':10})\n",
    "_ = ppf.plot(column='subgrad_iters',show_num=True, options={'ratio_max':10})"
   ]
  },
  {
   "cell_type": "markdown",
   "metadata": {},
   "source": [
    "# ls"
   ]
  },
  {
   "cell_type": "code",
   "execution_count": 12,
   "metadata": {},
   "outputs": [],
   "source": [
    "logdir='../IPG/test/log'; date='04_18_2021'; solver='naive'; loss='ls'; lam_shrink=[0.1, 0.01]; percent=[0.1, 0.2];"
   ]
  },
  {
   "cell_type": "code",
   "execution_count": 13,
   "metadata": {},
   "outputs": [
    {
     "name": "stdout",
     "output_type": "stream",
     "text": [
      "naive-1e-12-const-1000.0\n",
      " 28/32 instances terminate with status:  0\n",
      "  2/32 instances terminate with status: -2\n",
      "  2/32 instances terminate with status:  2\n",
      "naive-0.001-const-1000.0\n",
      " 28/32 instances terminate with status:  0\n",
      "  2/32 instances terminate with status: -2\n",
      "  2/32 instances terminate with status:  2\n",
      "naive-1.0-const-1000.0\n",
      " 27/32 instances terminate with status:  0\n",
      "  3/32 instances terminate with status: -2\n",
      "  2/32 instances terminate with status:  2\n",
      "All algorithms failed in 2 instances\n",
      "Metrics for failed instances are overwritten with np.inf\n",
      "After subsetting, 17 instabces are kept.\n",
      "=================\n",
      "Best params: naive-0.001-const-1000.0\n"
     ]
    }
   ],
   "source": [
    "algo_df_dict_naive_const = get_all_naive(logdir, date, loss, lam_shrink, percent, safeguard='const')\n",
    "ppf = PerformanceProfile(algo_df_dict_naive_const)\n",
    "ppf.get_subset_by_time(threshold=1, remove_failed=True)\n",
    "pools = ppf.plot(column='time', show_num=True, options={'ratio_max':4}, plot=False)\n",
    "print(\"=================\")\n",
    "naive_const_best = get_best(pools)\n",
    "print('Best params:', naive_const_best)"
   ]
  },
  {
   "cell_type": "code",
   "execution_count": 14,
   "metadata": {},
   "outputs": [
    {
     "name": "stdout",
     "output_type": "stream",
     "text": [
      "naive-1e-12-laststep-0.1\n",
      "  4/32 instances terminate with status: -2\n",
      " 26/32 instances terminate with status:  0\n",
      "  2/32 instances terminate with status:  2\n",
      "naive-0.001-laststep-0.1\n",
      "  4/32 instances terminate with status: -2\n",
      " 26/32 instances terminate with status:  0\n",
      "  2/32 instances terminate with status:  2\n",
      "naive-1.0-laststep-0.1\n",
      "  6/32 instances terminate with status: -2\n",
      " 26/32 instances terminate with status:  0\n",
      "naive-1e-12-laststep-1.0\n",
      "  4/32 instances terminate with status: -2\n",
      " 26/32 instances terminate with status:  0\n",
      "  2/32 instances terminate with status:  2\n",
      "naive-0.001-laststep-1.0\n",
      "  4/32 instances terminate with status: -2\n",
      " 26/32 instances terminate with status:  0\n",
      "  2/32 instances terminate with status:  2\n",
      "naive-1.0-laststep-1.0\n",
      "  4/32 instances terminate with status: -2\n",
      " 26/32 instances terminate with status:  0\n",
      "  2/32 instances terminate with status:  2\n",
      "naive-1e-12-laststep-10.0\n",
      "  4/32 instances terminate with status: -2\n",
      " 26/32 instances terminate with status:  0\n",
      "  2/32 instances terminate with status:  2\n",
      "naive-0.001-laststep-10.0\n",
      "  4/32 instances terminate with status: -2\n",
      " 26/32 instances terminate with status:  0\n",
      "  2/32 instances terminate with status:  2\n",
      "naive-1.0-laststep-10.0\n",
      "  4/32 instances terminate with status: -2\n",
      " 26/32 instances terminate with status:  0\n",
      "  2/32 instances terminate with status:  2\n",
      "All algorithms failed in 4 instances\n",
      "Metrics for failed instances are overwritten with np.inf\n",
      "After subsetting, 16 instabces are kept.\n",
      "=================\n",
      "no stric ordering, choose max instances\n",
      "Best params: naive-1e-12-laststep-1.0\n"
     ]
    }
   ],
   "source": [
    "algo_df_dict_naive_laststep = get_all_naive(logdir, date, loss, lam_shrink, percent, safeguard='laststep')\n",
    "ppf = PerformanceProfile(algo_df_dict_naive_laststep)\n",
    "ppf.get_subset_by_time(threshold=1, remove_failed=True)\n",
    "pools = ppf.plot(column='time', plot=False,show_num=True, options={'ratio_max':4})\n",
    "print(\"=================\")\n",
    "naive_laststep_best = get_best(pools)\n",
    "print('Best params:', naive_laststep_best)"
   ]
  },
  {
   "cell_type": "code",
   "execution_count": 15,
   "metadata": {},
   "outputs": [
    {
     "name": "stdout",
     "output_type": "stream",
     "text": [
      "naive-1e-12-schimdt-0.1\n",
      "  6/32 instances terminate with status: -2\n",
      " 26/32 instances terminate with status:  0\n",
      "naive-0.001-schimdt-0.1\n",
      "  6/32 instances terminate with status: -2\n",
      " 26/32 instances terminate with status:  0\n",
      "naive-1.0-schimdt-0.1\n",
      "  6/32 instances terminate with status: -2\n",
      " 26/32 instances terminate with status:  0\n",
      "naive-1e-12-schimdt-1.0\n",
      "  5/32 instances terminate with status: -2\n",
      " 26/32 instances terminate with status:  0\n",
      "  1/32 instances terminate with status:  2\n",
      "naive-0.001-schimdt-1.0\n",
      "  5/32 instances terminate with status: -2\n",
      " 26/32 instances terminate with status:  0\n",
      "  1/32 instances terminate with status:  2\n",
      "naive-1.0-schimdt-1.0\n",
      "  4/32 instances terminate with status: -2\n",
      " 26/32 instances terminate with status:  0\n",
      "  2/32 instances terminate with status:  2\n",
      "naive-1e-12-schimdt-10.0\n",
      "  4/32 instances terminate with status: -2\n",
      " 26/32 instances terminate with status:  0\n",
      "  2/32 instances terminate with status:  2\n",
      "naive-0.001-schimdt-10.0\n",
      "  4/32 instances terminate with status: -2\n",
      " 26/32 instances terminate with status:  0\n",
      "  2/32 instances terminate with status:  2\n",
      "naive-1.0-schimdt-10.0\n",
      "  4/32 instances terminate with status: -2\n",
      " 26/32 instances terminate with status:  0\n",
      "  2/32 instances terminate with status:  2\n",
      "All algorithms failed in 4 instances\n",
      "Metrics for failed instances are overwritten with np.inf\n",
      "After subsetting, 16 instabces are kept.\n",
      "=================\n",
      "no stric ordering, choose max instances\n",
      "Best params: naive-0.001-schimdt-10.0\n"
     ]
    }
   ],
   "source": [
    "algo_df_dict_naive_schimdt = get_all_naive(logdir, date, loss, lam_shrink, percent, safeguard='schimdt')\n",
    "ppf = PerformanceProfile(algo_df_dict_naive_schimdt)\n",
    "ppf.get_subset_by_time(threshold=1, remove_failed=True)\n",
    "pools = ppf.plot(column='time', plot=False,show_num=True, options={'ratio_max':4})\n",
    "print(\"=================\")\n",
    "naive_schimdt_best = get_best(pools)\n",
    "print('Best params:', naive_schimdt_best)"
   ]
  },
  {
   "cell_type": "code",
   "execution_count": 16,
   "metadata": {},
   "outputs": [
    {
     "name": "stdout",
     "output_type": "stream",
     "text": [
      "schimdt-none-0.1\n",
      "  6/32 instances terminate with status: -2\n",
      " 26/32 instances terminate with status:  0\n",
      "schimdt-none-1.0\n",
      "  5/32 instances terminate with status: -2\n",
      " 26/32 instances terminate with status:  0\n",
      "  1/32 instances terminate with status:  2\n",
      "schimdt-none-10.0\n",
      "  4/32 instances terminate with status: -2\n",
      " 26/32 instances terminate with status:  0\n",
      "  2/32 instances terminate with status:  2\n",
      "All algorithms failed in 4 instances\n",
      "Metrics for failed instances are overwritten with np.inf\n",
      "After subsetting, 16 instabces are kept.\n",
      "=================\n",
      "Best params: schimdt-none-10.0\n"
     ]
    }
   ],
   "source": [
    "algo_df_dict_schimdt = get_all_schimdt(logdir, date, loss, lam_shrink, percent)\n",
    "ppf = PerformanceProfile(algo_df_dict_schimdt)\n",
    "ppf.get_subset_by_time(threshold=1, remove_failed=True)\n",
    "pools = ppf.plot(column='time', plot=False,show_num=True, options={'ratio_max':4})\n",
    "print(\"=================\")\n",
    "schimdt_best = get_best(pools)\n",
    "print('Best params:', schimdt_best)"
   ]
  },
  {
   "cell_type": "markdown",
   "metadata": {},
   "source": [
    "# const safeguard"
   ]
  },
  {
   "cell_type": "code",
   "execution_count": 18,
   "metadata": {},
   "outputs": [
    {
     "name": "stdout",
     "output_type": "stream",
     "text": [
      "All algorithms failed in 2 instances\n",
      "Metrics for failed instances are overwritten with np.inf\n",
      "After subsetting, 13 instabces are kept.\n"
     ]
    },
    {
     "data": {
      "image/png": "[encoded data removed]",
      "text/plain": [
       "<Figure size 432x288 with 1 Axes>"
      ]
     },
     "metadata": {
      "needs_background": "light"
     },
     "output_type": "display_data"
    },
    {
     "data": {
      "image/png": "[encoded data removed]",
      "text/plain": [
       "<Figure size 432x288 with 1 Axes>"
      ]
     },
     "metadata": {
      "needs_background": "light"
     },
     "output_type": "display_data"
    }
   ],
   "source": [
    "final = {}; target = naive_const_best; df= algo_df_dict_naive_const\n",
    "final[target] = df[target]\n",
    "final[schimdt_best] = algo_df_dict_schimdt[schimdt_best]\n",
    "ppf = PerformanceProfile(final)\n",
    "ppf.get_subset_by_time(threshold=1, remove_failed=True)\n",
    "_ = ppf.plot(column='time',show_num=True, options={'ratio_max':3})\n",
    "_ = ppf.plot(column='subgrad_iters',show_num=True, options={'ratio_max':3})"
   ]
  },
  {
   "cell_type": "markdown",
   "metadata": {},
   "source": [
    "# laststep safeguard"
   ]
  },
  {
   "cell_type": "code",
   "execution_count": 22,
   "metadata": {},
   "outputs": [
    {
     "name": "stdout",
     "output_type": "stream",
     "text": [
      "All algorithms failed in 4 instances\n",
      "Metrics for failed instances are overwritten with np.inf\n",
      "After subsetting, 11 instabces are kept.\n"
     ]
    },
    {
     "data": {
      "image/png": "[encoded data removed]",
      "text/plain": [
       "<Figure size 432x288 with 1 Axes>"
      ]
     },
     "metadata": {
      "needs_background": "light"
     },
     "output_type": "display_data"
    },
    {
     "data": {
      "image/png": "[encoded data removed]",
      "text/plain": [
       "<Figure size 432x288 with 1 Axes>"
      ]
     },
     "metadata": {
      "needs_background": "light"
     },
     "output_type": "display_data"
    }
   ],
   "source": [
    "final = {}; target = naive_laststep_best; df= algo_df_dict_naive_laststep\n",
    "final[target] = df[target]\n",
    "final[schimdt_best] = algo_df_dict_schimdt[schimdt_best]\n",
    "ppf = PerformanceProfile(final)\n",
    "ppf.get_subset_by_time(threshold=1, remove_failed=True)\n",
    "_ = ppf.plot(column='time',show_num=True, options={'ratio_max':2})\n",
    "_ = ppf.plot(column='subgrad_iters',show_num=True, options={'ratio_max':6})"
   ]
  },
  {
   "cell_type": "markdown",
   "metadata": {},
   "source": [
    "# Schimdt safeguard"
   ]
  },
  {
   "cell_type": "code",
   "execution_count": 23,
   "metadata": {},
   "outputs": [
    {
     "name": "stdout",
     "output_type": "stream",
     "text": [
      "All algorithms failed in 4 instances\n",
      "Metrics for failed instances are overwritten with np.inf\n",
      "After subsetting, 11 instabces are kept.\n"
     ]
    },
    {
     "data": {
      "image/png": "[encoded data removed]",
      "text/plain": [
       "<Figure size 432x288 with 1 Axes>"
      ]
     },
     "metadata": {
      "needs_background": "light"
     },
     "output_type": "display_data"
    },
    {
     "data": {
      "image/png": "[encoded data removed]",
      "text/plain": [
       "<Figure size 432x288 with 1 Axes>"
      ]
     },
     "metadata": {
      "needs_background": "light"
     },
     "output_type": "display_data"
    }
   ],
   "source": [
    "final = {}; target = naive_schimdt_best; df= algo_df_dict_naive_schimdt\n",
    "final[target] = df[target]\n",
    "final[schimdt_best] = algo_df_dict_schimdt[schimdt_best]\n",
    "ppf = PerformanceProfile(final)\n",
    "ppf.get_subset_by_time(threshold=1, remove_failed=True)\n",
    "_ = ppf.plot(column='time',show_num=True, options={'ratio_max':2})\n",
    "_ = ppf.plot(column='subgrad_iters',show_num=True, options={'ratio_max':2})"
   ]
  },
  {
   "cell_type": "code",
   "execution_count": 30,
   "metadata": {},
   "outputs": [],
   "source": [
    "# sanity check\n",
    "# ppf.algo_df_dic[target]['subgrad_iters'].to_numpy() - ppf.algo_df_dic[schimdt_best]['subgrad_iters'].to_numpy()"
   ]
  },
  {
   "cell_type": "markdown",
   "metadata": {},
   "source": [
    "# Get instance wise duality gap evolution"
   ]
  },
  {
   "cell_type": "code",
   "execution_count": null,
   "metadata": {},
   "outputs": [],
   "source": [
    "def get_one_instance(date, loss, dataset, lambda_shrinage, percent):\n",
    "    dir_lst = []\n",
    "    label_lst = []\n",
    "    Fseq_lst = []\n",
    "    Eseq_lst = []\n",
    "    naive_dir_base = f'../IPG/test/log/{date}/naive/{loss}/{lambda_shrinage}_{percent}'\n",
    "    \n",
    "    naive_const_dir = f'{naive_dir_base}_const_1000.0/{dataset}_info.npy'\n",
    "    naive_const_label = 'const-1000.0'\n",
    "    dir_lst.append(naive_const_dir)\n",
    "    label_lst.append(naive_const_label)\n",
    "    for safe_guard in ['laststep', 'schimdt']:\n",
    "        for const in [0.1, 1.0, 10.0]:\n",
    "            directory = f'{naive_dir_base}_{safe_guard}_{const}/{dataset}_info.npy'\n",
    "            label = f'{safe_guard}-{const}'\n",
    "            dir_lst.append(directory)\n",
    "            label_lst.append(label)\n",
    "    sch_dir = f'../IPG/test/log/{date}/schimdt/{loss}/{lambda_shrinage}_{percent}__/{dataset}_info.npy'\n",
    "    sch_label = 'Schimdt'\n",
    "    dir_lst.append(sch_dir)\n",
    "    label_lst.append(sch_label)\n",
    "    # load data\n",
    "    for i in dir_lst:\n",
    "        info = np.load(i, allow_pickle=True).item()\n",
    "        Fseq_lst.append(info['Fseq'])\n",
    "        Eseq_lst.append(info['Eseq'])\n",
    "    return Fseq_lst, Eseq_lst, label_lst"
   ]
  },
  {
   "cell_type": "code",
   "execution_count": null,
   "metadata": {},
   "outputs": [],
   "source": []
  },
  {
   "cell_type": "code",
   "execution_count": null,
   "metadata": {},
   "outputs": [],
   "source": []
  },
  {
   "cell_type": "code",
   "execution_count": null,
   "metadata": {},
   "outputs": [],
   "source": []
  },
  {
   "cell_type": "code",
   "execution_count": null,
   "metadata": {},
   "outputs": [],
   "source": []
  },
  {
   "cell_type": "code",
   "execution_count": null,
   "metadata": {},
   "outputs": [],
   "source": []
  },
  {
   "cell_type": "code",
   "execution_count": null,
   "metadata": {},
   "outputs": [],
   "source": []
  },
  {
   "cell_type": "code",
   "execution_count": null,
   "metadata": {},
   "outputs": [],
   "source": [
    "# def load_df_from_paths(list_all_npy_path, cols=['datasetid', 'status', 'time', 'iteration', 'F', 'optim','subgrad_iters']):\n",
    "#     df_lst =[]\n",
    "#     for lam in lam_shrink:\n",
    "#         for per in percent:\n",
    "#             minimal_dir = f'{logdir}/{date}/{solver}/{loss}/{lam}_{per}'\n",
    "#             for arg in argv:\n",
    "#                 minimal_dir += f'_{arg}'\n",
    "#             datasets_files = glob.glob(f'{minimal_dir}/*.npy')\n",
    "#             datasets_files.sort()\n",
    "#             info_lst = []\n",
    "#             print(f\"Find {len(datasets_files) datasets.}\")\n",
    "#             for file in datasets_files:\n",
    "#                 info = np.load(file, allow_pickle=True).item()\n",
    "#                 info_lst.append(info)\n",
    "#             df = pd.DataFrame(info_lst)\n",
    "#             df_lst.append(df)\n",
    "#     return list_all_npy\n",
    "\n",
    "\n",
    "# logdir='../IPG/test/log'; date='04_18_2021'; solver='naive'; loss='logit'; lam_shrink=[0.1, 0.01]; percent=[0.1, 0.2];\n",
    "# # t, safeguard, safeguard_const determines an algorithm\n",
    "# t, safeguard, safeguard_const = 1e-12,'const', 1e3\n",
    "# paths = create_paths(logdir, date, solver, loss, lam_shrink, percent, t, 'const', 1e3)\n",
    "# df = load_df_from_paths(paths)\n",
    "\n",
    "\n",
    "\n",
    "# logdir='../IPG/test/log'; date='04_18_2021'; solver='naive'; loss='logit'; lam_shrink=[0.1, 0.01]; percent=[0.1, 0.2];\n",
    "# # t, safeguard, safeguard_const determines an algorithm\n",
    "# safeguard, safeguard_const = 'const', 1e3\n",
    "# for t in [1e-12, 1e-3, 1]:\n",
    "#     algorithm = f'{solver}_{t}_{safeguard}_{safeguard_const}'\n",
    "#     print(f'{algorithm}')\n",
    "#     paths = create_paths(logdir, date, solver, loss, lam_shrink, percent, t, 'const', 1e3)\n",
    "#     if paths == []:\n",
    "#         print('empty')\n",
    "#     else:\n",
    "#         df = load_df_from_paths(paths)\n",
    "\n",
    "# def get_all_naive(logdir, date, solver, loss, lam_shrink, percent, safeguard):\n",
    "#     algo_df_dict = {}\n",
    "#     # solver const\n",
    "#     safeguard, safeguard_const = 'const', 1e3\n",
    "#     for t in [1e-12, 1e-3, 1e0]:\n",
    "#         algorithm = f'{solver}_{t}_{safeguard}_{safeguard_const}'\n",
    "#         print(f'{algorithm}')\n",
    "#         paths = create_paths(logdir, date, solver, loss, lam_shrink, percent, t, 'const', 1e3)\n",
    "#         if paths == []:\n",
    "#             print(' empty')\n",
    "#             df = None\n",
    "#         else:\n",
    "#             df = load_df_from_paths(paths)\n",
    "#         algo_df_dict[algorithm] = df\n",
    "#     # solver last-step and schimdt\n",
    "#     for safeguard in ['laststep', 'schimdt']:\n",
    "#         for safeguard_const in [1e-1, 1e0, 1e1]:\n",
    "#             for t in [1e-12, 1e-3, 1e0]:\n",
    "#                 algorithm = f'{solver}_{t}_{safeguard}_{safeguard_const}'\n",
    "#                 print(f'{algorithm}')\n",
    "#                 paths = create_paths(logdir, date, solver, loss, lam_shrink, percent, t, safeguard, safeguard_const)\n",
    "#                 if paths == []:\n",
    "#                     print(' empty')\n",
    "#                     df = None\n",
    "#                 else:\n",
    "#                     df = load_df_from_paths(paths)\n",
    "#                 algo_df_dict[algorithm] = df\n",
    "#     return algo_df_dict\n",
    "# algo_df_dict = get_all_naive(logdir, date, solver, loss, lam_shrink, percent)\n",
    "    "
   ]
  }
 ],
 "metadata": {
  "kernelspec": {
   "display_name": "Python 3",
   "language": "python",
   "name": "python3"
  },
  "language_info": {
   "codemirror_mode": {
    "name": "ipython",
    "version": 3
   },
   "file_extension": ".py",
   "mimetype": "text/x-python",
   "name": "python",
   "nbconvert_exporter": "python",
   "pygments_lexer": "ipython3",
   "version": "3.7.7"
  }
 },
 "nbformat": 4,
 "nbformat_minor": 4
}
