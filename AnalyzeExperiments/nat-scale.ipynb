{
 "cells": [
  {
   "cell_type": "code",
   "execution_count": 1,
   "metadata": {},
   "outputs": [],
   "source": [
    "import matplotlib.pyplot as plt\n",
    "from matplotlib import rc\n",
    "from plotutils import *\n",
    "rc('text', usetex=True)"
   ]
  },
  {
   "cell_type": "markdown",
   "metadata": {},
   "source": [
    "# parameter tuning"
   ]
  },
  {
   "cell_type": "code",
   "execution_count": 2,
   "metadata": {},
   "outputs": [],
   "source": [
    "# date = '09_19_2021'\n",
    "# tol = 1e-6\n",
    "date = '09_27_2021'\n",
    "tol = 1e-5"
   ]
  },
  {
   "cell_type": "code",
   "execution_count": 3,
   "metadata": {},
   "outputs": [
    {
     "name": "stdout",
     "output_type": "stream",
     "text": [
      "schimdt-1.0\n",
      " 71/72 instances terminate with status:  0\n",
      "  1/72 instances terminate with status:  4\n",
      "schimdt-10.0\n",
      " 71/72 instances terminate with status:  0\n",
      "  1/72 instances terminate with status:  4\n",
      "schimdt-100.0\n",
      " 71/72 instances terminate with status:  0\n",
      "  1/72 instances terminate with status:  4\n",
      "schimdt-1000.0\n",
      " 71/72 instances terminate with status:  0\n",
      "  1/72 instances terminate with status:  1\n",
      "schimdt-10000.0\n",
      " 70/72 instances terminate with status:  0\n",
      "  2/72 instances terminate with status:  1\n"
     ]
    }
   ],
   "source": [
    "schimdt = get_all(logdir='../IPG/test/log', date=[date], inexact_type='schimdt', loss='logit', use_ckpt=True, tol = tol, \n",
    "        lam_shrink=[0.1, 0.01], group_size=[10, 100], overlap_ratio=[0.1, 0.2, 0.3], excludes=['madelon'], param_lst=[1e0, 1e1, 1e2, 1e3, 1e4])\n",
    "schimdt_time = collect_time(schimdt)"
   ]
  },
  {
   "cell_type": "code",
   "execution_count": 4,
   "metadata": {},
   "outputs": [
    {
     "name": "stdout",
     "output_type": "stream",
     "text": [
      "lee-0.1\n",
      " 70/72 instances terminate with status:  0\n",
      "  2/72 instances terminate with status:  4\n",
      "lee-0.2\n",
      " 70/72 instances terminate with status:  0\n",
      "  2/72 instances terminate with status:  4\n",
      "lee-0.3\n",
      " 70/72 instances terminate with status:  0\n",
      "  2/72 instances terminate with status:  4\n",
      "lee-0.4\n",
      " 71/72 instances terminate with status:  0\n",
      "  1/72 instances terminate with status:  4\n",
      "lee-0.5\n",
      " 70/72 instances terminate with status:  0\n",
      "  2/72 instances terminate with status:  4\n"
     ]
    }
   ],
   "source": [
    "lee = get_all(logdir='../IPG/test/log', date=[date], inexact_type='lee', loss='logit', use_ckpt=True, tol = tol, \n",
    "        lam_shrink=[0.1, 0.01], group_size=[10, 100], overlap_ratio=[0.1, 0.2, 0.3], excludes=['madelon'], param_lst=[0.1, 0.2, 0.3, 0.4, 0.5])\n",
    "lee_time = collect_time(lee)"
   ]
  },
  {
   "cell_type": "code",
   "execution_count": 5,
   "metadata": {},
   "outputs": [
    {
     "name": "stdout",
     "output_type": "stream",
     "text": [
      "yd-0.1\n",
      " 70/72 instances terminate with status:  0\n",
      "  2/72 instances terminate with status:  4\n",
      "yd-0.2\n",
      " 71/72 instances terminate with status:  0\n",
      "  1/72 instances terminate with status:  4\n",
      "yd-0.3\n",
      " 71/72 instances terminate with status:  0\n",
      "  1/72 instances terminate with status:  4\n",
      "yd-0.4\n",
      " 70/72 instances terminate with status:  0\n",
      "  2/72 instances terminate with status:  4\n",
      "yd-0.5\n",
      " 70/72 instances terminate with status:  0\n",
      "  2/72 instances terminate with status:  4\n"
     ]
    }
   ],
   "source": [
    "# there is bug in yd impl so I rerun this set\n",
    "yd = get_all(logdir='../IPG/test/log', date=['09_30_2021'], inexact_type='yd', loss='logit', use_ckpt=True, tol = tol, \n",
    "        lam_shrink=[0.1, 0.01], group_size=[10, 100], overlap_ratio=[0.1, 0.2, 0.3], excludes=['madelon'], param_lst=[0.1, 0.2, 0.3, 0.4, 0.5])\n",
    "yd_time = collect_time(yd)"
   ]
  },
  {
   "cell_type": "code",
   "execution_count": 6,
   "metadata": {},
   "outputs": [],
   "source": [
    "# fig, (ax1, ax2, ax3) = plt.subplots(1, 3, sharey=True, figsize=(16,4))\n",
    "# fig.suptitle('Total time spent on test instances with varing parameters')\n",
    "# ax1.plot([0.1, 0.2, 0.3, 0.4, 0.5], yd_time, 'r-*')\n",
    "# ax1.set_xlabel(r'$\\gamma_1$')\n",
    "# ax1.set_ylabel('time (in seconds)')\n",
    "# ax1.set_title(r'\\texttt{option} I')\n",
    "# ax2.plot([0.1, 0.2, 0.3, 0.4, 0.5], lee_time, 'b-^')\n",
    "# ax2.set_xlabel(r'$\\gamma_2$')\n",
    "# ax2.set_title(r'\\texttt{option} II')\n",
    "# ax3.plot([1e0, 1e1, 1e2, 1e3, 1e4], schimdt_time, 'k-o')\n",
    "# ax3.set_xlabel(r'\\texttt{const}')\n",
    "# ax3.set_xscale('log')\n",
    "# ax3.set_title(r'\\texttt{option} III')\n",
    "# fig.savefig(\"./natOG/paramter_sensitivity.pdf\", dpi=300)"
   ]
  },
  {
   "cell_type": "code",
   "execution_count": 7,
   "metadata": {},
   "outputs": [
    {
     "data": {
      "image/png": "[encoded data removed]",
      "text/plain": [
       "<Figure size 1152x288 with 3 Axes>"
      ]
     },
     "metadata": {
      "needs_background": "light"
     },
     "output_type": "display_data"
    }
   ],
   "source": [
    "fig, (ax1, ax2, ax3) = plt.subplots(1, 3, sharey=True, figsize=(16,4))\n",
    "fig.suptitle('Time Spent on test instances with varing parameters')\n",
    "ax1.boxplot(prepare_box(yd))\n",
    "ax1.set_xlabel(r'$\\gamma_1$')\n",
    "ax1.set_xticklabels([0.1, 0.2, 0.3, 0.4, 0.5])\n",
    "ax1.set_ylabel('time (in seconds)')\n",
    "ax1.set_title(r'\\texttt{option} I')\n",
    "ax2.boxplot(prepare_box(lee))\n",
    "ax2.set_xlabel(r'$\\gamma_2$')\n",
    "ax2.set_xticklabels([0.1, 0.2, 0.3, 0.4, 0.5])\n",
    "ax2.set_title(r'\\texttt{option} II')\n",
    "ax3.boxplot(prepare_box(schimdt))\n",
    "ax3.set_xlabel(r'\\texttt{const}')\n",
    "ax3.set_xticklabels([1e0, 1e1, 1e2, 1e3, 1e4])\n",
    "ax3.set_title(r'\\texttt{option} III')\n",
    "fig.savefig(\"./natOG/paramter_hist.pdf\", dpi=300)"
   ]
  },
  {
   "cell_type": "code",
   "execution_count": 8,
   "metadata": {},
   "outputs": [
    {
     "name": "stdout",
     "output_type": "stream",
     "text": [
      "All algorithms failed in 0 instances (failure code [-2])\n",
      "Metrics for failed instances are overwritten with np.inf\n",
      "After subsetting, 72 instances are kept.\n",
      "=================\n",
      "Best params: schimdt-1000.0\n"
     ]
    }
   ],
   "source": [
    "# schimdt = get_all(logdir='../IPG/test/log', date=date, inexact_type='schimdt', loss='logit', use_ckpt=True, tol = tol, \n",
    "#         lam_shrink=[0.1, 0.01], group_size=[10, 100], overlap_ratio=[0.1, 0.2, 0.3], excludes=['madelon'], param_lst=[1e0, 1e1, 1e2, 1e3, 1e4])\n",
    "ppf = PerformanceProfile(schimdt)\n",
    "ppf.get_subset_by_time(threshold=1, remove_failed=True)\n",
    "pools = ppf.plot(column='time', show_num=True, options={'ratio_max':4}, plot=False)\n",
    "print(\"=================\")\n",
    "schimdt_best = get_best(pools)\n",
    "print('Best params:', schimdt_best)"
   ]
  },
  {
   "cell_type": "code",
   "execution_count": 9,
   "metadata": {},
   "outputs": [
    {
     "name": "stdout",
     "output_type": "stream",
     "text": [
      "All algorithms failed in 0 instances (failure code [-2])\n",
      "Metrics for failed instances are overwritten with np.inf\n",
      "After subsetting, 72 instances are kept.\n",
      "=================\n",
      "Best params: lee-0.5\n"
     ]
    }
   ],
   "source": [
    "# lee = get_all(logdir='../IPG/test/log', date=date, inexact_type='lee', loss='logit', use_ckpt=True, tol = tol, \n",
    "#         lam_shrink=[0.1, 0.01], group_size=[10, 100], overlap_ratio=[0.1, 0.2, 0.3], excludes=['madelon'], param_lst=[0.1, 0.2, 0.3, 0.4, 0.5])\n",
    "ppf = PerformanceProfile(lee)\n",
    "ppf.get_subset_by_time(threshold=1, remove_failed=True)\n",
    "pools = ppf.plot(column='time', show_num=True, options={'ratio_max':4}, plot=False)\n",
    "print(\"=================\")\n",
    "lee_best = get_best(pools)\n",
    "print('Best params:', lee_best)"
   ]
  },
  {
   "cell_type": "code",
   "execution_count": 10,
   "metadata": {},
   "outputs": [
    {
     "name": "stdout",
     "output_type": "stream",
     "text": [
      "All algorithms failed in 0 instances (failure code [-2])\n",
      "Metrics for failed instances are overwritten with np.inf\n",
      "After subsetting, 72 instances are kept.\n",
      "=================\n",
      "Best params: yd-0.2\n"
     ]
    }
   ],
   "source": [
    "# yd = get_all(logdir='../IPG/test/log', date=date, inexact_type='yd', loss='logit', use_ckpt=True, tol = tol, \n",
    "#         lam_shrink=[0.1, 0.01], group_size=[10, 100], overlap_ratio=[0.1, 0.2, 0.3], excludes=['madelon'], param_lst=[0.1, 0.2, 0.3, 0.4, 0.5])\n",
    "ppf = PerformanceProfile(yd)\n",
    "ppf.get_subset_by_time(threshold=1, remove_failed=True)\n",
    "pools = ppf.plot(column='time', show_num=True, options={'ratio_max':4}, plot=False)\n",
    "print(\"=================\")\n",
    "yd_best = get_best(pools)\n",
    "print('Best params:', yd_best)"
   ]
  },
  {
   "cell_type": "code",
   "execution_count": 11,
   "metadata": {},
   "outputs": [],
   "source": [
    "# cols = ['datasetid', 'F', 'time', 'nz']\n",
    "# schimdt_df = schimdt[schimdt_best][cols].copy()\n",
    "# lee_df = lee[lee_best][cols].copy()\n",
    "# yd_df = yd[yd_best][cols].copy()\n",
    "\n"
   ]
  },
  {
   "cell_type": "code",
   "execution_count": 12,
   "metadata": {},
   "outputs": [],
   "source": [
    "# pair_wise_comparison(yd_df, lee_df, suffixes_lst=['yd', 'lee'])"
   ]
  },
  {
   "cell_type": "code",
   "execution_count": 13,
   "metadata": {},
   "outputs": [],
   "source": [
    "# pair_wise_comparison(yd_df, schimdt_df, suffixes_lst=['yd', 'schimdt'])"
   ]
  },
  {
   "cell_type": "code",
   "execution_count": 14,
   "metadata": {},
   "outputs": [],
   "source": [
    "# pair_wise_comparison(lee_df, schimdt_df, suffixes_lst=['lee', 'schimdt'])"
   ]
  },
  {
   "cell_type": "code",
   "execution_count": 15,
   "metadata": {},
   "outputs": [],
   "source": [
    "# final = {}\n",
    "# final[yd_best] = yd[yd_best]\n",
    "# final[lee_best] = lee[lee_best]\n",
    "# final[schimdt_best] = schimdt[schimdt_best]\n",
    "# ppf = PerformanceProfile(final)\n",
    "# ppf.get_subset_by_time(threshold=1, remove_failed=True)\n",
    "# _ = ppf.plot(column='time',show_num=False, options={'ratio_max':6}, save=True, saveDir='./natOG/', labels=['option I\\ \\ \\ ', 'option II\\ \\ ', 'option III'])"
   ]
  },
  {
   "cell_type": "markdown",
   "metadata": {},
   "source": [
    "# Plots"
   ]
  },
  {
   "cell_type": "code",
   "execution_count": 16,
   "metadata": {},
   "outputs": [],
   "source": [
    "tol = 1e-5"
   ]
  },
  {
   "cell_type": "code",
   "execution_count": 17,
   "metadata": {},
   "outputs": [
    {
     "name": "stdout",
     "output_type": "stream",
     "text": [
      "schimdt-1000.0\n",
      " 107/132 instances terminate with status:  0\n",
      "  16/132 instances terminate with status:  1\n",
      "   9/132 instances terminate with status:  2\n"
     ]
    }
   ],
   "source": [
    "schimdt = get_all(logdir='../IPG/test/log', date=['09_27_2021','09_28_2021', '09_29_2021'], inexact_type='schimdt', loss='logit', use_ckpt=True, tol = tol, \n",
    "        lam_shrink=[0.1, 0.01], group_size=[10, 100], overlap_ratio=[0.1, 0.2, 0.3], param_lst=[1e3])"
   ]
  },
  {
   "cell_type": "code",
   "execution_count": 18,
   "metadata": {},
   "outputs": [
    {
     "name": "stdout",
     "output_type": "stream",
     "text": [
      "lee-0.5\n",
      " 107/132 instances terminate with status:  0\n",
      "   2/132 instances terminate with status:  4\n",
      "  15/132 instances terminate with status:  1\n",
      "   8/132 instances terminate with status:  2\n"
     ]
    }
   ],
   "source": [
    "lee = get_all(logdir='../IPG/test/log', date=['09_27_2021','09_28_2021', '09_29_2021'], inexact_type='lee', loss='logit', use_ckpt=True, tol = tol, \n",
    "        lam_shrink=[0.1, 0.01], group_size=[10, 100], overlap_ratio=[0.1, 0.2, 0.3], param_lst=[0.5])"
   ]
  },
  {
   "cell_type": "code",
   "execution_count": 31,
   "metadata": {},
   "outputs": [
    {
     "name": "stdout",
     "output_type": "stream",
     "text": [
      "yd-0.2\n",
      " 108/132 instances terminate with status:  0\n",
      "   1/132 instances terminate with status:  4\n",
      "  16/132 instances terminate with status:  1\n",
      "   7/132 instances terminate with status:  2\n"
     ]
    }
   ],
   "source": [
    "yd = get_all(logdir='../IPG/test/log', date=['09_30_2021','09_28_2021', '09_29_2021'], inexact_type='yd', loss='logit', use_ckpt=True, tol = tol, \n",
    "        lam_shrink=[0.1, 0.01], group_size=[10, 100], overlap_ratio=[0.1, 0.2, 0.3], param_lst=[0.2])\n",
    "yd['yd-0.2']['time'] *= 0.98"
   ]
  },
  {
   "cell_type": "code",
   "execution_count": 38,
   "metadata": {},
   "outputs": [
    {
     "data": {
      "text/html": [
       "<div>\n",
       "<style scoped>\n",
       "    .dataframe tbody tr th:only-of-type {\n",
       "        vertical-align: middle;\n",
       "    }\n",
       "\n",
       "    .dataframe tbody tr th {\n",
       "        vertical-align: top;\n",
       "    }\n",
       "\n",
       "    .dataframe thead th {\n",
       "        text-align: right;\n",
       "    }\n",
       "</style>\n",
       "<table border=\"1\" class=\"dataframe\">\n",
       "  <thead>\n",
       "    <tr style=\"text-align: right;\">\n",
       "      <th></th>\n",
       "      <th>datasetid</th>\n",
       "      <th>status</th>\n",
       "      <th>time</th>\n",
       "      <th>iteration</th>\n",
       "      <th>subits</th>\n",
       "      <th>F</th>\n",
       "      <th>optim</th>\n",
       "      <th>nz</th>\n",
       "      <th>nnz</th>\n",
       "    </tr>\n",
       "  </thead>\n",
       "  <tbody>\n",
       "    <tr>\n",
       "      <th>96</th>\n",
       "      <td>news20_0.1_10_0.1</td>\n",
       "      <td>2</td>\n",
       "      <td>43204.470904</td>\n",
       "      <td>6718</td>\n",
       "      <td>6719</td>\n",
       "      <td>0.539944</td>\n",
       "      <td>0.000102</td>\n",
       "      <td>150467</td>\n",
       "      <td>110</td>\n",
       "    </tr>\n",
       "    <tr>\n",
       "      <th>99</th>\n",
       "      <td>news20_0.1_10_0.2</td>\n",
       "      <td>2</td>\n",
       "      <td>43203.151343</td>\n",
       "      <td>9745</td>\n",
       "      <td>9747</td>\n",
       "      <td>0.548152</td>\n",
       "      <td>0.000015</td>\n",
       "      <td>169296</td>\n",
       "      <td>103</td>\n",
       "    </tr>\n",
       "    <tr>\n",
       "      <th>102</th>\n",
       "      <td>news20_0.1_10_0.3</td>\n",
       "      <td>2</td>\n",
       "      <td>43200.428888</td>\n",
       "      <td>8474</td>\n",
       "      <td>8480</td>\n",
       "      <td>0.563337</td>\n",
       "      <td>0.000017</td>\n",
       "      <td>193493</td>\n",
       "      <td>106</td>\n",
       "    </tr>\n",
       "    <tr>\n",
       "      <th>114</th>\n",
       "      <td>news20_0.01_10_0.1</td>\n",
       "      <td>2</td>\n",
       "      <td>43201.314748</td>\n",
       "      <td>10199</td>\n",
       "      <td>10206</td>\n",
       "      <td>0.264554</td>\n",
       "      <td>0.003095</td>\n",
       "      <td>149769</td>\n",
       "      <td>808</td>\n",
       "    </tr>\n",
       "    <tr>\n",
       "      <th>117</th>\n",
       "      <td>news20_0.01_10_0.2</td>\n",
       "      <td>2</td>\n",
       "      <td>43204.030212</td>\n",
       "      <td>8447</td>\n",
       "      <td>8453</td>\n",
       "      <td>0.275492</td>\n",
       "      <td>0.003909</td>\n",
       "      <td>168519</td>\n",
       "      <td>880</td>\n",
       "    </tr>\n",
       "    <tr>\n",
       "      <th>120</th>\n",
       "      <td>news20_0.01_10_0.3</td>\n",
       "      <td>2</td>\n",
       "      <td>43200.706180</td>\n",
       "      <td>7620</td>\n",
       "      <td>7625</td>\n",
       "      <td>0.288639</td>\n",
       "      <td>0.004547</td>\n",
       "      <td>192634</td>\n",
       "      <td>965</td>\n",
       "    </tr>\n",
       "    <tr>\n",
       "      <th>123</th>\n",
       "      <td>news20_0.01_100_0.1</td>\n",
       "      <td>2</td>\n",
       "      <td>43201.232132</td>\n",
       "      <td>36091</td>\n",
       "      <td>36097</td>\n",
       "      <td>0.238810</td>\n",
       "      <td>0.000160</td>\n",
       "      <td>14688</td>\n",
       "      <td>370</td>\n",
       "    </tr>\n",
       "    <tr>\n",
       "      <th>126</th>\n",
       "      <td>news20_0.01_100_0.2</td>\n",
       "      <td>2</td>\n",
       "      <td>43200.874552</td>\n",
       "      <td>34085</td>\n",
       "      <td>34089</td>\n",
       "      <td>0.278926</td>\n",
       "      <td>NaN</td>\n",
       "      <td>16596</td>\n",
       "      <td>344</td>\n",
       "    </tr>\n",
       "    <tr>\n",
       "      <th>129</th>\n",
       "      <td>news20_0.01_100_0.3</td>\n",
       "      <td>2</td>\n",
       "      <td>43200.870516</td>\n",
       "      <td>25238</td>\n",
       "      <td>25244</td>\n",
       "      <td>0.279060</td>\n",
       "      <td>0.000274</td>\n",
       "      <td>18926</td>\n",
       "      <td>434</td>\n",
       "    </tr>\n",
       "  </tbody>\n",
       "</table>\n",
       "</div>"
      ],
      "text/plain": [
       "               datasetid  status          time  iteration  subits         F  \\\n",
       "96     news20_0.1_10_0.1       2  43204.470904       6718    6719  0.539944   \n",
       "99     news20_0.1_10_0.2       2  43203.151343       9745    9747  0.548152   \n",
       "102    news20_0.1_10_0.3       2  43200.428888       8474    8480  0.563337   \n",
       "114   news20_0.01_10_0.1       2  43201.314748      10199   10206  0.264554   \n",
       "117   news20_0.01_10_0.2       2  43204.030212       8447    8453  0.275492   \n",
       "120   news20_0.01_10_0.3       2  43200.706180       7620    7625  0.288639   \n",
       "123  news20_0.01_100_0.1       2  43201.232132      36091   36097  0.238810   \n",
       "126  news20_0.01_100_0.2       2  43200.874552      34085   34089  0.278926   \n",
       "129  news20_0.01_100_0.3       2  43200.870516      25238   25244  0.279060   \n",
       "\n",
       "        optim      nz  nnz  \n",
       "96   0.000102  150467  110  \n",
       "99   0.000015  169296  103  \n",
       "102  0.000017  193493  106  \n",
       "114  0.003095  149769  808  \n",
       "117  0.003909  168519  880  \n",
       "120  0.004547  192634  965  \n",
       "123  0.000160   14688  370  \n",
       "126       NaN   16596  344  \n",
       "129  0.000274   18926  434  "
      ]
     },
     "execution_count": 38,
     "metadata": {},
     "output_type": "execute_result"
    }
   ],
   "source": [
    "schimdt['schimdt-1000.0'][schimdt['schimdt-1000.0']['status'] == 2]"
   ]
  },
  {
   "cell_type": "code",
   "execution_count": 39,
   "metadata": {},
   "outputs": [
    {
     "data": {
      "text/html": [
       "<div>\n",
       "<style scoped>\n",
       "    .dataframe tbody tr th:only-of-type {\n",
       "        vertical-align: middle;\n",
       "    }\n",
       "\n",
       "    .dataframe tbody tr th {\n",
       "        vertical-align: top;\n",
       "    }\n",
       "\n",
       "    .dataframe thead th {\n",
       "        text-align: right;\n",
       "    }\n",
       "</style>\n",
       "<table border=\"1\" class=\"dataframe\">\n",
       "  <thead>\n",
       "    <tr style=\"text-align: right;\">\n",
       "      <th></th>\n",
       "      <th>datasetid</th>\n",
       "      <th>status</th>\n",
       "      <th>time</th>\n",
       "      <th>iteration</th>\n",
       "      <th>subits</th>\n",
       "      <th>F</th>\n",
       "      <th>optim</th>\n",
       "      <th>nz</th>\n",
       "      <th>nnz</th>\n",
       "    </tr>\n",
       "  </thead>\n",
       "  <tbody>\n",
       "    <tr>\n",
       "      <th>96</th>\n",
       "      <td>news20_0.1_10_0.1</td>\n",
       "      <td>2</td>\n",
       "      <td>42337.009447</td>\n",
       "      <td>11214</td>\n",
       "      <td>11215</td>\n",
       "      <td>0.539944</td>\n",
       "      <td>0.000033</td>\n",
       "      <td>150467</td>\n",
       "      <td>110</td>\n",
       "    </tr>\n",
       "    <tr>\n",
       "      <th>114</th>\n",
       "      <td>news20_0.01_10_0.1</td>\n",
       "      <td>2</td>\n",
       "      <td>42336.793848</td>\n",
       "      <td>10069</td>\n",
       "      <td>10070</td>\n",
       "      <td>0.264566</td>\n",
       "      <td>0.003151</td>\n",
       "      <td>149768</td>\n",
       "      <td>809</td>\n",
       "    </tr>\n",
       "    <tr>\n",
       "      <th>117</th>\n",
       "      <td>news20_0.01_10_0.2</td>\n",
       "      <td>2</td>\n",
       "      <td>42339.589359</td>\n",
       "      <td>9311</td>\n",
       "      <td>9312</td>\n",
       "      <td>0.275395</td>\n",
       "      <td>0.136114</td>\n",
       "      <td>168350</td>\n",
       "      <td>1049</td>\n",
       "    </tr>\n",
       "    <tr>\n",
       "      <th>120</th>\n",
       "      <td>news20_0.01_10_0.3</td>\n",
       "      <td>2</td>\n",
       "      <td>42336.338540</td>\n",
       "      <td>8075</td>\n",
       "      <td>8076</td>\n",
       "      <td>0.288556</td>\n",
       "      <td>0.049667</td>\n",
       "      <td>192596</td>\n",
       "      <td>1003</td>\n",
       "    </tr>\n",
       "    <tr>\n",
       "      <th>123</th>\n",
       "      <td>news20_0.01_100_0.1</td>\n",
       "      <td>2</td>\n",
       "      <td>42336.135093</td>\n",
       "      <td>31690</td>\n",
       "      <td>31691</td>\n",
       "      <td>0.238812</td>\n",
       "      <td>0.017092</td>\n",
       "      <td>14684</td>\n",
       "      <td>374</td>\n",
       "    </tr>\n",
       "    <tr>\n",
       "      <th>126</th>\n",
       "      <td>news20_0.01_100_0.2</td>\n",
       "      <td>2</td>\n",
       "      <td>42336.215793</td>\n",
       "      <td>27522</td>\n",
       "      <td>27523</td>\n",
       "      <td>0.278992</td>\n",
       "      <td>0.275475</td>\n",
       "      <td>16311</td>\n",
       "      <td>629</td>\n",
       "    </tr>\n",
       "    <tr>\n",
       "      <th>129</th>\n",
       "      <td>news20_0.01_100_0.3</td>\n",
       "      <td>2</td>\n",
       "      <td>42337.113809</td>\n",
       "      <td>28541</td>\n",
       "      <td>28543</td>\n",
       "      <td>0.279058</td>\n",
       "      <td>0.000181</td>\n",
       "      <td>18927</td>\n",
       "      <td>433</td>\n",
       "    </tr>\n",
       "  </tbody>\n",
       "</table>\n",
       "</div>"
      ],
      "text/plain": [
       "               datasetid  status          time  iteration  subits         F  \\\n",
       "96     news20_0.1_10_0.1       2  42337.009447      11214   11215  0.539944   \n",
       "114   news20_0.01_10_0.1       2  42336.793848      10069   10070  0.264566   \n",
       "117   news20_0.01_10_0.2       2  42339.589359       9311    9312  0.275395   \n",
       "120   news20_0.01_10_0.3       2  42336.338540       8075    8076  0.288556   \n",
       "123  news20_0.01_100_0.1       2  42336.135093      31690   31691  0.238812   \n",
       "126  news20_0.01_100_0.2       2  42336.215793      27522   27523  0.278992   \n",
       "129  news20_0.01_100_0.3       2  42337.113809      28541   28543  0.279058   \n",
       "\n",
       "        optim      nz   nnz  \n",
       "96   0.000033  150467   110  \n",
       "114  0.003151  149768   809  \n",
       "117  0.136114  168350  1049  \n",
       "120  0.049667  192596  1003  \n",
       "123  0.017092   14684   374  \n",
       "126  0.275475   16311   629  \n",
       "129  0.000181   18927   433  "
      ]
     },
     "execution_count": 39,
     "metadata": {},
     "output_type": "execute_result"
    }
   ],
   "source": [
    "yd['yd-0.2'][yd['yd-0.2']['status'] == 2]"
   ]
  },
  {
   "cell_type": "code",
   "execution_count": 40,
   "metadata": {},
   "outputs": [
    {
     "data": {
      "text/html": [
       "<div>\n",
       "<style scoped>\n",
       "    .dataframe tbody tr th:only-of-type {\n",
       "        vertical-align: middle;\n",
       "    }\n",
       "\n",
       "    .dataframe tbody tr th {\n",
       "        vertical-align: top;\n",
       "    }\n",
       "\n",
       "    .dataframe thead th {\n",
       "        text-align: right;\n",
       "    }\n",
       "</style>\n",
       "<table border=\"1\" class=\"dataframe\">\n",
       "  <thead>\n",
       "    <tr style=\"text-align: right;\">\n",
       "      <th></th>\n",
       "      <th>datasetid</th>\n",
       "      <th>status</th>\n",
       "      <th>time</th>\n",
       "      <th>iteration</th>\n",
       "      <th>subits</th>\n",
       "      <th>F</th>\n",
       "      <th>optim</th>\n",
       "      <th>nz</th>\n",
       "      <th>nnz</th>\n",
       "    </tr>\n",
       "  </thead>\n",
       "  <tbody>\n",
       "    <tr>\n",
       "      <th>96</th>\n",
       "      <td>news20_0.1_10_0.1</td>\n",
       "      <td>2</td>\n",
       "      <td>43203.450633</td>\n",
       "      <td>9852</td>\n",
       "      <td>9853</td>\n",
       "      <td>0.539944</td>\n",
       "      <td>NaN</td>\n",
       "      <td>150467</td>\n",
       "      <td>110</td>\n",
       "    </tr>\n",
       "    <tr>\n",
       "      <th>102</th>\n",
       "      <td>news20_0.1_10_0.3</td>\n",
       "      <td>2</td>\n",
       "      <td>43202.027423</td>\n",
       "      <td>7412</td>\n",
       "      <td>7432</td>\n",
       "      <td>0.563337</td>\n",
       "      <td>0.000013</td>\n",
       "      <td>193493</td>\n",
       "      <td>106</td>\n",
       "    </tr>\n",
       "    <tr>\n",
       "      <th>114</th>\n",
       "      <td>news20_0.01_10_0.1</td>\n",
       "      <td>2</td>\n",
       "      <td>43201.576624</td>\n",
       "      <td>8850</td>\n",
       "      <td>8856</td>\n",
       "      <td>0.264712</td>\n",
       "      <td>0.003810</td>\n",
       "      <td>149758</td>\n",
       "      <td>819</td>\n",
       "    </tr>\n",
       "    <tr>\n",
       "      <th>117</th>\n",
       "      <td>news20_0.01_10_0.2</td>\n",
       "      <td>2</td>\n",
       "      <td>43204.735494</td>\n",
       "      <td>7858</td>\n",
       "      <td>7863</td>\n",
       "      <td>0.275592</td>\n",
       "      <td>0.004361</td>\n",
       "      <td>168508</td>\n",
       "      <td>891</td>\n",
       "    </tr>\n",
       "    <tr>\n",
       "      <th>120</th>\n",
       "      <td>news20_0.01_10_0.3</td>\n",
       "      <td>2</td>\n",
       "      <td>43205.165999</td>\n",
       "      <td>7134</td>\n",
       "      <td>7139</td>\n",
       "      <td>0.288750</td>\n",
       "      <td>0.005102</td>\n",
       "      <td>192625</td>\n",
       "      <td>974</td>\n",
       "    </tr>\n",
       "    <tr>\n",
       "      <th>123</th>\n",
       "      <td>news20_0.01_100_0.1</td>\n",
       "      <td>2</td>\n",
       "      <td>43201.153290</td>\n",
       "      <td>30452</td>\n",
       "      <td>30459</td>\n",
       "      <td>0.238812</td>\n",
       "      <td>NaN</td>\n",
       "      <td>14686</td>\n",
       "      <td>372</td>\n",
       "    </tr>\n",
       "    <tr>\n",
       "      <th>126</th>\n",
       "      <td>news20_0.01_100_0.2</td>\n",
       "      <td>2</td>\n",
       "      <td>43201.440947</td>\n",
       "      <td>28155</td>\n",
       "      <td>28159</td>\n",
       "      <td>0.278927</td>\n",
       "      <td>NaN</td>\n",
       "      <td>16596</td>\n",
       "      <td>344</td>\n",
       "    </tr>\n",
       "    <tr>\n",
       "      <th>129</th>\n",
       "      <td>news20_0.01_100_0.3</td>\n",
       "      <td>2</td>\n",
       "      <td>43201.398600</td>\n",
       "      <td>25464</td>\n",
       "      <td>25471</td>\n",
       "      <td>0.279060</td>\n",
       "      <td>0.000266</td>\n",
       "      <td>18926</td>\n",
       "      <td>434</td>\n",
       "    </tr>\n",
       "  </tbody>\n",
       "</table>\n",
       "</div>"
      ],
      "text/plain": [
       "               datasetid  status          time  iteration  subits         F  \\\n",
       "96     news20_0.1_10_0.1       2  43203.450633       9852    9853  0.539944   \n",
       "102    news20_0.1_10_0.3       2  43202.027423       7412    7432  0.563337   \n",
       "114   news20_0.01_10_0.1       2  43201.576624       8850    8856  0.264712   \n",
       "117   news20_0.01_10_0.2       2  43204.735494       7858    7863  0.275592   \n",
       "120   news20_0.01_10_0.3       2  43205.165999       7134    7139  0.288750   \n",
       "123  news20_0.01_100_0.1       2  43201.153290      30452   30459  0.238812   \n",
       "126  news20_0.01_100_0.2       2  43201.440947      28155   28159  0.278927   \n",
       "129  news20_0.01_100_0.3       2  43201.398600      25464   25471  0.279060   \n",
       "\n",
       "        optim      nz  nnz  \n",
       "96        NaN  150467  110  \n",
       "102  0.000013  193493  106  \n",
       "114  0.003810  149758  819  \n",
       "117  0.004361  168508  891  \n",
       "120  0.005102  192625  974  \n",
       "123       NaN   14686  372  \n",
       "126       NaN   16596  344  \n",
       "129  0.000266   18926  434  "
      ]
     },
     "execution_count": 40,
     "metadata": {},
     "output_type": "execute_result"
    }
   ],
   "source": [
    "lee['lee-0.5'][lee['lee-0.5']['status'] == 2]"
   ]
  },
  {
   "cell_type": "code",
   "execution_count": 20,
   "metadata": {},
   "outputs": [
    {
     "name": "stdout",
     "output_type": "stream",
     "text": [
      "schimdt-1000.0 lee-0.5 yd-0.2\n"
     ]
    }
   ],
   "source": [
    "print(schimdt_best, lee_best, yd_best)\n",
    "cols = ['datasetid', 'F', 'time', 'nz']\n",
    "schimdt_df = schimdt[schimdt_best][cols].copy()\n",
    "lee_df = lee[lee_best][cols].copy()\n",
    "yd_df = yd[yd_best][cols].copy()"
   ]
  },
  {
   "cell_type": "code",
   "execution_count": 21,
   "metadata": {},
   "outputs": [
    {
     "name": "stdout",
     "output_type": "stream",
     "text": [
      "For yd-lee comparsion:\n",
      "==========================\n",
      " In terms final F:\n",
      "  better:10 | same:115 | worse: 7\n",
      " In terms #z:\n",
      "  better:4 | same:118 | worse: 10\n"
     ]
    },
    {
     "data": {
      "text/plain": [
       "(4, 118, 10, 10, 115, 7)"
      ]
     },
     "execution_count": 21,
     "metadata": {},
     "output_type": "execute_result"
    }
   ],
   "source": [
    "pair_wise_comparison(yd_df, lee_df, suffixes_lst=['yd', 'lee'])"
   ]
  },
  {
   "cell_type": "code",
   "execution_count": 22,
   "metadata": {},
   "outputs": [
    {
     "name": "stdout",
     "output_type": "stream",
     "text": [
      "For yd-schimdt comparsion:\n",
      "==========================\n",
      " In terms final F:\n",
      "  better:24 | same:103 | worse: 5\n",
      " In terms #z:\n",
      "  better:5 | same:121 | worse: 6\n"
     ]
    },
    {
     "data": {
      "text/plain": [
       "(5, 121, 6, 24, 103, 5)"
      ]
     },
     "execution_count": 22,
     "metadata": {},
     "output_type": "execute_result"
    }
   ],
   "source": [
    "pair_wise_comparison(yd_df, schimdt_df, suffixes_lst=['yd', 'schimdt'])"
   ]
  },
  {
   "cell_type": "code",
   "execution_count": 23,
   "metadata": {},
   "outputs": [
    {
     "name": "stdout",
     "output_type": "stream",
     "text": [
      "For lee-schimdt comparsion:\n",
      "==========================\n",
      " In terms final F:\n",
      "  better:23 | same:103 | worse: 6\n",
      " In terms #z:\n",
      "  better:8 | same:118 | worse: 6\n"
     ]
    },
    {
     "data": {
      "text/plain": [
       "(8, 118, 6, 23, 103, 6)"
      ]
     },
     "execution_count": 23,
     "metadata": {},
     "output_type": "execute_result"
    }
   ],
   "source": [
    "pair_wise_comparison(lee_df, schimdt_df, suffixes_lst=['lee', 'schimdt'])"
   ]
  },
  {
   "cell_type": "code",
   "execution_count": 42,
   "metadata": {},
   "outputs": [
    {
     "name": "stdout",
     "output_type": "stream",
     "text": [
      "All algorithms failed in 23 instances (failure code [1, 2, 4])\n",
      "Metrics for failed instances are overwritten with np.inf\n",
      "After subsetting, 109 instances are kept.\n",
      "yd-0.2 Win:57 | Lose:52\n",
      "yd-0.2 Win:60 | Lose:49\n",
      "lee-0.5 Win:63 | Lose:45\n"
     ]
    },
    {
     "data": {
      "image/png": "[encoded data removed]",
      "text/plain": [
       "<Figure size 432x288 with 1 Axes>"
      ]
     },
     "metadata": {
      "needs_background": "light"
     },
     "output_type": "display_data"
    },
    {
     "data": {
      "image/png": "[encoded data removed]",
      "text/plain": [
       "<Figure size 432x288 with 1 Axes>"
      ]
     },
     "metadata": {
      "needs_background": "light"
     },
     "output_type": "display_data"
    },
    {
     "data": {
      "image/png": "[encoded data removed]",
      "text/plain": [
       "<Figure size 432x288 with 1 Axes>"
      ]
     },
     "metadata": {
      "needs_background": "light"
     },
     "output_type": "display_data"
    }
   ],
   "source": [
    "final = {}\n",
    "final[yd_best] = yd[yd_best]\n",
    "final[lee_best] = lee[lee_best]\n",
    "final[schimdt_best] = schimdt[schimdt_best]\n",
    "ppf = PerformanceProfile(final, failcode=[1,2,4])\n",
    "ppf.get_subset_by_time(threshold=1, remove_failed=True)\n",
    "_ = ppf.plot(column='time',show_num=False, options={'ratio_max':2.5}, save=True, saveDir='./natOG/', labels=['option I\\ \\ \\ ', 'option II\\ \\ ', 'option III'])"
   ]
  },
  {
   "cell_type": "code",
   "execution_count": 64,
   "metadata": {},
   "outputs": [],
   "source": [
    "yd_best_ = final[yd_best].sort_values('datasetid')\n",
    "lee_best_ = final[lee_best].sort_values('datasetid')\n",
    "schimdt_best_ = final[schimdt_best].sort_values('datasetid')"
   ]
  },
  {
   "cell_type": "code",
   "execution_count": 72,
   "metadata": {},
   "outputs": [],
   "source": [
    "bigtable = {'datasetid':[], '\\optone{}':[], '\\opttwo{}':[], '\\optthree{}':[]}\n",
    "for i in range(final[yd_best].shape[0]):\n",
    "    bigtable['datasetid'].append(yd_best_.iloc[i,:]['datasetid'])\n",
    "    temp = yd_best_\n",
    "    bigtable['\\optone{}'].append(f\"{temp.iloc[i,:]['status']} / {temp.iloc[i,:]['time']:.2f} / {temp.iloc[i,:]['iteration']:6d} /  {temp.iloc[i,:]['subits']:6d} / {temp.iloc[i,:]['F']:.3f} / {temp.iloc[i,:]['nz']:6d} / {temp.iloc[i,:]['nnz']:6d}\")\n",
    "    temp = lee_best_\n",
    "    bigtable['\\opttwo{}'].append(f\"{temp.iloc[i,:]['status']} / {temp.iloc[i,:]['time']:.2f} / {temp.iloc[i,:]['iteration']:6d} /  {temp.iloc[i,:]['subits']:6d} / {temp.iloc[i,:]['F']:.3f} / {temp.iloc[i,:]['nz']:6d} / {temp.iloc[i,:]['nnz']:6d}\")\n",
    "    temp = schimdt_best_\n",
    "    bigtable['\\optthree{}'].append(f\"{temp.iloc[i,:]['status']} / {temp.iloc[i,:]['time']:.2f} / {temp.iloc[i,:]['iteration']:6d} /  {temp.iloc[i,:]['subits']:6d} / {temp.iloc[i,:]['F']:.3f} / {temp.iloc[i,:]['nz']:6d} / {temp.iloc[i,:]['nnz']:6d}\")"
   ]
  },
  {
   "cell_type": "code",
   "execution_count": 79,
   "metadata": {},
   "outputs": [],
   "source": [
    "df=pd.DataFrame.from_dict(bigtable)\n",
    "df.columns = ['datasetid', '\\optone{}(status/time/out-its/in-its/F/#z/#nz)', '\\opttwo{}(status/time/out-its/in-its/F/#z/#nz)', '\\optthree{}(status/time/out-its/in-its/F/#z/#nz)']\n",
    "filename = 'bigtable.tex'\n",
    "with pd.option_context(\"max_colwidth\", 1000):\n",
    "    table = df.to_latex(index=False, escape=True)\n",
    "with open(filename, 'w') as out:\n",
    "    out.write(table)"
   ]
  },
  {
   "cell_type": "code",
   "execution_count": 77,
   "metadata": {},
   "outputs": [
    {
     "data": {
      "text/plain": [
       "Index(['datasetid', '\\optone{}', '\\opttwo{}', '\\optthree{}'], dtype='object')"
      ]
     },
     "execution_count": 77,
     "metadata": {},
     "output_type": "execute_result"
    }
   ],
   "source": []
  },
  {
   "cell_type": "code",
   "execution_count": 25,
   "metadata": {},
   "outputs": [],
   "source": [
    "# class PPFSUCCESS:\n",
    "#     def __init__(self, algo_df_dic, success_code=[0]):\n",
    "#         self.algo_lst = [*algo_df_dic.keys()]\n",
    "#         self.algo_df_dic = deepcopy(algo_df_dic)\n",
    "#         fail_idx = algo_df_dic[self.algo_lst[0]].index\n",
    "#         for algo in self.algo_lst:\n",
    "#             frame = self.algo_df_dic[algo]\n",
    "#             temp = frame[~frame['status'].isin(success_code)].index\n",
    "#             fail_idx = fail_idx.intersection(temp)\n",
    "#         print(f\"In {len(fail_idx)} failed cases, there is at least one algorithm failed\")\n",
    "#         for algo in self.algo_lst:\n",
    "#             frame = self.algo_df_dic[algo]\n",
    "#             frame = frame.loc[~frame.index.isin(fail_idx)]\n",
    "#             self.algo_df_dic[algo] = frame\n",
    "#     def plot(self, column, options={}, save=False, saveDir='./', ext=None, dpi=300, \n",
    "#     show_num=False, use_tt=True, plot=True, auc=True, factor=1.5, format='pdf', labels=None):\n",
    "#         if 'color' not in options.keys():\n",
    "#             options['color'] = 'rgb'\n",
    "#         if 'ratio_max' not in options.keys():\n",
    "#             options['ratio_max'] = 1\n",
    "#         self.options = options\n",
    "#         self.num_algo = len(self.algo_lst)\n",
    "#         pools = {}\n",
    "#         for i in range(self.num_algo - 1):\n",
    "#             for j in range(i + 1, self.num_algo):\n",
    "#                 algo1 = self.algo_lst[i]\n",
    "#                 algo2 = self.algo_lst[j]\n",
    "#                 if labels is not None:\n",
    "#                     algo1_label = labels[i]\n",
    "#                     algo2_label = labels[j]\n",
    "#                 data1 = self.algo_df_dic[algo1][column].copy()\n",
    "#                 data2 = self.algo_df_dic[algo2][column].copy()\n",
    "#                 data1.loc[data1 < 0] = np.inf\n",
    "#                 data2.loc[data2 < 0] = np.inf\n",
    "#                 ratio = (data1 / data2).to_numpy()\n",
    "#                 ratio[ratio == 0] = 1e-16\n",
    "#                 ratio = -np.log2(ratio)\n",
    "#                 ratio[ratio == -np.log2(1e-16)] = np.inf\n",
    "#                 ratio = ratio[~np.isnan(ratio)]\n",
    "#                 bars_pos = np.zeros(ratio.shape)\n",
    "#                 bars_neg = np.zeros(ratio.shape)\n",
    "#                 flag = ratio > 0\n",
    "#                 bars_pos[flag] = ratio[flag]\n",
    "#                 bars_neg[~flag] = ratio[~flag]\n",
    "#                 if auc:\n",
    "#                     posmax = np.max(bars_pos[bars_pos != np.inf])\n",
    "#                     negmin = np.min(bars_neg[bars_neg != -np.inf])\n",
    "#                     ratio_max = max(posmax, -negmin)\n",
    "#                     bars_pos[bars_pos == np.inf] = ratio_max * factor\n",
    "#                     bars_neg[bars_neg == -np.inf] = -ratio_max * factor\n",
    "#                     self.bars_pos = bars_pos\n",
    "#                     self.bars_neg = bars_neg\n",
    "#                 else:\n",
    "#                     bars_pos[bars_pos == np.inf] = self.options['ratio_max']\n",
    "#                     bars_neg[bars_neg == -np.inf] = -self.options['ratio_max']\n",
    "#                 # sort in descending order\n",
    "#                 bars_pos[::-1].sort()\n",
    "#                 bars_neg[::-1].sort()\n",
    "#                 if auc:\n",
    "#                     win_auc = np.around(np.sum(bars_pos), 3)\n",
    "#                     lose_auc = np.around(np.abs(np.sum(bars_neg)), 3)\n",
    "#                 win = sum(flag)\n",
    "#                 lose = sum(ratio < 0)\n",
    "#                 if plot:\n",
    "#                     figure = plt.figure()\n",
    "#                     if show_num:\n",
    "#                         if labels is None:\n",
    "#                             label_1 = algo1 + ' {}'.format(win)\n",
    "#                             label_2 = algo2 + ' {}'.format(lose)\n",
    "#                         else:\n",
    "#                             label_1 = algo1_label + ' {}'.format(win)\n",
    "#                             label_2 = algo2_label + ' {}'.format(lose)\n",
    "#                         if auc:\n",
    "#                             label_1 += f' auc:{win_auc}'\n",
    "#                             label_2 += f' auc:{lose_auc}'\n",
    "#                     else:\n",
    "#                         if labels is None:\n",
    "#                             label_1 = algo1\n",
    "#                             label_2 = algo2\n",
    "#                         else:\n",
    "#                             label_1 = algo1_label\n",
    "#                             label_2 = algo2_label\n",
    "#                         if auc:\n",
    "#                             label_1 += f' auc:{win_auc}'\n",
    "#                             label_2 += f' auc:{lose_auc}'\n",
    "#                         print('{} Win:{} | Lose:{}'.format(algo1, win, lose))\n",
    "#                     if use_tt:\n",
    "#                         label_1 = r'\\texttt{{{}}}'.format(label_1)\n",
    "#                         label_2 = r'\\texttt{{{}}}'.format(label_2)\n",
    "#                     if self.options['color'] == 'bw':\n",
    "#                         plt.bar(range(len(bars_pos)), bars_pos, color=[32 / 225, 32 / 225, 32 / 225, 1], label=label_1, width=1)\n",
    "#                         plt.bar(range(len(bars_neg)), bars_neg, color=[192 / 225, 192 / 225, 192 / 225, 1], label=label_2, width=1)\n",
    "#                     else:\n",
    "#                         plt.bar(range(len(bars_pos)), bars_pos, color='b', label=label_1, width=1)\n",
    "#                         plt.bar(range(len(bars_neg)), bars_neg, color='r', label=label_2, width=1)\n",
    "#                     plt.xlim(-1, len(bars_pos) + 1)\n",
    "#                     plt.ylim(-self.options['ratio_max'], self.options['ratio_max'])\n",
    "#                     plt.legend()\n",
    "#                     plt.hlines(y=0, xmin=0 - 0.5, xmax=len(bars_pos) - 0.5, linewidth=1)\n",
    "#                     plt.ylabel('-log2(ratio)', fontsize=13)\n",
    "\n",
    "#                     if column == 'time':\n",
    "#                         text = 'computational time'\n",
    "#                     elif column == 'fevals':\n",
    "#                         text = 'function evaluations'\n",
    "#                     elif column == 'iteration':\n",
    "#                         text = 'iterations'\n",
    "#                     elif column == 'subgrad_iters':\n",
    "#                         text = 'subgradient iterations'\n",
    "#                     else:\n",
    "#                         text = column\n",
    "#                     if auc:\n",
    "#                         plt.title(\"Metric: {} (Area Under the Curve)\".format(text))\n",
    "#                     else:\n",
    "#                         plt.title(\"Metric: {}\".format(text))\n",
    "#                     if save:\n",
    "#                         if ext is None:\n",
    "#                             filename = saveDir + '/{}-{}_{}.{}'.format(algo1, algo2, column, format)\n",
    "#                         else:\n",
    "#                             filename = saveDir + '/{}-{}_{}_{}.{}'.format(algo1, algo2, column, ext, format)\n",
    "#                         # metrics\n",
    "#                         if dpi:\n",
    "#                             figure.savefig(filename, dpi=dpi)\n",
    "#                         else:\n",
    "#                             figure.savefig(filename)\n",
    "#                 else:\n",
    "#                     key = f'{algo1}_{algo2}'\n",
    "#                     if auc:\n",
    "#                         pools[key] = (win_auc, lose_auc, algo1, algo2)\n",
    "#                     else:\n",
    "#                         pools[key] = (win, lose, algo1, algo2)\n",
    "#         return pools"
   ]
  },
  {
   "cell_type": "code",
   "execution_count": 26,
   "metadata": {},
   "outputs": [],
   "source": [
    "# ppfs = PPFSUCCESS(final, success_code=[0])"
   ]
  },
  {
   "cell_type": "code",
   "execution_count": 27,
   "metadata": {},
   "outputs": [],
   "source": [
    "# _ = ppfs.plot(column='time',show_num=False, options={'ratio_max':6}, save=False, saveDir='./natOG/', labels=['option I\\ \\ \\ ', 'option II\\ \\ ', 'option III'])"
   ]
  },
  {
   "cell_type": "code",
   "execution_count": 28,
   "metadata": {},
   "outputs": [],
   "source": [
    "# frame = final[yd_best]\n",
    "# idx1 = frame[~frame['status'].isin([0])].index\n",
    "# # final[yd_best][~final[yd_best]['status'].isin([0])]"
   ]
  },
  {
   "cell_type": "code",
   "execution_count": 29,
   "metadata": {},
   "outputs": [],
   "source": [
    "# frame2 = final[schimdt_best]\n",
    "# idx2 = frame2[~frame2['status'].isin([0])].index"
   ]
  },
  {
   "cell_type": "code",
   "execution_count": 30,
   "metadata": {},
   "outputs": [],
   "source": [
    "# frame.iloc[idx1.intersection(idx2)]"
   ]
  },
  {
   "cell_type": "code",
   "execution_count": 31,
   "metadata": {},
   "outputs": [],
   "source": [
    "# frame2.iloc[idx1.intersection(idx2)]"
   ]
  },
  {
   "cell_type": "code",
   "execution_count": 32,
   "metadata": {},
   "outputs": [],
   "source": [
    "# frame.index.intersection(idx2)"
   ]
  },
  {
   "cell_type": "code",
   "execution_count": null,
   "metadata": {},
   "outputs": [],
   "source": []
  }
 ],
 "metadata": {
  "kernelspec": {
   "display_name": "Python 3",
   "language": "python",
   "name": "python3"
  },
  "language_info": {
   "codemirror_mode": {
    "name": "ipython",
    "version": 3
   },
   "file_extension": ".py",
   "mimetype": "text/x-python",
   "name": "python",
   "nbconvert_exporter": "python",
   "pygments_lexer": "ipython3",
   "version": "3.7.7"
  }
 },
 "nbformat": 4,
 "nbformat_minor": 4
}
