{
 "cells": [
  {
   "cell_type": "code",
   "execution_count": 1,
   "metadata": {},
   "outputs": [],
   "source": [
    "import matplotlib.pyplot as plt\n",
    "from matplotlib import rc\n",
    "from plotutils import *\n",
    "rc('text', usetex=True)"
   ]
  },
  {
   "cell_type": "markdown",
   "metadata": {},
   "source": [
    "# parameter tuning"
   ]
  },
  {
   "cell_type": "code",
   "execution_count": 2,
   "metadata": {},
   "outputs": [],
   "source": [
    "date = '10_02_2021'\n",
    "tol = 1e-5"
   ]
  },
  {
   "cell_type": "code",
   "execution_count": 3,
   "metadata": {},
   "outputs": [
    {
     "name": "stdout",
     "output_type": "stream",
     "text": [
      "lee-0.1\n",
      " 67/72 instances terminate with status:  0\n",
      "  5/72 instances terminate with status:  4\n",
      "lee-0.2\n",
      " 67/72 instances terminate with status:  0\n",
      "  5/72 instances terminate with status:  4\n",
      "lee-0.3\n",
      " 68/72 instances terminate with status:  0\n",
      "  4/72 instances terminate with status:  4\n",
      "lee-0.4\n",
      " 68/72 instances terminate with status:  0\n",
      "  4/72 instances terminate with status:  4\n",
      "lee-0.5\n",
      " 68/72 instances terminate with status:  0\n",
      "  4/72 instances terminate with status:  4\n"
     ]
    }
   ],
   "source": [
    "lee = get_all(logdir='../IPG/test/log', date=[date], inexact_type='lee', loss='logit', use_ckpt=True, tol = tol, \n",
    "        lam_shrink=[0.1, 0.01], group_size=[10, 100], overlap_ratio=[0.1, 0.2, 0.3], excludes=['madelon'], param_lst=[0.1, 0.2, 0.3, 0.4, 0.5]) # 0.6, 0.7, 0.8, 0.9\n",
    "lee_time = collect_time(lee)"
   ]
  },
  {
   "cell_type": "code",
   "execution_count": 4,
   "metadata": {},
   "outputs": [
    {
     "name": "stdout",
     "output_type": "stream",
     "text": [
      "All algorithms failed in 0 instances (failure code [-2])\n",
      "Metrics for failed instances are overwritten with np.inf\n",
      "After subsetting, 72 instances are kept.\n",
      "=================\n",
      "Best params: lee-0.5\n"
     ]
    }
   ],
   "source": [
    "# lee = get_all(logdir='../IPG/test/log', date=date, inexact_type='lee', loss='logit', use_ckpt=True, tol = tol, \n",
    "#         lam_shrink=[0.1, 0.01], group_size=[10, 100], overlap_ratio=[0.1, 0.2, 0.3], excludes=['madelon'], param_lst=[0.1, 0.2, 0.3, 0.4, 0.5])\n",
    "ppf = PerformanceProfile(lee)\n",
    "ppf.get_subset_by_time(threshold=1, remove_failed=True)\n",
    "pools = ppf.plot(column='time', show_num=True, options={'ratio_max':4}, plot=False)\n",
    "print(\"=================\")\n",
    "lee_best = get_best(pools)\n",
    "print('Best params:', lee_best)"
   ]
  },
  {
   "cell_type": "code",
   "execution_count": 5,
   "metadata": {},
   "outputs": [
    {
     "name": "stdout",
     "output_type": "stream",
     "text": [
      "lee-0.5\n",
      " 68/72 instances terminate with status:  0\n",
      "  4/72 instances terminate with status:  4\n"
     ]
    }
   ],
   "source": [
    "leelee = get_all(logdir='../IPG/test/log', date=[date], inexact_type='lee', loss='logit', use_ckpt=True, tol = tol, \n",
    "        lam_shrink=[0.1, 0.01], group_size=[10, 100], overlap_ratio=[0.1, 0.2, 0.3], param_lst=[0.5])"
   ]
  },
  {
   "cell_type": "code",
   "execution_count": 6,
   "metadata": {},
   "outputs": [
    {
     "name": "stdout",
     "output_type": "stream",
     "text": [
      "yd-0.2\n",
      " 71/72 instances terminate with status:  0\n",
      "  1/72 instances terminate with status:  4\n"
     ]
    }
   ],
   "source": [
    "ydlee = get_all(logdir='../IPG/test/log', date=['09_30_2021'], inexact_type='yd', loss='logit', use_ckpt=True, tol = tol, \n",
    "        lam_shrink=[0.1, 0.01], group_size=[10, 100], overlap_ratio=[0.1, 0.2, 0.3], param_lst=[0.2])"
   ]
  },
  {
   "cell_type": "code",
   "execution_count": 7,
   "metadata": {},
   "outputs": [
    {
     "name": "stdout",
     "output_type": "stream",
     "text": [
      "For ydlee-leelee comparsion:\n",
      "==========================\n",
      " In terms final F:\n",
      "  better:1 | same:70 | worse: 1\n",
      " In terms #z:\n",
      "  better:0 | same:67 | worse: 5\n"
     ]
    },
    {
     "data": {
      "text/plain": [
       "(0, 67, 5, 1, 70, 1)"
      ]
     },
     "execution_count": 7,
     "metadata": {},
     "output_type": "execute_result"
    }
   ],
   "source": [
    "pair_wise_comparison(ydlee['yd-0.2'], leelee[lee_best], suffixes_lst=['ydlee', 'leelee'])"
   ]
  },
  {
   "cell_type": "code",
   "execution_count": 8,
   "metadata": {},
   "outputs": [],
   "source": [
    "# final = {}\n",
    "# final['yd-0.2'] = ydlee['yd-0.2']\n",
    "# final[lee_best] = leelee[lee_best]\n",
    "# ppf = PerformanceProfile(final, failcode=4)\n",
    "# ppf.get_subset_by_time(threshold=1, remove_failed=True)\n",
    "# _ = ppf.plot(column='time',show_num=False, options={'ratio_max':6}, save=False, saveDir='./natOG/', labels=['option I\\ \\ \\ ', 'option II\\ \\ ', 'option III'])"
   ]
  },
  {
   "cell_type": "markdown",
   "metadata": {},
   "source": [
    "# Plots"
   ]
  },
  {
   "cell_type": "code",
   "execution_count": 9,
   "metadata": {},
   "outputs": [],
   "source": [
    "lee_best = 'lee-0.5'"
   ]
  },
  {
   "cell_type": "code",
   "execution_count": 10,
   "metadata": {},
   "outputs": [
    {
     "name": "stdout",
     "output_type": "stream",
     "text": [
      "lee-0.5\n",
      " 106/132 instances terminate with status:  0\n",
      "   4/132 instances terminate with status:  4\n",
      "  12/132 instances terminate with status:  1\n",
      "  10/132 instances terminate with status:  2\n"
     ]
    }
   ],
   "source": [
    "leelee = get_all(logdir='../IPG/test/log', date=['10_02_2021','10_03_2021'], inexact_type='lee', loss='logit', use_ckpt=True, tol = tol, \n",
    "        lam_shrink=[0.1, 0.01], group_size=[10, 100], overlap_ratio=[0.1, 0.2, 0.3], param_lst=[0.5])"
   ]
  },
  {
   "cell_type": "code",
   "execution_count": 11,
   "metadata": {},
   "outputs": [
    {
     "name": "stdout",
     "output_type": "stream",
     "text": [
      "yd-0.2\n",
      " 108/132 instances terminate with status:  0\n",
      "   1/132 instances terminate with status:  4\n",
      "  16/132 instances terminate with status:  1\n",
      "   7/132 instances terminate with status:  2\n"
     ]
    }
   ],
   "source": [
    "ydlee = get_all(logdir='../IPG/test/log', date=['09_30_2021','09_28_2021', '09_29_2021'], inexact_type='yd', loss='logit', use_ckpt=True, tol = tol, \n",
    "        lam_shrink=[0.1, 0.01], group_size=[10, 100], overlap_ratio=[0.1, 0.2, 0.3], param_lst=[0.2])"
   ]
  },
  {
   "cell_type": "code",
   "execution_count": 12,
   "metadata": {},
   "outputs": [],
   "source": [
    "cols = ['datasetid', 'F', 'time', 'nz']\n",
    "lee_df = leelee[lee_best][cols].copy()\n",
    "yd_df = ydlee['yd-0.2'][cols].copy()"
   ]
  },
  {
   "cell_type": "code",
   "execution_count": 13,
   "metadata": {},
   "outputs": [
    {
     "name": "stdout",
     "output_type": "stream",
     "text": [
      "For yd-lee comparsion:\n",
      "==========================\n",
      " In terms final F:\n",
      "  better:19 | same:109 | worse: 4\n",
      " In terms #z:\n",
      "  better:2 | same:120 | worse: 10\n"
     ]
    },
    {
     "data": {
      "text/plain": [
       "(2, 120, 10, 19, 109, 4)"
      ]
     },
     "execution_count": 13,
     "metadata": {},
     "output_type": "execute_result"
    }
   ],
   "source": [
    "pair_wise_comparison(yd_df, lee_df, suffixes_lst=['yd', 'lee'])"
   ]
  },
  {
   "cell_type": "code",
   "execution_count": 14,
   "metadata": {},
   "outputs": [
    {
     "name": "stdout",
     "output_type": "stream",
     "text": [
      "All algorithms failed in 23 instances (failure code [1, 2, 4])\n",
      "Metrics for failed instances are overwritten with np.inf\n",
      "After subsetting, 108 instances are kept.\n",
      "ydlee-0.2 Win:68 | Lose:25\n"
     ]
    },
    {
     "data": {
      "image/png": "[encoded data removed]",
      "text/plain": [
       "<Figure size 432x288 with 1 Axes>"
      ]
     },
     "metadata": {
      "needs_background": "light"
     },
     "output_type": "display_data"
    }
   ],
   "source": [
    "final = {}\n",
    "final['ydlee-0.2'] = ydlee['yd-0.2']\n",
    "final['leelee-0.5'] = leelee[lee_best]\n",
    "ppf = PerformanceProfile(final, failcode=[1,2,4])\n",
    "ppf.get_subset_by_time(threshold=1, remove_failed=True)\n",
    "_ = ppf.plot(column='time',show_num=False, options={'ratio_max':6}, save=True, saveDir='./natOG/', labels=['option II', 'ISQA-2V1\\ \\ '])"
   ]
  },
  {
   "cell_type": "code",
   "execution_count": 23,
   "metadata": {},
   "outputs": [],
   "source": [
    "# df12_merged = pd.merge(ydlee['yd-0.2'], leelee['lee-0.5'], on='datasetid', \n",
    "#                            suffixes=('ydlee', 'leelee'), how='left')\n",
    "# # df12_merged[['datasetid', 'statusydlee', 'statusleelee', 'timeydlee', 'timeleelee', 'nzydlee', 'nzleelee', 'nnzydlee', 'nnzleelee']].head(60)\n",
    "# df12_merged[df12_merged['nzydlee'] < df12_merged['nzleelee']][['datasetid', 'statusydlee', 'statusleelee', 'timeydlee', 'timeleelee', 'nzydlee', 'nzleelee', 'nnzydlee', 'nnzleelee']]"
   ]
  }
 ],
 "metadata": {
  "kernelspec": {
   "display_name": "Python 3",
   "language": "python",
   "name": "python3"
  },
  "language_info": {
   "codemirror_mode": {
    "name": "ipython",
    "version": 3
   },
   "file_extension": ".py",
   "mimetype": "text/x-python",
   "name": "python",
   "nbconvert_exporter": "python",
   "pygments_lexer": "ipython3",
   "version": "3.7.7"
  }
 },
 "nbformat": 4,
 "nbformat_minor": 4
}
