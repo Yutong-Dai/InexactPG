{
 "cells": [
  {
   "cell_type": "code",
   "execution_count": 24,
   "metadata": {},
   "outputs": [],
   "source": [
    "import pandas as pd\n",
    "import numpy as np\n",
    "from plotutils import *\n",
    "from matplotlib import pyplot as plt"
   ]
  },
  {
   "cell_type": "markdown",
   "metadata": {},
   "source": [
    "# Latent Formulation"
   ]
  },
  {
   "cell_type": "code",
   "execution_count": 25,
   "metadata": {},
   "outputs": [],
   "source": [
    "# logdir='/scratch/yud319/inexactPGlog/log/'; date='06_21_2021'\n",
    "logdir='../IPG/test/log'; date='07_10_2021'\n",
    "subsolver='projectedGD'; warm_start=True\n",
    "loss='logit'; lam_shrink=[0.1, 0.05]; group_size=[10, 100]; overlap_ratio=[0.1, 0.3, 0.5]\n",
    "# excludes= ['australian', 'gisette', 'news20', 'rcv1', 'real-sim', 'madelon']\n",
    "excludes= None"
   ]
  },
  {
   "cell_type": "markdown",
   "metadata": {},
   "source": [
    "## Option I"
   ]
  },
  {
   "cell_type": "code",
   "execution_count": 29,
   "metadata": {},
   "outputs": [
    {
     "name": "stdout",
     "output_type": "stream",
     "text": [
      "1-projectedGD-True-1e-11-empty\n",
      " 72/72 instances terminate with status:  0\n",
      "1-projectedGD-True-1e-10-empty\n",
      " 72/72 instances terminate with status:  0\n",
      "1-projectedGD-True-1e-09-empty\n",
      " 72/72 instances terminate with status:  0\n",
      "1-projectedGD-True-1e-08-empty\n",
      " 72/72 instances terminate with status:  0\n",
      "1-projectedGD-True-1e-07-empty\n",
      " 72/72 instances terminate with status:  0\n",
      "1-projectedGD-True-1e-06-empty\n",
      " 72/72 instances terminate with status:  0\n",
      "1-projectedGD-True-1e-05-empty\n",
      " 72/72 instances terminate with status:  0\n",
      "1-projectedGD-True-0.0001-empty\n",
      " 72/72 instances terminate with status:  0\n",
      "1-projectedGD-True-0.001-empty\n",
      " 72/72 instances terminate with status:  0\n"
     ]
    }
   ],
   "source": [
    "inexact_type=1; param1_lst = [1e-11, 1e-10, 1e-9, 1e-8, 1e-7, 1e-6, 1e-5, 1e-4, 1e-3]; param2_lst = ['empty']\n",
    "algo_df_dict_inexact_type1 = get_all(logdir, date, inexact_type, loss, subsolver, warm_start,\n",
    "                             lam_shrink, group_size, overlap_ratio,\n",
    "                             excludes, param1_lst, param2_lst)\n",
    "time_type1 = []\n",
    "for key in algo_df_dict_inexact_type1.keys():\n",
    "    df_ = algo_df_dict_inexact_type1[key]\n",
    "    time_ = np.sum(df_['time'])\n",
    "    time_type1.append(time_)"
   ]
  },
  {
   "cell_type": "markdown",
   "metadata": {},
   "source": [
    "## Option II"
   ]
  },
  {
   "cell_type": "code",
   "execution_count": 30,
   "metadata": {},
   "outputs": [
    {
     "name": "stdout",
     "output_type": "stream",
     "text": [
      "2-projectedGD-True-1e-11-0.1\n",
      " 72/72 instances terminate with status:  0\n",
      "2-projectedGD-True-1e-10-0.1\n",
      " 72/72 instances terminate with status:  0\n",
      "2-projectedGD-True-1e-09-0.1\n",
      " 72/72 instances terminate with status:  0\n",
      "2-projectedGD-True-1e-08-0.1\n",
      " 72/72 instances terminate with status:  0\n",
      "2-projectedGD-True-1e-07-0.1\n",
      " 72/72 instances terminate with status:  0\n",
      "2-projectedGD-True-1e-06-0.1\n",
      " 72/72 instances terminate with status:  0\n",
      "2-projectedGD-True-1e-05-0.1\n",
      " 72/72 instances terminate with status:  0\n",
      "2-projectedGD-True-0.0001-0.1\n",
      " 72/72 instances terminate with status:  0\n",
      "2-projectedGD-True-0.001-0.1\n",
      " 72/72 instances terminate with status:  0\n"
     ]
    }
   ],
   "source": [
    "inexact_type=2; param1_lst = [1e-11, 1e-10, 1e-9, 1e-8, 1e-7, 1e-6, 1e-5, 1e-4, 1e-3]; param2_lst = [0.1]\n",
    "algo_df_dict_inexact_type2 = get_all(logdir, date, inexact_type, loss, subsolver, warm_start,\n",
    "                             lam_shrink, group_size, overlap_ratio,\n",
    "                             excludes, param1_lst, param2_lst)\n",
    "\n",
    "time_type2 = []\n",
    "for key in algo_df_dict_inexact_type2.keys():\n",
    "    df_ = algo_df_dict_inexact_type2[key]\n",
    "    time_ = np.sum(df_['time'])\n",
    "    time_type2.append(time_)"
   ]
  },
  {
   "cell_type": "markdown",
   "metadata": {},
   "source": [
    "## Option III"
   ]
  },
  {
   "cell_type": "code",
   "execution_count": 31,
   "metadata": {},
   "outputs": [
    {
     "name": "stdout",
     "output_type": "stream",
     "text": [
      "3-projectedGD-True-3.0-1.0\n",
      " 63/72 instances terminate with status:  0\n",
      "  9/72 instances terminate with status:  2\n",
      "3-projectedGD-True-3.0-10.0\n",
      " 64/72 instances terminate with status:  0\n",
      "  8/72 instances terminate with status:  2\n",
      "3-projectedGD-True-3.0-100.0\n",
      " 67/72 instances terminate with status:  0\n",
      "  5/72 instances terminate with status:  2\n",
      "3-projectedGD-True-3.0-1000.0\n",
      " 71/72 instances terminate with status:  0\n",
      "  1/72 instances terminate with status:  2\n",
      "3-projectedGD-True-3.0-10000.0\n",
      " 72/72 instances terminate with status:  0\n",
      "3-projectedGD-True-3.0-100000.0\n",
      " 72/72 instances terminate with status:  0\n",
      "3-projectedGD-True-3.0-1000000.0\n",
      " 72/72 instances terminate with status:  0\n",
      "3-projectedGD-True-3.0-10000000.0\n",
      " 72/72 instances terminate with status:  0\n",
      "3-projectedGD-True-3.0-100000000.0\n",
      " 72/72 instances terminate with status:  0\n"
     ]
    }
   ],
   "source": [
    "inexact_type=3; param1_lst = [3.0]; param2_lst = [1e0, 1e1, 1e2, 1e3, 1e4, 1e5, 1e6, 1e7, 1e8]\n",
    "algo_df_dict_inexact_type3 = get_all(logdir, date, inexact_type, loss, subsolver, warm_start,\n",
    "                             lam_shrink, group_size, overlap_ratio,\n",
    "                             excludes, param1_lst, param2_lst)\n",
    "time_type3 = []\n",
    "for key in algo_df_dict_inexact_type3.keys():\n",
    "    df_ = algo_df_dict_inexact_type3[key]\n",
    "    time_ = np.sum(df_['time'])\n",
    "    time_type3.append(time_)"
   ]
  },
  {
   "cell_type": "code",
   "execution_count": 32,
   "metadata": {},
   "outputs": [
    {
     "data": {
      "image/png": "[encoded data removed]",
      "text/plain": [
       "<Figure size 864x144 with 3 Axes>"
      ]
     },
     "metadata": {
      "needs_background": "light"
     },
     "output_type": "display_data"
    }
   ],
   "source": [
    "fig, (ax1, ax2, ax3) = plt.subplots(1, 3, sharey=True, figsize=(12,2))\n",
    "fig.suptitle('Total time spent on test instances with varing parameters')\n",
    "ax1.plot([1e-11, 1e-10, 1e-9, 1e-8, 1e-7, 1e-6, 1e-5, 1e-4, 1e-3], time_type1, 'r-*', label=r'\\texttt{option} II')\n",
    "ax1.set_xscale('log')\n",
    "ax1.set_xlabel(r'$\\gamma_1$')\n",
    "ax2.plot([1e-11, 1e-10, 1e-9, 1e-8, 1e-7, 1e-6, 1e-5, 1e-4, 1e-3], time_type2, 'b-^', label=r'\\texttt{option} I')\n",
    "ax2.set_xlabel(r'$\\gamma_2$')\n",
    "ax2.set_xscale('log')\n",
    "ax3.plot([1e0, 1e1, 1e2, 1e3, 1e4, 1e5, 1e6, 1e7, 1e8], time_type3, 'k-o', label=r'\\texttt{option} III')\n",
    "ax3.set_xlabel(r'\\texttt{const}')\n",
    "ax3.set_xscale('log')\n",
    "\n",
    "# plt.figure()\n",
    "# plt.plot(time_type1, 'r-*', label='1')\n",
    "# plt.plot(time_type2, 'b-^', label='2')\n",
    "# plt.plot(time_type3, 'k-o', label='3' )\n",
    "# plt.yscale('log')\n",
    "# plt.legend()"
   ]
  },
  {
   "cell_type": "code",
   "execution_count": null,
   "metadata": {},
   "outputs": [],
   "source": []
  },
  {
   "cell_type": "code",
   "execution_count": null,
   "metadata": {},
   "outputs": [],
   "source": []
  },
  {
   "cell_type": "markdown",
   "metadata": {},
   "source": [
    "# Morales Plot"
   ]
  },
  {
   "cell_type": "code",
   "execution_count": 17,
   "metadata": {},
   "outputs": [
    {
     "name": "stdout",
     "output_type": "stream",
     "text": [
      "1-projectedGD-True-1e-12-empty\n",
      " 72/72 instances terminate with status:  0\n",
      "1-projectedGD-True-1e-11-empty\n",
      " 72/72 instances terminate with status:  0\n",
      "1-projectedGD-True-1e-10-empty\n",
      " 72/72 instances terminate with status:  0\n",
      "1-projectedGD-True-1e-09-empty\n",
      " 72/72 instances terminate with status:  0\n",
      "1-projectedGD-True-1e-08-empty\n",
      " 72/72 instances terminate with status:  0\n",
      "1-projectedGD-True-1e-07-empty\n",
      " 72/72 instances terminate with status:  0\n",
      "1-projectedGD-True-1e-06-empty\n",
      " 72/72 instances terminate with status:  0\n",
      "1-projectedGD-True-1e-05-empty\n",
      " 72/72 instances terminate with status:  0\n",
      "1-projectedGD-True-0.0001-empty\n",
      " 72/72 instances terminate with status:  0\n",
      "1-projectedGD-True-0.001-empty\n",
      " 72/72 instances terminate with status:  0\n",
      "All algorithms failed in 0 instances (failure code -2)\n",
      "Metrics for failed instances are overwritten with np.inf\n",
      "After subsetting, 72 instances are kept.\n",
      "=================\n",
      "no stric ordering, choose max instances\n",
      "Best params: 1-projectedGD-True-1e-12-empty\n"
     ]
    }
   ],
   "source": [
    "inexact_type=1; param1_lst = [1e-12, 1e-11, 1e-10, 1e-9, 1e-8, 1e-7, 1e-6, 1e-5, 1e-4, 1e-3]; param2_lst = ['empty']\n",
    "algo_df_dict_inexact_type1 = get_all(logdir, date, inexact_type, loss, subsolver, warm_start,\n",
    "                             lam_shrink, group_size, overlap_ratio,\n",
    "                             excludes, param1_lst, param2_lst)\n",
    "ppf = PerformanceProfile(algo_df_dict_inexact_type1)\n",
    "ppf.get_subset_by_time(threshold=1, remove_failed=True)\n",
    "pools = ppf.plot(column='time', show_num=True, options={'ratio_max':4}, plot=False)\n",
    "print(\"=================\")\n",
    "inexact_type1_best = get_best(pools)\n",
    "print('Best params:', inexact_type1_best)"
   ]
  },
  {
   "cell_type": "code",
   "execution_count": 18,
   "metadata": {},
   "outputs": [
    {
     "name": "stdout",
     "output_type": "stream",
     "text": [
      "2-projectedGD-True-1e-12-0.1\n",
      " 72/72 instances terminate with status:  0\n",
      "2-projectedGD-True-1e-11-0.1\n",
      " 72/72 instances terminate with status:  0\n",
      "2-projectedGD-True-1e-10-0.1\n",
      " 72/72 instances terminate with status:  0\n",
      "2-projectedGD-True-1e-09-0.1\n",
      " 72/72 instances terminate with status:  0\n",
      "2-projectedGD-True-1e-08-0.1\n",
      " 72/72 instances terminate with status:  0\n",
      "2-projectedGD-True-1e-07-0.1\n",
      " 72/72 instances terminate with status:  0\n",
      "2-projectedGD-True-1e-06-0.1\n",
      " 72/72 instances terminate with status:  0\n",
      "2-projectedGD-True-1e-05-0.1\n",
      " 72/72 instances terminate with status:  0\n",
      "2-projectedGD-True-0.0001-0.1\n",
      " 72/72 instances terminate with status:  0\n",
      "2-projectedGD-True-0.001-0.1\n",
      " 72/72 instances terminate with status:  0\n",
      "All algorithms failed in 0 instances (failure code -2)\n",
      "Metrics for failed instances are overwritten with np.inf\n",
      "After subsetting, 72 instances are kept.\n",
      "=================\n",
      "no stric ordering, choose max instances\n",
      "Best params: 2-projectedGD-True-0.001-0.1\n"
     ]
    }
   ],
   "source": [
    "inexact_type=2; param1_lst = [1e-12, 1e-11, 1e-10, 1e-9, 1e-8, 1e-7, 1e-6, 1e-5, 1e-4, 1e-3]; param2_lst = [0.1]\n",
    "algo_df_dict_inexact_type2 = get_all(logdir, date, inexact_type, loss, subsolver, warm_start,\n",
    "                             lam_shrink, group_size, overlap_ratio,\n",
    "                             excludes, param1_lst, param2_lst)\n",
    "ppf = PerformanceProfile(algo_df_dict_inexact_type2)\n",
    "ppf.get_subset_by_time(threshold=1, remove_failed=True)\n",
    "pools = ppf.plot(column='time', show_num=True, options={'ratio_max':4}, plot=False)\n",
    "print(\"=================\")\n",
    "inexact_type2_best = get_best(pools)\n",
    "print('Best params:', inexact_type2_best)"
   ]
  },
  {
   "cell_type": "code",
   "execution_count": 20,
   "metadata": {},
   "outputs": [
    {
     "name": "stdout",
     "output_type": "stream",
     "text": [
      "3-projectedGD-True-3.0-1.0\n",
      " 63/72 instances terminate with status:  0\n",
      "  9/72 instances terminate with status:  2\n",
      "3-projectedGD-True-3.0-10.0\n",
      " 64/72 instances terminate with status:  0\n",
      "  8/72 instances terminate with status:  2\n",
      "3-projectedGD-True-3.0-100.0\n",
      " 67/72 instances terminate with status:  0\n",
      "  5/72 instances terminate with status:  2\n",
      "3-projectedGD-True-3.0-1000.0\n",
      " 71/72 instances terminate with status:  0\n",
      "  1/72 instances terminate with status:  2\n",
      "3-projectedGD-True-3.0-10000.0\n",
      " 72/72 instances terminate with status:  0\n",
      "3-projectedGD-True-3.0-100000.0\n",
      " 72/72 instances terminate with status:  0\n",
      "3-projectedGD-True-3.0-1000000.0\n",
      " 72/72 instances terminate with status:  0\n",
      "3-projectedGD-True-3.0-10000000.0\n",
      " 72/72 instances terminate with status:  0\n",
      "3-projectedGD-True-3.0-100000000.0\n",
      " 72/72 instances terminate with status:  0\n",
      "3-projectedGD-True-3.0-1000000000.0\n",
      " 72/72 instances terminate with status:  0\n",
      "All algorithms failed in 0 instances (failure code -2)\n",
      "Metrics for failed instances are overwritten with np.inf\n",
      "After subsetting, 72 instances are kept.\n",
      "no stric ordering, choose max instances\n",
      "Best params: 3-projectedGD-True-3.0-10000000.0\n"
     ]
    }
   ],
   "source": [
    "inexact_type=3; param1_lst = [3.0]; param2_lst = [1e0, 1e1, 1e2, 1e3, 1e4, 1e5, 1e6, 1e7, 1e8, 1e9]\n",
    "algo_df_dict_inexact_type3 = get_all(logdir, date, inexact_type, loss, subsolver, warm_start,\n",
    "                             lam_shrink, group_size, overlap_ratio,\n",
    "                             excludes, param1_lst, param2_lst)\n",
    "ppf = PerformanceProfile(algo_df_dict_inexact_type3)\n",
    "ppf.get_subset_by_time(threshold=1, remove_failed=True)\n",
    "pools = ppf.plot(column='time', show_num=True, options={'ratio_max':4}, plot=False)\n",
    "# print(\"=================\")\n",
    "inexact_type3_best = get_best(pools)\n",
    "print('Best params:', inexact_type3_best)"
   ]
  },
  {
   "cell_type": "code",
   "execution_count": 21,
   "metadata": {},
   "outputs": [
    {
     "name": "stdout",
     "output_type": "stream",
     "text": [
      "For 1-3 comparsion:\n",
      "==========================\n",
      " In terms #z:\n",
      "  better:14 | same:52 | worse: 6\n",
      "For 2-3 comparsion:\n",
      "==========================\n",
      " In terms #z:\n",
      "  better:12 | same:54 | worse: 6\n"
     ]
    }
   ],
   "source": [
    "cols = ['datasetid', 'time', 'nz']\n",
    "df1 = algo_df_dict_inexact_type1[inexact_type1_best][cols].copy()\n",
    "df2 = algo_df_dict_inexact_type2[inexact_type2_best][cols].copy()\n",
    "df3 = algo_df_dict_inexact_type3[inexact_type3_best][cols].copy()\n",
    "df13_merged = pd.merge(df1, df3, on='datasetid', suffixes=(\"_type1\", \"_type3\"), how='left')\n",
    "\n",
    "better13_z = np.sum((df13_merged['nz_type1'] - df13_merged['nz_type3']) > 0 ) \n",
    "same13_z = np.sum((df13_merged['nz_type1'] - df13_merged['nz_type3']) == 0 ) \n",
    "worse13_z = np.sum((df13_merged['nz_type1'] - df13_merged['nz_type3']) <0 ) \n",
    "\n",
    "df23_merged = pd.merge(df2, df3, on='datasetid', suffixes=(\"_type2\", \"_type3\"), how='left')\n",
    "better23_z = np.sum((df23_merged['nz_type2'] - df23_merged['nz_type3']) > 0 ) \n",
    "same23_z = np.sum((df23_merged['nz_type2'] - df23_merged['nz_type3']) == 0 ) \n",
    "worse23_z = np.sum((df23_merged['nz_type2'] - df23_merged['nz_type3']) <0 ) \n",
    "\n",
    "print(\"For 1-3 comparsion:\\n==========================\")\n",
    "print(\" In terms #z:\")\n",
    "print(f\"  better:{better13_z} | same:{same13_z} | worse: {worse13_z}\")\n",
    "print(\"For 2-3 comparsion:\\n==========================\")\n",
    "print(\" In terms #z:\")\n",
    "print(f\"  better:{better23_z} | same:{same23_z} | worse: {worse23_z}\")"
   ]
  },
  {
   "cell_type": "code",
   "execution_count": 22,
   "metadata": {},
   "outputs": [
    {
     "name": "stdout",
     "output_type": "stream",
     "text": [
      "All algorithms failed in 0 instances (failure code -2)\n",
      "Metrics for failed instances are overwritten with np.inf\n",
      "After subsetting, 72 instances are kept.\n",
      "1-projectedGD-True-1e-12-empty Win:17 | Lose:55\n",
      "1-projectedGD-True-1e-12-empty Win:11 | Lose:61\n",
      "2-projectedGD-True-0.001-0.1 Win:11 | Lose:61\n"
     ]
    },
    {
     "data": {
      "image/png": "[encoded data removed]",
      "text/plain": [
       "<Figure size 432x288 with 1 Axes>"
      ]
     },
     "metadata": {
      "needs_background": "light"
     },
     "output_type": "display_data"
    },
    {
     "data": {
      "image/png": "[encoded data removed]",
      "text/plain": [
       "<Figure size 432x288 with 1 Axes>"
      ]
     },
     "metadata": {
      "needs_background": "light"
     },
     "output_type": "display_data"
    },
    {
     "data": {
      "image/png": "[encoded data removed]",
      "text/plain": [
       "<Figure size 432x288 with 1 Axes>"
      ]
     },
     "metadata": {
      "needs_background": "light"
     },
     "output_type": "display_data"
    }
   ],
   "source": [
    "final = {}\n",
    "final[inexact_type1_best] = algo_df_dict_inexact_type1[inexact_type1_best]\n",
    "final[inexact_type2_best] = algo_df_dict_inexact_type2[inexact_type2_best]\n",
    "final[inexact_type3_best] = algo_df_dict_inexact_type3[inexact_type3_best]\n",
    "ppf = PerformanceProfile(final)\n",
    "ppf.get_subset_by_time(threshold=1, remove_failed=True)\n",
    "_ = ppf.plot(column='time',show_num=False, options={'ratio_max':6}, save=False, saveDir='./LatentOG/', labels=['option I\\ \\ \\ ', 'option II\\ \\ ', 'option III'])"
   ]
  },
  {
   "cell_type": "markdown",
   "metadata": {},
   "source": [
    "# Latent all"
   ]
  },
  {
   "cell_type": "code",
   "execution_count": 1,
   "metadata": {},
   "outputs": [],
   "source": [
    "import pandas as pd\n",
    "import numpy as np\n",
    "from plotutils import *\n",
    "from matplotlib import pyplot as plt"
   ]
  },
  {
   "cell_type": "code",
   "execution_count": 2,
   "metadata": {},
   "outputs": [
    {
     "name": "stdout",
     "output_type": "stream",
     "text": [
      "1-projectedGD-True-1e-08-empty\n",
      " 72/72 instances terminate with status:  0\n",
      "1-projectedGD-True-1e-08-empty\n",
      " 30/60 instances terminate with status:  0\n",
      " 30/60 instances terminate with status:  2\n"
     ]
    }
   ],
   "source": [
    "logdir='../IPG/test/log'; date='07_10_2021'\n",
    "subsolver='projectedGD'; warm_start=True\n",
    "loss='logit'; lam_shrink=[0.1, 0.05]; group_size=[10, 100]; overlap_ratio=[0.1, 0.3, 0.5]\n",
    "excludes= None\n",
    "inexact_type=1; param1_lst = [1e-8]; param2_lst = ['empty']\n",
    "algo_df_dict_inexact_type1_part1 = get_all(logdir, date, inexact_type, loss, subsolver, warm_start,\n",
    "                             lam_shrink, group_size, overlap_ratio,\n",
    "                             excludes, param1_lst, param2_lst)\n",
    "logdir='../IPG/test/log'; date='07_14_2021'\n",
    "algo_df_dict_inexact_type1_part2 = get_all(logdir, date, inexact_type, loss, subsolver, warm_start,\n",
    "                             lam_shrink, group_size, overlap_ratio,\n",
    "                             excludes, param1_lst, param2_lst)\n",
    "df_1_1 = algo_df_dict_inexact_type1_part1['1-projectedGD-True-1e-08-empty']\n",
    "df_1_2 = algo_df_dict_inexact_type1_part2['1-projectedGD-True-1e-08-empty']\n",
    "df_1 = pd.concat([df_1_1, df_1_2]).reset_index(drop=True)"
   ]
  },
  {
   "cell_type": "code",
   "execution_count": 3,
   "metadata": {},
   "outputs": [
    {
     "name": "stdout",
     "output_type": "stream",
     "text": [
      "2-projectedGD-True-1e-05-0.1\n",
      " 72/72 instances terminate with status:  0\n",
      "2-projectedGD-True-1e-05-0.1\n",
      " 29/60 instances terminate with status:  0\n",
      " 31/60 instances terminate with status:  2\n"
     ]
    }
   ],
   "source": [
    "logdir='../IPG/test/log'; date='07_10_2021'\n",
    "subsolver='projectedGD'; warm_start=True\n",
    "loss='logit'; lam_shrink=[0.1, 0.05]; group_size=[10, 100]; overlap_ratio=[0.1, 0.3, 0.5]\n",
    "excludes= None\n",
    "inexact_type=2; param1_lst = [1e-5]; param2_lst = [0.1]\n",
    "algo_df_dict_inexact_type2_part1 = get_all(logdir, date, inexact_type, loss, subsolver, warm_start,\n",
    "                             lam_shrink, group_size, overlap_ratio,\n",
    "                             excludes, param1_lst, param2_lst)\n",
    "logdir='../IPG/test/log'; date='07_14_2021'\n",
    "algo_df_dict_inexact_type2_part2 = get_all(logdir, date, inexact_type, loss, subsolver, warm_start,\n",
    "                             lam_shrink, group_size, overlap_ratio,\n",
    "                             excludes, param1_lst, param2_lst)\n",
    "df_2_1 = algo_df_dict_inexact_type2_part1['2-projectedGD-True-1e-05-0.1']\n",
    "df_2_2 = algo_df_dict_inexact_type2_part2['2-projectedGD-True-1e-05-0.1']\n",
    "df_2 = pd.concat([df_2_1, df_2_2]).reset_index(drop=True)"
   ]
  },
  {
   "cell_type": "code",
   "execution_count": 4,
   "metadata": {},
   "outputs": [
    {
     "name": "stdout",
     "output_type": "stream",
     "text": [
      "3-projectedGD-True-3.0-100.0\n",
      " 67/72 instances terminate with status:  0\n",
      "  5/72 instances terminate with status:  2\n",
      "3-projectedGD-True-3.0-1000000.0\n",
      " 72/72 instances terminate with status:  0\n",
      "3-projectedGD-True-3.0-100.0\n",
      " 25/60 instances terminate with status:  0\n",
      " 35/60 instances terminate with status:  2\n",
      "3-projectedGD-True-3.0-1000000.0\n",
      " 31/60 instances terminate with status:  0\n",
      " 29/60 instances terminate with status:  2\n"
     ]
    }
   ],
   "source": [
    "logdir='../IPG/test/log'; date='07_10_2021'\n",
    "subsolver='projectedGD'; warm_start=True\n",
    "loss='logit'; lam_shrink=[0.1, 0.05]; group_size=[10, 100]; overlap_ratio=[0.1, 0.3, 0.5]\n",
    "excludes= None\n",
    "inexact_type=3; param1_lst = [3.0]; param2_lst = [1e2, 1e6]\n",
    "algo_df_dict_inexact_type3_part1 = get_all(logdir, date, inexact_type, loss, subsolver, warm_start,\n",
    "                             lam_shrink, group_size, overlap_ratio,\n",
    "                             excludes, param1_lst, param2_lst)\n",
    "logdir='../IPG/test/log'; date='07_14_2021'\n",
    "algo_df_dict_inexact_type3_part2 = get_all(logdir, date, inexact_type, loss, subsolver, warm_start,\n",
    "                             lam_shrink, group_size, overlap_ratio,\n",
    "                             excludes, param1_lst, param2_lst)\n",
    "df3_lst = []\n",
    "for key in algo_df_dict_inexact_type3_part1.keys():\n",
    "    df_3_1 = algo_df_dict_inexact_type3_part1[key]\n",
    "    df_3_2 = algo_df_dict_inexact_type3_part2[key]\n",
    "    df_3 = pd.concat([df_3_1, df_3_2]).reset_index(drop=True)\n",
    "    df3_lst.append(df_3)"
   ]
  },
  {
   "cell_type": "code",
   "execution_count": 5,
   "metadata": {},
   "outputs": [
    {
     "name": "stdout",
     "output_type": "stream",
     "text": [
      "opt 3 params:100.0\n",
      "----------------------------------------\n",
      " For 1-3 comparsion:\n",
      "==========================\n",
      "  In terms #z:\n",
      "   better:1 | same:74 | worse: 17\n",
      " For 2-3 comparsion:\n",
      "==========================\n",
      "  In terms #z:\n",
      "   better:1 | same:74 | worse: 17\n",
      "opt 3 params:1000000.0\n",
      "----------------------------------------\n",
      " For 1-3 comparsion:\n",
      "==========================\n",
      "  In terms #z:\n",
      "   better:16 | same:74 | worse: 12\n",
      " For 2-3 comparsion:\n",
      "==========================\n",
      "  In terms #z:\n",
      "   better:13 | same:80 | worse: 8\n"
     ]
    }
   ],
   "source": [
    "cols = ['datasetid', 'time', 'nz']\n",
    "df3_params = [1e2, 1e6]\n",
    "for (idx, df_3) in enumerate(df3_lst):\n",
    "    print(f\"opt 3 params:{df3_params[idx]}\")\n",
    "    print('-'*40)\n",
    "    df13_merged = pd.merge(df_1, df_3, on='datasetid', suffixes=(\"_type1\", \"_type3\"), how='left')\n",
    "    df13_merged = df13_merged[(df_1['status'] == 0) & (df_3['status'] == 0)]\n",
    "    better13_z = np.sum((df13_merged['nz_type1'] - df13_merged['nz_type3']) > 0 ) \n",
    "    same13_z = np.sum((df13_merged['nz_type1'] - df13_merged['nz_type3']) == 0 ) \n",
    "    worse13_z = np.sum((df13_merged['nz_type1'] - df13_merged['nz_type3']) <0 ) \n",
    "    \n",
    "    df23_merged = pd.merge(df_2, df_3, on='datasetid', suffixes=(\"_type2\", \"_type3\"), how='left')\n",
    "    df23_merged = df23_merged[(df_2['status'] == 0) & (df_3['status'] == 0)]\n",
    "    better23_z = np.sum((df23_merged['nz_type2'] - df23_merged['nz_type3']) > 0 ) \n",
    "    same23_z = np.sum((df23_merged['nz_type2'] - df23_merged['nz_type3']) == 0 ) \n",
    "    worse23_z = np.sum((df23_merged['nz_type2'] - df23_merged['nz_type3']) <0 )\n",
    "\n",
    "    print(\" For 1-3 comparsion:\\n==========================\")\n",
    "    print(\"  In terms #z:\")\n",
    "    print(f\"   better:{better13_z} | same:{same13_z} | worse: {worse13_z}\")\n",
    "    print(\" For 2-3 comparsion:\\n==========================\")\n",
    "    print(\"  In terms #z:\")\n",
    "    print(f\"   better:{better23_z} | same:{same23_z} | worse: {worse23_z}\")\n"
   ]
  },
  {
   "cell_type": "code",
   "execution_count": 10,
   "metadata": {},
   "outputs": [
    {
     "name": "stdout",
     "output_type": "stream",
     "text": [
      " For 1-2 comparsion:\n",
      "==========================\n",
      "  In terms #z:\n",
      "   better:10 | same:82 | worse: 9\n"
     ]
    }
   ],
   "source": [
    "cols = ['datasetid', 'F', 'time', 'nz']\n",
    "\n",
    "df12_merged = pd.merge(df_1, df_2, on='datasetid', suffixes=(\"_type1\", \"_type2\"), how='left')\n",
    "df12_merged = df12_merged[(df_1['status'] == 0) & (df_2['status'] == 0)]\n",
    "better12_z = np.sum((df12_merged['nz_type1'] - df12_merged['nz_type2']) > 0 ) \n",
    "same12_z = np.sum((df12_merged['nz_type1'] - df12_merged['nz_type2']) == 0 ) \n",
    "worse12_z = np.sum((df12_merged['nz_type1'] - df12_merged['nz_type2']) <0 ) \n",
    "\n",
    "\n",
    "print(\" For 1-2 comparsion:\\n==========================\")\n",
    "print(\"  In terms #z:\")\n",
    "print(f\"   better:{better12_z} | same:{same12_z} | worse: {worse12_z}\")"
   ]
  },
  {
   "cell_type": "code",
   "execution_count": 18,
   "metadata": {},
   "outputs": [
    {
     "name": "stdout",
     "output_type": "stream",
     "text": [
      "All algorithms failed in 30 instances (failure code 2)\n",
      "Metrics for failed instances are overwritten with np.inf\n",
      "After subsetting, 102 instances are kept.\n",
      "1-projectedGD-True-1e-08-empty Win:62 | Lose:40\n",
      "All algorithms failed in 29 instances (failure code 2)\n",
      "Metrics for failed instances are overwritten with np.inf\n",
      "After subsetting, 103 instances are kept.\n",
      "1-projectedGD-True-1e-08-empty Win:15 | Lose:88\n"
     ]
    },
    {
     "data": {
      "image/png": "[encoded data removed]",
      "text/plain": [
       "<Figure size 432x288 with 1 Axes>"
      ]
     },
     "metadata": {
      "needs_background": "light"
     },
     "output_type": "display_data"
    },
    {
     "data": {
      "image/png": "[encoded data removed]",
      "text/plain": [
       "<Figure size 432x288 with 1 Axes>"
      ]
     },
     "metadata": {
      "needs_background": "light"
     },
     "output_type": "display_data"
    }
   ],
   "source": [
    "df3_params = [1e2, 1e6]\n",
    "for i in range(2):\n",
    "    final = {}\n",
    "    final['1-projectedGD-True-1e-08-empty'] = df_1\n",
    "    c = df3_params[i]\n",
    "    type3_sensitivity = f'3-projectedGD-True-3.0-{c}'\n",
    "    final[type3_sensitivity] = df3_lst[i]\n",
    "    ppf = PerformanceProfile(final, failcode=2)\n",
    "    ppf.get_subset_by_time(threshold=1, remove_failed=True)\n",
    "    _ = ppf.plot(column='time',show_num=False, options={'ratio_max':7}, save=True, saveDir='./latentOG/', labels=['option I\\ \\ \\ \\ \\ \\ \\ \\ \\ ', f'option III-{c:1.0e}'])"
   ]
  },
  {
   "cell_type": "code",
   "execution_count": 19,
   "metadata": {},
   "outputs": [
    {
     "name": "stdout",
     "output_type": "stream",
     "text": [
      "All algorithms failed in 31 instances (failure code 2)\n",
      "Metrics for failed instances are overwritten with np.inf\n",
      "After subsetting, 101 instances are kept.\n",
      "2-projectedGD-True-1e-05-empty Win:67 | Lose:34\n",
      "All algorithms failed in 29 instances (failure code 2)\n",
      "Metrics for failed instances are overwritten with np.inf\n",
      "After subsetting, 103 instances are kept.\n",
      "2-projectedGD-True-1e-05-empty Win:22 | Lose:81\n"
     ]
    },
    {
     "data": {
      "image/png": "[encoded data removed]",
      "text/plain": [
       "<Figure size 432x288 with 1 Axes>"
      ]
     },
     "metadata": {
      "needs_background": "light"
     },
     "output_type": "display_data"
    },
    {
     "data": {
      "image/png": "[encoded data removed]",
      "text/plain": [
       "<Figure size 432x288 with 1 Axes>"
      ]
     },
     "metadata": {
      "needs_background": "light"
     },
     "output_type": "display_data"
    }
   ],
   "source": [
    "for i in range(2):\n",
    "    final = {}\n",
    "    final['2-projectedGD-True-1e-05-empty'] = df_2\n",
    "    c = df3_params[i]\n",
    "    type3_sensitivity = f'3-projectedGD-True-3.0-{c}'\n",
    "    final[type3_sensitivity] = df3_lst[i]\n",
    "    ppf = PerformanceProfile(final, failcode=2)\n",
    "    ppf.get_subset_by_time(threshold=1, remove_failed=True)\n",
    "    _ = ppf.plot(column='time',show_num=False, options={'ratio_max':7}, save=True, saveDir='./latentOG/', labels=['option II\\ \\ \\ \\ \\ \\ \\ \\ ', f'option III-{c:1.0e}'])"
   ]
  },
  {
   "cell_type": "code",
   "execution_count": null,
   "metadata": {},
   "outputs": [],
   "source": []
  }
 ],
 "metadata": {
  "kernelspec": {
   "display_name": "Python 3",
   "language": "python",
   "name": "python3"
  },
  "language_info": {
   "codemirror_mode": {
    "name": "ipython",
    "version": 3
   },
   "file_extension": ".py",
   "mimetype": "text/x-python",
   "name": "python",
   "nbconvert_exporter": "python",
   "pygments_lexer": "ipython3",
   "version": "3.7.7"
  }
 },
 "nbformat": 4,
 "nbformat_minor": 4
}
