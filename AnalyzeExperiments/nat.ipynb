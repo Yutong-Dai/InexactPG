{
 "cells": [
  {
   "cell_type": "code",
   "execution_count": 1,
   "metadata": {},
   "outputs": [],
   "source": [
    "import pandas as pd\n",
    "import numpy as np\n",
    "from plotutils import *\n",
    "from matplotlib import pyplot as plt"
   ]
  },
  {
   "cell_type": "markdown",
   "metadata": {},
   "source": [
    "# Natural Formulation"
   ]
  },
  {
   "cell_type": "code",
   "execution_count": 2,
   "metadata": {},
   "outputs": [],
   "source": [
    "# logdir='/scratch/yud319/inexactPGlog/log/'; date='06_20_2021'\n",
    "logdir='../IPG/test/log'; date='07_09_2021'\n",
    "subsolver='projectedGD'; warm_start=True\n",
    "loss='logit'; lam_shrink=[0.1, 0.05]; group_size=[10, 100]; overlap_ratio=[0.1, 0.3, 0.5]\n",
    "excludes= ['australian', 'gisette', 'news20', 'rcv1', 'real-sim', 'madelon']"
   ]
  },
  {
   "cell_type": "markdown",
   "metadata": {},
   "source": [
    "## Option I"
   ]
  },
  {
   "cell_type": "code",
   "execution_count": 20,
   "metadata": {},
   "outputs": [
    {
     "name": "stdout",
     "output_type": "stream",
     "text": [
      "1-projectedGD-True-1e-12-empty\n",
      " 72/72 instances terminate with status:  0\n",
      "1-projectedGD-True-1e-11-empty\n",
      " 72/72 instances terminate with status:  0\n",
      "1-projectedGD-True-1e-10-empty\n",
      " 72/72 instances terminate with status:  0\n",
      "1-projectedGD-True-1e-09-empty\n",
      " 72/72 instances terminate with status:  0\n",
      "1-projectedGD-True-1e-08-empty\n",
      " 72/72 instances terminate with status:  0\n",
      "1-projectedGD-True-1e-07-empty\n",
      " 72/72 instances terminate with status:  0\n",
      "1-projectedGD-True-1e-06-empty\n",
      " 72/72 instances terminate with status:  0\n",
      "1-projectedGD-True-1e-05-empty\n",
      " 72/72 instances terminate with status:  0\n",
      "1-projectedGD-True-0.0001-empty\n",
      " 72/72 instances terminate with status:  0\n",
      "1-projectedGD-True-0.001-empty\n",
      " 72/72 instances terminate with status:  0\n"
     ]
    }
   ],
   "source": [
    "inexact_type=1; param1_lst = [1e-12, 1e-11, 1e-10, 1e-9, 1e-8, 1e-7, 1e-6, 1e-5, 1e-4, 1e-3]; param2_lst = ['empty']\n",
    "algo_df_dict_inexact_type1 = get_all(logdir, date, inexact_type, loss, subsolver, warm_start,\n",
    "                             lam_shrink, group_size, overlap_ratio,\n",
    "                             excludes, param1_lst, param2_lst)\n",
    "time_type1 = []\n",
    "for key in algo_df_dict_inexact_type1.keys():\n",
    "    df_ = algo_df_dict_inexact_type1[key]\n",
    "    time_ = np.sum(df_['time'])\n",
    "    time_type1.append(time_)"
   ]
  },
  {
   "cell_type": "markdown",
   "metadata": {},
   "source": [
    "## Option II"
   ]
  },
  {
   "cell_type": "code",
   "execution_count": 30,
   "metadata": {},
   "outputs": [
    {
     "name": "stdout",
     "output_type": "stream",
     "text": [
      "2-projectedGD-True-1e-12-0.1\n",
      " 72/72 instances terminate with status:  0\n",
      "2-projectedGD-True-1e-11-0.1\n",
      " 72/72 instances terminate with status:  0\n",
      "2-projectedGD-True-1e-10-0.1\n",
      " 72/72 instances terminate with status:  0\n",
      "2-projectedGD-True-1e-09-0.1\n",
      " 72/72 instances terminate with status:  0\n",
      "2-projectedGD-True-1e-08-0.1\n",
      " 72/72 instances terminate with status:  0\n",
      "2-projectedGD-True-1e-07-0.1\n",
      " 72/72 instances terminate with status:  0\n",
      "2-projectedGD-True-1e-06-0.1\n",
      " 72/72 instances terminate with status:  0\n",
      "2-projectedGD-True-1e-05-0.1\n",
      " 72/72 instances terminate with status:  0\n",
      "2-projectedGD-True-0.0001-0.1\n",
      " 72/72 instances terminate with status:  0\n",
      "2-projectedGD-True-0.001-0.1\n",
      " 72/72 instances terminate with status:  0\n"
     ]
    }
   ],
   "source": [
    "inexact_type=2; param1_lst = [1e-12, 1e-11, 1e-10, 1e-9, 1e-8, 1e-7, 1e-6, 1e-5, 1e-4, 1e-3]; param2_lst = [0.1]\n",
    "algo_df_dict_inexact_type2 = get_all(logdir, date, inexact_type, loss, subsolver, warm_start,\n",
    "                             lam_shrink, group_size, overlap_ratio,\n",
    "                             excludes, param1_lst, param2_lst)\n",
    "\n",
    "time_type2 = []\n",
    "for key in algo_df_dict_inexact_type2.keys():\n",
    "    df_ = algo_df_dict_inexact_type2[key]\n",
    "    time_ = np.sum(df_['time'])\n",
    "    time_type2.append(time_)"
   ]
  },
  {
   "cell_type": "markdown",
   "metadata": {},
   "source": [
    "# option III"
   ]
  },
  {
   "cell_type": "code",
   "execution_count": 33,
   "metadata": {},
   "outputs": [
    {
     "name": "stdout",
     "output_type": "stream",
     "text": [
      "3-projectedGD-True-3.0-1.0\n",
      " 72/72 instances terminate with status:  0\n",
      "3-projectedGD-True-3.0-10.0\n",
      " 72/72 instances terminate with status:  0\n",
      "3-projectedGD-True-3.0-100.0\n",
      " 72/72 instances terminate with status:  0\n",
      "3-projectedGD-True-3.0-1000.0\n",
      " 72/72 instances terminate with status:  0\n",
      "3-projectedGD-True-3.0-10000.0\n",
      " 72/72 instances terminate with status:  0\n",
      "3-projectedGD-True-3.0-100000.0\n",
      " 72/72 instances terminate with status:  0\n",
      "3-projectedGD-True-3.0-1000000.0\n",
      " 71/72 instances terminate with status:  0\n",
      "  1/72 instances terminate with status:  2\n",
      "3-projectedGD-True-3.0-10000000.0\n",
      " 71/72 instances terminate with status:  0\n",
      "  1/72 instances terminate with status:  2\n",
      "3-projectedGD-True-3.0-100000000.0\n",
      " 71/72 instances terminate with status:  0\n",
      "  1/72 instances terminate with status:  2\n",
      "3-projectedGD-True-3.0-1000000000.0\n",
      " 69/72 instances terminate with status:  0\n",
      "  3/72 instances terminate with status:  2\n"
     ]
    }
   ],
   "source": [
    "inexact_type=3; param1_lst = [3.0]; param2_lst = [1e0, 1e1, 1e2, 1e3, 1e4, 1e5, 1e6, 1e7, 1e8, 1e9]\n",
    "algo_df_dict_inexact_type3 = get_all(logdir, date, inexact_type, loss, subsolver, warm_start,\n",
    "                             lam_shrink, group_size, overlap_ratio,\n",
    "                             excludes, param1_lst, param2_lst)\n",
    "time_type3 = []\n",
    "for key in algo_df_dict_inexact_type3.keys():\n",
    "    df_ = algo_df_dict_inexact_type3[key]\n",
    "    time_ = np.sum(df_['time'])\n",
    "    time_type3.append(time_)"
   ]
  },
  {
   "cell_type": "code",
   "execution_count": 34,
   "metadata": {},
   "outputs": [
    {
     "data": {
      "text/plain": [
       "<matplotlib.legend.Legend at 0x7f741da0b710>"
      ]
     },
     "execution_count": 34,
     "metadata": {},
     "output_type": "execute_result"
    },
    {
     "data": {
      "image/png": "[encoded data removed]",
      "text/plain": [
       "<Figure size 432x288 with 1 Axes>"
      ]
     },
     "metadata": {
      "needs_background": "light"
     },
     "output_type": "display_data"
    }
   ],
   "source": [
    "plt.figure()\n",
    "plt.plot(time_type1, 'r-*', label='1')\n",
    "plt.plot(time_type3, 'k-o', label='3')\n",
    "plt.yscale('log')\n",
    "plt.legend()"
   ]
  },
  {
   "cell_type": "code",
   "execution_count": 35,
   "metadata": {},
   "outputs": [
    {
     "data": {
      "text/plain": [
       "<matplotlib.legend.Legend at 0x7f7418919910>"
      ]
     },
     "execution_count": 35,
     "metadata": {},
     "output_type": "execute_result"
    },
    {
     "data": {
      "image/png": "[encoded data removed]",
      "text/plain": [
       "<Figure size 432x288 with 1 Axes>"
      ]
     },
     "metadata": {
      "needs_background": "light"
     },
     "output_type": "display_data"
    }
   ],
   "source": [
    "plt.figure()\n",
    "plt.plot(time_type2, 'b-^', label='2')\n",
    "plt.plot(time_type3, 'k-o', label='3')\n",
    "plt.yscale('log')\n",
    "plt.legend()"
   ]
  },
  {
   "cell_type": "markdown",
   "metadata": {},
   "source": [
    "## Morales Plots"
   ]
  },
  {
   "cell_type": "code",
   "execution_count": 36,
   "metadata": {},
   "outputs": [
    {
     "name": "stdout",
     "output_type": "stream",
     "text": [
      "1-projectedGD-True-1e-12-empty\n",
      " 72/72 instances terminate with status:  0\n",
      "1-projectedGD-True-1e-11-empty\n",
      " 72/72 instances terminate with status:  0\n",
      "1-projectedGD-True-1e-10-empty\n",
      " 72/72 instances terminate with status:  0\n",
      "1-projectedGD-True-1e-09-empty\n",
      " 72/72 instances terminate with status:  0\n",
      "1-projectedGD-True-1e-08-empty\n",
      " 72/72 instances terminate with status:  0\n",
      "1-projectedGD-True-1e-07-empty\n",
      " 72/72 instances terminate with status:  0\n",
      "1-projectedGD-True-1e-06-empty\n",
      " 72/72 instances terminate with status:  0\n",
      "1-projectedGD-True-1e-05-empty\n",
      " 72/72 instances terminate with status:  0\n",
      "1-projectedGD-True-0.0001-empty\n",
      " 72/72 instances terminate with status:  0\n",
      "1-projectedGD-True-0.001-empty\n",
      " 72/72 instances terminate with status:  0\n",
      "All algorithms failed in 0 instances (failure code -2)\n",
      "Metrics for failed instances are overwritten with np.inf\n",
      "After subsetting, 72 instances are kept.\n",
      "=================\n",
      "no stric ordering, choose max instances\n",
      "Best params: 1-projectedGD-True-1e-08-empty\n"
     ]
    }
   ],
   "source": [
    "inexact_type=1; param1_lst = [1e-12, 1e-11, 1e-10, 1e-9, 1e-8, 1e-7, 1e-6, 1e-5, 1e-4, 1e-3]; param2_lst = ['empty']\n",
    "algo_df_dict_inexact_type1 = get_all(logdir, date, inexact_type, loss, subsolver, warm_start,\n",
    "                             lam_shrink, group_size, overlap_ratio,\n",
    "                             excludes, param1_lst, param2_lst)\n",
    "ppf = PerformanceProfile(algo_df_dict_inexact_type1)\n",
    "ppf.get_subset_by_time(threshold=1, remove_failed=True)\n",
    "pools = ppf.plot(column='time', show_num=True, options={'ratio_max':4}, plot=False)\n",
    "print(\"=================\")\n",
    "inexact_type1_best = get_best(pools)\n",
    "print('Best params:', inexact_type1_best)"
   ]
  },
  {
   "cell_type": "code",
   "execution_count": 37,
   "metadata": {},
   "outputs": [
    {
     "name": "stdout",
     "output_type": "stream",
     "text": [
      "2-projectedGD-True-1e-12-0.1\n",
      " 72/72 instances terminate with status:  0\n",
      "2-projectedGD-True-1e-11-0.1\n",
      " 72/72 instances terminate with status:  0\n",
      "2-projectedGD-True-1e-10-0.1\n",
      " 72/72 instances terminate with status:  0\n",
      "2-projectedGD-True-1e-09-0.1\n",
      " 72/72 instances terminate with status:  0\n",
      "2-projectedGD-True-1e-08-0.1\n",
      " 72/72 instances terminate with status:  0\n",
      "2-projectedGD-True-1e-07-0.1\n",
      " 72/72 instances terminate with status:  0\n",
      "2-projectedGD-True-1e-06-0.1\n",
      " 72/72 instances terminate with status:  0\n",
      "2-projectedGD-True-1e-05-0.1\n",
      " 72/72 instances terminate with status:  0\n",
      "2-projectedGD-True-0.0001-0.1\n",
      " 72/72 instances terminate with status:  0\n",
      "2-projectedGD-True-0.001-0.1\n",
      " 72/72 instances terminate with status:  0\n",
      "All algorithms failed in 0 instances (failure code -2)\n",
      "Metrics for failed instances are overwritten with np.inf\n",
      "After subsetting, 72 instances are kept.\n",
      "=================\n",
      "no stric ordering, choose max instances\n",
      "Best params: 2-projectedGD-True-1e-05-0.1\n"
     ]
    }
   ],
   "source": [
    "inexact_type=2; param1_lst = [1e-12, 1e-11, 1e-10, 1e-9, 1e-8, 1e-7, 1e-6, 1e-5, 1e-4, 1e-3]; param2_lst = [0.1]\n",
    "algo_df_dict_inexact_type2 = get_all(logdir, date, inexact_type, loss, subsolver, warm_start,\n",
    "                             lam_shrink, group_size, overlap_ratio,\n",
    "                             excludes, param1_lst, param2_lst)\n",
    "ppf = PerformanceProfile(algo_df_dict_inexact_type2)\n",
    "ppf.get_subset_by_time(threshold=1, remove_failed=True)\n",
    "pools = ppf.plot(column='time', show_num=True, options={'ratio_max':4}, plot=False)\n",
    "print(\"=================\")\n",
    "inexact_type2_best = get_best(pools)\n",
    "print('Best params:', inexact_type2_best)"
   ]
  },
  {
   "cell_type": "code",
   "execution_count": 38,
   "metadata": {},
   "outputs": [
    {
     "name": "stdout",
     "output_type": "stream",
     "text": [
      "3-projectedGD-True-3.0-1.0\n",
      " 72/72 instances terminate with status:  0\n",
      "3-projectedGD-True-3.0-10.0\n",
      " 72/72 instances terminate with status:  0\n",
      "3-projectedGD-True-3.0-100.0\n",
      " 72/72 instances terminate with status:  0\n",
      "3-projectedGD-True-3.0-1000.0\n",
      " 72/72 instances terminate with status:  0\n",
      "3-projectedGD-True-3.0-10000.0\n",
      " 72/72 instances terminate with status:  0\n",
      "3-projectedGD-True-3.0-100000.0\n",
      " 72/72 instances terminate with status:  0\n",
      "3-projectedGD-True-3.0-1000000.0\n",
      " 71/72 instances terminate with status:  0\n",
      "  1/72 instances terminate with status:  2\n",
      "3-projectedGD-True-3.0-10000000.0\n",
      " 71/72 instances terminate with status:  0\n",
      "  1/72 instances terminate with status:  2\n",
      "3-projectedGD-True-3.0-100000000.0\n",
      " 71/72 instances terminate with status:  0\n",
      "  1/72 instances terminate with status:  2\n",
      "3-projectedGD-True-3.0-1000000000.0\n",
      " 69/72 instances terminate with status:  0\n",
      "  3/72 instances terminate with status:  2\n",
      "All algorithms failed in 0 instances (failure code -2)\n",
      "Metrics for failed instances are overwritten with np.inf\n",
      "After subsetting, 72 instances are kept.\n",
      "no stric ordering, choose max instances\n",
      "Best params: 3-projectedGD-True-3.0-100.0\n"
     ]
    }
   ],
   "source": [
    "inexact_type=3; param1_lst = [3.0]; param2_lst = [1e0, 1e1, 1e2, 1e3, 1e4, 1e5, 1e6, 1e7, 1e8, 1e9]\n",
    "algo_df_dict_inexact_type3 = get_all(logdir, date, inexact_type, loss, subsolver, warm_start,\n",
    "                             lam_shrink, group_size, overlap_ratio,\n",
    "                             excludes, param1_lst, param2_lst)\n",
    "ppf = PerformanceProfile(algo_df_dict_inexact_type3)\n",
    "ppf.get_subset_by_time(threshold=1, remove_failed=True)\n",
    "pools = ppf.plot(column='time', show_num=True, options={'ratio_max':4}, plot=False)\n",
    "# print(\"=================\")\n",
    "inexact_type3_best = get_best(pools)\n",
    "print('Best params:', inexact_type3_best)"
   ]
  },
  {
   "cell_type": "code",
   "execution_count": 39,
   "metadata": {},
   "outputs": [
    {
     "name": "stdout",
     "output_type": "stream",
     "text": [
      "For 1-3 comparsion:\n",
      "==========================\n",
      " In terms final F:\n",
      "  better:45 | same:27 | worse: 0\n",
      " In terms #z:\n",
      "  better:36 | same:35 | worse: 1\n",
      "For 2-3 comparsion:\n",
      "==========================\n",
      " In terms final F:\n",
      "  better:66 | same:6 | worse: 0\n",
      " In terms #z:\n",
      "  better:39 | same:33 | worse: 0\n"
     ]
    }
   ],
   "source": [
    "cols = ['datasetid', 'F', 'time', 'nz']\n",
    "df1 = algo_df_dict_inexact_type1[inexact_type1_best][cols].copy()\n",
    "df2 = algo_df_dict_inexact_type2[inexact_type2_best][cols].copy()\n",
    "df3 = algo_df_dict_inexact_type3[inexact_type3_best][cols].copy()\n",
    "df13_merged = pd.merge(df1, df3, on='datasetid', suffixes=(\"_type1\", \"_type3\"), how='left')\n",
    "\n",
    "better13_z = np.sum((df13_merged['nz_type1'] - df13_merged['nz_type3']) > 0 ) \n",
    "same13_z = np.sum((df13_merged['nz_type1'] - df13_merged['nz_type3']) == 0 ) \n",
    "worse13_z = np.sum((df13_merged['nz_type1'] - df13_merged['nz_type3']) <0 ) \n",
    "\n",
    "better13_F = np.sum((df13_merged['F_type1'] - df13_merged['F_type3']) < -1e-8 ) \n",
    "same13_F = np.sum(np.abs(df13_merged['F_type1'] - df13_merged['F_type3']) <= 1e-8 ) \n",
    "worse13_F = np.sum((df13_merged['F_type1'] - df13_merged['F_type3']) > 1e-8 ) \n",
    "\n",
    "df23_merged = pd.merge(df2, df3, on='datasetid', suffixes=(\"_type2\", \"_type3\"), how='left')\n",
    "better23_z = np.sum((df23_merged['nz_type2'] - df23_merged['nz_type3']) > 0 ) \n",
    "same23_z = np.sum((df23_merged['nz_type2'] - df23_merged['nz_type3']) == 0 ) \n",
    "worse23_z = np.sum((df23_merged['nz_type2'] - df23_merged['nz_type3']) <0 ) \n",
    "\n",
    "better23_F = np.sum((df23_merged['F_type2'] - df23_merged['F_type3']) < -1e-8 ) \n",
    "same23_F = np.sum(np.abs(df23_merged['F_type2'] - df23_merged['F_type3']) <=1e-8 ) \n",
    "worse23_F = np.sum((df23_merged['F_type2'] - df23_merged['F_type3']) > 1e-8 ) \n",
    "\n",
    "print(\"For 1-3 comparsion:\\n==========================\")\n",
    "print(\" In terms final F:\")\n",
    "print(f\"  better:{better13_F} | same:{same13_F} | worse: {worse13_F}\")\n",
    "print(\" In terms #z:\")\n",
    "print(f\"  better:{better13_z} | same:{same13_z} | worse: {worse13_z}\")\n",
    "print(\"For 2-3 comparsion:\\n==========================\")\n",
    "print(\" In terms final F:\")\n",
    "print(f\"  better:{better23_F} | same:{same23_F} | worse: {worse23_F}\")\n",
    "print(\" In terms #z:\")\n",
    "print(f\"  better:{better23_z} | same:{same23_z} | worse: {worse23_z}\")"
   ]
  },
  {
   "cell_type": "code",
   "execution_count": null,
   "metadata": {},
   "outputs": [],
   "source": [
    "final = {}\n",
    "final[inexact_type1_best] = algo_df_dict_inexact_type1[inexact_type1_best]\n",
    "final[inexact_type2_best] = algo_df_dict_inexact_type2[inexact_type2_best]\n",
    "final[inexact_type3_best] = algo_df_dict_inexact_type3[inexact_type3_best]\n",
    "ppf = PerformanceProfile(final)\n",
    "ppf.get_subset_by_time(threshold=1, remove_failed=True)\n",
    "_ = ppf.plot(column='time',show_num=False, options={'ratio_max':6}, save=True, saveDir='./natOG/', labels=['option I\\ \\ \\ ', 'option II\\ \\ ', 'option III'])"
   ]
  },
  {
   "cell_type": "markdown",
   "metadata": {},
   "source": [
    "# Overall"
   ]
  },
  {
   "cell_type": "code",
   "execution_count": 1,
   "metadata": {},
   "outputs": [],
   "source": [
    "import pandas as pd\n",
    "import numpy as np\n",
    "from plotutils import *\n",
    "from matplotlib import pyplot as plt"
   ]
  },
  {
   "cell_type": "code",
   "execution_count": 2,
   "metadata": {},
   "outputs": [
    {
     "name": "stdout",
     "output_type": "stream",
     "text": [
      "1-projectedGD-True-1e-08-empty\n",
      " 72/72 instances terminate with status:  0\n",
      "1-projectedGD-True-1e-08-empty\n",
      " 44/60 instances terminate with status:  0\n",
      " 16/60 instances terminate with status:  2\n"
     ]
    }
   ],
   "source": [
    "logdir='../IPG/test/log'; date='07_09_2021'\n",
    "subsolver='projectedGD'; warm_start=True\n",
    "loss='logit'; lam_shrink=[0.1, 0.05]; group_size=[10, 100]; overlap_ratio=[0.1, 0.3, 0.5]\n",
    "excludes= None\n",
    "inexact_type=1; param1_lst = [1e-8]; param2_lst = ['empty']\n",
    "algo_df_dict_inexact_type1_part1 = get_all(logdir, date, inexact_type, loss, subsolver, warm_start,\n",
    "                             lam_shrink, group_size, overlap_ratio,\n",
    "                             excludes, param1_lst, param2_lst)\n",
    "logdir='../IPG/test/log'; date='07_12_2021'\n",
    "algo_df_dict_inexact_type1_part2 = get_all(logdir, date, inexact_type, loss, subsolver, warm_start,\n",
    "                             lam_shrink, group_size, overlap_ratio,\n",
    "                             excludes, param1_lst, param2_lst)\n",
    "df_1_1 = algo_df_dict_inexact_type1_part1['1-projectedGD-True-1e-08-empty']\n",
    "df_1_2 = algo_df_dict_inexact_type1_part2['1-projectedGD-True-1e-08-empty']\n",
    "df_1 = pd.concat([df_1_1, df_1_2]).reset_index(drop=True)"
   ]
  },
  {
   "cell_type": "code",
   "execution_count": 3,
   "metadata": {},
   "outputs": [
    {
     "name": "stdout",
     "output_type": "stream",
     "text": [
      "2-projectedGD-True-1e-05-0.1\n",
      " 72/72 instances terminate with status:  0\n",
      "2-projectedGD-True-1e-05-0.1\n",
      " 51/60 instances terminate with status:  0\n",
      "  9/60 instances terminate with status:  2\n"
     ]
    }
   ],
   "source": [
    "logdir='../IPG/test/log'; date='07_09_2021'\n",
    "subsolver='projectedGD'; warm_start=True\n",
    "loss='logit'; lam_shrink=[0.1, 0.05]; group_size=[10, 100]; overlap_ratio=[0.1, 0.3, 0.5]\n",
    "excludes= None\n",
    "inexact_type=2; param1_lst = [1e-5]; param2_lst = [0.1]\n",
    "algo_df_dict_inexact_type2_part1 = get_all(logdir, date, inexact_type, loss, subsolver, warm_start,\n",
    "                             lam_shrink, group_size, overlap_ratio,\n",
    "                             excludes, param1_lst, param2_lst)\n",
    "logdir='../IPG/test/log'; date='07_12_2021'\n",
    "algo_df_dict_inexact_type2_part2 = get_all(logdir, date, inexact_type, loss, subsolver, warm_start,\n",
    "                             lam_shrink, group_size, overlap_ratio,\n",
    "                             excludes, param1_lst, param2_lst)\n",
    "df_2_1 = algo_df_dict_inexact_type2_part1['2-projectedGD-True-1e-05-0.1']\n",
    "df_2_2 = algo_df_dict_inexact_type2_part2['2-projectedGD-True-1e-05-0.1']\n",
    "df_2 = pd.concat([df_2_1, df_2_2]).reset_index(drop=True)"
   ]
  },
  {
   "cell_type": "code",
   "execution_count": 4,
   "metadata": {},
   "outputs": [
    {
     "name": "stdout",
     "output_type": "stream",
     "text": [
      "3-projectedGD-True-3.0-100.0\n",
      " 72/72 instances terminate with status:  0\n",
      "3-projectedGD-True-3.0-1000000.0\n",
      " 71/72 instances terminate with status:  0\n",
      "  1/72 instances terminate with status:  2\n",
      "3-projectedGD-True-3.0-100.0\n",
      " 44/60 instances terminate with status:  0\n",
      " 16/60 instances terminate with status:  2\n",
      "3-projectedGD-True-3.0-1000000.0\n",
      " 45/60 instances terminate with status:  0\n",
      " 15/60 instances terminate with status:  2\n"
     ]
    }
   ],
   "source": [
    "logdir='../IPG/test/log'; date='07_09_2021'\n",
    "subsolver='projectedGD'; warm_start=True\n",
    "loss='logit'; lam_shrink=[0.1, 0.05]; group_size=[10, 100]; overlap_ratio=[0.1, 0.3, 0.5]\n",
    "excludes= None\n",
    "inexact_type=3; param1_lst = [3.0]; param2_lst = [1e2, 1e6]\n",
    "algo_df_dict_inexact_type3_part1 = get_all(logdir, date, inexact_type, loss, subsolver, warm_start,\n",
    "                             lam_shrink, group_size, overlap_ratio,\n",
    "                             excludes, param1_lst, param2_lst)\n",
    "logdir='../IPG/test/log'; date='07_12_2021'\n",
    "algo_df_dict_inexact_type3_part2 = get_all(logdir, date, inexact_type, loss, subsolver, warm_start,\n",
    "                             lam_shrink, group_size, overlap_ratio,\n",
    "                             excludes, param1_lst, param2_lst)\n",
    "df3_lst = []\n",
    "for key in algo_df_dict_inexact_type3_part1.keys():\n",
    "    df_3_1 = algo_df_dict_inexact_type3_part1[key]\n",
    "    df_3_2 = algo_df_dict_inexact_type3_part2[key]\n",
    "    df_3 = pd.concat([df_3_1, df_3_2]).reset_index(drop=True)\n",
    "    df3_lst.append(df_3)"
   ]
  },
  {
   "cell_type": "code",
   "execution_count": 24,
   "metadata": {},
   "outputs": [],
   "source": [
    "# cols = ['datasetid', 'time', 'status', 'nz', 'F']\n",
    "# df311e2 = pd.merge(df3_lst[0][cols], df_1[cols], on='datasetid', how='left', suffixes=('_type3', 'type_1'))\n",
    "# df311e6 = pd.merge(df3_lst[1][cols], df_1[cols], on='datasetid', how='left', suffixes=('_type3', 'type_1'))"
   ]
  },
  {
   "cell_type": "code",
   "execution_count": 7,
   "metadata": {},
   "outputs": [
    {
     "name": "stdout",
     "output_type": "stream",
     "text": [
      "opt 3 params:100.0\n",
      "----------------------------------------\n",
      " For 1-3 comparsion:\n",
      "==========================\n",
      "  In terms final F:\n",
      "   better:76 | same:47 | worse: 9\n",
      "  In terms #z:\n",
      "   better:64 | same:57 | worse: 11\n",
      " For 2-3 comparsion:\n",
      "==========================\n",
      "  In terms final F:\n",
      "   better:126 | same:6 | worse: 0\n",
      "  In terms #z:\n",
      "   better:71 | same:53 | worse: 8\n",
      "opt 3 params:1000000.0\n",
      "----------------------------------------\n",
      " For 1-3 comparsion:\n",
      "==========================\n",
      "  In terms final F:\n",
      "   better:69 | same:46 | worse: 17\n",
      "  In terms #z:\n",
      "   better:52 | same:56 | worse: 24\n",
      " For 2-3 comparsion:\n",
      "==========================\n",
      "  In terms final F:\n",
      "   better:124 | same:6 | worse: 2\n",
      "  In terms #z:\n",
      "   better:65 | same:52 | worse: 15\n"
     ]
    }
   ],
   "source": [
    "cols = ['datasetid', 'F', 'time', 'nz']\n",
    "df3_params = [1e2, 1e6]\n",
    "for (idx, df_3) in enumerate(df3_lst):\n",
    "    print(f\"opt 3 params:{df3_params[idx]}\")\n",
    "    print('-'*40)\n",
    "    df13_merged = pd.merge(df_1, df_3, on='datasetid', suffixes=(\"_type1\", \"_type3\"), how='left')\n",
    "\n",
    "    better13_z = np.sum((df13_merged['nz_type1'] - df13_merged['nz_type3']) > 0 ) \n",
    "    same13_z = np.sum((df13_merged['nz_type1'] - df13_merged['nz_type3']) == 0 ) \n",
    "    worse13_z = np.sum((df13_merged['nz_type1'] - df13_merged['nz_type3']) <0 ) \n",
    "\n",
    "    better13_F = np.sum((df13_merged['F_type1'] - df13_merged['F_type3']) < -1e-8 ) \n",
    "    same13_F = np.sum(np.abs(df13_merged['F_type1'] - df13_merged['F_type3']) <= 1e-8 ) \n",
    "    worse13_F = np.sum((df13_merged['F_type1'] - df13_merged['F_type3']) > 1e-8 ) \n",
    "\n",
    "    df23_merged = pd.merge(df_2, df_3, on='datasetid', suffixes=(\"_type2\", \"_type3\"), how='left')\n",
    "    better23_z = np.sum((df23_merged['nz_type2'] - df23_merged['nz_type3']) > 0 ) \n",
    "    same23_z = np.sum((df23_merged['nz_type2'] - df23_merged['nz_type3']) == 0 ) \n",
    "    worse23_z = np.sum((df23_merged['nz_type2'] - df23_merged['nz_type3']) <0 ) \n",
    "\n",
    "    better23_F = np.sum((df23_merged['F_type2'] - df23_merged['F_type3']) < -1e-8 ) \n",
    "    same23_F = np.sum(np.abs(df23_merged['F_type2'] - df23_merged['F_type3']) <=1e-8 ) \n",
    "    worse23_F = np.sum((df23_merged['F_type2'] - df23_merged['F_type3']) > 1e-8 ) \n",
    "\n",
    "    print(\" For 1-3 comparsion:\\n==========================\")\n",
    "    print(\"  In terms final F:\")\n",
    "    print(f\"   better:{better13_F} | same:{same13_F} | worse: {worse13_F}\")\n",
    "    print(\"  In terms #z:\")\n",
    "    print(f\"   better:{better13_z} | same:{same13_z} | worse: {worse13_z}\")\n",
    "    print(\" For 2-3 comparsion:\\n==========================\")\n",
    "    print(\"  In terms final F:\")\n",
    "    print(f\"   better:{better23_F} | same:{same23_F} | worse: {worse23_F}\")\n",
    "    print(\"  In terms #z:\")\n",
    "    print(f\"   better:{better23_z} | same:{same23_z} | worse: {worse23_z}\")"
   ]
  },
  {
   "cell_type": "code",
   "execution_count": 12,
   "metadata": {},
   "outputs": [
    {
     "name": "stdout",
     "output_type": "stream",
     "text": [
      "All algorithms failed in 16 instances (failure code 2)\n",
      "Metrics for failed instances are overwritten with np.inf\n",
      "After subsetting, 116 instances are kept.\n",
      "1-projectedGD-True-1e-08-empty Win:58 | Lose:58\n",
      "All algorithms failed in 15 instances (failure code 2)\n",
      "Metrics for failed instances are overwritten with np.inf\n",
      "After subsetting, 117 instances are kept.\n",
      "1-projectedGD-True-1e-08-empty Win:57 | Lose:60\n"
     ]
    },
    {
     "data": {
      "image/png": "[encoded data removed]",
      "text/plain": [
       "<Figure size 432x288 with 1 Axes>"
      ]
     },
     "metadata": {
      "needs_background": "light"
     },
     "output_type": "display_data"
    },
    {
     "data": {
      "image/png": "[encoded data removed]",
      "text/plain": [
       "<Figure size 432x288 with 1 Axes>"
      ]
     },
     "metadata": {
      "needs_background": "light"
     },
     "output_type": "display_data"
    }
   ],
   "source": [
    "for i in range(2):\n",
    "    final = {}\n",
    "    final['1-projectedGD-True-1e-08-empty'] = df_1\n",
    "    c = df3_params[i]\n",
    "    type3_sensitivity = f'3-projectedGD-True-3.0-{c}'\n",
    "    final[type3_sensitivity] = df3_lst[i]\n",
    "    ppf = PerformanceProfile(final, failcode=2)\n",
    "    ppf.get_subset_by_time(threshold=1, remove_failed=True)\n",
    "    _ = ppf.plot(column='time',show_num=False, options={'ratio_max':7}, save=True, saveDir='./natOG/', labels=['option I\\ \\ \\ \\ \\ \\ \\ \\ \\ ', f'option III-{c:1.0e}'])"
   ]
  },
  {
   "cell_type": "code",
   "execution_count": 13,
   "metadata": {},
   "outputs": [
    {
     "name": "stdout",
     "output_type": "stream",
     "text": [
      "All algorithms failed in 9 instances (failure code 2)\n",
      "Metrics for failed instances are overwritten with np.inf\n",
      "After subsetting, 123 instances are kept.\n",
      "2-projectedGD-True-1e-05-empty Win:105 | Lose:18\n",
      "All algorithms failed in 9 instances (failure code 2)\n",
      "Metrics for failed instances are overwritten with np.inf\n",
      "After subsetting, 123 instances are kept.\n",
      "2-projectedGD-True-1e-05-empty Win:101 | Lose:22\n"
     ]
    },
    {
     "data": {
      "image/png": "[encoded data removed]",
      "text/plain": [
       "<Figure size 432x288 with 1 Axes>"
      ]
     },
     "metadata": {
      "needs_background": "light"
     },
     "output_type": "display_data"
    },
    {
     "data": {
      "image/png": "[encoded data removed]",
      "text/plain": [
       "<Figure size 432x288 with 1 Axes>"
      ]
     },
     "metadata": {
      "needs_background": "light"
     },
     "output_type": "display_data"
    }
   ],
   "source": [
    "for i in range(2):\n",
    "    final = {}\n",
    "    final['2-projectedGD-True-1e-05-empty'] = df_2\n",
    "    c = df3_params[i]\n",
    "    type3_sensitivity = f'3-projectedGD-True-3.0-{c}'\n",
    "    final[type3_sensitivity] = df3_lst[i]\n",
    "    ppf = PerformanceProfile(final, failcode=2)\n",
    "    ppf.get_subset_by_time(threshold=1, remove_failed=True)\n",
    "    _ = ppf.plot(column='time',show_num=False, options={'ratio_max':7}, save=True, saveDir='./natOG/', labels=['option II\\ \\ \\ \\ \\ \\ \\ \\ ', f'option III-{c:1.0e}'])"
   ]
  },
  {
   "cell_type": "markdown",
   "metadata": {},
   "source": [
    "## No lineserch"
   ]
  },
  {
   "cell_type": "code",
   "execution_count": 13,
   "metadata": {},
   "outputs": [
    {
     "name": "stdout",
     "output_type": "stream",
     "text": [
      "1-projectedGD-True-1e-10-empty\n",
      " 70/72 instances terminate with status:  0\n",
      "  2/72 instances terminate with status:  2\n",
      "1-projectedGD-True-1e-09-empty\n",
      " 70/72 instances terminate with status:  0\n",
      "  2/72 instances terminate with status:  2\n",
      "1-projectedGD-True-1e-08-empty\n",
      " 70/72 instances terminate with status:  0\n",
      "  2/72 instances terminate with status:  2\n",
      "1-projectedGD-True-1e-07-empty\n",
      " 70/72 instances terminate with status:  0\n",
      "  2/72 instances terminate with status:  2\n",
      "1-projectedGD-True-1e-06-empty\n",
      " 70/72 instances terminate with status:  0\n",
      "  2/72 instances terminate with status:  2\n",
      "2-projectedGD-True-1e-07-0.1\n",
      " 69/72 instances terminate with status:  0\n",
      "  3/72 instances terminate with status:  2\n",
      "2-projectedGD-True-1e-06-0.1\n",
      " 69/72 instances terminate with status:  0\n",
      "  3/72 instances terminate with status:  2\n",
      "2-projectedGD-True-1e-05-0.1\n",
      " 69/72 instances terminate with status:  0\n",
      "  3/72 instances terminate with status:  2\n",
      "2-projectedGD-True-0.0001-0.1\n",
      " 69/72 instances terminate with status:  0\n",
      "  3/72 instances terminate with status:  2\n",
      "2-projectedGD-True-0.001-0.1\n",
      " 69/72 instances terminate with status:  0\n",
      "  3/72 instances terminate with status:  2\n",
      "3-projectedGD-True-3.0-1.0\n",
      " 72/72 instances terminate with status:  0\n",
      "3-projectedGD-True-3.0-10.0\n",
      " 72/72 instances terminate with status:  0\n",
      "3-projectedGD-True-3.0-100.0\n",
      " 72/72 instances terminate with status:  0\n",
      "3-projectedGD-True-3.0-1000.0\n",
      " 72/72 instances terminate with status:  0\n",
      "3-projectedGD-True-3.0-10000.0\n",
      " 72/72 instances terminate with status:  0\n"
     ]
    }
   ],
   "source": [
    "logdir='/scratch/yud319/inexactPGlog/log/'; date='07_11_2021'\n",
    "subsolver='projectedGD'; warm_start=True\n",
    "loss='logit'; lam_shrink=[0.1, 0.05]; group_size=[10, 100]; overlap_ratio=[0.1, 0.3, 0.5]\n",
    "excludes= ['australian', 'gisette', 'news20', 'rcv1', 'real-sim', 'madelon']\n",
    "\n",
    "inexact_type=1; param1_lst = [1e-10, 1e-9, 1e-8, 1e-7, 1e-6]; param2_lst = ['empty']\n",
    "algo_df_dict_inexact_type1 = get_all(logdir, date, inexact_type, loss, subsolver, warm_start,\n",
    "                             lam_shrink, group_size, overlap_ratio,\n",
    "                             excludes, param1_lst, param2_lst)\n",
    "time_type1 = []\n",
    "for key in algo_df_dict_inexact_type1.keys():\n",
    "    df_ = algo_df_dict_inexact_type1[key]\n",
    "    time_ = np.sum(df_['time'])\n",
    "    time_type1.append(time_)\n",
    "    \n",
    "inexact_type=2; param1_lst = [1e-7, 1e-6, 1e-5, 1e-4, 1e-3]; param2_lst = [0.1]\n",
    "algo_df_dict_inexact_type2 = get_all(logdir, date, inexact_type, loss, subsolver, warm_start,\n",
    "                             lam_shrink, group_size, overlap_ratio,\n",
    "                             excludes, param1_lst, param2_lst)\n",
    "\n",
    "time_type2 = []\n",
    "for key in algo_df_dict_inexact_type2.keys():\n",
    "    df_ = algo_df_dict_inexact_type2[key]\n",
    "    time_ = np.sum(df_['time'])\n",
    "    time_type2.append(time_)    \n",
    "\n",
    "inexact_type=3; param1_lst = [3.0]; param2_lst = [1e0, 1e1, 1e2, 1e3, 1e4]\n",
    "algo_df_dict_inexact_type3 = get_all('../IPG/test/log', '07_09_2021', inexact_type, loss, subsolver, warm_start,\n",
    "                             lam_shrink, group_size, overlap_ratio,\n",
    "                             excludes, param1_lst, param2_lst)\n",
    "time_type3 = []\n",
    "for key in algo_df_dict_inexact_type3.keys():\n",
    "    df_ = algo_df_dict_inexact_type3[key]\n",
    "    time_ = np.sum(df_['time'])\n",
    "    time_type3.append(time_)    "
   ]
  },
  {
   "cell_type": "code",
   "execution_count": 14,
   "metadata": {},
   "outputs": [
    {
     "data": {
      "text/plain": [
       "<matplotlib.legend.Legend at 0x7fea4708c790>"
      ]
     },
     "execution_count": 14,
     "metadata": {},
     "output_type": "execute_result"
    },
    {
     "data": {
      "image/png": "[encoded data removed]",
      "text/plain": [
       "<Figure size 432x288 with 1 Axes>"
      ]
     },
     "metadata": {
      "needs_background": "light"
     },
     "output_type": "display_data"
    }
   ],
   "source": [
    "plt.figure()\n",
    "plt.plot(time_type1, 'b-*', label='1')\n",
    "plt.plot(time_type3, 'k-o', label='3')\n",
    "plt.yscale('log')\n",
    "plt.legend()"
   ]
  },
  {
   "cell_type": "code",
   "execution_count": 15,
   "metadata": {},
   "outputs": [
    {
     "data": {
      "text/plain": [
       "<matplotlib.legend.Legend at 0x7fea467c3450>"
      ]
     },
     "execution_count": 15,
     "metadata": {},
     "output_type": "execute_result"
    },
    {
     "data": {
      "image/png": "[encoded data removed]",
      "text/plain": [
       "<Figure size 432x288 with 1 Axes>"
      ]
     },
     "metadata": {
      "needs_background": "light"
     },
     "output_type": "display_data"
    }
   ],
   "source": [
    "plt.figure()\n",
    "plt.plot(time_type2, 'b-^', label='2')\n",
    "plt.plot(time_type3, 'k-o', label='3')\n",
    "plt.yscale('log')\n",
    "plt.legend()"
   ]
  },
  {
   "cell_type": "code",
   "execution_count": 16,
   "metadata": {},
   "outputs": [
    {
     "data": {
      "text/plain": [
       "([22766.04421019554,\n",
       "  22789.074959516525,\n",
       "  22763.39180970192,\n",
       "  22118.751851797104,\n",
       "  22182.754197835922],\n",
       " [29576.87233543396,\n",
       "  29833.88060426712,\n",
       "  29368.620887041092,\n",
       "  29410.33562541008,\n",
       "  29426.279797792435],\n",
       " [7244.112042427063,\n",
       "  7029.444903850555,\n",
       "  6934.045826673508,\n",
       "  7469.480256319046,\n",
       "  9146.538435220718])"
      ]
     },
     "execution_count": 16,
     "metadata": {},
     "output_type": "execute_result"
    }
   ],
   "source": [
    "time_type1, time_type2, time_type3"
   ]
  }
 ],
 "metadata": {
  "kernelspec": {
   "display_name": "Python 3",
   "language": "python",
   "name": "python3"
  },
  "language_info": {
   "codemirror_mode": {
    "name": "ipython",
    "version": 3
   },
   "file_extension": ".py",
   "mimetype": "text/x-python",
   "name": "python",
   "nbconvert_exporter": "python",
   "pygments_lexer": "ipython3",
   "version": "3.7.7"
  }
 },
 "nbformat": 4,
 "nbformat_minor": 4
}
