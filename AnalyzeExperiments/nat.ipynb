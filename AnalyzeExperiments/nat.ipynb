{
 "cells": [
  {
   "cell_type": "code",
   "execution_count": null,
   "metadata": {},
   "outputs": [],
   "source": [
    "import matplotlib.pyplot as plt\n",
    "from matplotlib import rc\n",
    "from plotutils import *\n",
    "rc('text', usetex=True)"
   ]
  },
  {
   "cell_type": "code",
   "execution_count": 6,
   "metadata": {},
   "outputs": [],
   "source": [
    "def collect_time(df_dict):\n",
    "    lst = []\n",
    "    for key in df_dict.keys():\n",
    "        df_ = df_dict[key]\n",
    "        time_ = np.sum(df_['time'])\n",
    "        lst.append(time_)\n",
    "    return lst"
   ]
  },
  {
   "cell_type": "code",
   "execution_count": 9,
   "metadata": {},
   "outputs": [
    {
     "name": "stdout",
     "output_type": "stream",
     "text": [
      "schimdt-1.0\n",
      " 72/72 instances terminate with status:  0\n",
      "schimdt-10.0\n",
      " 72/72 instances terminate with status:  0\n",
      "schimdt-100.0\n",
      " 72/72 instances terminate with status:  0\n",
      "schimdt-1000.0\n",
      " 72/72 instances terminate with status:  0\n",
      "schimdt-10000.0\n",
      " 72/72 instances terminate with status:  0\n"
     ]
    }
   ],
   "source": [
    "schimdt = get_all(logdir='../IPG/test/log', date='09_11_2021', inexact_type='schimdt', loss='logit', tol = 1e-6, \n",
    "        lam_shrink=[0.1, 0.01], group_size=[10, 100], overlap_ratio=[0.1, 0.2, 0.3], excludes=['madelon'], param_lst=[1e0, 1e1, 1e2, 1e3, 1e4])\n",
    "schimdt_time = collect_time(schimdt)"
   ]
  },
  {
   "cell_type": "code",
   "execution_count": 7,
   "metadata": {},
   "outputs": [
    {
     "name": "stdout",
     "output_type": "stream",
     "text": [
      "lee-0.1\n",
      " 72/72 instances terminate with status:  0\n",
      "lee-0.2\n",
      " 72/72 instances terminate with status:  0\n",
      "lee-0.3\n",
      " 72/72 instances terminate with status:  0\n",
      "lee-0.4\n",
      " 72/72 instances terminate with status:  0\n",
      "lee-0.5\n",
      " 72/72 instances terminate with status:  0\n"
     ]
    }
   ],
   "source": [
    "lee = get_all(logdir='../IPG/test/log', date='09_11_2021', inexact_type='lee', loss='logit', tol = 1e-6, \n",
    "        lam_shrink=[0.1, 0.01], group_size=[10, 100], overlap_ratio=[0.1, 0.2, 0.3], excludes=['madelon'], param_lst=[0.1, 0.2, 0.3, 0.4, 0.5])\n",
    "lee_time = collect_time(lee)"
   ]
  },
  {
   "cell_type": "code",
   "execution_count": 8,
   "metadata": {},
   "outputs": [
    {
     "name": "stdout",
     "output_type": "stream",
     "text": [
      "yd-0.1\n",
      " 72/72 instances terminate with status:  0\n",
      "yd-0.2\n",
      " 72/72 instances terminate with status:  0\n",
      "yd-0.3\n",
      " 72/72 instances terminate with status:  0\n",
      "yd-0.4\n",
      " 72/72 instances terminate with status:  0\n",
      "yd-0.5\n",
      " 72/72 instances terminate with status:  0\n"
     ]
    }
   ],
   "source": [
    "yd = get_all(logdir='../IPG/test/log', date='09_11_2021', inexact_type='yd', loss='logit', tol = 1e-6, \n",
    "        lam_shrink=[0.1, 0.01], group_size=[10, 100], overlap_ratio=[0.1, 0.2, 0.3], excludes=['madelon'], param_lst=[0.1, 0.2, 0.3, 0.4, 0.5])\n",
    "yd_time = collect_time(yd)"
   ]
  },
  {
   "cell_type": "code",
   "execution_count": 18,
   "metadata": {},
   "outputs": [
    {
     "data": {
      "image/png": "[encoded data removed]",
      "text/plain": [
       "<Figure size 864x288 with 3 Axes>"
      ]
     },
     "metadata": {
      "needs_background": "light"
     },
     "output_type": "display_data"
    }
   ],
   "source": [
    "fig, (ax1, ax2, ax3) = plt.subplots(1, 3, sharey=True, figsize=(12,4))\n",
    "fig.suptitle('Total time spent on test instances with varing parameters')\n",
    "ax1.plot([0.1, 0.2, 0.3, 0.4, 0.5], yd_time, 'r-*', label=r'\\texttt{option} I')\n",
    "ax1.set_xlabel(r'$\\gamma_1$')\n",
    "ax2.plot([0.1, 0.2, 0.3, 0.4, 0.5], lee_time, 'b-^', label=r'\\texttt{option} II')\n",
    "ax2.set_xlabel(r'$\\gamma_2$')\n",
    "ax3.plot([1e0, 1e1, 1e2, 1e3, 1e4], schimdt_time, 'k-o', label=r'\\texttt{option} III')\n",
    "ax3.set_xlabel(r'\\texttt{const}')\n",
    "ax3.set_xscale('log')"
   ]
  },
  {
   "cell_type": "markdown",
   "metadata": {},
   "source": [
    "## Morales Plots"
   ]
  },
  {
   "cell_type": "code",
   "execution_count": 17,
   "metadata": {},
   "outputs": [
    {
     "name": "stdout",
     "output_type": "stream",
     "text": [
      "Best params: schimdt-10000.0\n"
     ]
    }
   ],
   "source": [
    "schimdt = get_all(logdir='../IPG/test/log', date='09_11_2021', inexact_type='schimdt', loss='logit', tol = 1e-6, \n",
    "        lam_shrink=[0.1, 0.01], group_size=[10, 100], overlap_ratio=[0.1, 0.2, 0.3], excludes=['madelon'], param_lst=[1e0, 1e1, 1e2, 1e3, 1e4])\n",
    "ppf = PerformanceProfile(schimdt)\n",
    "ppf.get_subset_by_time(threshold=1, remove_failed=True)\n",
    "pools = ppf.plot(column='time', show_num=True, options={'ratio_max':4}, plot=False)\n",
    "print(\"=================\")\n",
    "schimdt_best = get_best(pools)\n",
    "print('Best params:', schimdt_best)"
   ]
  },
  {
   "cell_type": "code",
   "execution_count": 23,
   "metadata": {},
   "outputs": [
    {
     "name": "stdout",
     "output_type": "stream",
     "text": [
      "lee-0.1\n",
      " 72/72 instances terminate with status:  0\n",
      "lee-0.2\n",
      " 72/72 instances terminate with status:  0\n",
      "lee-0.3\n",
      " 72/72 instances terminate with status:  0\n",
      "lee-0.4\n",
      " 72/72 instances terminate with status:  0\n",
      "lee-0.5\n",
      " 72/72 instances terminate with status:  0\n",
      "All algorithms failed in 0 instances (failure code -2)\n",
      "Metrics for failed instances are overwritten with np.inf\n",
      "After subsetting, 72 instances are kept.\n",
      "=================\n",
      "Best params: lee-0.4\n"
     ]
    }
   ],
   "source": [
    "lee = get_all(logdir='../IPG/test/log', date='09_11_2021', inexact_type='lee', loss='logit', tol = 1e-6, \n",
    "        lam_shrink=[0.1, 0.01], group_size=[10, 100], overlap_ratio=[0.1, 0.2, 0.3], excludes=['madelon'], param_lst=[0.1, 0.2, 0.3, 0.4, 0.5])\n",
    "ppf = PerformanceProfile(lee)\n",
    "ppf.get_subset_by_time(threshold=1, remove_failed=True)\n",
    "pools = ppf.plot(column='time', show_num=True, options={'ratio_max':4}, plot=False)\n",
    "print(\"=================\")\n",
    "lee_best = get_best(pools)\n",
    "print('Best params:', lee_best)"
   ]
  },
  {
   "cell_type": "code",
   "execution_count": 22,
   "metadata": {},
   "outputs": [
    {
     "name": "stdout",
     "output_type": "stream",
     "text": [
      "yd-0.1\n",
      " 72/72 instances terminate with status:  0\n",
      "yd-0.2\n",
      " 72/72 instances terminate with status:  0\n",
      "yd-0.3\n",
      " 72/72 instances terminate with status:  0\n",
      "yd-0.4\n",
      " 72/72 instances terminate with status:  0\n",
      "yd-0.5\n",
      " 72/72 instances terminate with status:  0\n",
      "All algorithms failed in 0 instances (failure code -2)\n",
      "Metrics for failed instances are overwritten with np.inf\n",
      "After subsetting, 72 instances are kept.\n",
      "=================\n",
      "Best params: yd-0.3\n"
     ]
    }
   ],
   "source": [
    "yd = get_all(logdir='../IPG/test/log', date='09_11_2021', inexact_type='yd', loss='logit', tol = 1e-6, \n",
    "        lam_shrink=[0.1, 0.01], group_size=[10, 100], overlap_ratio=[0.1, 0.2, 0.3], excludes=['madelon'], param_lst=[0.1, 0.2, 0.3, 0.4, 0.5])\n",
    "ppf = PerformanceProfile(yd)\n",
    "ppf.get_subset_by_time(threshold=1, remove_failed=True)\n",
    "pools = ppf.plot(column='time', show_num=True, options={'ratio_max':4}, plot=False)\n",
    "print(\"=================\")\n",
    "yd_best = get_best(pools)\n",
    "print('Best params:', yd_best)"
   ]
  },
  {
   "cell_type": "code",
   "execution_count": 36,
   "metadata": {},
   "outputs": [],
   "source": [
    "cols = ['datasetid', 'F', 'time', 'nz']\n",
    "schimdt_df = schimdt[schimdt_best][cols].copy()\n",
    "lee_df = lee[lee_best][cols].copy()\n",
    "yd_df = yd[yd_best][cols].copy()\n",
    "\n",
    "def pair_wise_comparison(df1, df2, suffixes_lst):\n",
    "    df12_merged = pd.merge(df1, df2, on='datasetid', \n",
    "                           suffixes=(suffixes_lst[0], suffixes_lst[1]), how='left')\n",
    "    print(df12_merged.columns)\n",
    "    better12_z = np.sum((df12_merged[f'nz{suffixes_lst[0]}'] - df12_merged[f'nz{suffixes_lst[1]}']) > 0 )\n",
    "    same12_z = np.sum((df12_merged[f'nz{suffixes_lst[0]}'] - df12_merged[f'nz{suffixes_lst[1]}']) == 0 ) \n",
    "    worse12_z = np.sum((df12_merged[f'nz{suffixes_lst[0]}'] - df12_merged[f'nz{suffixes_lst[1]}']) < 0 ) \n",
    "    \n",
    "    better12_F = np.sum((df12_merged[f'F{suffixes_lst[0]}'] - df12_merged[f'F{suffixes_lst[1]}']) < -1e-8 )\n",
    "    same12_F = np.sum(np.abs(df12_merged[f'F{suffixes_lst[0]}'] - df12_merged[f'F{suffixes_lst[1]}']) <=1e-8 ) \n",
    "    worse12_F = np.sum((df12_merged[f'F{suffixes_lst[0]}'] - df12_merged[f'F{suffixes_lst[1]}']) > 1e-8 )     \n",
    "\n",
    "    print(f\"For {suffixes_lst[0]}-{suffixes_lst[1]} comparsion:\\n==========================\")\n",
    "    print(\" In terms final F:\")\n",
    "    print(f\"  better:{better12_F} | same:{same12_F} | worse: {worse12_F}\")\n",
    "    print(\" In terms #z:\")\n",
    "    print(f\"  better:{better12_z} | same:{same12_z} | worse: {worse12_z}\")\n",
    "    return better12_z, same12_z, worse12_z, better12_F, same12_F, worse12_F"
   ]
  },
  {
   "cell_type": "code",
   "execution_count": 38,
   "metadata": {},
   "outputs": [
    {
     "name": "stdout",
     "output_type": "stream",
     "text": [
      "Index(['datasetid', 'Fyd', 'timeyd', 'nzyd', 'Flee', 'timelee', 'nzlee'], dtype='object')\n",
      "For yd-lee comparsion:\n",
      "==========================\n",
      " In terms final F:\n",
      "  better:0 | same:69 | worse: 3\n",
      " In terms #z:\n",
      "  better:0 | same:68 | worse: 4\n"
     ]
    },
    {
     "data": {
      "text/plain": [
       "(0, 68, 4, 0, 69, 3)"
      ]
     },
     "execution_count": 38,
     "metadata": {},
     "output_type": "execute_result"
    }
   ],
   "source": [
    "pair_wise_comparison(yd_df, lee_df, suffixes_lst=['yd', 'lee'])"
   ]
  },
  {
   "cell_type": "code",
   "execution_count": 37,
   "metadata": {},
   "outputs": [
    {
     "name": "stdout",
     "output_type": "stream",
     "text": [
      "Index(['datasetid', 'Fyd', 'timeyd', 'nzyd', 'Fschimdt', 'timeschimdt',\n",
      "       'nzschimdt'],\n",
      "      dtype='object')\n",
      "For yd-schimdt comparsion:\n",
      "==========================\n",
      " In terms final F:\n",
      "  better:7 | same:65 | worse: 0\n",
      " In terms #z:\n",
      "  better:4 | same:65 | worse: 3\n"
     ]
    },
    {
     "data": {
      "text/plain": [
       "(4, 65, 3, 7, 65, 0)"
      ]
     },
     "execution_count": 37,
     "metadata": {},
     "output_type": "execute_result"
    }
   ],
   "source": [
    "pair_wise_comparison(yd_df, schimdt_df, suffixes_lst=['yd', 'schimdt'])"
   ]
  },
  {
   "cell_type": "code",
   "execution_count": 40,
   "metadata": {},
   "outputs": [
    {
     "name": "stdout",
     "output_type": "stream",
     "text": [
      "Index(['datasetid', 'Flee', 'timelee', 'nzlee', 'Fschimdt', 'timeschimdt',\n",
      "       'nzschimdt'],\n",
      "      dtype='object')\n",
      "For lee-schimdt comparsion:\n",
      "==========================\n",
      " In terms final F:\n",
      "  better:10 | same:62 | worse: 0\n",
      " In terms #z:\n",
      "  better:6 | same:64 | worse: 2\n"
     ]
    },
    {
     "data": {
      "text/plain": [
       "(6, 64, 2, 10, 62, 0)"
      ]
     },
     "execution_count": 40,
     "metadata": {},
     "output_type": "execute_result"
    }
   ],
   "source": [
    "pair_wise_comparison(lee_df, schimdt_df, suffixes_lst=['lee', 'schimdt'])"
   ]
  },
  {
   "cell_type": "code",
   "execution_count": 39,
   "metadata": {},
   "outputs": [
    {
     "name": "stdout",
     "output_type": "stream",
     "text": [
      "All algorithms failed in 0 instances (failure code -2)\n",
      "Metrics for failed instances are overwritten with np.inf\n",
      "After subsetting, 72 instances are kept.\n",
      "yd-0.3 Win:41 | Lose:31\n",
      "yd-0.3 Win:56 | Lose:16\n",
      "lee-0.4 Win:47 | Lose:25\n"
     ]
    },
    {
     "data": {
      "image/png": "[encoded data removed]",
      "text/plain": [
       "<Figure size 432x288 with 1 Axes>"
      ]
     },
     "metadata": {
      "needs_background": "light"
     },
     "output_type": "display_data"
    },
    {
     "data": {
      "image/png": "[encoded data removed]",
      "text/plain": [
       "<Figure size 432x288 with 1 Axes>"
      ]
     },
     "metadata": {
      "needs_background": "light"
     },
     "output_type": "display_data"
    },
    {
     "data": {
      "image/png": "[encoded data removed]",
      "text/plain": [
       "<Figure size 432x288 with 1 Axes>"
      ]
     },
     "metadata": {
      "needs_background": "light"
     },
     "output_type": "display_data"
    }
   ],
   "source": [
    "final = {}\n",
    "final[yd_best] = yd[yd_best]\n",
    "final[lee_best] = lee[lee_best]\n",
    "final[schimdt_best] = schimdt[schimdt_best]\n",
    "ppf = PerformanceProfile(final)\n",
    "ppf.get_subset_by_time(threshold=1, remove_failed=True)\n",
    "_ = ppf.plot(column='time',show_num=False, options={'ratio_max':6}, save=True, saveDir='./natOG/', labels=['option I\\ \\ \\ ', 'option II\\ \\ ', 'option III'])"
   ]
  },
  {
   "cell_type": "code",
   "execution_count": 15,
   "metadata": {},
   "outputs": [],
   "source": []
  },
  {
   "cell_type": "code",
   "execution_count": null,
   "metadata": {},
   "outputs": [],
   "source": []
  },
  {
   "cell_type": "code",
   "execution_count": 37,
   "metadata": {},
   "outputs": [],
   "source": [
    "# yd['yd-0.1'][yd['yd-0.1']['status'] != 0]\n",
    "# cat ../IPG/test/log/09_10_2021/yd/logit/logfile/0.01_10_0.1_0.1/w8a.txt"
   ]
  },
  {
   "cell_type": "code",
   "execution_count": null,
   "metadata": {},
   "outputs": [],
   "source": [
    "# cat ../IPG/test/log/09_10_2021/yd/logit/logfile/0.1_100_0.3_0.1/duke.txt"
   ]
  },
  {
   "cell_type": "code",
   "execution_count": 5,
   "metadata": {},
   "outputs": [],
   "source": [
    "# cat ../IPG/test/log/09_10_2021/lee/logit/logfile/0.1_100_0.3_0.1/duke.txt"
   ]
  },
  {
   "cell_type": "code",
   "execution_count": 33,
   "metadata": {},
   "outputs": [
    {
     "name": "stdout",
     "output_type": "stream",
     "text": [
      "a9a_info.npy           duke_info.npy  mushrooms_info.npy\n",
      "colon_cancer_info.npy  leu_info.npy\n"
     ]
    }
   ],
   "source": [
    "ls ../IPG/test/log/09_10_2021/lee/logit/ckpt/1e-06/0.1_10_0.3_0.1/ "
   ]
  },
  {
   "cell_type": "code",
   "execution_count": 25,
   "metadata": {},
   "outputs": [
    {
     "data": {
      "text/plain": [
       "(7.485627446075131e-07, 404)"
      ]
     },
     "execution_count": 25,
     "metadata": {},
     "output_type": "execute_result"
    }
   ],
   "source": [
    "path = \"../IPG/test/log/09_10_2021/lee/logit/ckpt/1e-06/0.01_100_0.1_0.1/w8a_info.npy\"\n",
    "np.load(path, allow_pickle=\"True\").item()['optim'], np.load(path, allow_pickle=\"True\").item()['status']"
   ]
  },
  {
   "cell_type": "code",
   "execution_count": 15,
   "metadata": {},
   "outputs": [
    {
     "data": {
      "text/plain": [
       "6.23955952580761e-06"
      ]
     },
     "execution_count": 15,
     "metadata": {},
     "output_type": "execute_result"
    }
   ],
   "source": [
    "path = \"../IPG/test/log/09_10_2021/lee/logit/ckpt/1e-05/0.01_100_0.1_0.1/w8a_info.npy\"\n",
    "np.load(path, allow_pickle=\"True\").item()['optim']"
   ]
  },
  {
   "cell_type": "code",
   "execution_count": 17,
   "metadata": {},
   "outputs": [
    {
     "data": {
      "text/plain": [
       "6.563115869618423e-06"
      ]
     },
     "execution_count": 17,
     "metadata": {},
     "output_type": "execute_result"
    }
   ],
   "source": [
    "path = \"../IPG/test/log/09_10_2021/lee/logit/ckpt/0.0001/0.01_100_0.1_0.1/w8a_info.npy\"\n",
    "np.load(path, allow_pickle=\"True\").item()['optim']"
   ]
  },
  {
   "cell_type": "code",
   "execution_count": 35,
   "metadata": {},
   "outputs": [],
   "source": [
    "# cat ../IPG/test/log/09_10_2021/yd/logit/logfile/0.01_10_0.1_0.1/a9a.txt"
   ]
  },
  {
   "cell_type": "code",
   "execution_count": null,
   "metadata": {},
   "outputs": [],
   "source": []
  }
 ],
 "metadata": {
  "kernelspec": {
   "display_name": "Python 3",
   "language": "python",
   "name": "python3"
  },
  "language_info": {
   "codemirror_mode": {
    "name": "ipython",
    "version": 3
   },
   "file_extension": ".py",
   "mimetype": "text/x-python",
   "name": "python",
   "nbconvert_exporter": "python",
   "pygments_lexer": "ipython3",
   "version": "3.7.7"
  }
 },
 "nbformat": 4,
 "nbformat_minor": 4
}
