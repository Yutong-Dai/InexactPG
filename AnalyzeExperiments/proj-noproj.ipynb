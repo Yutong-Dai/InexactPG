{
 "cells": [
  {
   "cell_type": "code",
   "execution_count": 14,
   "metadata": {
    "execution": {
     "iopub.execute_input": "2021-10-02T02:58:29.823845Z",
     "iopub.status.busy": "2021-10-02T02:58:29.823566Z",
     "iopub.status.idle": "2021-10-02T02:58:30.776926Z",
     "shell.execute_reply": "2021-10-02T02:58:30.776174Z",
     "shell.execute_reply.started": "2021-10-02T02:58:29.823809Z"
    }
   },
   "outputs": [],
   "source": [
    "import os\n",
    "import sys\n",
    "sys.path.append(\"../\")\n",
    "from scipy.io import savemat, loadmat\n",
    "from IPG.src.lossfunction import LogisticLoss\n",
    "from IPG.src.regularizer_noidentification import NatOG as NatOGNO\n",
    "from IPG.src.regularizer import NatOG\n",
    "from IPG.src.solver import IpgSolver\n",
    "import IPG.src.utils as utils\n",
    "from IPG.src.params import *\n",
    "import yaml\n",
    "import numpy as np\n",
    "import pandas as pd"
   ]
  },
  {
   "cell_type": "code",
   "execution_count": 2,
   "metadata": {
    "execution": {
     "iopub.execute_input": "2021-10-02T01:41:45.949587Z",
     "iopub.status.busy": "2021-10-02T01:41:45.949224Z",
     "iopub.status.idle": "2021-10-02T01:41:45.965606Z",
     "shell.execute_reply": "2021-10-02T01:41:45.964154Z",
     "shell.execute_reply.started": "2021-10-02T01:41:45.949535Z"
    }
   },
   "outputs": [],
   "source": [
    "def main(lam_shrink = 0.1, datasetName = 'a9a', dbDir = '../../GroupFaRSA/db', grp_size = 10, overlap_ratio = 0.1):\n",
    "    loss = 'logit'\n",
    "    fileType = fileTypeDict[datasetName]\n",
    "    print(\"Working on: {}...\".format(datasetName))\n",
    "    X, y = utils.set_up_xy(datasetName, fileType, dbDir)\n",
    "    if loss == 'logit':\n",
    "        f = LogisticLoss(X, y, datasetName)\n",
    "    p = X.shape[1]\n",
    "    grp_size = min(p // 2, grp_size)\n",
    "    generator = utils.GenOverlapGroup(\n",
    "        p, grp_size=grp_size, overlap_ratio=overlap_ratio)\n",
    "    groups, starts, ends = generator.get_group()\n",
    "\n",
    "    lammax_path = f'{dbDir}/lammax-{datasetName}-{grp_size}-{overlap_ratio}.mat'\n",
    "    if os.path.exists(lammax_path):\n",
    "        lammax = loadmat(lammax_path)[\"lammax\"][0][0]\n",
    "        print(f\"loading lammax from: {lammax_path}\")\n",
    "    else:\n",
    "        lammax = utils.lam_max(X, y, starts, ends, loss)\n",
    "        savemat(lammax_path, {\"lammax\": lammax})\n",
    "        print(f\"save lammax to: {lammax_path}\")\n",
    "\n",
    "    r = NatOG(penalty=lammax * lam_shrink, groups=groups, weights=None)\n",
    "    rno = NatOGNO(penalty=lammax * lam_shrink, groups=groups, weights=None)\n",
    "    \n",
    "    alpha_init = 1.0\n",
    "    print(f\"Lambda use:{lammax * lam_shrink} | overlap ratio:{overlap_ratio} | group size:{grp_size}\")\n",
    "    print(\"Inexact subprobsolve: yd\")\n",
    "    with open('../IPG/src/config.yaml', \"r\") as stream:\n",
    "        config = yaml.load(stream, Loader=yaml.SafeLoader)\n",
    "    config['mainsolver']['exact_pg_computation'] = False\n",
    "    config['mainsolver']['inexact_pg_computation'] = 'yd'\n",
    "    config['inexactpg']['yd']['gamma'] = 0.1    \n",
    "\n",
    "    solver = IpgSolver(f, r, config)\n",
    "    info_yd = solver.solve(alpha_init=alpha_init,  save_ckpt=False)\n",
    "    print(f\"Yd with id:    #nz:{info_yd['nz']:5d}/#nnz:{info_yd['nnz']:5d}/F:{info_yd['F']:.6e}\")\n",
    "    solver_no = IpgSolver(f, rno, config)\n",
    "    info_yd_no = solver_no.solve(alpha_init=alpha_init,  save_ckpt=False)\n",
    "    print(f\"Yd Without id: #nz:{info_yd_no['nz']:5d}/#nnz:{info_yd_no['nnz']:5d}/F:{info_yd_no['F']:.6e}\")\n",
    "    result = {\"lambda_shrink\":{lam_shrink}, \"lambda\":lammax * lam_shrink, \n",
    "              \"grp_size\":grp_size, \"overlap_ratio\":overlap_ratio,\n",
    "              \"id\": {\"nz\":info_yd['nz'], \"nnz\":info_yd['nnz'] , \"F\":info_yd['F']},\n",
    "              \"noid\": {\"nz\":info_yd_no['nz'], \"nnz\":info_yd_no['nnz'] , \"F\":info_yd_no['F']},\n",
    "             }\n",
    "    np.save(\"projnoproj_ckpt/{}_info.npy\".format(datasetName), result)\n",
    "    return result"
   ]
  },
  {
   "cell_type": "code",
   "execution_count": 3,
   "metadata": {
    "execution": {
     "iopub.execute_input": "2021-10-02T01:41:45.969339Z",
     "iopub.status.busy": "2021-10-02T01:41:45.968846Z",
     "iopub.status.idle": "2021-10-02T01:41:53.930641Z",
     "shell.execute_reply": "2021-10-02T01:41:53.929345Z",
     "shell.execute_reply.started": "2021-10-02T01:41:45.969275Z"
    }
   },
   "outputs": [
    {
     "name": "stdout",
     "output_type": "stream",
     "text": [
      "Working on: a9a...\n",
      "loading lammax from: ../../GroupFaRSA/db/lammax-a9a-10-0.1.mat\n",
      "Lambda use:0.013458112455945873 | overlap ratio:0.1 | group size:10\n",
      "Inexact subprobsolve: yd\n",
      "\n",
      "==============================\n",
      "Exit: Optimal Solution Found\n",
      "\n",
      "Yd with id:    #nz:   12/#nnz:    2/F:5.083373e-01\n",
      "\n",
      "==============================\n",
      "Exit: Early stoppiong. (2 correction steps cap reached).\n",
      "\n",
      "Yd Without id: #nz:    0/#nnz:   14/F:5.083373e-01\n"
     ]
    }
   ],
   "source": [
    "result = main(lam_shrink = 0.1, datasetName = 'a9a', dbDir = '../../GroupFaRSA/db', grp_size = 10, overlap_ratio = 0.1)"
   ]
  },
  {
   "cell_type": "code",
   "execution_count": 4,
   "metadata": {
    "execution": {
     "iopub.execute_input": "2021-10-02T01:41:53.932790Z",
     "iopub.status.busy": "2021-10-02T01:41:53.932390Z",
     "iopub.status.idle": "2021-10-02T01:42:29.980729Z",
     "shell.execute_reply": "2021-10-02T01:42:29.979907Z",
     "shell.execute_reply.started": "2021-10-02T01:41:53.932737Z"
    }
   },
   "outputs": [
    {
     "name": "stdout",
     "output_type": "stream",
     "text": [
      "Working on: colon_cancer...\n",
      "loading lammax from: ../../GroupFaRSA/db/lammax-colon_cancer-10-0.1.mat\n",
      "Lambda use:0.01775094387544969 | overlap ratio:0.1 | group size:10\n",
      "Inexact subprobsolve: yd\n",
      "\n",
      "==============================\n",
      "Exit: Optimal Solution Found\n",
      "\n",
      "Yd with id:    #nz:  213/#nnz:   10/F:3.362699e-01\n",
      "\n",
      "==============================\n",
      "Exit: Early stoppiong. (2 correction steps cap reached).\n",
      "\n",
      "Yd Without id: #nz:    1/#nnz:  222/F:3.362699e-01\n"
     ]
    }
   ],
   "source": [
    "result = main(lam_shrink = 0.1, datasetName = 'colon_cancer', dbDir = '../../GroupFaRSA/db', grp_size = 10, overlap_ratio = 0.1)"
   ]
  },
  {
   "cell_type": "code",
   "execution_count": 5,
   "metadata": {
    "execution": {
     "iopub.execute_input": "2021-10-02T01:42:29.983179Z",
     "iopub.status.busy": "2021-10-02T01:42:29.982755Z",
     "iopub.status.idle": "2021-10-02T01:44:09.258068Z",
     "shell.execute_reply": "2021-10-02T01:44:09.256982Z",
     "shell.execute_reply.started": "2021-10-02T01:42:29.983125Z"
    }
   },
   "outputs": [
    {
     "name": "stdout",
     "output_type": "stream",
     "text": [
      "Working on: duke...\n",
      "loading lammax from: ../../GroupFaRSA/db/lammax-duke-10-0.1.mat\n",
      "Lambda use:0.01619798453280325 | overlap ratio:0.1 | group size:10\n",
      "Inexact subprobsolve: yd\n",
      "\n",
      "==============================\n",
      "Exit: Optimal Solution Found\n",
      "\n",
      "Yd with id:    #nz:  779/#nnz:   13/F:2.469097e-01\n",
      "\n",
      "==============================\n",
      "Exit: Early stoppiong. (2 correction steps cap reached).\n",
      "\n",
      "Yd Without id: #nz:    2/#nnz:  790/F:2.469097e-01\n"
     ]
    }
   ],
   "source": [
    "result = main(lam_shrink = 0.1, datasetName = 'duke', dbDir = '../../GroupFaRSA/db', grp_size = 10, overlap_ratio = 0.1)"
   ]
  },
  {
   "cell_type": "code",
   "execution_count": 6,
   "metadata": {
    "execution": {
     "iopub.execute_input": "2021-10-02T01:44:09.260337Z",
     "iopub.status.busy": "2021-10-02T01:44:09.259935Z",
     "iopub.status.idle": "2021-10-02T01:44:57.581148Z",
     "shell.execute_reply": "2021-10-02T01:44:57.580111Z",
     "shell.execute_reply.started": "2021-10-02T01:44:09.260283Z"
    }
   },
   "outputs": [
    {
     "name": "stdout",
     "output_type": "stream",
     "text": [
      "Working on: leu...\n",
      "loading lammax from: ../../GroupFaRSA/db/lammax-leu-10-0.1.mat\n",
      "Lambda use:0.020514136347770287 | overlap ratio:0.1 | group size:10\n",
      "Inexact subprobsolve: yd\n",
      "\n",
      "==============================\n",
      "Exit: Optimal Solution Found\n",
      "\n",
      "Yd with id:    #nz:  781/#nnz:   11/F:2.586271e-01\n",
      "\n",
      "==============================\n",
      "Exit: Early stoppiong. (2 correction steps cap reached).\n",
      "\n",
      "Yd Without id: #nz:    0/#nnz:  792/F:2.586274e-01\n"
     ]
    }
   ],
   "source": [
    "result = main(lam_shrink = 0.1, datasetName = 'leu', dbDir = '../../GroupFaRSA/db', grp_size = 10, overlap_ratio = 0.1)"
   ]
  },
  {
   "cell_type": "code",
   "execution_count": 7,
   "metadata": {
    "execution": {
     "iopub.execute_input": "2021-10-02T01:44:57.583169Z",
     "iopub.status.busy": "2021-10-02T01:44:57.582728Z",
     "iopub.status.idle": "2021-10-02T01:45:10.545827Z",
     "shell.execute_reply": "2021-10-02T01:45:10.544831Z",
     "shell.execute_reply.started": "2021-10-02T01:44:57.583111Z"
    }
   },
   "outputs": [
    {
     "name": "stdout",
     "output_type": "stream",
     "text": [
      "Working on: mushrooms...\n",
      "loading lammax from: ../../GroupFaRSA/db/lammax-mushrooms-10-0.1.mat\n",
      "Lambda use:0.009528306037321311 | overlap ratio:0.1 | group size:10\n",
      "Inexact subprobsolve: yd\n",
      "\n",
      "==============================\n",
      "Exit: Optimal Solution Found\n",
      "\n",
      "Yd with id:    #nz:   10/#nnz:    3/F:3.161381e-01\n",
      "\n",
      "==============================\n",
      "Exit: Early stoppiong. (2 correction steps cap reached).\n",
      "\n",
      "Yd Without id: #nz:    0/#nnz:   13/F:3.161381e-01\n"
     ]
    }
   ],
   "source": [
    "result = main(lam_shrink = 0.1, datasetName = 'mushrooms', dbDir = '../../GroupFaRSA/db', grp_size = 10, overlap_ratio = 0.1)"
   ]
  },
  {
   "cell_type": "code",
   "execution_count": 8,
   "metadata": {
    "execution": {
     "iopub.execute_input": "2021-10-02T01:49:56.935448Z",
     "iopub.status.busy": "2021-10-02T01:49:56.935152Z",
     "iopub.status.idle": "2021-10-02T01:50:08.996191Z",
     "shell.execute_reply": "2021-10-02T01:50:08.995167Z",
     "shell.execute_reply.started": "2021-10-02T01:49:56.935409Z"
    }
   },
   "outputs": [
    {
     "name": "stdout",
     "output_type": "stream",
     "text": [
      "Working on: w8a...\n",
      "loading lammax from: ../../GroupFaRSA/db/lammax-w8a-10-0.1.mat\n",
      "Lambda use:0.006686974129108611 | overlap ratio:0.1 | group size:10\n",
      "Inexact subprobsolve: yd\n",
      "\n",
      "==============================\n",
      "Exit: Optimal Solution Found\n",
      "\n",
      "Yd with id:    #nz:   24/#nnz:   10/F:4.290289e-01\n",
      "\n",
      "==============================\n",
      "Exit: Early stoppiong. (2 correction steps cap reached).\n",
      "\n",
      "Yd Without id: #nz:    0/#nnz:   34/F:4.290289e-01\n"
     ]
    }
   ],
   "source": [
    "result = main(lam_shrink = 0.1, datasetName = 'w8a', dbDir = '../../GroupFaRSA/db', grp_size = 10, overlap_ratio = 0.1)"
   ]
  },
  {
   "cell_type": "code",
   "execution_count": 9,
   "metadata": {
    "execution": {
     "iopub.execute_input": "2021-10-02T01:52:22.370816Z",
     "iopub.status.busy": "2021-10-02T01:52:22.370535Z",
     "iopub.status.idle": "2021-10-02T02:06:53.666597Z",
     "shell.execute_reply": "2021-10-02T02:06:53.664764Z",
     "shell.execute_reply.started": "2021-10-02T01:52:22.370779Z"
    }
   },
   "outputs": [
    {
     "name": "stdout",
     "output_type": "stream",
     "text": [
      "Working on: gisette...\n",
      "save lammax to: ../../GroupFaRSA/db/lammax-gisette-10-0.1.mat\n",
      "Lambda use:0.012003455878695352 | overlap ratio:0.1 | group size:10\n",
      "Inexact subprobsolve: yd\n",
      "\n",
      "==============================\n",
      "Exit: Optimal Solution Found\n",
      "\n",
      "Yd with id:    #nz:  536/#nnz:   20/F:4.026708e-01\n",
      "\n",
      "==============================\n",
      "Exit: Early stoppiong. (2 correction steps cap reached).\n",
      "\n",
      "Yd Without id: #nz:    2/#nnz:  554/F:4.026711e-01\n"
     ]
    }
   ],
   "source": [
    "result = main(lam_shrink = 0.1, datasetName = 'gisette', dbDir = '../../GroupFaRSA/db', grp_size = 10, overlap_ratio = 0.1)"
   ]
  },
  {
   "cell_type": "code",
   "execution_count": 11,
   "metadata": {
    "execution": {
     "iopub.execute_input": "2021-10-02T02:19:13.427647Z",
     "iopub.status.busy": "2021-10-02T02:19:13.427382Z",
     "iopub.status.idle": "2021-10-02T02:19:13.433052Z",
     "shell.execute_reply": "2021-10-02T02:19:13.431251Z",
     "shell.execute_reply.started": "2021-10-02T02:19:13.427616Z"
    }
   },
   "outputs": [],
   "source": [
    "# result = main(lam_shrink = 0.1, datasetName = 'madelon', dbDir = '../../GroupFaRSA/db', grp_size = 10, overlap_ratio = 0.1)"
   ]
  },
  {
   "cell_type": "code",
   "execution_count": 12,
   "metadata": {
    "execution": {
     "iopub.execute_input": "2021-10-02T02:58:07.371231Z",
     "iopub.status.busy": "2021-10-02T02:58:07.369354Z",
     "iopub.status.idle": "2021-10-02T02:58:07.413737Z",
     "shell.execute_reply": "2021-10-02T02:58:07.412008Z",
     "shell.execute_reply.started": "2021-10-02T02:58:07.371096Z"
    }
   },
   "outputs": [],
   "source": [
    "datasets = ['a9a', 'colon_cancer', 'duke', 'gisette', 'leu', 'mushrooms', 'w8a']\n",
    "info = {'dataset':[], 'lambda':[], 'group size':[], 'overlap ratio':[], '#nz (our/PGA)':[], '#nnz (our/PGA)':[], 'F (our/PGA)':[]}\n",
    "for dataset in datasets:\n",
    "    result = np.load(f\"projnoproj_ckpt/{dataset}_info.npy\", allow_pickle=True).item()\n",
    "    info['dataset'].append(dataset)\n",
    "    info['lambda'].append(result['lambda'])\n",
    "    info['group size'].append(result['grp_size'])\n",
    "    info['overlap ratio'].append(result['overlap_ratio'])\n",
    "    info['#nz (our/PGA)'].append(f\"{result['id']['nz']}/{result['noid']['nz']}\")\n",
    "    info['#nnz (our/PGA)'].append(f\"{result['id']['nnz']}/{result['noid']['nnz']}\")\n",
    "    info['F (our/PGA)'].append(f\"{result['id']['F']:7f}/{result['noid']['F']:7f}\")    "
   ]
  },
  {
   "cell_type": "code",
   "execution_count": 19,
   "metadata": {
    "execution": {
     "iopub.execute_input": "2021-10-02T03:01:02.036736Z",
     "iopub.status.busy": "2021-10-02T03:01:02.036478Z",
     "iopub.status.idle": "2021-10-02T03:01:02.043970Z",
     "shell.execute_reply": "2021-10-02T03:01:02.042450Z",
     "shell.execute_reply.started": "2021-10-02T03:01:02.036706Z"
    }
   },
   "outputs": [],
   "source": [
    "df=pd.DataFrame.from_dict(info)\n",
    "df['dataset'] = ['a9a', 'colon-cancer', 'duke breast-cancer', 'gisette', 'leukemia', 'mushrooms', 'w8a']"
   ]
  },
  {
   "cell_type": "code",
   "execution_count": 21,
   "metadata": {
    "execution": {
     "iopub.execute_input": "2021-10-02T04:38:41.193915Z",
     "iopub.status.busy": "2021-10-02T04:38:41.193263Z",
     "iopub.status.idle": "2021-10-02T04:38:41.211631Z",
     "shell.execute_reply": "2021-10-02T04:38:41.210121Z",
     "shell.execute_reply.started": "2021-10-02T04:38:41.193829Z"
    }
   },
   "outputs": [
    {
     "name": "stdout",
     "output_type": "stream",
     "text": [
      "\\begin{tabular}{lrrrlll}\n",
      "\\toprule\n",
      "            dataset &    lambda &  group size &  overlap ratio & \\#nz (our/PGA) & \\#nnz (our/PGA) &        F (our/PGA) \\\\\n",
      "\\midrule\n",
      "                a9a &  0.013458 &          10 &            0.1 &          12/0 &           2/14 &  0.508337/0.508337 \\\\\n",
      "       colon-cancer &  0.017751 &          10 &            0.1 &         213/1 &         10/222 &  0.336270/0.336270 \\\\\n",
      " duke breast-cancer &  0.016198 &          10 &            0.1 &         779/2 &         13/790 &  0.246910/0.246910 \\\\\n",
      "            gisette &  0.012003 &          10 &            0.1 &         536/2 &         20/554 &  0.402671/0.402671 \\\\\n",
      "           leukemia &  0.020514 &          10 &            0.1 &         781/0 &         11/792 &  0.258627/0.258627 \\\\\n",
      "          mushrooms &  0.009528 &          10 &            0.1 &          10/0 &           3/13 &  0.316138/0.316138 \\\\\n",
      "                w8a &  0.006687 &          10 &            0.1 &          24/0 &          10/34 &  0.429029/0.429029 \\\\\n",
      "\\bottomrule\n",
      "\\end{tabular}\n",
      "\n"
     ]
    }
   ],
   "source": [
    "print(df[['dataset', ]].to_latex(index=False))"
   ]
  },
  {
   "cell_type": "code",
   "execution_count": null,
   "metadata": {},
   "outputs": [],
   "source": [
    "# datasetName = 'w8a'\n",
    "# lam_shrink = 0.1;  dbDir = '../../GroupFaRSA/db'; grp_size = 10; overlap_ratio = 0.1\n",
    "# loss = 'logit'\n",
    "# fileType = fileTypeDict[datasetName]\n",
    "# print(\"Working on: {}...\".format(datasetName))\n",
    "# X, y = utils.set_up_xy(datasetName, fileType, dbDir)\n",
    "# if loss == 'logit':\n",
    "#     f = LogisticLoss(X, y, datasetName)\n",
    "# p = X.shape[1]\n",
    "# grp_size = min(p // 2, grp_size)\n",
    "# generator = utils.GenOverlapGroup(\n",
    "#     p, grp_size=grp_size, overlap_ratio=overlap_ratio)\n",
    "# groups, starts, ends = generator.get_group()\n",
    "\n",
    "# lammax_path = f'{dbDir}/lammax-{datasetName}-{grp_size}-{overlap_ratio}.mat'\n",
    "# if os.path.exists(lammax_path):\n",
    "#     lammax = loadmat(lammax_path)[\"lammax\"][0][0]\n",
    "#     print(f\"loading lammax from: {lammax_path}\")\n",
    "# else:\n",
    "#     lammax = utils.lam_max(X, y, starts, ends, loss)\n",
    "#     savemat(lammax_path, {\"lammax\": lammax})\n",
    "#     print(f\"save lammax to: {lammax_path}\")\n",
    "\n",
    "# r = NatOG(penalty=lammax * lam_shrink, groups=groups, weights=None)\n",
    "# rno = NatOGNO(penalty=lammax * lam_shrink, groups=groups, weights=None)\n",
    "\n",
    "# alpha_init = 1.0\n",
    "\n",
    "# print(f\"Lambda use:{lammax * lam_shrink} | overlap ratio:{overlap_ratio} | group size:{grp_size}\")\n",
    "\n",
    "# print(\"Inexact subprobsolve: yd\")\n",
    "# with open('../IPG/src/config.yaml', \"r\") as stream:\n",
    "#     config = yaml.load(stream, Loader=yaml.SafeLoader)\n",
    "# config['mainsolver']['exact_pg_computation'] = False\n",
    "# config['mainsolver']['inexact_pg_computation'] = 'yd'\n",
    "# config['inexactpg']['yd']['gamma'] = 0.1    \n",
    "\n",
    "# solver = IpgSolver(f, r, config)\n",
    "# info_yd = solver.solve(alpha_init=alpha_init,  save_ckpt=False)\n",
    "\n",
    "# solver_no = IpgSolver(f, rno, config)\n",
    "# info_yd_no = solver_no.solve(alpha_init=alpha_init,  save_ckpt=False)\n",
    "\n",
    "# print(f\"Yd with id:    #nz:{info_yd['nz']:5d}/#nnz:{info_yd['nnz']:5d}/F:{info_yd['F']:.6e}\\n   Without id: #nz:{info_yd_no['nz']:5d}/#nnz:{info_yd_no['nnz']:5d}/F:{info_yd_no['F']:.6e}\")"
   ]
  }
 ],
 "metadata": {
  "kernelspec": {
   "display_name": "Python 3",
   "language": "python",
   "name": "python3"
  },
  "language_info": {
   "codemirror_mode": {
    "name": "ipython",
    "version": 3
   },
   "file_extension": ".py",
   "mimetype": "text/x-python",
   "name": "python",
   "nbconvert_exporter": "python",
   "pygments_lexer": "ipython3",
   "version": "3.7.10"
  }
 },
 "nbformat": 4,
 "nbformat_minor": 4
}
