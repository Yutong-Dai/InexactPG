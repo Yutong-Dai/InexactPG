{
 "cells": [
  {
   "cell_type": "code",
   "execution_count": 1,
   "id": "artificial-purple",
   "metadata": {
    "execution": {
     "iopub.status.idle": "2021-08-30T15:35:20.155120Z",
     "shell.execute_reply": "2021-08-30T15:35:20.154118Z",
     "shell.execute_reply.started": "2021-08-30T15:35:17.779571Z"
    }
   },
   "outputs": [],
   "source": [
    "import numpy as np\n",
    "from numpy.linalg import norm, eigh\n",
    "from src.regularizer import GL1\n",
    "from src.lossfunction import SimpleQudratic, LogisticLoss\n",
    "from src.params import *\n",
    "import matplotlib.pyplot as plt\n",
    "import src.utils as utils\n",
    "from scipy.io import savemat, loadmat\n",
    "import os"
   ]
  },
  {
   "cell_type": "code",
   "execution_count": 2,
   "id": "unauthorized-berkeley",
   "metadata": {
    "execution": {
     "iopub.execute_input": "2021-08-30T15:35:20.825507Z",
     "iopub.status.busy": "2021-08-30T15:35:20.825231Z",
     "iopub.status.idle": "2021-08-30T15:35:20.838965Z",
     "shell.execute_reply": "2021-08-30T15:35:20.837548Z",
     "shell.execute_reply.started": "2021-08-30T15:35:20.825476Z"
    }
   },
   "outputs": [],
   "source": [
    "def primal(x,uk,alphak):\n",
    "    return (0.5/alphak) * norm(x-uk) ** 2 + r.func(x)\n",
    "def dual(y,uk,alphak):\n",
    "    return -(alphak/2 * norm(y) ** 2 + uk.T@y)\n",
    "def projGL1Ball(y):\n",
    "    yans = y.copy()\n",
    "    projected_group = []\n",
    "    for i in range(r.K):\n",
    "        start, end = r.starts[i], r.ends[i]\n",
    "        y_Gi = y[start:end]\n",
    "        norm_y_Gi = norm(y_Gi)\n",
    "        if norm_y_Gi > r.Lambda_group[i]:\n",
    "            yans[start:end] = (r.Lambda_group[i] / norm_y_Gi) * y_Gi\n",
    "            projected_group.append(i)\n",
    "    return yans, projected_group\n",
    "def prox_gl1(uk):\n",
    "    prox = np.zeros_like(xk)\n",
    "    gradstep = uk\n",
    "    for i in range(len(r.starts)):\n",
    "        start, end = r.starts[i], r.ends[i]\n",
    "        gradstep_Gi = gradstep[start:end]\n",
    "        prox[start:end] = max(0, 1 - (r.Lambda_group[i] * alphak/np.sqrt(np.sum(gradstep_Gi*gradstep_Gi)))) * gradstep_Gi\n",
    "    return prox            "
   ]
  },
  {
   "cell_type": "code",
   "execution_count": 3,
   "id": "valued-grill",
   "metadata": {
    "execution": {
     "iopub.execute_input": "2021-08-30T15:35:21.453967Z",
     "iopub.status.busy": "2021-08-30T15:35:21.453662Z",
     "iopub.status.idle": "2021-08-30T15:35:21.481648Z",
     "shell.execute_reply": "2021-08-30T15:35:21.476038Z",
     "shell.execute_reply.started": "2021-08-30T15:35:21.453927Z"
    }
   },
   "outputs": [
    {
     "name": "stdout",
     "output_type": "stream",
     "text": [
      "Working on: diabetes...\n",
      "loading lammax from: /Users/ym/Documents/GroupFaRSA/db/lammax-diabetes-0.3.mat\n",
      "loading Lipschitz constant from: /Users/ym/Documents/GroupFaRSA/db/Lip-diabetes.mat\n"
     ]
    }
   ],
   "source": [
    "# setup problems\n",
    "loss = 'logit'\n",
    "datasetName = 'diabetes'\n",
    "frac = 0.3; lam_shrink = 0.8\n",
    "fileType = fileTypeDict[datasetName]\n",
    "print(\"Working on: {}...\".format(datasetName))\n",
    "X, y = utils.set_up_xy(datasetName, fileType, dbDir='/Users/ym/Documents/GroupFaRSA/db/')\n",
    "if loss == 'logit':\n",
    "    f = LogisticLoss(X, y, datasetName)\n",
    "\n",
    "p = X.shape[1]\n",
    "num_of_groups = max(int(p * frac), 2)\n",
    "group = utils.gen_group(p, num_of_groups)\n",
    "lammax_path = f'/Users/ym/Documents/GroupFaRSA/db/lammax-{datasetName}-{frac}.mat'\n",
    "Lip_path = f'/Users/ym/Documents/GroupFaRSA/db/Lip-{datasetName}.mat'\n",
    "if os.path.exists(lammax_path):\n",
    "    lammax = loadmat(lammax_path)[\"lammax\"][0][0]\n",
    "    print(f\"loading lammax from: {lammax_path}\")\n",
    "else:\n",
    "    lammax = utils.lam_max(X, y, group, loss)\n",
    "    savemat(lammax_path, {\"lammax\": lammax})\n",
    "    print(f\"save lammax to: {lammax_path}\")\n",
    "if os.path.exists(Lip_path):\n",
    "    L = loadmat(Lip_path)[\"L\"][0][0]\n",
    "    print(f\"loading Lipschitz constant from: {Lip_path}\")\n",
    "else:\n",
    "    L = utils.estimate_lipschitz(X, loss)\n",
    "    savemat(Lip_path, {\"L\": L})\n",
    "    print(f\"save Lipschitz constant to: {Lip_path}\")\n",
    "Lambda = lammax * lam_shrink\n",
    "r = GL1(Lambda=Lambda, group=group)"
   ]
  },
  {
   "cell_type": "code",
   "execution_count": 4,
   "id": "promising-transsexual",
   "metadata": {
    "execution": {
     "iopub.execute_input": "2021-08-30T15:35:22.541702Z",
     "iopub.status.busy": "2021-08-30T15:35:22.541446Z",
     "iopub.status.idle": "2021-08-30T15:35:23.359233Z",
     "shell.execute_reply": "2021-08-30T15:35:23.358172Z",
     "shell.execute_reply.started": "2021-08-30T15:35:22.541674Z"
    }
   },
   "outputs": [
    {
     "name": "stdout",
     "output_type": "stream",
     "text": [
      "k:  0 | F:6.931e-01| subits:   1 | stepsize:5.727e-01 | gap:-1.388e-17 | tarGap:+1.000e+00 | OptimApprox: 8.135e-02 | Optim: 8.135e-02 \n",
      "k:  1 | F:6.906e-01| subits:   1 | stepsize:5.727e-01 | gap:+2.776e-17 | tarGap:+1.250e-01 | OptimApprox: 2.749e-02 | Optim: 2.749e-02 \n",
      "k:  2 | F:6.903e-01| subits:   1 | stepsize:5.727e-01 | gap:+1.388e-17 | tarGap:+3.704e-02 | OptimApprox: 9.651e-03 | Optim: 9.651e-03 \n",
      "k:  3 | F:6.903e-01| subits:   1 | stepsize:5.727e-01 | gap:+2.776e-17 | tarGap:+1.562e-02 | OptimApprox: 3.495e-03 | Optim: 3.495e-03 \n",
      "k:  4 | F:6.903e-01| subits:   1 | stepsize:5.727e-01 | gap:+0.000e+00 | tarGap:+8.000e-03 | OptimApprox: 1.292e-03 | Optim: 1.292e-03 \n",
      "k:  5 | F:6.903e-01| subits:   1 | stepsize:5.727e-01 | gap:+1.388e-17 | tarGap:+4.630e-03 | OptimApprox: 4.840e-04 | Optim: 4.840e-04 \n",
      "k:  6 | F:6.903e-01| subits:   1 | stepsize:5.727e-01 | gap:+2.776e-17 | tarGap:+2.915e-03 | OptimApprox: 1.827e-04 | Optim: 1.827e-04 \n",
      "k:  7 | F:6.903e-01| subits:   1 | stepsize:5.727e-01 | gap:-1.388e-17 | tarGap:+1.953e-03 | OptimApprox: 6.928e-05 | Optim: 6.928e-05 \n",
      "k:  8 | F:6.903e-01| subits:   1 | stepsize:5.727e-01 | gap:+1.388e-17 | tarGap:+1.372e-03 | OptimApprox: 2.634e-05 | Optim: 2.634e-05 \n",
      "k:  9 | F:6.903e-01| subits:   1 | stepsize:5.727e-01 | gap:-2.776e-17 | tarGap:+1.000e-03 | OptimApprox: 1.003e-05 | Optim: 1.003e-05 \n",
      "k: 10 | F:6.903e-01| subits:   1 | stepsize:5.727e-01 | gap:+2.776e-17 | tarGap:+7.513e-04 | OptimApprox: 3.823e-06 | Optim: 3.823e-06 \n"
     ]
    }
   ],
   "source": [
    "# initialization\n",
    "k = 0\n",
    "# constant stepsize rule\n",
    "alphak = 1/L\n",
    "xk = np.zeros((p,1))\n",
    "y_last_round = xk.copy()\n",
    "while True:\n",
    "    fxk = f.func(xk)\n",
    "    rxk = r.func(xk)\n",
    "    gradfxk = f.grad(xk)\n",
    "    uk = xk - alphak * gradfxk\n",
    "    prox_actual = prox_gl1(uk)\n",
    "    # constant stepsize rule\n",
    "    stepsize = 1 / alphak\n",
    "    y_current = y_last_round\n",
    "    inner_iters = 0\n",
    "    while True:\n",
    "        inner_iters += 1\n",
    "        ytrial, projected_group = projGL1Ball(y_current - stepsize * (alphak * y_current + uk))\n",
    "        xtrial = alphak * ytrial + uk\n",
    "        xtrial_proj = xtrial.copy()\n",
    "        for i in range(r.K):\n",
    "            if i not in projected_group:\n",
    "                start, end = r.starts[i], r.ends[i]\n",
    "                xtrial_proj[start:end] = 0.0\n",
    "        # check for termination\n",
    "        dualVal = dual(ytrial, uk, alphak)\n",
    "        primalValProj = primal(xtrial_proj, uk, alphak)\n",
    "        gapProj = (primalValProj - dualVal)[0][0]\n",
    "        if gapProj < 1/(k+1)**3:\n",
    "            xtrial = xtrial_proj\n",
    "            gap = gapProj\n",
    "            break\n",
    "        primalVal = primal(xtrial, uk, alphak)\n",
    "        gap = (primalVal - dualVal)[0][0]\n",
    "        if gap < 1/(k+1)**3:\n",
    "            break\n",
    "        if inner_iters > 3:\n",
    "            break\n",
    "        y_current = ytrial\n",
    "        stepsize *= 0.8\n",
    "    y_last_round = ytrial\n",
    "    optim_approx = norm(xtrial - xk)\n",
    "    optim_actual = norm(prox_actual - xk)\n",
    "    print(f\"k:{k:3d} | F:{fxk+rxk:3.3e}| subits:{inner_iters:4d} | stepsize:{stepsize:3.3e} | gap:{gap:+3.3e} | tarGap:{1/(k+1)**3:+3.3e} | OptimApprox: {optim_approx:3.3e} | Optim: {optim_actual:3.3e} \")\n",
    "    if optim_actual < 1e-5:\n",
    "        break\n",
    "    k += 1\n",
    "    xk = xtrial"
   ]
  },
  {
   "cell_type": "code",
   "execution_count": 5,
   "id": "accepting-karen",
   "metadata": {
    "execution": {
     "iopub.execute_input": "2021-08-25T18:15:21.581300Z",
     "iopub.status.busy": "2021-08-25T18:15:21.580952Z",
     "iopub.status.idle": "2021-08-25T18:15:21.590622Z",
     "shell.execute_reply": "2021-08-25T18:15:21.589488Z",
     "shell.execute_reply.started": "2021-08-25T18:15:21.581259Z"
    }
   },
   "outputs": [
    {
     "data": {
      "text/plain": [
       "array([[ 0.        ,  0.        ,  0.        ,  0.        , -0.07203054,\n",
       "        -0.02478641, -0.06501051, -0.0728183 ]])"
      ]
     },
     "execution_count": 5,
     "metadata": {},
     "output_type": "execute_result"
    }
   ],
   "source": [
    "xk.T"
   ]
  },
  {
   "cell_type": "code",
   "execution_count": 6,
   "id": "duplicate-crystal",
   "metadata": {
    "execution": {
     "iopub.execute_input": "2021-08-25T18:15:21.591863Z",
     "iopub.status.busy": "2021-08-25T18:15:21.591574Z",
     "iopub.status.idle": "2021-08-25T18:15:21.598391Z",
     "shell.execute_reply": "2021-08-25T18:15:21.597057Z",
     "shell.execute_reply.started": "2021-08-25T18:15:21.591820Z"
    }
   },
   "outputs": [
    {
     "name": "stdout",
     "output_type": "stream",
     "text": [
      "#nz: 1\n"
     ]
    }
   ],
   "source": [
    "print(\"#nz:\", utils.get_group_structure(xtrial, r.K, r.starts, r.ends))"
   ]
  },
  {
   "cell_type": "code",
   "execution_count": 10,
   "id": "variable-benjamin",
   "metadata": {
    "execution": {
     "iopub.execute_input": "2021-08-25T18:16:38.211726Z",
     "iopub.status.busy": "2021-08-25T18:16:38.211454Z",
     "iopub.status.idle": "2021-08-25T18:16:38.253495Z",
     "shell.execute_reply": "2021-08-25T18:16:38.251715Z",
     "shell.execute_reply.started": "2021-08-25T18:16:38.211700Z"
    }
   },
   "outputs": [
    {
     "name": "stdout",
     "output_type": "stream",
     "text": [
      "projection accepted!\n",
      "k:  0 | subits:   3 | projGrp:[1] | gap:+9.191e-01 | tarGap:+1.000e+00 | OptimApprox: 3.205e+00 | Optim: 3.127e+00 \n",
      "projection accepted!\n",
      "k:  1 | subits:   1 | projGrp:[1] | gap:+4.274e-03 | tarGap:+1.250e-01 | OptimApprox: 5.725e-01 | Optim: 5.736e-01 \n",
      "projection accepted!\n",
      "k:  2 | subits:   1 | projGrp:[1] | gap:+8.845e-04 | tarGap:+3.704e-02 | OptimApprox: 1.153e-01 | Optim: 1.163e-01 \n",
      "projection accepted!\n",
      "k:  3 | subits:   1 | projGrp:[1] | gap:+3.323e-04 | tarGap:+1.562e-02 | OptimApprox: 2.375e-02 | Optim: 2.445e-02 \n",
      "projection accepted!\n",
      "k:  4 | subits:   1 | projGrp:[1] | gap:+2.130e-04 | tarGap:+8.000e-03 | OptimApprox: 5.233e-03 | Optim: 5.684e-03 \n",
      "projection accepted!\n",
      "k:  5 | subits:   1 | projGrp:[1] | gap:+1.644e-04 | tarGap:+4.630e-03 | OptimApprox: 1.342e-03 | Optim: 1.587e-03 \n",
      "projection accepted!\n",
      "k:  6 | subits:   1 | projGrp:[1] | gap:+1.320e-04 | tarGap:+2.915e-03 | OptimApprox: 4.182e-04 | Optim: 5.283e-04 \n",
      "projection accepted!\n",
      "k:  7 | subits:   1 | projGrp:[1] | gap:+1.067e-04 | tarGap:+1.953e-03 | OptimApprox: 1.482e-04 | Optim: 1.926e-04 \n",
      "projection accepted!\n",
      "k:  8 | subits:   1 | projGrp:[1] | gap:+8.641e-05 | tarGap:+1.372e-03 | OptimApprox: 5.525e-05 | Optim: 7.250e-05 \n",
      "projection accepted!\n",
      "k:  9 | subits:   1 | projGrp:[1] | gap:+6.999e-05 | tarGap:+1.000e-03 | OptimApprox: 2.093e-05 | Optim: 2.754e-05 \n",
      "projection accepted!\n",
      "k: 10 | subits:   1 | projGrp:[1] | gap:+5.669e-05 | tarGap:+7.513e-04 | OptimApprox: 7.968e-06 | Optim: 1.049e-05 \n",
      "projection accepted!\n",
      "k: 11 | subits:   1 | projGrp:[1] | gap:+4.592e-05 | tarGap:+5.787e-04 | OptimApprox: 3.037e-06 | Optim: 3.999e-06 \n"
     ]
    }
   ],
   "source": [
    "# setup problems\n",
    "Q = np.diag([1,1,2,2,]); b = np.array([1/2, 1/2, -33/5, -44/5]).reshape(-1,1); c=0\n",
    "f = SimpleQudratic(Q,b,c)\n",
    "Lambda_group = np.array([1.0,1.0]); group = np.array([1,1,2,2])\n",
    "r = GL1(group, Lambda_group=Lambda_group)\n",
    "\n",
    "# initialization\n",
    "k = 0\n",
    "# constant stepsize rule\n",
    "alphak = 1/np.max(eigh(Q)[0]) * 0.8\n",
    "xk = np.ones((Q.shape[0],1)) + 0.02\n",
    "y_last_round = xk.copy()\n",
    "xseq = []\n",
    "yseq = []\n",
    "xseq.append(xk)\n",
    "yseq.append(y_last_round)\n",
    "while True:\n",
    "    gradfxk = f.grad(xk)\n",
    "    uk = xk - alphak * gradfxk\n",
    "    prox_actual = prox_gl1(uk)\n",
    "    # projected gradient solve the dual proximal gradient problem\n",
    "    # http://www.princeton.edu/~yc5/ele522_optimization/lectures/grad_descent_constrained.pdf\n",
    "    # constant stepsize rule\n",
    "    stepsize = 1 / alphak * 0.1\n",
    "    y_current = y_last_round\n",
    "    inner_iters = 0\n",
    "    while True:\n",
    "        inner_iters += 1\n",
    "        ytrial, projected_group = projGL1Ball(y_current - stepsize * (alphak * y_current + uk))\n",
    "        xtrial = alphak * ytrial + uk\n",
    "        xtrial_proj = xtrial.copy()\n",
    "        for i in range(r.K):\n",
    "            if i not in projected_group:\n",
    "                start, end = r.starts[i], r.ends[i]\n",
    "                xtrial_proj[start:end] = 0.0\n",
    "        # check for termination\n",
    "        dualVal = dual(ytrial, uk, alphak)\n",
    "        primalValProj = primal(xtrial_proj, uk, alphak)\n",
    "        gapProj = (primalValProj - dualVal)[0][0]\n",
    "        if gapProj < 1/(k+1)**3:\n",
    "            print(\"projection accepted!\")\n",
    "            xtrial = xtrial_proj\n",
    "            gap = gapProj\n",
    "            break\n",
    "        primalVal = primal(xtrial, uk, alphak)\n",
    "        gap = (primalVal - dualVal)[0][0]\n",
    "        if gap < 1/(k+1)**3:\n",
    "            print(\"projection not accepted!\")\n",
    "            break\n",
    "        if inner_iters > 1000:\n",
    "            break\n",
    "        y_current = ytrial\n",
    "        stepsize *= 0.8\n",
    "    y_last_round = ytrial\n",
    "    optim_approx = norm(xtrial - xk)\n",
    "    optim_actual = norm(prox_actual - xk)\n",
    "    print(f\"k:{k:3d} | subits:{inner_iters:4d} | projGrp:{projected_group} | gap:{gap:+3.3e} | tarGap:{1/(k+1)**3:+3.3e} | OptimApprox: {optim_approx:3.3e} | Optim: {optim_actual:3.3e} \")\n",
    "    if optim_actual < 1e-5:\n",
    "        break\n",
    "    k += 1\n",
    "    xk = xtrial\n",
    "    xseq.append(xk)\n",
    "    yseq.append(y_last_round)\n"
   ]
  },
  {
   "cell_type": "code",
   "execution_count": null,
   "id": "noticed-methodology",
   "metadata": {},
   "outputs": [],
   "source": []
  },
  {
   "cell_type": "code",
   "execution_count": null,
   "id": "assisted-spirituality",
   "metadata": {},
   "outputs": [],
   "source": [
    "# initialization\n",
    "k = 0\n",
    "# constant stepsize rule\n",
    "alphak = 1/np.max(eigh(Q)[0]) * 0.8\n",
    "xk = np.ones((Q.shape[0],1)) + 0.02\n",
    "y_last_round = xk.copy()\n",
    "xseq = []\n",
    "yseq = []\n",
    "xseq.append(xk)\n",
    "yseq.append(y_last_round)\n",
    "while True:\n",
    "    gradfxk = f.grad(xk)\n",
    "    uk = xk - alphak * gradfxk\n",
    "    prox_actual = prox_gl1(uk)\n",
    "    # projected gradient solve the dual proximal gradient problem\n",
    "    # http://www.princeton.edu/~yc5/ele522_optimization/lectures/grad_descent_constrained.pdf\n",
    "    # constant stepsize rule\n",
    "    stepsize = 1/alphak * 0.1\n",
    "    y_current = y_last_round\n",
    "    inner_iters = 0\n",
    "    while True:\n",
    "        inner_iters += 1\n",
    "        ytrial, projected_group = projGL1Ball(y_current - stepsize * (alphak * y_current + uk))\n",
    "        xtrial = alphak * ytrial + uk\n",
    "        # check for termination\n",
    "        primalVal = primal(xtrial, uk, alphak)\n",
    "        dualVal = dual(ytrial, uk, alphak)\n",
    "        gap = (primalVal - dualVal)[0][0]\n",
    "        if gap < 1/(k+1)**3:\n",
    "            break\n",
    "        if inner_iters > 1000:\n",
    "            break\n",
    "        y_current = ytrial\n",
    "    y_last_round = ytrial\n",
    "    optim_approx = norm(xtrial - xk)\n",
    "    optim_actual = norm(prox_actual - xk)\n",
    "    print(f\"k:{k:3d} | subits:{inner_iters:4d} | projGrp:{projected_group} |gap:{gap:+3.3e} | tarGap:{1/(k+1)**3:+3.3e} | OptimApprox: {optim_approx:3.3e} | Optim: {optim_actual:3.3e} \")\n",
    "    if optim_actual < 1e-5:\n",
    "        break\n",
    "    k += 1\n",
    "    xk = xtrial\n",
    "    xseq.append(xk)\n",
    "    yseq.append(y_last_round)"
   ]
  },
  {
   "cell_type": "code",
   "execution_count": null,
   "id": "regulated-taxation",
   "metadata": {},
   "outputs": [],
   "source": []
  },
  {
   "cell_type": "markdown",
   "id": "finite-destiny",
   "metadata": {},
   "source": [
    "# Overlapping"
   ]
  },
  {
   "cell_type": "code",
   "execution_count": 1,
   "id": "exceptional-people",
   "metadata": {
    "execution": {
     "iopub.execute_input": "2021-08-31T04:06:48.539706Z",
     "iopub.status.busy": "2021-08-31T04:06:48.539282Z",
     "iopub.status.idle": "2021-08-31T04:06:49.264880Z",
     "shell.execute_reply": "2021-08-31T04:06:49.263939Z",
     "shell.execute_reply.started": "2021-08-31T04:06:48.539586Z"
    }
   },
   "outputs": [],
   "source": [
    "from scipy.sparse import csc_matrix\n",
    "import spams\n",
    "import numpy as np\n",
    "from numpy.linalg import norm, eigh\n",
    "\n",
    "def groups_to_matrix(groups):\n",
    "    lifted_dimension = sum([len(g) for g in groups])\n",
    "    groups_flattern = []\n",
    "    for g in groups:\n",
    "        groups_flattern += g\n",
    "    p = max(groups_flattern) + 1\n",
    "    A = np.zeros((p, lifted_dimension))\n",
    "    for (colidx, rowidx) in enumerate(groups_flattern):\n",
    "        A[rowidx, colidx] = 1.0\n",
    "    #return lifted_dimension, groups_flattern, A\n",
    "    return A\n",
    "def relabel(groups):\n",
    "    group_size = [len(g) for g in groups]\n",
    "    starts, ends = [] * len(groups) , [] * len(groups)\n",
    "    start = 0\n",
    "    for i in group_size:\n",
    "        starts.append(start)\n",
    "        end = start + i \n",
    "        ends.append(end)\n",
    "        start = end \n",
    "    return starts, ends\n",
    "def projGL1Ball(y, starts, ends, weights, K):\n",
    "    yans = y.copy()\n",
    "    projected_group = []\n",
    "    for i in range(K):\n",
    "        start, end = starts[i], ends[i]\n",
    "        y_Gi = y[start:end]\n",
    "        norm_y_Gi = norm(y_Gi)\n",
    "        if norm_y_Gi > weights[i]:\n",
    "            yans[start:end] = (weights[i] / norm_y_Gi) * y_Gi\n",
    "            projected_group.append(i)\n",
    "    return yans, projected_group\n",
    "def primal(x,uk,alphak):\n",
    "    return (0.5/alphak) * norm(x-uk) ** 2 + r.func(x)\n",
    "def dual(y,uk,alphak):\n",
    "    return -(alphak/2 * norm(y) ** 2 + uk.T@y)\n",
    "# groups = [[0,1,2], [1,2,3], [2,4]]\n",
    "# A = groups_to_matrix(groups)\n",
    "# relabel(groups)\n",
    "class natOG:\n",
    "    def __init__(self, groups, penalty=1.0, weights=None):\n",
    "        assert len(groups) == len(weights), \"should be of the same lengthg\"\n",
    "        self.penalty = penalty\n",
    "        self.groups = groups\n",
    "        self.K = len(groups)\n",
    "        if weights is None:\n",
    "            weights = np.array([np.sqrt(len(g)) for g in groups])\n",
    "        self.weights = self.penalty * weights\n",
    "    def func(self, x):\n",
    "        ans = 0.0\n",
    "        for i,g in enumerate(self.groups):\n",
    "            xg = x[g]\n",
    "            ans += norm(xg) * self.weights[i]\n",
    "        return ans"
   ]
  },
  {
   "cell_type": "code",
   "execution_count": 2,
   "id": "boring-school",
   "metadata": {
    "execution": {
     "iopub.execute_input": "2021-08-31T03:21:28.543445Z",
     "iopub.status.busy": "2021-08-31T03:21:28.543174Z",
     "iopub.status.idle": "2021-08-31T03:21:28.555435Z",
     "shell.execute_reply": "2021-08-31T03:21:28.554143Z",
     "shell.execute_reply.started": "2021-08-31T03:21:28.543417Z"
    }
   },
   "outputs": [
    {
     "name": "stdout",
     "output_type": "stream",
     "text": [
      "[[-0.89336371  1.19626244  0.          0.          0.          0.33176719\n",
      "   0.27434076 -0.7120318   0.06110942 -1.70928912]]\n"
     ]
    }
   ],
   "source": [
    "alphak = 0.5\n",
    "# import os\n",
    "# os.environ['KMP_DUPLICATE_LIB_OK']='True'\n",
    "param = {'numThreads' : 1,'verbose' : True,\n",
    "         'pos' : False, 'intercept' : False, 'lambda1' : alphak}\n",
    "m = 10\n",
    "n = 1\n",
    "# np.random.seed(1234)\n",
    "# U = np.asfortranarray(np.random.normal(size = (m,n)),dtype=np.float64)\n",
    "U = np.random.normal(size = (m,n))\n",
    "# Example 1 of tree structure\n",
    "# tree structured groups:\n",
    "# g1= {0 1 2 3 4 5 6 7 8 9}\n",
    "# g2= {2 3 4}\n",
    "# g3= {5 6 7 8 9}\n",
    "own_variables =  np.array([0,2,5],dtype=np.int32) # pointer to the first variable of each group\n",
    "N_own_variables =  np.array([2,3,5],dtype=np.int32) # number of \"root\" variables in each group\n",
    "# (variables that are in a group, but not in its descendants).\n",
    "# for instance root(g1)={0,1}, root(g2)={2 3 4}, root(g3)={5 6 7 8 9}\n",
    "eta_g = np.array([1,30,1],dtype=np.float64) # weights for each group, they should be non-zero to use fenchel duality\n",
    "groups = np.asfortranarray([[0,0,0],\n",
    "                            [1,0,0],\n",
    "                            [1,0,0]],dtype = np.bool)\n",
    "# first group should always be the root of the tree\n",
    "# non-zero entriees mean inclusion relation ship, here g2 is a children of g1,\n",
    "# g3 is a children of g1\n",
    "groups = csc_matrix(groups,dtype=np.bool)\n",
    "tree = {'eta_g': eta_g,'groups' : groups,'own_variables' : own_variables,\n",
    "        'N_own_variables' : N_own_variables}\n",
    "\n",
    "param['regul'] = 'tree-l2'\n",
    "alpha = spams.proximalTree(U,tree,False,**param)\n",
    "print(alpha.T)"
   ]
  },
  {
   "cell_type": "code",
   "execution_count": 3,
   "id": "modified-electric",
   "metadata": {
    "execution": {
     "iopub.execute_input": "2021-08-31T03:21:29.552280Z",
     "iopub.status.busy": "2021-08-31T03:21:29.551999Z",
     "iopub.status.idle": "2021-08-31T03:21:29.587871Z",
     "shell.execute_reply": "2021-08-31T03:21:29.586893Z",
     "shell.execute_reply.started": "2021-08-31T03:21:29.552243Z"
    }
   },
   "outputs": [
    {
     "name": "stdout",
     "output_type": "stream",
     "text": [
      "61 7.079847819113638e-11\n",
      "[[-0.89336371  1.19626244  0.          0.          0.          0.33176719\n",
      "   0.27434076 -0.7120318   0.06110942 -1.70928912]]\n"
     ]
    }
   ],
   "source": [
    "g0= [0, 1, 2, 3, 4, 5, 6, 7, 8, 9]\n",
    "g1= [2, 3, 4]\n",
    "g2= [5, 6, 7, 8, 9]\n",
    "groups = [g0, g1, g2]\n",
    "groups_dict = {}\n",
    "for i in range(len(groups)):\n",
    "    groups_dict[i] = groups[i]\n",
    "A = groups_to_matrix(groups)\n",
    "starts, ends = relabel(groups)\n",
    "weights = np.array([1.0,30.0,1.0])\n",
    "r = natOG(groups, penalty=1.0, weights=weights)\n",
    "\n",
    "# alphak = 1.0\n",
    "# stepsize = 1 / alphak \n",
    "stepsize = 1 / ( alphak * max(eigh(A.T@A)[0]))\n",
    "lifted_dim = A.shape[1]\n",
    "y_lifted = np.zeros((lifted_dim,  1))\n",
    "inner_iters = 0\n",
    "# np.random.seed(1234)\n",
    "# uk = np.random.normal(size = (m,n))\n",
    "uk = U\n",
    "while True:\n",
    "    inner_iters += 1\n",
    "    y_lifted_trial, projected_group = projGL1Ball(y_lifted - stepsize * (alphak * A.T@A@y_lifted + A.T@uk), starts, ends, r.weights, len(groups))\n",
    "    xtrial = alphak * (A@y_lifted_trial) + uk\n",
    "    xtrial_proj = xtrial.copy()\n",
    "    for g in range(r.K):\n",
    "        if g not in projected_group:\n",
    "            xtrial_proj[groups_dict[g]] = 0.0\n",
    "    # check for termination\n",
    "    primalVal = primal(xtrial, uk, alphak)\n",
    "    dualVal = dual(A@y_lifted_trial, uk, alphak)\n",
    "    gap = (primalVal - dualVal)[0][0]\n",
    "    if gap < 1e-10:\n",
    "        break\n",
    "    if inner_iters > 1000:\n",
    "        break\n",
    "    y_lifted = y_lifted_trial\n",
    "print(inner_iters,gap)\n",
    "print(xtrial_proj.T)"
   ]
  },
  {
   "cell_type": "code",
   "execution_count": 7,
   "id": "strategic-danish",
   "metadata": {
    "execution": {
     "iopub.execute_input": "2021-08-31T03:22:21.801517Z",
     "iopub.status.busy": "2021-08-31T03:22:21.801253Z",
     "iopub.status.idle": "2021-08-31T03:22:21.807756Z",
     "shell.execute_reply": "2021-08-31T03:22:21.806588Z",
     "shell.execute_reply.started": "2021-08-31T03:22:21.801488Z"
    }
   },
   "outputs": [
    {
     "name": "stdout",
     "output_type": "stream",
     "text": [
      "diff: 4.440892098500626e-16\n",
      "[[ 0.00000000e+00 -2.22044605e-16  0.00000000e+00  0.00000000e+00\n",
      "   0.00000000e+00  0.00000000e+00  0.00000000e+00  0.00000000e+00\n",
      "   0.00000000e+00  2.22044605e-16]]\n"
     ]
    }
   ],
   "source": [
    "print(\"diff:\", np.sum(np.abs(xtrial_proj - alpha)))\n",
    "print((xtrial_proj - alpha).T)"
   ]
  },
  {
   "cell_type": "markdown",
   "id": "arabic-british",
   "metadata": {},
   "source": [
    "## test cases 2"
   ]
  },
  {
   "cell_type": "code",
   "execution_count": 39,
   "id": "considered-asset",
   "metadata": {
    "execution": {
     "iopub.execute_input": "2021-08-31T01:40:34.602474Z",
     "iopub.status.busy": "2021-08-31T01:40:34.602216Z",
     "iopub.status.idle": "2021-08-31T01:40:34.615326Z",
     "shell.execute_reply": "2021-08-31T01:40:34.614088Z",
     "shell.execute_reply.started": "2021-08-31T01:40:34.602443Z"
    }
   },
   "outputs": [
    {
     "name": "stdout",
     "output_type": "stream",
     "text": [
      "[[ 0.04760224 -0.07639254  0.          0.          0.         -0.0637376\n",
      "  -0.08664027  0.13922324]]\n"
     ]
    }
   ],
   "source": [
    "param = {'numThreads' : -1,'verbose' : True,\n",
    "         'pos' : False, 'intercept' : False, 'lambda1' : 1}\n",
    "p = 8\n",
    "np.random.seed(124)\n",
    "U = np.asfortranarray(np.random.normal(size = (p,1)),dtype=np.float64)\n",
    "# Example 1 of tree structure\n",
    "# tree structured groups:\n",
    "# g1= {0 1 2 3 4 5 6 7}\n",
    "# g2= {2 3 4}\n",
    "# g3= {5 6 7}\n",
    "own_variables =  np.array([0,2,5],dtype=np.int32) # pointer to the first variable of each group\n",
    "N_own_variables =  np.array([2,3,3],dtype=np.int32) # number of \"root\" variables in each group\n",
    "# (variables that are in a group, but not in its descendants).\n",
    "# for instance root(g1)={0,1}, root(g2)={2 3 4}, root(g3)={5 6 7 8 9}\n",
    "eta_g = np.array([1,30,1],dtype=np.float64) # weights for each group, they should be non-zero to use fenchel duality\n",
    "groups = np.asfortranarray([[0,0,0],\n",
    "                            [1,0,0],\n",
    "                            [1,0,0]],dtype = np.bool)\n",
    "# first group should always be the root of the tree\n",
    "# non-zero entriees mean inclusion relation ship, here g2 is a children of g1,\n",
    "# g3 is a children of g1\n",
    "groups = csc_matrix(groups,dtype=np.bool)\n",
    "tree = {'eta_g': eta_g,'groups' : groups,'own_variables' : own_variables,\n",
    "        'N_own_variables' : N_own_variables}\n",
    "\n",
    "param['regul'] = 'tree-l2'\n",
    "alpha = spams.proximalTree(U,tree,False,**param)\n",
    "print(alpha.T)"
   ]
  },
  {
   "cell_type": "code",
   "execution_count": 40,
   "id": "radical-selling",
   "metadata": {
    "execution": {
     "iopub.execute_input": "2021-08-31T01:40:38.761561Z",
     "iopub.status.busy": "2021-08-31T01:40:38.761290Z",
     "iopub.status.idle": "2021-08-31T01:40:38.830107Z",
     "shell.execute_reply": "2021-08-31T01:40:38.829030Z",
     "shell.execute_reply.started": "2021-08-31T01:40:38.761526Z"
    }
   },
   "outputs": [
    {
     "name": "stdout",
     "output_type": "stream",
     "text": [
      "288 8.738432200061652e-11\n"
     ]
    }
   ],
   "source": [
    "g0= [0, 1, 2, 3, 4, 5, 6, 7]\n",
    "g1= [2, 3, 4]\n",
    "g2= [5, 6, 7]\n",
    "groups = [g0, g1, g2]\n",
    "groups_dict = {}\n",
    "for i in range(len(groups)):\n",
    "    groups_dict[i] = groups[i]\n",
    "A = groups_to_matrix(groups)\n",
    "starts, ends = relabel(groups)\n",
    "weights = np.array([1.0,30.0,1.0])\n",
    "r = natOG(groups, penalty=1.0, weights=weights)\n",
    "\n",
    "alphak = 1.0\n",
    "stepsize = 1 / alphak \n",
    "# stepsize = 1 / ( alphak * max(eigh(A.T@A)[0]))\n",
    "lifted_dim = A.shape[1]\n",
    "y_lifted = np.zeros((lifted_dim,  1))\n",
    "inner_iters = 0\n",
    "np.random.seed(124)\n",
    "uk = np.random.normal(size = (p,1))\n",
    "while True:\n",
    "    inner_iters += 1\n",
    "    y_lifted_trial, projected_group = projGL1Ball(y_lifted - stepsize * (alphak * A.T@A@y_lifted + A.T@uk), starts, ends, r.weights, len(groups))\n",
    "    xtrial = alphak * (A@y_lifted_trial) + uk\n",
    "    xtrial_proj = xtrial.copy()\n",
    "    for g in range(r.K):\n",
    "        if g not in projected_group:\n",
    "            xtrial_proj[groups_dict[g]] = 0.0\n",
    "    # check for termination\n",
    "    primalVal = primal(xtrial, uk, alphak)\n",
    "    dualVal = dual(A@y_lifted_trial, uk, alphak)\n",
    "    gap = (primalVal - dualVal)[0][0]\n",
    "    if gap < 1e-10:\n",
    "        break\n",
    "    if inner_iters > 1000:\n",
    "        break\n",
    "    y_lifted = y_lifted_trial\n",
    "print(inner_iters,gap)"
   ]
  },
  {
   "cell_type": "code",
   "execution_count": 41,
   "id": "concrete-understanding",
   "metadata": {
    "execution": {
     "iopub.execute_input": "2021-08-31T01:40:39.588196Z",
     "iopub.status.busy": "2021-08-31T01:40:39.587948Z",
     "iopub.status.idle": "2021-08-31T01:40:39.594210Z",
     "shell.execute_reply": "2021-08-31T01:40:39.593235Z",
     "shell.execute_reply.started": "2021-08-31T01:40:39.588170Z"
    }
   },
   "outputs": [
    {
     "name": "stdout",
     "output_type": "stream",
     "text": [
      "[[ 0.04760224 -0.07639254  0.          0.          0.         -0.0637376\n",
      "  -0.08664027  0.13922324]]\n",
      "diff:\n",
      "[[-5.55111512e-17  1.11022302e-16  0.00000000e+00  0.00000000e+00\n",
      "   0.00000000e+00 -1.24900090e-16  3.60822483e-16 -8.32667268e-17]]\n"
     ]
    }
   ],
   "source": [
    "print(xtrial_proj.T)\n",
    "print(\"diff:\")\n",
    "print((xtrial_proj - alpha).T)"
   ]
  },
  {
   "cell_type": "markdown",
   "id": "olive-deputy",
   "metadata": {},
   "source": [
    "## test case 3"
   ]
  },
  {
   "cell_type": "code",
   "execution_count": 16,
   "id": "spoken-indianapolis",
   "metadata": {
    "execution": {
     "iopub.execute_input": "2021-08-31T04:09:06.729249Z",
     "iopub.status.busy": "2021-08-31T04:09:06.728983Z",
     "iopub.status.idle": "2021-08-31T04:09:06.752990Z",
     "shell.execute_reply": "2021-08-31T04:09:06.750901Z",
     "shell.execute_reply.started": "2021-08-31T04:09:06.729222Z"
    }
   },
   "outputs": [
    {
     "name": "stdout",
     "output_type": "stream",
     "text": [
      "Working on: diabetes...\n",
      "loading Lipschitz constant from: /Users/ym/Documents/GroupFaRSA/db/Lip-diabetes.mat\n"
     ]
    }
   ],
   "source": [
    "import os\n",
    "import sys\n",
    "sys.path.append(\"../\")\n",
    "from src.lossfunction import LogisticLoss\n",
    "import src.utils as utils\n",
    "from scipy.io import savemat, loadmat\n",
    "from src.params import *\n",
    "import numpy as np\n",
    "from numpy.linalg import norm, eigh\n",
    "from scipy.sparse import csc_matrix\n",
    "import spams\n",
    "\n",
    "loss = 'logit'\n",
    "datasetName = 'diabetes'\n",
    "fileType = fileTypeDict[datasetName]\n",
    "print(\"Working on: {}...\".format(datasetName))\n",
    "X, y = utils.set_up_xy(datasetName, fileType,\n",
    "                       dbDir='/Users/ym/Documents/GroupFaRSA/db/')\n",
    "if loss == 'logit':\n",
    "    f = LogisticLoss(X, y, datasetName)\n",
    "\n",
    "Lip_path = f'/Users/ym/Documents/GroupFaRSA/db/Lip-{datasetName}.mat'\n",
    "if os.path.exists(Lip_path):\n",
    "    L = loadmat(Lip_path)[\"L\"][0][0]\n",
    "    print(f\"loading Lipschitz constant from: {Lip_path}\")\n",
    "else:\n",
    "    L = utils.estimate_lipschitz(X, loss)\n",
    "    savemat(Lip_path, {\"L\": L})\n",
    "    print(f\"save Lipschitz constant to: {Lip_path}\")\n",
    "p = 8\n",
    "xk = np.zeros((X.shape[1], 1))\n",
    "fxk = f.func(xk)\n",
    "gradfxk = f.grad(xk)\n",
    "alphak = 1.0 / L\n",
    "uk = xk - alphak * gradfxk\n",
    "# uk = np.random.normal(size = (p,1))\n",
    "penalty = 0.1\n",
    "# weights = np.array([1.0,20.0,1.0])\n",
    "weights = np.array([1.0,1.0,1.0])"
   ]
  },
  {
   "cell_type": "code",
   "execution_count": 17,
   "id": "living-native",
   "metadata": {
    "execution": {
     "iopub.execute_input": "2021-08-31T04:09:07.628667Z",
     "iopub.status.busy": "2021-08-31T04:09:07.628439Z",
     "iopub.status.idle": "2021-08-31T04:09:07.641501Z",
     "shell.execute_reply": "2021-08-31T04:09:07.639890Z",
     "shell.execute_reply.started": "2021-08-31T04:09:07.628642Z"
    }
   },
   "outputs": [
    {
     "name": "stdout",
     "output_type": "stream",
     "text": [
      "{'numThreads': -1, 'verbose': False, 'pos': False, 'intercept': False, 'lambda1': 1.746013617037793, 'regul': 'tree-l2'}\n",
      "[[-0.09133535 -0.02853889  0.00313644 -0.03059847 -0.04274451 -0.01352712\n",
      "  -0.04205851 -0.04554514]]\n"
     ]
    }
   ],
   "source": [
    "param = {'numThreads' : -1,'verbose' : False,\n",
    "         'pos' : False, 'intercept' : False, 'lambda1' : alphak,\n",
    "        'regul':'tree-l2'}\n",
    "\n",
    "# np.random.seed(1234)\n",
    "# U = np.asfortranarray(np.random.normal(size = (p,1)),dtype=np.float64)\n",
    "U = uk.copy()\n",
    "# Example 1 of tree structure\n",
    "# tree structured groups:\n",
    "# g1= {0 1 2 3 4 5 6 7}\n",
    "# g2= {2 3 4}\n",
    "# g3= {5 6 7}\n",
    "own_variables =  np.array([0,2,5],dtype=np.int32) # pointer to the first variable of each group\n",
    "N_own_variables =  np.array([2,3,3],dtype=np.int32) # number of \"root\" variables in each group\n",
    "# (variables that are in a group, but not in its descendants).\n",
    "# for instance root(g1)={0,1}, root(g2)={2 3 4}, root(g3)={5 6 7 8 9}\n",
    "eta_g = penalty * weights # weights for each group, they should be non-zero to use fenchel duality\n",
    "groups = np.asfortranarray([[0,0,0],\n",
    "                            [1,0,0],\n",
    "                            [1,0,0]],dtype = np.bool)\n",
    "# first group should always be the root of the tree\n",
    "# non-zero entriees mean inclusion relation ship, here g2 is a children of g1,\n",
    "# g3 is a children of g1\n",
    "groups = csc_matrix(groups,dtype=np.bool)\n",
    "tree = {'eta_g': eta_g,'groups' : groups,'own_variables' : own_variables,\n",
    "        'N_own_variables' : N_own_variables}\n",
    "\n",
    "print(param)\n",
    "treesol = spams.proximalTree(U,tree,False,**param)\n",
    "print(treesol.T)"
   ]
  },
  {
   "cell_type": "code",
   "execution_count": 18,
   "id": "realistic-stupid",
   "metadata": {
    "execution": {
     "iopub.execute_input": "2021-08-31T04:09:11.233026Z",
     "iopub.status.busy": "2021-08-31T04:09:11.232764Z",
     "iopub.status.idle": "2021-08-31T04:09:11.249949Z",
     "shell.execute_reply": "2021-08-31T04:09:11.248114Z",
     "shell.execute_reply.started": "2021-08-31T04:09:11.232997Z"
    }
   },
   "outputs": [
    {
     "name": "stdout",
     "output_type": "stream",
     "text": [
      "11 1.820263384466614e-11\n"
     ]
    }
   ],
   "source": [
    "g0= [0, 1, 2, 3, 4, 5, 6, 7]\n",
    "g1= [2, 3, 4]\n",
    "g2= [5, 6, 7]\n",
    "groups = [g0, g1, g2]\n",
    "groups_dict = {}\n",
    "for i in range(len(groups)):\n",
    "    groups_dict[i] = groups[i]\n",
    "A = groups_to_matrix(groups)\n",
    "starts, ends = relabel(groups)\n",
    "\n",
    "r = natOG(groups, penalty=penalty, weights=weights)\n",
    "\n",
    "# stepsize = 1 / alphak \n",
    "stepsize = 1 / ( alphak * max(eigh(A.T@A)[0]))\n",
    "lifted_dim = A.shape[1]\n",
    "y_lifted = np.zeros((lifted_dim,  1))\n",
    "inner_iters = 0\n",
    "while True:\n",
    "    inner_iters += 1\n",
    "    y_lifted_trial, projected_group = projGL1Ball(y_lifted - stepsize * (alphak * A.T@A@y_lifted + A.T@uk), starts, ends, r.weights, len(groups))\n",
    "    xtrial = alphak * (A@y_lifted_trial) + uk\n",
    "    xtrial_proj = xtrial.copy()\n",
    "    for g in range(r.K):\n",
    "        if g not in projected_group:\n",
    "            xtrial_proj[groups_dict[g]] = 0.0\n",
    "    # check for termination\n",
    "    primalVal = primal(xtrial, uk, alphak)\n",
    "    dualVal = dual(A@y_lifted_trial, uk, alphak)\n",
    "    gap = (primalVal - dualVal)[0][0]\n",
    "#     print(inner_iters, gap)\n",
    "    if gap < 1e-10:\n",
    "        break\n",
    "    if inner_iters > 1000:\n",
    "        break\n",
    "#     print(\"===\")\n",
    "    y_lifted = y_lifted_trial\n",
    "print(inner_iters,gap)"
   ]
  },
  {
   "cell_type": "code",
   "execution_count": 19,
   "id": "civil-declaration",
   "metadata": {
    "execution": {
     "iopub.execute_input": "2021-08-31T04:09:12.080157Z",
     "iopub.status.busy": "2021-08-31T04:09:12.079916Z",
     "iopub.status.idle": "2021-08-31T04:09:12.087829Z",
     "shell.execute_reply": "2021-08-31T04:09:12.086401Z",
     "shell.execute_reply.started": "2021-08-31T04:09:12.080130Z"
    }
   },
   "outputs": [
    {
     "data": {
      "text/plain": [
       "(0.066483118104841, 0.06648311809427933)"
      ]
     },
     "execution_count": 19,
     "metadata": {},
     "output_type": "execute_result"
    }
   ],
   "source": [
    "primal(xtrial_proj, uk, alphak), primal(treesol, uk, alphak)"
   ]
  },
  {
   "cell_type": "code",
   "execution_count": 20,
   "id": "empirical-ordinance",
   "metadata": {
    "execution": {
     "iopub.execute_input": "2021-08-31T04:09:14.185728Z",
     "iopub.status.busy": "2021-08-31T04:09:14.185445Z",
     "iopub.status.idle": "2021-08-31T04:09:14.193238Z",
     "shell.execute_reply": "2021-08-31T04:09:14.192019Z",
     "shell.execute_reply.started": "2021-08-31T04:09:14.185692Z"
    }
   },
   "outputs": [
    {
     "name": "stdout",
     "output_type": "stream",
     "text": [
      "diff: 9.39348515219306e-06\n",
      "[[-2.36290694e-06 -7.38320194e-07 -1.57354928e-07  1.53512102e-06\n",
      "   2.14448593e-06  3.28417245e-07  1.02111457e-06  1.10576432e-06]]\n"
     ]
    }
   ],
   "source": [
    "print(\"diff:\", np.sum(np.abs(xtrial_proj - treesol)))\n",
    "print((xtrial_proj - treesol).T)"
   ]
  },
  {
   "cell_type": "code",
   "execution_count": 7,
   "id": "personal-theater",
   "metadata": {
    "execution": {
     "iopub.execute_input": "2021-08-31T04:07:06.817035Z",
     "iopub.status.busy": "2021-08-31T04:07:06.816799Z",
     "iopub.status.idle": "2021-08-31T04:07:06.823810Z",
     "shell.execute_reply": "2021-08-31T04:07:06.822591Z",
     "shell.execute_reply.started": "2021-08-31T04:07:06.817009Z"
    }
   },
   "outputs": [
    {
     "data": {
      "text/plain": [
       "(array([[0.],\n",
       "        [0.],\n",
       "        [0.],\n",
       "        [0.],\n",
       "        [0.],\n",
       "        [0.],\n",
       "        [0.],\n",
       "        [0.]]),\n",
       " array([0.]))"
      ]
     },
     "execution_count": 7,
     "metadata": {},
     "output_type": "execute_result"
    }
   ],
   "source": [
    "spams.proximalTree(U,tree,return_val_loss = True,**param)"
   ]
  },
  {
   "cell_type": "markdown",
   "id": "geographic-spoke",
   "metadata": {},
   "source": [
    "## test against  Ye et al."
   ]
  },
  {
   "cell_type": "code",
   "execution_count": 55,
   "id": "innovative-doctor",
   "metadata": {
    "execution": {
     "iopub.execute_input": "2021-08-27T21:29:29.201729Z",
     "iopub.status.busy": "2021-08-27T21:29:29.201459Z",
     "iopub.status.idle": "2021-08-27T21:29:29.212023Z",
     "shell.execute_reply": "2021-08-27T21:29:29.209754Z",
     "shell.execute_reply.started": "2021-08-27T21:29:29.201702Z"
    }
   },
   "outputs": [],
   "source": [
    "xk = np.array([-1.1, -2.2, -3.3, 4.4, 5.5, 6.6, 7.7, 8.8, 9.9, 11.4]).reshape(-1,1)\n",
    "gradfxk = 0.01*np.array([11.1, 2.2, 33.3, -44.4, -5.5, 36.6, 77.7, 8.8, 9.9, 11.4]).reshape(-1,1)\n",
    "alphak = 0.2;\n",
    "uk = xk - alphak * gradfxk\n",
    "g0= [0, 1, 2, 3, 4]\n",
    "g1= [3, 4, 5, 6, 7, 8]\n",
    "g2= [6, 7, 8, 9]\n",
    "groups = [g0, g1, g2]\n",
    "groups_dict = {}\n",
    "for i in range(len(groups)):\n",
    "    groups_dict[i] = groups[i]\n",
    "A = groups_to_matrix(groups)\n",
    "starts, ends = relabel(groups)\n",
    "weights = np.array([np.sqrt(1000),np.sqrt(2),np.sqrt(10)]) * 2.0\n",
    "r = natOG(groups, penalty=1.0, weights=weights)"
   ]
  },
  {
   "cell_type": "code",
   "execution_count": 56,
   "id": "blond-request",
   "metadata": {
    "execution": {
     "iopub.execute_input": "2021-08-27T21:29:29.565703Z",
     "iopub.status.busy": "2021-08-27T21:29:29.564904Z",
     "iopub.status.idle": "2021-08-27T21:29:29.572927Z",
     "shell.execute_reply": "2021-08-27T21:29:29.571881Z",
     "shell.execute_reply.started": "2021-08-27T21:29:29.565625Z"
    }
   },
   "outputs": [
    {
     "data": {
      "text/plain": [
       "([0, 5, 11], [5, 11, 15])"
      ]
     },
     "execution_count": 56,
     "metadata": {},
     "output_type": "execute_result"
    }
   ],
   "source": [
    "starts, ends"
   ]
  },
  {
   "cell_type": "code",
   "execution_count": 57,
   "id": "according-favorite",
   "metadata": {
    "execution": {
     "iopub.execute_input": "2021-08-27T21:29:30.012020Z",
     "iopub.status.busy": "2021-08-27T21:29:30.010881Z",
     "iopub.status.idle": "2021-08-27T21:29:30.039472Z",
     "shell.execute_reply": "2021-08-27T21:29:30.037852Z",
     "shell.execute_reply.started": "2021-08-27T21:29:30.011831Z"
    }
   },
   "outputs": [
    {
     "name": "stdout",
     "output_type": "stream",
     "text": [
      "0\n",
      "0\n",
      "0\n",
      "0\n",
      "0\n",
      "0\n",
      "0\n",
      "0\n",
      "0\n",
      "0\n",
      "0\n",
      "0\n",
      "0\n",
      "0\n",
      "0\n",
      "0\n",
      "0\n",
      "17 6.440359356929548e-11\n"
     ]
    }
   ],
   "source": [
    "stepsize = 1 / alphak\n",
    "lifted_dim = A.shape[1]\n",
    "y_lifted = np.zeros((lifted_dim,  1))\n",
    "inner_iters = 0\n",
    "while True:\n",
    "    inner_iters += 1\n",
    "    y_lifted_trial, projected_group = projGL1Ball(y_lifted - stepsize * (alphak * A.T@A@y_lifted + A.T@uk), starts, ends, r.weights, len(groups))\n",
    "    xtrial = alphak * (A@y_lifted_trial) + uk\n",
    "    xtrial_proj = xtrial.copy()\n",
    "    for g in range(r.K):\n",
    "        if g not in projected_group:\n",
    "            xtrial_proj[groups_dict[g]] = 0.0\n",
    "    # check for termination\n",
    "    primalVal = primal(xtrial, uk, alphak)\n",
    "    dualVal = dual(A@y_lifted_trial, uk, alphak)\n",
    "    gap = (primalVal - dualVal)[0][0]\n",
    "    if gap < 1e-10:\n",
    "        break\n",
    "    if inner_iters > 1000:\n",
    "        break\n",
    "    y_lifted = y_lifted_trial\n",
    "print(inner_iters,gap)"
   ]
  },
  {
   "cell_type": "code",
   "execution_count": 58,
   "id": "welcome-writing",
   "metadata": {
    "execution": {
     "iopub.execute_input": "2021-08-27T21:29:30.997509Z",
     "iopub.status.busy": "2021-08-27T21:29:30.997114Z",
     "iopub.status.idle": "2021-08-27T21:29:31.005586Z",
     "shell.execute_reply": "2021-08-27T21:29:31.004544Z",
     "shell.execute_reply.started": "2021-08-27T21:29:30.997469Z"
    }
   },
   "outputs": [
    {
     "data": {
      "text/plain": [
       "array([[ 0.        ],\n",
       "       [ 0.        ],\n",
       "       [ 0.        ],\n",
       "       [ 0.        ],\n",
       "       [ 0.        ],\n",
       "       [ 6.29082982],\n",
       "       [ 6.7938454 ],\n",
       "       [ 7.90847332],\n",
       "       [ 8.89703248],\n",
       "       [10.60321887]])"
      ]
     },
     "execution_count": 58,
     "metadata": {},
     "output_type": "execute_result"
    }
   ],
   "source": [
    "xtrial_proj"
   ]
  },
  {
   "cell_type": "code",
   "execution_count": 48,
   "id": "incomplete-metabolism",
   "metadata": {
    "execution": {
     "iopub.execute_input": "2021-08-27T21:20:31.841346Z",
     "iopub.status.busy": "2021-08-27T21:20:31.841086Z",
     "iopub.status.idle": "2021-08-27T21:20:31.850168Z",
     "shell.execute_reply": "2021-08-27T21:20:31.848927Z",
     "shell.execute_reply.started": "2021-08-27T21:20:31.841318Z"
    }
   },
   "outputs": [
    {
     "data": {
      "text/plain": [
       "array([[-1.1222],\n",
       "       [-2.2044],\n",
       "       [-3.3666],\n",
       "       [ 4.4888],\n",
       "       [ 5.511 ],\n",
       "       [ 6.5268],\n",
       "       [ 7.5446],\n",
       "       [ 8.7824],\n",
       "       [ 9.8802],\n",
       "       [11.3772]])"
      ]
     },
     "execution_count": 48,
     "metadata": {},
     "output_type": "execute_result"
    }
   ],
   "source": [
    "uk"
   ]
  },
  {
   "cell_type": "code",
   "execution_count": 19,
   "id": "occasional-greene",
   "metadata": {
    "execution": {
     "iopub.execute_input": "2021-08-29T19:51:46.323484Z",
     "iopub.status.busy": "2021-08-29T19:51:46.323252Z",
     "iopub.status.idle": "2021-08-29T19:51:46.332491Z",
     "shell.execute_reply": "2021-08-29T19:51:46.331169Z",
     "shell.execute_reply.started": "2021-08-29T19:51:46.323457Z"
    }
   },
   "outputs": [
    {
     "data": {
      "text/plain": [
       "array([[inf],\n",
       "       [inf],\n",
       "       [inf]])"
      ]
     },
     "execution_count": 19,
     "metadata": {},
     "output_type": "execute_result"
    }
   ],
   "source": []
  },
  {
   "cell_type": "code",
   "execution_count": 46,
   "id": "centered-brighton",
   "metadata": {
    "execution": {
     "iopub.execute_input": "2021-08-29T21:50:43.480475Z",
     "iopub.status.busy": "2021-08-29T21:50:43.480242Z",
     "iopub.status.idle": "2021-08-29T21:50:43.490467Z",
     "shell.execute_reply": "2021-08-29T21:50:43.489544Z",
     "shell.execute_reply.started": "2021-08-29T21:50:43.480449Z"
    }
   },
   "outputs": [],
   "source": [
    "import yaml\n",
    "with open('./config.yaml', \"r\") as f:\n",
    "    config = yaml.load(f, Loader=yaml.SafeLoader)"
   ]
  },
  {
   "cell_type": "code",
   "execution_count": 49,
   "id": "respiratory-village",
   "metadata": {
    "execution": {
     "iopub.execute_input": "2021-08-29T21:52:48.095453Z",
     "iopub.status.busy": "2021-08-29T21:52:48.095193Z",
     "iopub.status.idle": "2021-08-29T21:52:48.104994Z",
     "shell.execute_reply": "2021-08-29T21:52:48.103646Z",
     "shell.execute_reply.started": "2021-08-29T21:52:48.095425Z"
    }
   },
   "outputs": [
    {
     "data": {
      "text/plain": [
       "{'delta': 3, 'c': 1.0}"
      ]
     },
     "execution_count": 49,
     "metadata": {},
     "output_type": "execute_result"
    }
   ],
   "source": [
    "inexact_strategy_name = config['mainsolver']['inexact_strategy']\n",
    "config['inexactpg'][inexact_strategy_name]"
   ]
  },
  {
   "cell_type": "code",
   "execution_count": 50,
   "id": "upper-height",
   "metadata": {
    "execution": {
     "iopub.execute_input": "2021-08-30T02:28:12.071908Z",
     "iopub.status.busy": "2021-08-30T02:28:12.070313Z",
     "iopub.status.idle": "2021-08-30T02:28:12.091256Z",
     "shell.execute_reply": "2021-08-30T02:28:12.089742Z",
     "shell.execute_reply.started": "2021-08-30T02:28:12.071774Z"
    }
   },
   "outputs": [],
   "source": [
    "A = np.diag([1,2]); B = np.array([[1,2],[3,4]])"
   ]
  },
  {
   "cell_type": "code",
   "execution_count": 51,
   "id": "available-marketplace",
   "metadata": {
    "execution": {
     "iopub.execute_input": "2021-08-30T02:28:14.565272Z",
     "iopub.status.busy": "2021-08-30T02:28:14.564987Z",
     "iopub.status.idle": "2021-08-30T02:28:14.578931Z",
     "shell.execute_reply": "2021-08-30T02:28:14.577873Z",
     "shell.execute_reply.started": "2021-08-30T02:28:14.565240Z"
    }
   },
   "outputs": [
    {
     "data": {
      "text/plain": [
       "(array([[1, 0],\n",
       "        [0, 2]]),\n",
       " array([[1, 2],\n",
       "        [3, 4]]))"
      ]
     },
     "execution_count": 51,
     "metadata": {},
     "output_type": "execute_result"
    }
   ],
   "source": [
    "A, B"
   ]
  },
  {
   "cell_type": "code",
   "execution_count": 52,
   "id": "finnish-wrestling",
   "metadata": {
    "execution": {
     "iopub.execute_input": "2021-08-30T02:28:22.333639Z",
     "iopub.status.busy": "2021-08-30T02:28:22.333217Z",
     "iopub.status.idle": "2021-08-30T02:28:22.340268Z",
     "shell.execute_reply": "2021-08-30T02:28:22.339060Z",
     "shell.execute_reply.started": "2021-08-30T02:28:22.333601Z"
    }
   },
   "outputs": [
    {
     "data": {
      "text/plain": [
       "(array([[1, 2],\n",
       "        [6, 8]]),\n",
       " array([[1, 4],\n",
       "        [3, 8]]))"
      ]
     },
     "execution_count": 52,
     "metadata": {},
     "output_type": "execute_result"
    }
   ],
   "source": [
    "A@B, B@A"
   ]
  },
  {
   "cell_type": "code",
   "execution_count": 27,
   "id": "reflected-packing",
   "metadata": {
    "execution": {
     "iopub.execute_input": "2021-08-30T19:34:17.540040Z",
     "iopub.status.busy": "2021-08-30T19:34:17.537692Z",
     "iopub.status.idle": "2021-08-30T19:34:17.633576Z",
     "shell.execute_reply": "2021-08-30T19:34:17.631620Z",
     "shell.execute_reply.started": "2021-08-30T19:34:17.539928Z"
    }
   },
   "outputs": [
    {
     "ename": "ValueError",
     "evalue": "setting an array element with a sequence.",
     "output_type": "error",
     "traceback": [
      "\u001b[0;31m---------------------------------------------------------------------------\u001b[0m",
      "\u001b[0;31mTypeError\u001b[0m                                 Traceback (most recent call last)",
      "\u001b[0;31mTypeError\u001b[0m: only size-1 arrays can be converted to Python scalars",
      "\nThe above exception was the direct cause of the following exception:\n",
      "\u001b[0;31mValueError\u001b[0m                                Traceback (most recent call last)",
      "\u001b[0;32m<ipython-input-27-07dda1622140>\u001b[0m in \u001b[0;36m<module>\u001b[0;34m\u001b[0m\n\u001b[1;32m      3\u001b[0m \u001b[0mg2\u001b[0m \u001b[0;34m=\u001b[0m \u001b[0;34m[\u001b[0m\u001b[0;36m5\u001b[0m\u001b[0;34m,\u001b[0m \u001b[0;36m6\u001b[0m\u001b[0;34m,\u001b[0m \u001b[0;36m7\u001b[0m\u001b[0;34m,\u001b[0m \u001b[0;36m8\u001b[0m\u001b[0;34m,\u001b[0m \u001b[0;36m9\u001b[0m\u001b[0;34m]\u001b[0m\u001b[0;34m\u001b[0m\u001b[0;34m\u001b[0m\u001b[0m\n\u001b[1;32m      4\u001b[0m \u001b[0mgroups\u001b[0m \u001b[0;34m=\u001b[0m \u001b[0;34m[\u001b[0m\u001b[0mg0\u001b[0m\u001b[0;34m,\u001b[0m \u001b[0mg1\u001b[0m\u001b[0;34m,\u001b[0m \u001b[0mg2\u001b[0m\u001b[0;34m]\u001b[0m\u001b[0;34m\u001b[0m\u001b[0;34m\u001b[0m\u001b[0m\n\u001b[0;32m----> 5\u001b[0;31m \u001b[0mgroups\u001b[0m \u001b[0;34m=\u001b[0m \u001b[0mnp\u001b[0m\u001b[0;34m.\u001b[0m\u001b[0marray\u001b[0m\u001b[0;34m(\u001b[0m\u001b[0;34m[\u001b[0m\u001b[0mnp\u001b[0m\u001b[0;34m.\u001b[0m\u001b[0marray\u001b[0m\u001b[0;34m(\u001b[0m\u001b[0mg\u001b[0m\u001b[0;34m)\u001b[0m \u001b[0;32mfor\u001b[0m \u001b[0mg\u001b[0m \u001b[0;32min\u001b[0m \u001b[0mgroups\u001b[0m\u001b[0;34m]\u001b[0m\u001b[0;34m,\u001b[0m \u001b[0mdtype\u001b[0m\u001b[0;34m=\u001b[0m\u001b[0mnp\u001b[0m\u001b[0;34m.\u001b[0m\u001b[0mfloat64\u001b[0m\u001b[0;34m)\u001b[0m\u001b[0;34m\u001b[0m\u001b[0;34m\u001b[0m\u001b[0m\n\u001b[0m\u001b[1;32m      6\u001b[0m \u001b[0;32mfor\u001b[0m \u001b[0mg\u001b[0m \u001b[0;32min\u001b[0m \u001b[0mgroups\u001b[0m\u001b[0;34m:\u001b[0m\u001b[0;34m\u001b[0m\u001b[0;34m\u001b[0m\u001b[0m\n\u001b[1;32m      7\u001b[0m     \u001b[0mprint\u001b[0m\u001b[0;34m(\u001b[0m\u001b[0mg\u001b[0m\u001b[0;34m)\u001b[0m\u001b[0;34m\u001b[0m\u001b[0;34m\u001b[0m\u001b[0m\n",
      "\u001b[0;31mValueError\u001b[0m: setting an array element with a sequence."
     ]
    }
   ],
   "source": [
    "g0 = [0, 1, 2, 3, 4, 5, 6, 7, 8, 9]\n",
    "g1 = [2, 3, 4]\n",
    "g2 = [5, 6, 7, 8, 9]\n",
    "groups = [g0, g1, g2]\n",
    "groups = np.array([np.array(g) for g in groups], dtype=np.float64)\n",
    "for g in groups:\n",
    "    print(g)"
   ]
  },
  {
   "cell_type": "code",
   "execution_count": 26,
   "id": "positive-cheese",
   "metadata": {
    "execution": {
     "iopub.execute_input": "2021-08-30T19:06:02.635736Z",
     "iopub.status.busy": "2021-08-30T19:06:02.635471Z",
     "iopub.status.idle": "2021-08-30T19:06:02.643709Z",
     "shell.execute_reply": "2021-08-30T19:06:02.642443Z",
     "shell.execute_reply.started": "2021-08-30T19:06:02.635708Z"
    }
   },
   "outputs": [
    {
     "data": {
      "text/plain": [
       "array([[2],\n",
       "       [3],\n",
       "       [4]])"
      ]
     },
     "execution_count": 26,
     "metadata": {},
     "output_type": "execute_result"
    }
   ],
   "source": [
    "np.array([0,1,2,3,4,5]).reshape(-1,1)[groups[1]]"
   ]
  },
  {
   "cell_type": "code",
   "execution_count": 27,
   "id": "abroad-punishment",
   "metadata": {
    "execution": {
     "iopub.execute_input": "2021-09-06T19:30:56.126050Z",
     "iopub.status.busy": "2021-09-06T19:30:56.125593Z",
     "iopub.status.idle": "2021-09-06T19:30:56.135147Z",
     "shell.execute_reply": "2021-09-06T19:30:56.134116Z",
     "shell.execute_reply.started": "2021-09-06T19:30:56.125972Z"
    }
   },
   "outputs": [
    {
     "data": {
      "text/plain": [
       "array([0, 1, 2, 3, 4, 3, 4, 5, 6, 7, 8, 6, 7, 8, 9])"
      ]
     },
     "execution_count": 27,
     "metadata": {},
     "output_type": "execute_result"
    }
   ],
   "source": [
    "np.concatenate((np.arange(0,5), np.arange(3,9), np.arange(6,10)))"
   ]
  },
  {
   "cell_type": "code",
   "execution_count": 28,
   "id": "delayed-commodity",
   "metadata": {
    "execution": {
     "iopub.execute_input": "2021-09-06T19:39:04.074591Z",
     "iopub.status.busy": "2021-09-06T19:39:04.072648Z",
     "iopub.status.idle": "2021-09-06T19:39:04.095295Z",
     "shell.execute_reply": "2021-09-06T19:39:04.093863Z",
     "shell.execute_reply.started": "2021-09-06T19:39:04.074410Z"
    }
   },
   "outputs": [],
   "source": [
    "G = np.concatenate((np.arange(0, 5), np.arange(3, 9), np.arange(6, 10))) * 1.0\n",
    "W = np.array([[0, 5, 10], [4, 10, 14], [\n",
    "             np.sqrt(1000), np.sqrt(2), np.sqrt(10)]])\n",
    "W[2, :] = W[2, :] * 2.0\n"
   ]
  },
  {
   "cell_type": "code",
   "execution_count": 31,
   "id": "compliant-surgery",
   "metadata": {
    "execution": {
     "iopub.execute_input": "2021-09-06T19:39:27.337770Z",
     "iopub.status.busy": "2021-09-06T19:39:27.337430Z",
     "iopub.status.idle": "2021-09-06T19:39:27.345620Z",
     "shell.execute_reply": "2021-09-06T19:39:27.344463Z",
     "shell.execute_reply.started": "2021-09-06T19:39:27.337740Z"
    }
   },
   "outputs": [
    {
     "data": {
      "text/plain": [
       "array([[ 0.        ],\n",
       "       [ 4.        ],\n",
       "       [63.2455532 ],\n",
       "       [ 5.        ],\n",
       "       [10.        ],\n",
       "       [ 2.82842712],\n",
       "       [10.        ],\n",
       "       [14.        ],\n",
       "       [ 6.32455532]])"
      ]
     },
     "execution_count": 31,
     "metadata": {},
     "output_type": "execute_result"
    }
   ],
   "source": [
    "W.T.reshape(-1,1)"
   ]
  },
  {
   "cell_type": "code",
   "execution_count": null,
   "id": "regular-bottom",
   "metadata": {},
   "outputs": [],
   "source": []
  }
 ],
 "metadata": {
  "interpreter": {
   "hash": "703517ed9bdc81570f26788304b686af16b08fb69c73a3571779325daddaa49b"
  },
  "kernelspec": {
   "display_name": "Python 3",
   "language": "python",
   "name": "python3"
  },
  "language_info": {
   "codemirror_mode": {
    "name": "ipython",
    "version": 3
   },
   "file_extension": ".py",
   "mimetype": "text/x-python",
   "name": "python",
   "nbconvert_exporter": "python",
   "pygments_lexer": "ipython3",
   "version": "3.7.10"
  }
 },
 "nbformat": 4,
 "nbformat_minor": 5
}
