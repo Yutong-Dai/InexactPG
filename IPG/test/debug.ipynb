{
 "cells": [
  {
   "cell_type": "code",
   "execution_count": 1,
   "metadata": {
    "execution": {
     "iopub.execute_input": "2021-05-27T15:50:23.045804Z",
     "iopub.status.busy": "2021-05-27T15:50:23.045355Z",
     "iopub.status.idle": "2021-05-27T15:50:25.964912Z",
     "shell.execute_reply": "2021-05-27T15:50:25.963656Z",
     "shell.execute_reply.started": "2021-05-27T15:50:23.045699Z"
    }
   },
   "outputs": [],
   "source": [
    "import sys\n",
    "import numpy as np\n",
    "from numba import jit\n",
    "sys.path.append(\"../\")\n",
    "from src.utils import GenOverlapGroup\n",
    "from src.regularizer import OGL1"
   ]
  },
  {
   "cell_type": "code",
   "execution_count": 2,
   "metadata": {},
   "outputs": [
    {
     "name": "stdout",
     "output_type": "stream",
     "text": [
      "[0, 1, 2, 3, 4]\n",
      "[1, 2, 3, 4, 5]\n",
      "[2, 3, 4, 5, 6]\n"
     ]
    }
   ],
   "source": [
    "p = 7\n",
    "generator = GenOverlapGroup(p, 3, 5)\n",
    "starts, ends = generator.get_group()\n",
    "index = [*range(p)]\n",
    "for i in range(len(starts)):\n",
    "    print(index[starts[i]:ends[i]+1])"
   ]
  },
  {
   "cell_type": "code",
   "execution_count": 3,
   "metadata": {},
   "outputs": [
    {
     "data": {
      "text/plain": [
       "([0, 1, 2], [4, 5, 6])"
      ]
     },
     "execution_count": 3,
     "metadata": {},
     "output_type": "execute_result"
    }
   ],
   "source": [
    "starts, ends"
   ]
  },
  {
   "cell_type": "code",
   "execution_count": null,
   "metadata": {},
   "outputs": [],
   "source": [
    "class OGL1:\n",
    "    def __init__(self, Lambda, dim, starts, ends):\n",
    "        \"\"\"\n",
    "        Lambda: scalar > 0\n",
    "        starts: a list of numbers speficy the starting index of each group\n",
    "          ends: a list of numbers speficy the end index of each group\n",
    "\n",
    "        For example, a overlapping group configuration, the number stands for\n",
    "        the index of the variable.\n",
    "        {g0=[0,1,2,3,4],g1=[3,4,5,6,7], g2=[5,6,7,8,9]}\n",
    "        stars = [0, 3, 5]\n",
    "        ends  = [4, 7, 9]\n",
    "        \"\"\"\n",
    "        self.p = dim\n",
    "        self.K = len(starts)\n",
    "        # a np.array that stores the number of group that each coordinate belongs to\n",
    "        self.freq = np.zeros((self.p, 1))\n",
    "        self.group_size = np.zeros(self.K)\n",
    "        for i in range(len(starts)):\n",
    "            self.freq[starts[i]:ends[i] + 1] += 1\n",
    "            self.group_size[i] = ends[i] - starts[i] + 1\n",
    "        # self.Lambda_group = np.ones(self.K)\n",
    "        self.Lambda_group = Lambda * np.sqrt(self.group_size)\n",
    "        self.starts = np.array(starts)\n",
    "        # since python `start:end` will include `start` and exclude `end`,\n",
    "        # we add 1 to the `end` so the G_i-th block of X is indexed by X[start:end]\n",
    "        self.ends = np.array(ends) + 1\n",
    "\n",
    "    def __str__(self):\n",
    "        return(\"Overlapping Group L1\")\n",
    "\n",
    "    def func_ub(self, X, approx=1):\n",
    "        if approx == 1:\n",
    "            return _fub1_jit(X, self.K, self.starts, self.ends, self.Lambda_group, self.freq)\n",
    "        else:\n",
    "            return _fub2_jit(X, self.K, self.starts, self.ends, self.Lambda_group)\n",
    "\n",
    "    def func_lb(self, X):\n",
    "        return _flb_jit(X, self.Lambda_group)\n",
    "\n",
    "    def dual(self, y):\n",
    "        return _dual_jit(y, self.K, self.starts, self.ends, self.Lambda_group)\n",
    "\n",
    "\n",
    "@jit(nopython=True)\n",
    "def _fub1_jit(X, K, starts, ends, Lambda_group, freq):\n",
    "    ub = 0.0\n",
    "    for i in range(K):\n",
    "        start, end = starts[i], ends[i]\n",
    "        # decompose X_g into V_g\n",
    "        Vg = X[start:end] / freq[start:end]\n",
    "        ub += Lambda_group[i] * np.sqrt(np.sum(Vg * Vg))\n",
    "    return ub\n",
    "\n",
    "\n",
    "@jit(nopython=True)\n",
    "def _fub2_jit(X, K, starts, ends, Lambda_group):\n",
    "    ub = 0.0\n",
    "    for i in range(K):\n",
    "        start, end = starts[i], ends[i]\n",
    "        # decompose X_g into V_g\n",
    "        Vg = X[start:end]\n",
    "        ub += Lambda_group[i] * np.sqrt(np.sum(Vg * Vg))\n",
    "        X[start:end] = 0.0\n",
    "    return ub\n",
    "\n",
    "\n",
    "@jit(nopython=True)\n",
    "def _flb_jit(X, Lambda_group):\n",
    "    y = X / np.sqrt(np.sum(X * X))\n",
    "    y = min(Lambda_group) * y\n",
    "    lb = np.dot(X.T, y)[0][0]\n",
    "    return lb\n",
    "\n",
    "\n",
    "@jit(nopython=True)\n",
    "def _dual_jit(y, K, starts, ends, Lambda_group):\n",
    "    max_group_norm = 0.0\n",
    "    for i in range(K):\n",
    "        start, end = starts[i], ends[i]\n",
    "        yg = y[start:end]\n",
    "        temp = (np.sqrt(np.dot(yg * yg))[0][0]) / Lambda_group[i]\n",
    "        max_group_norm = max(max_group_norm, temp)\n",
    "    return max_group_norm"
   ]
  },
  {
   "cell_type": "code",
   "execution_count": 6,
   "metadata": {},
   "outputs": [
    {
     "name": "stdout",
     "output_type": "stream",
     "text": [
      "61.79562331502589\n",
      "85.26358866489885\n",
      "56.40301410385796\n"
     ]
    }
   ],
   "source": [
    "r = OGL1(Lambda=1, dim=p, starts=starts, ends=ends)\n",
    "X = np.array([1.0, 4.2, 9.3, 12.6, 15.9, 8.4, 7.0]).reshape(-1,1)\n",
    "print(r.func_ub(X,approx=1))\n",
    "print(r.func_ub(X.copy(), approx=2))\n",
    "print(r.func_lb(X))"
   ]
  },
  {
   "cell_type": "code",
   "execution_count": 7,
   "metadata": {},
   "outputs": [
    {
     "data": {
      "text/plain": [
       "array([2.23606798, 2.23606798, 2.23606798])"
      ]
     },
     "execution_count": 7,
     "metadata": {},
     "output_type": "execute_result"
    }
   ],
   "source": [
    "r.Lambda_group"
   ]
  },
  {
   "cell_type": "code",
   "execution_count": 15,
   "metadata": {},
   "outputs": [
    {
     "name": "stdout",
     "output_type": "stream",
     "text": [
      "9912.433804364251\n",
      "19485.532211739825\n",
      "1399.614867848165\n"
     ]
    }
   ],
   "source": [
    "p = int(1e4); ngrp=200; grp_size=200\n",
    "generator = GenOverlapGroup(p, ngrp, grp_size)\n",
    "starts, ends = generator.get_group()\n",
    "r = OGL1(Lambda=1, dim=p, starts=starts, ends=ends)\n",
    "np.random.seed(10)\n",
    "X = np.random.randn(p,1)\n",
    "print(r.func_ub(X, approx=1))\n",
    "print(r.func_ub(X.copy(), approx=2))\n",
    "print(r.func_lb(X))"
   ]
  },
  {
   "cell_type": "code",
   "execution_count": null,
   "metadata": {},
   "outputs": [],
   "source": [
    "import numpy as np\n",
    "from numpy.linalg import norm\n",
    "a = np.array([2,3]); b = np.array([0,1])\n",
    "print(norm(a) + norm(b))\n",
    "a = np.array([2,0]); b = np.array([3,1])\n",
    "print(norm(a) + norm(b))\n",
    "a = np.array([2,3/2]); b = np.array([3/2,1])\n",
    "print(norm(a) + norm(b))\n",
    "print(\"===\")\n",
    "print(norm(np.array([2,3,1])))"
   ]
  },
  {
   "cell_type": "code",
   "execution_count": 25,
   "metadata": {},
   "outputs": [
    {
     "name": "stdout",
     "output_type": "stream",
     "text": [
      "4.60555127546399\n",
      "5.16227766016838\n",
      "4.302775637731995\n",
      "===\n",
      "3.7416573867739413\n"
     ]
    }
   ],
   "source": [
    "import numpy as np\n",
    "from numpy.linalg import norm\n",
    "a = np.array([2,3]); b = np.array([0,1])\n",
    "print(norm(a) + norm(b))\n",
    "a = np.array([2,0]); b = np.array([3,1])\n",
    "print(norm(a) + norm(b))\n",
    "a = np.array([2,3/2]); b = np.array([3/2,1])\n",
    "print(norm(a) + norm(b))\n",
    "print(\"===\")\n",
    "print(norm(np.array([2,3,1])))"
   ]
  },
  {
   "cell_type": "code",
   "execution_count": 13,
   "metadata": {},
   "outputs": [
    {
     "data": {
      "text/plain": [
       "2.000000045899457"
      ]
     },
     "execution_count": 13,
     "metadata": {},
     "output_type": "execute_result"
    }
   ],
   "source": [
    "from scipy.optimize import minimize_scalar\n",
    "def f(x):\n",
    "    return np.sqrt(4+x**2) + np.sqrt((3-x)**2 + 1)\n",
    "res = minimize_scalar(f)\n",
    "res.x"
   ]
  },
  {
   "cell_type": "code",
   "execution_count": 12,
   "metadata": {},
   "outputs": [
    {
     "name": "stdout",
     "output_type": "stream",
     "text": [
      "4.242640687119286\n"
     ]
    }
   ],
   "source": [
    "a = np.array([2,2]); b = np.array([1,1])\n",
    "print(norm(a) + norm(b))"
   ]
  },
  {
   "cell_type": "code",
   "execution_count": null,
   "metadata": {},
   "outputs": [],
   "source": []
  },
  {
   "cell_type": "code",
   "execution_count": null,
   "metadata": {},
   "outputs": [],
   "source": []
  },
  {
   "cell_type": "code",
   "execution_count": 63,
   "metadata": {
    "execution": {
     "iopub.execute_input": "2021-05-27T20:03:03.330367Z",
     "iopub.status.busy": "2021-05-27T20:03:03.328018Z",
     "iopub.status.idle": "2021-05-27T20:03:03.391581Z",
     "shell.execute_reply": "2021-05-27T20:03:03.390131Z",
     "shell.execute_reply.started": "2021-05-27T20:03:03.330088Z"
    }
   },
   "outputs": [
    {
     "data": {
      "text/plain": [
       "array([[0.        , 0.        , 0.        , 0.38619117, 0.48273896,\n",
       "        2.19856805, 2.56499606]])"
      ]
     },
     "execution_count": 63,
     "metadata": {},
     "output_type": "execute_result"
    }
   ],
   "source": [
    "p = 7\n",
    "starts, ends = [0, 3, 5], [2, 4, 6]\n",
    "r = OGL1(Lambda=20, dim=p, starts=starts, ends=ends)\n",
    "xk = 1.0* np.array([1, 2, 3, 4, 5, 6, 7]).reshape(-1, 1)\n",
    "gradfxk = 0.1 * np.array([1, 2, 3, 4, 5, 6, 7]).reshape(-1, 1)\n",
    "alphak = 0.2\n",
    "uk = xk - alphak * gradfxk\n",
    "\n",
    "proximal = np.zeros_like(xk)\n",
    "for i in range(len(starts)):\n",
    "    start, end = r.starts[i], r.ends[i]\n",
    "    ukg = uk[start:end]\n",
    "    ukg_norm = np.sqrt(np.dot(ukg.T, ukg))[0][0]\n",
    "    if ukg_norm != 0:\n",
    "        temp = 1 - ((r.Lambda_group[i] * alphak) / ukg_norm)\n",
    "    else:\n",
    "        temp = -1\n",
    "    proximal[start:end] = max(temp, 0) * ukg\n",
    "proximal.T"
   ]
  },
  {
   "cell_type": "code",
   "execution_count": null,
   "metadata": {},
   "outputs": [],
   "source": [
    "0.517089950113724   1.034179900227449   1.551269850341173   3.036547791401228   3.795684739251535   4.959642013383156 5.786249015613682\n"
   ]
  },
  {
   "cell_type": "code",
   "execution_count": 50,
   "metadata": {
    "execution": {
     "iopub.execute_input": "2021-05-27T18:24:02.160447Z",
     "iopub.status.busy": "2021-05-27T18:24:02.160192Z",
     "iopub.status.idle": "2021-05-27T18:24:02.171284Z",
     "shell.execute_reply": "2021-05-27T18:24:02.169984Z",
     "shell.execute_reply.started": "2021-05-27T18:24:02.160420Z"
    }
   },
   "outputs": [
    {
     "data": {
      "text/plain": [
       "0.0"
      ]
     },
     "execution_count": 50,
     "metadata": {},
     "output_type": "execute_result"
    }
   ],
   "source": [
    "temp = (proximal - uk) / alphak\n",
    "dual_norm = r.dual(temp)\n",
    "y = min(1, 1 / dual_norm) * temp\n",
    "temp2 = proximal - uk\n",
    "rproximal = 0\n",
    "for i in range(3):\n",
    "    start, end = r.starts[i], r.ends[i]\n",
    "    proximalg = proximal[start:end]\n",
    "    temp3 = np.sqrt(np.sum(proximalg*proximalg))\n",
    "    rproximal += r.Lambda_group[i] * temp3\n",
    "primal = np.dot(temp2.T, temp2)[0][0] / (2 * alphak) + rproximal\n",
    "dual_negative = ((alphak / 2) * (np.dot(y.T, y)) + np.dot(uk.T, y))[0][0]\n",
    "primal + dual_negative"
   ]
  },
  {
   "cell_type": "code",
   "execution_count": 52,
   "metadata": {
    "execution": {
     "iopub.execute_input": "2021-05-27T18:25:14.398009Z",
     "iopub.status.busy": "2021-05-27T18:25:14.397767Z",
     "iopub.status.idle": "2021-05-27T18:25:14.868296Z",
     "shell.execute_reply": "2021-05-27T18:25:14.867544Z",
     "shell.execute_reply.started": "2021-05-27T18:25:14.397983Z"
    }
   },
   "outputs": [
    {
     "data": {
      "text/plain": [
       "0.0"
      ]
     },
     "execution_count": 52,
     "metadata": {},
     "output_type": "execute_result"
    }
   ],
   "source": [
    "temp = (proximal - uk) / alphak\n",
    "dual_norm = r.dual(temp)\n",
    "y = min(1, 1 / dual_norm) * temp\n",
    "temp2 = proximal - uk\n",
    "primal = np.dot(temp2.T, temp2)[0][0] / (2 * alphak) + r.func_ub(proximal)\n",
    "dual_negative = ((alphak / 2) * (np.dot(y.T, y)) + np.dot(uk.T, y))[0][0]\n",
    "primal + dual_negative"
   ]
  },
  {
   "cell_type": "code",
   "execution_count": 62,
   "metadata": {
    "execution": {
     "iopub.execute_input": "2021-05-27T19:37:14.533661Z",
     "iopub.status.busy": "2021-05-27T19:37:14.533430Z",
     "iopub.status.idle": "2021-05-27T19:37:14.542835Z",
     "shell.execute_reply": "2021-05-27T19:37:14.541763Z",
     "shell.execute_reply.started": "2021-05-27T19:37:14.533636Z"
    }
   },
   "outputs": [
    {
     "data": {
      "text/plain": [
       "array([[0.51708995, 1.0341799 , 1.55126985, 3.03654779, 3.79568474,\n",
       "        4.95964201, 5.78624902]])"
      ]
     },
     "execution_count": 62,
     "metadata": {},
     "output_type": "execute_result"
    }
   ],
   "source": [
    "vk = np.zeros_like(uk)\n",
    "for i in range(3):\n",
    "    start, end = r.starts[i], r.ends[i]\n",
    "    ukg = uk[start:end]\n",
    "    ukg_norm = np.sqrt(np.sum(ukg*ukg))\n",
    "    vk[start:end] = (r.Lambda_group[i]* alphak/ukg_norm) * ukg\n",
    "(uk-vk).T"
   ]
  },
  {
   "cell_type": "code",
   "execution_count": 60,
   "metadata": {
    "execution": {
     "iopub.execute_input": "2021-05-27T19:29:22.041687Z",
     "iopub.status.busy": "2021-05-27T19:29:22.041401Z",
     "iopub.status.idle": "2021-05-27T19:29:22.052800Z",
     "shell.execute_reply": "2021-05-27T19:29:22.051740Z",
     "shell.execute_reply.started": "2021-05-27T19:29:22.041658Z"
    }
   },
   "outputs": [
    {
     "data": {
      "text/plain": [
       "array([[2.31455025, 4.6291005 , 6.94365075, 4.41726104, 5.5215763 ,\n",
       "        4.60178993, 5.36875492]])"
      ]
     },
     "execution_count": 60,
     "metadata": {},
     "output_type": "execute_result"
    }
   ],
   "source": [
    "vk.T"
   ]
  },
  {
   "cell_type": "code",
   "execution_count": 61,
   "metadata": {
    "execution": {
     "iopub.execute_input": "2021-05-27T19:29:37.254813Z",
     "iopub.status.busy": "2021-05-27T19:29:37.254451Z",
     "iopub.status.idle": "2021-05-27T19:29:37.263362Z",
     "shell.execute_reply": "2021-05-27T19:29:37.262264Z",
     "shell.execute_reply.started": "2021-05-27T19:29:37.254770Z"
    }
   },
   "outputs": [
    {
     "data": {
      "text/plain": [
       "array([[0.46291005, 0.9258201 , 1.38873015, 0.88345221, 1.10431526,\n",
       "        0.92035799, 1.07375098]])"
      ]
     },
     "execution_count": 61,
     "metadata": {},
     "output_type": "execute_result"
    }
   ],
   "source": [
    "(uk - proximal).T"
   ]
  },
  {
   "cell_type": "code",
   "execution_count": 1,
   "metadata": {},
   "outputs": [],
   "source": [
    "import numpy as np\n",
    "from numpy.linalg import norm"
   ]
  },
  {
   "cell_type": "code",
   "execution_count": 20,
   "metadata": {},
   "outputs": [],
   "source": [
    "def check_feasibility(z, starts, ends, bounds):\n",
    "    for i in range(len(starts)):\n",
    "        start, end = starts[i], ends[i]\n",
    "        zg = z[start:end]\n",
    "        zg_norm = np.sqrt(np.sum(zg*zg))\n",
    "        if zg_norm > bounds[i]:\n",
    "            z[start:end] = (bounds[i]/zg_norm) * zg\n",
    "    return z\n"
   ]
  },
  {
   "cell_type": "code",
   "execution_count": 24,
   "metadata": {},
   "outputs": [
    {
     "output_type": "execute_result",
     "data": {
      "text/plain": [
       "array([3.        , 1.2493901 , 1.56173762])"
      ]
     },
     "metadata": {},
     "execution_count": 24
    }
   ],
   "source": [
    "z = np.array([3.0,4.0,5.0])\n",
    "starts = [0,1]\n",
    "ends = [2,3]\n",
    "check_feasibility(z, starts, ends, [5, 2])"
   ]
  },
  {
   "cell_type": "code",
   "execution_count": null,
   "metadata": {},
   "outputs": [],
   "source": []
  }
 ],
 "metadata": {
  "kernelspec": {
   "name": "python37764bitanaconda3virtualenvd68d27bd12c84dd987cf56ba56119a74",
   "display_name": "Python 3.8.3 64-bit"
  },
  "language_info": {
   "codemirror_mode": {
    "name": "ipython",
    "version": 3
   },
   "file_extension": ".py",
   "mimetype": "text/x-python",
   "name": "python",
   "nbconvert_exporter": "python",
   "pygments_lexer": "ipython3",
   "version": "3.8.3"
  },
  "metadata": {
   "interpreter": {
    "hash": "6145dc6f00c22d3ede2ee05e781a2635223215613d4a1d08b74a51516cd2f72d"
   }
  }
 },
 "nbformat": 4,
 "nbformat_minor": 4
}