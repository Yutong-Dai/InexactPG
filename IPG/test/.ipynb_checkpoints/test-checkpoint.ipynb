{
 "cells": [
  {
   "cell_type": "code",
   "execution_count": 5,
   "id": "smaller-danish",
   "metadata": {
    "execution": {
     "iopub.execute_input": "2021-05-27T18:17:58.282145Z",
     "iopub.status.busy": "2021-05-27T18:17:58.281796Z",
     "iopub.status.idle": "2021-05-27T18:18:00.051219Z",
     "shell.execute_reply": "2021-05-27T18:18:00.050272Z",
     "shell.execute_reply.started": "2021-05-27T18:17:58.282094Z"
    }
   },
   "outputs": [],
   "source": [
    "import sys\n",
    "import numpy as np\n",
    "from numba import jit\n",
    "sys.path.append(\"../\")\n",
    "from archive.src.regularizer import GL1\n",
    "from archive.src.utils import gen_group"
   ]
  },
  {
   "cell_type": "code",
   "execution_count": 8,
   "id": "laden-barbados",
   "metadata": {
    "execution": {
     "iopub.execute_input": "2021-05-27T18:19:16.123224Z",
     "iopub.status.busy": "2021-05-27T18:19:16.122938Z",
     "iopub.status.idle": "2021-05-27T18:19:16.129850Z",
     "shell.execute_reply": "2021-05-27T18:19:16.128793Z",
     "shell.execute_reply.started": "2021-05-27T18:19:16.123193Z"
    }
   },
   "outputs": [],
   "source": [
    "group = np.array([1., 1., 1., 2., 2., 3., 3.])\n",
    "r = GL1(Lambda=5, group=group)\n",
    "p = 7\n",
    "xk = 1.0* np.array([1, 2, 3, 4, 5, 6, 7]).reshape(-1, 1)\n",
    "gradfxk = 0.1 * np.array([1, 2, 3, 4, 5, 6, 7]).reshape(-1, 1)\n",
    "alphak = 0.2\n",
    "uk = xk - alphak * gradfxk\n",
    "starts, ends = r.starts, r.ends"
   ]
  },
  {
   "cell_type": "code",
   "execution_count": 9,
   "id": "existing-botswana",
   "metadata": {
    "execution": {
     "iopub.execute_input": "2021-05-27T18:19:58.425165Z",
     "iopub.status.busy": "2021-05-27T18:19:58.424859Z",
     "iopub.status.idle": "2021-05-27T18:19:58.430930Z",
     "shell.execute_reply": "2021-05-27T18:19:58.429800Z",
     "shell.execute_reply.started": "2021-05-27T18:19:58.425124Z"
    }
   },
   "outputs": [
    {
     "data": {
      "text/plain": [
       "(array([0, 3, 5]), array([3, 5, 7]))"
      ]
     },
     "execution_count": 9,
     "metadata": {},
     "output_type": "execute_result"
    }
   ],
   "source": [
    " r.starts, r.ends"
   ]
  },
  {
   "cell_type": "code",
   "execution_count": null,
   "id": "frank-equity",
   "metadata": {},
   "outputs": [],
   "source": [
    "def _proximal_gradient_jit(X, alpha, gradf, K, p, starts, ends, Lambda_group):\n",
    "    proximal = np.zeros((p, 1))\n",
    "    nonZeroGroup = []\n",
    "    zeroGroup = []\n",
    "    for i in range(K):\n",
    "        start, end = starts[i], ends[i]\n",
    "        XG_i = X[start:end]\n",
    "        gradfG_i = gradf[start:end]\n",
    "        gradient_step = XG_i - alpha * gradfG_i\n",
    "        gradient_step_norm = np.sqrt(np.dot(gradient_step.T, gradient_step))[0][0]\n",
    "        if gradient_step_norm != 0:\n",
    "            temp = 1 - ((Lambda_group[i] * alpha) / gradient_step_norm)\n",
    "        else:\n",
    "            temp = -1\n",
    "        if temp > 0:\n",
    "            nonZeroGroup.append(i)\n",
    "        else:\n",
    "            zeroGroup.append(i)\n",
    "        proximal[start:end] = max(temp, 0) * gradient_step\n",
    "    return proximal, len(zeroGroup), len(nonZeroGroup)\n",
    "\n",
    "\n",
    "\n",
    "def _duality_gap(self, x, y, xk, gradfxk, alphak):\n",
    "    gradient_step = xk - alphak * gradfxk\n",
    "    temp = (x - gradient_step) / alphak\n",
    "    dual_norm = self.r.dual(temp)\n",
    "    y = min(1, 1 / dual_norm) * temp\n",
    "    temp = x - gradient_step\n",
    "    try:\n",
    "        primal = np.dot(temp.T, temp)[0][0] / (2 * alphak) + self.r.evaluate_function_value_jit(x)\n",
    "    except Exception as e:\n",
    "        print(e)\n",
    "        primal = 0\n",
    "        self.overflow = True\n",
    "    dual_negative = ((alphak / 2) * (np.dot(y.T, y)) + np.dot(gradient_step.T, y))[0][0]\n",
    "    return primal + dual_negative\n",
    "\n",
    "\n"
   ]
  }
 ],
 "metadata": {
  "kernelspec": {
   "display_name": "Python 3",
   "language": "python",
   "name": "python3"
  },
  "language_info": {
   "codemirror_mode": {
    "name": "ipython",
    "version": 3
   },
   "file_extension": ".py",
   "mimetype": "text/x-python",
   "name": "python",
   "nbconvert_exporter": "python",
   "pygments_lexer": "ipython3",
   "version": "3.7.6"
  }
 },
 "nbformat": 4,
 "nbformat_minor": 5
}
