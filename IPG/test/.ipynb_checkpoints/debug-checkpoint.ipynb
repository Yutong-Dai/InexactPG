{
 "cells": [
  {
   "cell_type": "code",
   "execution_count": 1,
   "metadata": {
    "execution": {
     "iopub.execute_input": "2021-05-27T15:50:23.045804Z",
     "iopub.status.busy": "2021-05-27T15:50:23.045355Z",
     "iopub.status.idle": "2021-05-27T15:50:25.964912Z",
     "shell.execute_reply": "2021-05-27T15:50:25.963656Z",
     "shell.execute_reply.started": "2021-05-27T15:50:23.045699Z"
    }
   },
   "outputs": [],
   "source": [
    "import sys\n",
    "import numpy as np\n",
    "from numba import jit\n",
    "sys.path.append(\"../\")\n",
    "from src.utils import GenOverlapGroup\n",
    "from src.regularizer import OGL1"
   ]
  },
  {
   "cell_type": "code",
   "execution_count": 2,
   "metadata": {},
   "outputs": [
    {
     "name": "stdout",
     "output_type": "stream",
     "text": [
      "[0, 1, 2, 3, 4]\n",
      "[1, 2, 3, 4, 5]\n",
      "[2, 3, 4, 5, 6]\n"
     ]
    }
   ],
   "source": [
    "p = 7\n",
    "generator = GenOverlapGroup(p, 3, 5)\n",
    "starts, ends = generator.get_group()\n",
    "index = [*range(p)]\n",
    "for i in range(len(starts)):\n",
    "    print(index[starts[i]:ends[i]+1])"
   ]
  },
  {
   "cell_type": "code",
   "execution_count": 3,
   "metadata": {},
   "outputs": [
    {
     "data": {
      "text/plain": [
       "([0, 1, 2], [4, 5, 6])"
      ]
     },
     "execution_count": 3,
     "metadata": {},
     "output_type": "execute_result"
    }
   ],
   "source": [
    "starts, ends"
   ]
  },
  {
   "cell_type": "code",
   "execution_count": null,
   "metadata": {},
   "outputs": [],
   "source": [
    "class OGL1:\n",
    "    def __init__(self, Lambda, dim, starts, ends):\n",
    "        \"\"\"\n",
    "        Lambda: scalar > 0\n",
    "        starts: a list of numbers speficy the starting index of each group\n",
    "          ends: a list of numbers speficy the end index of each group\n",
    "\n",
    "        For example, a overlapping group configuration, the number stands for\n",
    "        the index of the variable.\n",
    "        {g0=[0,1,2,3,4],g1=[3,4,5,6,7], g2=[5,6,7,8,9]}\n",
    "        stars = [0, 3, 5]\n",
    "        ends  = [4, 7, 9]\n",
    "        \"\"\"\n",
    "        self.p = dim\n",
    "        self.K = len(starts)\n",
    "        # a np.array that stores the number of group that each coordinate belongs to\n",
    "        self.freq = np.zeros((self.p, 1))\n",
    "        self.group_size = np.zeros(self.K)\n",
    "        for i in range(len(starts)):\n",
    "            self.freq[starts[i]:ends[i] + 1] += 1\n",
    "            self.group_size[i] = ends[i] - starts[i] + 1\n",
    "        # self.Lambda_group = np.ones(self.K)\n",
    "        self.Lambda_group = Lambda * np.sqrt(self.group_size)\n",
    "        self.starts = np.array(starts)\n",
    "        # since python `start:end` will include `start` and exclude `end`,\n",
    "        # we add 1 to the `end` so the G_i-th block of X is indexed by X[start:end]\n",
    "        self.ends = np.array(ends) + 1\n",
    "\n",
    "    def __str__(self):\n",
    "        return(\"Overlapping Group L1\")\n",
    "\n",
    "    def func_ub(self, X, approx=1):\n",
    "        if approx == 1:\n",
    "            return _fub1_jit(X, self.K, self.starts, self.ends, self.Lambda_group, self.freq)\n",
    "        else:\n",
    "            return _fub2_jit(X, self.K, self.starts, self.ends, self.Lambda_group)\n",
    "\n",
    "    def func_lb(self, X):\n",
    "        return _flb_jit(X, self.Lambda_group)\n",
    "\n",
    "    def dual(self, y):\n",
    "        return _dual_jit(y, self.K, self.starts, self.ends, self.Lambda_group)\n",
    "\n",
    "\n",
    "@jit(nopython=True)\n",
    "def _fub1_jit(X, K, starts, ends, Lambda_group, freq):\n",
    "    ub = 0.0\n",
    "    for i in range(K):\n",
    "        start, end = starts[i], ends[i]\n",
    "        # decompose X_g into V_g\n",
    "        Vg = X[start:end] / freq[start:end]\n",
    "        ub += Lambda_group[i] * np.sqrt(np.sum(Vg * Vg))\n",
    "    return ub\n",
    "\n",
    "\n",
    "@jit(nopython=True)\n",
    "def _fub2_jit(X, K, starts, ends, Lambda_group):\n",
    "    ub = 0.0\n",
    "    for i in range(K):\n",
    "        start, end = starts[i], ends[i]\n",
    "        # decompose X_g into V_g\n",
    "        Vg = X[start:end]\n",
    "        ub += Lambda_group[i] * np.sqrt(np.sum(Vg * Vg))\n",
    "        X[start:end] = 0.0\n",
    "    return ub\n",
    "\n",
    "\n",
    "@jit(nopython=True)\n",
    "def _flb_jit(X, Lambda_group):\n",
    "    y = X / np.sqrt(np.sum(X * X))\n",
    "    y = min(Lambda_group) * y\n",
    "    lb = np.dot(X.T, y)[0][0]\n",
    "    return lb\n",
    "\n",
    "\n",
    "@jit(nopython=True)\n",
    "def _dual_jit(y, K, starts, ends, Lambda_group):\n",
    "    max_group_norm = 0.0\n",
    "    for i in range(K):\n",
    "        start, end = starts[i], ends[i]\n",
    "        yg = y[start:end]\n",
    "        temp = (np.sqrt(np.dot(yg * yg))[0][0]) / Lambda_group[i]\n",
    "        max_group_norm = max(max_group_norm, temp)\n",
    "    return max_group_norm"
   ]
  },
  {
   "cell_type": "code",
   "execution_count": 6,
   "metadata": {},
   "outputs": [
    {
     "name": "stdout",
     "output_type": "stream",
     "text": [
      "61.79562331502589\n",
      "85.26358866489885\n",
      "56.40301410385796\n"
     ]
    }
   ],
   "source": [
    "r = OGL1(Lambda=1, dim=p, starts=starts, ends=ends)\n",
    "X = np.array([1.0, 4.2, 9.3, 12.6, 15.9, 8.4, 7.0]).reshape(-1,1)\n",
    "print(r.func_ub(X,approx=1))\n",
    "print(r.func_ub(X.copy(), approx=2))\n",
    "print(r.func_lb(X))"
   ]
  },
  {
   "cell_type": "code",
   "execution_count": 7,
   "metadata": {},
   "outputs": [
    {
     "data": {
      "text/plain": [
       "array([2.23606798, 2.23606798, 2.23606798])"
      ]
     },
     "execution_count": 7,
     "metadata": {},
     "output_type": "execute_result"
    }
   ],
   "source": [
    "r.Lambda_group"
   ]
  },
  {
   "cell_type": "code",
   "execution_count": 15,
   "metadata": {},
   "outputs": [
    {
     "name": "stdout",
     "output_type": "stream",
     "text": [
      "9912.433804364251\n",
      "19485.532211739825\n",
      "1399.614867848165\n"
     ]
    }
   ],
   "source": [
    "p = int(1e4); ngrp=200; grp_size=200\n",
    "generator = GenOverlapGroup(p, ngrp, grp_size)\n",
    "starts, ends = generator.get_group()\n",
    "r = OGL1(Lambda=1, dim=p, starts=starts, ends=ends)\n",
    "np.random.seed(10)\n",
    "X = np.random.randn(p,1)\n",
    "print(r.func_ub(X, approx=1))\n",
    "print(r.func_ub(X.copy(), approx=2))\n",
    "print(r.func_lb(X))"
   ]
  },
  {
   "cell_type": "code",
   "execution_count": null,
   "metadata": {},
   "outputs": [],
   "source": [
    "import numpy as np\n",
    "from numpy.linalg import norm\n",
    "a = np.array([2,3]); b = np.array([0,1])\n",
    "print(norm(a) + norm(b))\n",
    "a = np.array([2,0]); b = np.array([3,1])\n",
    "print(norm(a) + norm(b))\n",
    "a = np.array([2,3/2]); b = np.array([3/2,1])\n",
    "print(norm(a) + norm(b))\n",
    "print(\"===\")\n",
    "print(norm(np.array([2,3,1])))"
   ]
  },
  {
   "cell_type": "code",
   "execution_count": 25,
   "metadata": {},
   "outputs": [
    {
     "name": "stdout",
     "output_type": "stream",
     "text": [
      "4.60555127546399\n",
      "5.16227766016838\n",
      "4.302775637731995\n",
      "===\n",
      "3.7416573867739413\n"
     ]
    }
   ],
   "source": [
    "import numpy as np\n",
    "from numpy.linalg import norm\n",
    "a = np.array([2,3]); b = np.array([0,1])\n",
    "print(norm(a) + norm(b))\n",
    "a = np.array([2,0]); b = np.array([3,1])\n",
    "print(norm(a) + norm(b))\n",
    "a = np.array([2,3/2]); b = np.array([3/2,1])\n",
    "print(norm(a) + norm(b))\n",
    "print(\"===\")\n",
    "print(norm(np.array([2,3,1])))"
   ]
  },
  {
   "cell_type": "code",
   "execution_count": 13,
   "metadata": {},
   "outputs": [
    {
     "data": {
      "text/plain": [
       "2.000000045899457"
      ]
     },
     "execution_count": 13,
     "metadata": {},
     "output_type": "execute_result"
    }
   ],
   "source": [
    "from scipy.optimize import minimize_scalar\n",
    "def f(x):\n",
    "    return np.sqrt(4+x**2) + np.sqrt((3-x)**2 + 1)\n",
    "res = minimize_scalar(f)\n",
    "res.x"
   ]
  },
  {
   "cell_type": "code",
   "execution_count": 12,
   "metadata": {},
   "outputs": [
    {
     "name": "stdout",
     "output_type": "stream",
     "text": [
      "4.242640687119286\n"
     ]
    }
   ],
   "source": [
    "a = np.array([2,2]); b = np.array([1,1])\n",
    "print(norm(a) + norm(b))"
   ]
  },
  {
   "cell_type": "code",
   "execution_count": null,
   "metadata": {},
   "outputs": [],
   "source": []
  },
  {
   "cell_type": "code",
   "execution_count": null,
   "metadata": {},
   "outputs": [],
   "source": []
  },
  {
   "cell_type": "code",
   "execution_count": 35,
   "metadata": {
    "execution": {
     "iopub.execute_input": "2021-05-27T16:12:53.347388Z",
     "iopub.status.busy": "2021-05-27T16:12:53.347027Z",
     "iopub.status.idle": "2021-05-27T16:12:53.372205Z",
     "shell.execute_reply": "2021-05-27T16:12:53.370949Z",
     "shell.execute_reply.started": "2021-05-27T16:12:53.347350Z"
    }
   },
   "outputs": [
    {
     "data": {
      "text/plain": [
       "array([[0.51708995, 1.0341799 , 1.55126985, 3.03654779, 3.79568474,\n",
       "        4.95964201, 5.78624902]])"
      ]
     },
     "execution_count": 35,
     "metadata": {},
     "output_type": "execute_result"
    }
   ],
   "source": [
    "p = 7\n",
    "starts, ends = [0, 3, 5], [2, 4, 6]\n",
    "r = OGL1(Lambda=5, dim=p, starts=starts, ends=ends)\n",
    "xk = 1.0* np.array([1, 2, 3, 4, 5, 6, 7]).reshape(-1, 1)\n",
    "gradfxk = 0.1 * np.array([1, 2, 3, 4, 5, 6, 7]).reshape(-1, 1)\n",
    "alphak = 0.2\n",
    "uk = xk - alphak * gradfxk\n",
    "\n",
    "proximal = np.zeros_like(xk)\n",
    "for i in range(len(starts)):\n",
    "    start, end = r.starts[i], r.ends[i]\n",
    "    ukg = uk[start:end]\n",
    "    ukg_norm = np.sqrt(np.dot(ukg.T, ukg))[0][0]\n",
    "    if ukg_norm != 0:\n",
    "        temp = 1 - ((r.Lambda_group[i] * alphak) / ukg_norm)\n",
    "    else:\n",
    "        temp = -1\n",
    "    proximal[start:end] = max(temp, 0) * ukg\n",
    "proximal.T"
   ]
  },
  {
   "cell_type": "code",
   "execution_count": 50,
   "metadata": {
    "execution": {
     "iopub.execute_input": "2021-05-27T18:24:02.160447Z",
     "iopub.status.busy": "2021-05-27T18:24:02.160192Z",
     "iopub.status.idle": "2021-05-27T18:24:02.171284Z",
     "shell.execute_reply": "2021-05-27T18:24:02.169984Z",
     "shell.execute_reply.started": "2021-05-27T18:24:02.160420Z"
    }
   },
   "outputs": [
    {
     "data": {
      "text/plain": [
       "0.0"
      ]
     },
     "execution_count": 50,
     "metadata": {},
     "output_type": "execute_result"
    }
   ],
   "source": [
    "temp = (proximal - uk) / alphak\n",
    "dual_norm = r.dual(temp)\n",
    "y = min(1, 1 / dual_norm) * temp\n",
    "temp2 = proximal - uk\n",
    "rproximal = 0\n",
    "for i in range(3):\n",
    "    start, end = r.starts[i], r.ends[i]\n",
    "    proximalg = proximal[start:end]\n",
    "    temp3 = np.sqrt(np.sum(proximalg*proximalg))\n",
    "    rproximal += r.Lambda_group[i] * temp3\n",
    "primal = np.dot(temp2.T, temp2)[0][0] / (2 * alphak) + rproximal\n",
    "dual_negative = ((alphak / 2) * (np.dot(y.T, y)) + np.dot(uk.T, y))[0][0]\n",
    "primal + dual_negative"
   ]
  },
  {
   "cell_type": "code",
   "execution_count": 52,
   "metadata": {
    "execution": {
     "iopub.execute_input": "2021-05-27T18:25:14.398009Z",
     "iopub.status.busy": "2021-05-27T18:25:14.397767Z",
     "iopub.status.idle": "2021-05-27T18:25:14.868296Z",
     "shell.execute_reply": "2021-05-27T18:25:14.867544Z",
     "shell.execute_reply.started": "2021-05-27T18:25:14.397983Z"
    }
   },
   "outputs": [
    {
     "data": {
      "text/plain": [
       "0.0"
      ]
     },
     "execution_count": 52,
     "metadata": {},
     "output_type": "execute_result"
    }
   ],
   "source": [
    "temp = (proximal - uk) / alphak\n",
    "dual_norm = r.dual(temp)\n",
    "y = min(1, 1 / dual_norm) * temp\n",
    "temp2 = proximal - uk\n",
    "primal = np.dot(temp2.T, temp2)[0][0] / (2 * alphak) + r.func_ub(proximal)\n",
    "dual_negative = ((alphak / 2) * (np.dot(y.T, y)) + np.dot(uk.T, y))[0][0]\n",
    "primal + dual_negative"
   ]
  }
 ],
 "metadata": {
  "kernelspec": {
   "display_name": "Python 3",
   "language": "python",
   "name": "python3"
  },
  "language_info": {
   "codemirror_mode": {
    "name": "ipython",
    "version": 3
   },
   "file_extension": ".py",
   "mimetype": "text/x-python",
   "name": "python",
   "nbconvert_exporter": "python",
   "pygments_lexer": "ipython3",
   "version": "3.7.6"
  }
 },
 "nbformat": 4,
 "nbformat_minor": 4
}
