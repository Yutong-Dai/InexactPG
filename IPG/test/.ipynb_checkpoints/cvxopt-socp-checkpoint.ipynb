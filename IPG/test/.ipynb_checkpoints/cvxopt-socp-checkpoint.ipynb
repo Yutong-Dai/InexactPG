{
 "cells": [
  {
   "cell_type": "code",
   "execution_count": 5,
   "metadata": {},
   "outputs": [],
   "source": [
    "from cvxopt import matrix, solvers, spmatrix\n",
    "import numpy as np\n",
    "import sys\n",
    "sys.path.append(\"../\")\n",
    "from src.utils import GenOverlapGroup\n",
    "from src.regularizer import OGL1"
   ]
  },
  {
   "cell_type": "code",
   "execution_count": 6,
   "metadata": {},
   "outputs": [
    {
     "name": "stdout",
     "output_type": "stream",
     "text": [
      "The actual number of group is 198\n"
     ]
    },
    {
     "data": {
      "text/plain": [
       "9900.677991669461"
      ]
     },
     "execution_count": 6,
     "metadata": {},
     "output_type": "execute_result"
    }
   ],
   "source": [
    "p = int(1e4); ngrp=200; grp_size=200\n",
    "generator = GenOverlapGroup(p, ngrp, grp_size)\n",
    "starts, ends = generator.get_group()\n",
    "r = OGL1(Lambda=1, dim=p, starts=starts, ends=ends)\n",
    "np.random.seed(10)\n",
    "X = np.random.randn(p,1)\n",
    "rX = r.func_ub(X)\n",
    "rX"
   ]
  },
  {
   "cell_type": "code",
   "execution_count": 7,
   "metadata": {},
   "outputs": [],
   "source": [
    "w = r.Lambda_group\n",
    "def create_Gi(start,end,size):\n",
    "    nnz = end - start + 1\n",
    "    return spmatrix(-1.0, I=[1]*nnz, J=range(start, end+1), size=size).T\n",
    "def create_hi(wi):\n",
    "    return matrix([[wi],[0]]).T\n",
    "Gs = []\n",
    "hs = []\n",
    "for i in range(len(starts)):\n",
    "    Gs.append(create_Gi(starts[i],ends[i],(2,p)))\n",
    "    hs.append(create_hi(w[i]))"
   ]
  },
  {
   "cell_type": "code",
   "execution_count": null,
   "metadata": {},
   "outputs": [],
   "source": []
  },
  {
   "cell_type": "code",
   "execution_count": null,
   "metadata": {},
   "outputs": [],
   "source": []
  },
  {
   "cell_type": "code",
   "execution_count": null,
   "metadata": {},
   "outputs": [],
   "source": []
  },
  {
   "cell_type": "code",
   "execution_count": null,
   "metadata": {},
   "outputs": [],
   "source": []
  },
  {
   "cell_type": "code",
   "execution_count": 2,
   "metadata": {},
   "outputs": [],
   "source": [
    "p = int(1e2); ngrp=20; grp_size=10\n",
    "generator = GenOverlapGroup(p, ngrp, grp_size)\n",
    "starts, ends = generator.get_group()"
   ]
  },
  {
   "cell_type": "code",
   "execution_count": 3,
   "metadata": {},
   "outputs": [
    {
     "name": "stdout",
     "output_type": "stream",
     "text": [
      "The actual number of group is 198\n"
     ]
    }
   ],
   "source": [
    "p = int(1e3); ngrp=200; grp_size=20\n",
    "generator = GenOverlapGroup(p, ngrp, grp_size)\n",
    "starts, ends = generator.get_group()"
   ]
  },
  {
   "cell_type": "code",
   "execution_count": null,
   "metadata": {},
   "outputs": [],
   "source": []
  },
  {
   "cell_type": "code",
   "execution_count": null,
   "metadata": {},
   "outputs": [],
   "source": []
  }
 ],
 "metadata": {
  "kernelspec": {
   "display_name": "Python 3",
   "language": "python",
   "name": "python3"
  },
  "language_info": {
   "codemirror_mode": {
    "name": "ipython",
    "version": 3
   },
   "file_extension": ".py",
   "mimetype": "text/x-python",
   "name": "python",
   "nbconvert_exporter": "python",
   "pygments_lexer": "ipython3",
   "version": "3.7.7"
  }
 },
 "nbformat": 4,
 "nbformat_minor": 4
}
