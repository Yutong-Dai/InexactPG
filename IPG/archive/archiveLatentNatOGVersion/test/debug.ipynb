{
 "cells": [
  {
   "cell_type": "code",
   "execution_count": 1,
   "metadata": {
    "execution": {
     "iopub.execute_input": "2021-05-27T15:50:23.045804Z",
     "iopub.status.busy": "2021-05-27T15:50:23.045355Z",
     "iopub.status.idle": "2021-05-27T15:50:25.964912Z",
     "shell.execute_reply": "2021-05-27T15:50:25.963656Z",
     "shell.execute_reply.started": "2021-05-27T15:50:23.045699Z"
    }
   },
   "outputs": [],
   "source": [
    "import sys\n",
    "import numpy as np\n",
    "from numba import jit\n",
    "sys.path.append(\"../\")\n",
    "from src.utils import GenOverlapGroup\n",
    "from src.regularizer import OGL1"
   ]
  },
  {
   "cell_type": "code",
   "execution_count": 2,
   "metadata": {},
   "outputs": [
    {
     "name": "stdout",
     "output_type": "stream",
     "text": [
      "[0, 1, 2, 3, 4]\n",
      "[1, 2, 3, 4, 5]\n",
      "[2, 3, 4, 5, 6]\n"
     ]
    }
   ],
   "source": [
    "p = 7\n",
    "generator = GenOverlapGroup(p, 3, 5)\n",
    "starts, ends = generator.get_group()\n",
    "index = [*range(p)]\n",
    "for i in range(len(starts)):\n",
    "    print(index[starts[i]:ends[i]+1])"
   ]
  },
  {
   "cell_type": "code",
   "execution_count": 3,
   "metadata": {},
   "outputs": [
    {
     "data": {
      "text/plain": [
       "([0, 1, 2], [4, 5, 6])"
      ]
     },
     "execution_count": 3,
     "metadata": {},
     "output_type": "execute_result"
    }
   ],
   "source": [
    "starts, ends"
   ]
  },
  {
   "cell_type": "code",
   "execution_count": 6,
   "metadata": {},
   "outputs": [
    {
     "name": "stdout",
     "output_type": "stream",
     "text": [
      "61.79562331502589\n",
      "85.26358866489885\n",
      "56.40301410385796\n"
     ]
    }
   ],
   "source": [
    "r = OGL1(Lambda=1, dim=p, starts=starts, ends=ends)\n",
    "X = np.array([1.0, 4.2, 9.3, 12.6, 15.9, 8.4, 7.0]).reshape(-1,1)\n",
    "print(r.func_ub(X,approx=1))\n",
    "print(r.func_ub(X.copy(), approx=2))\n",
    "print(r.func_lb(X))"
   ]
  },
  {
   "cell_type": "code",
   "execution_count": 7,
   "metadata": {},
   "outputs": [
    {
     "data": {
      "text/plain": [
       "array([2.23606798, 2.23606798, 2.23606798])"
      ]
     },
     "execution_count": 7,
     "metadata": {},
     "output_type": "execute_result"
    }
   ],
   "source": [
    "r.Lambda_group"
   ]
  },
  {
   "cell_type": "code",
   "execution_count": 15,
   "metadata": {},
   "outputs": [
    {
     "name": "stdout",
     "output_type": "stream",
     "text": [
      "9912.433804364251\n",
      "19485.532211739825\n",
      "1399.614867848165\n"
     ]
    }
   ],
   "source": [
    "p = int(1e4); ngrp=200; grp_size=200\n",
    "generator = GenOverlapGroup(p, ngrp, grp_size)\n",
    "starts, ends = generator.get_group()\n",
    "r = OGL1(Lambda=1, dim=p, starts=starts, ends=ends)\n",
    "np.random.seed(10)\n",
    "X = np.random.randn(p,1)\n",
    "print(r.func_ub(X, approx=1))\n",
    "print(r.func_ub(X.copy(), approx=2))\n",
    "print(r.func_lb(X))"
   ]
  },
  {
   "cell_type": "code",
   "execution_count": null,
   "metadata": {},
   "outputs": [],
   "source": [
    "import numpy as np\n",
    "from numpy.linalg import norm\n",
    "a = np.array([2,3]); b = np.array([0,1])\n",
    "print(norm(a) + norm(b))\n",
    "a = np.array([2,0]); b = np.array([3,1])\n",
    "print(norm(a) + norm(b))\n",
    "a = np.array([2,3/2]); b = np.array([3/2,1])\n",
    "print(norm(a) + norm(b))\n",
    "print(\"===\")\n",
    "print(norm(np.array([2,3,1])))"
   ]
  },
  {
   "cell_type": "code",
   "execution_count": 25,
   "metadata": {},
   "outputs": [
    {
     "name": "stdout",
     "output_type": "stream",
     "text": [
      "4.60555127546399\n",
      "5.16227766016838\n",
      "4.302775637731995\n",
      "===\n",
      "3.7416573867739413\n"
     ]
    }
   ],
   "source": [
    "import numpy as np\n",
    "from numpy.linalg import norm\n",
    "a = np.array([2,3]); b = np.array([0,1])\n",
    "print(norm(a) + norm(b))\n",
    "a = np.array([2,0]); b = np.array([3,1])\n",
    "print(norm(a) + norm(b))\n",
    "a = np.array([2,3/2]); b = np.array([3/2,1])\n",
    "print(norm(a) + norm(b))\n",
    "print(\"===\")\n",
    "print(norm(np.array([2,3,1])))"
   ]
  },
  {
   "cell_type": "code",
   "execution_count": 13,
   "metadata": {},
   "outputs": [
    {
     "data": {
      "text/plain": [
       "2.000000045899457"
      ]
     },
     "execution_count": 13,
     "metadata": {},
     "output_type": "execute_result"
    }
   ],
   "source": [
    "from scipy.optimize import minimize_scalar\n",
    "def f(x):\n",
    "    return np.sqrt(4+x**2) + np.sqrt((3-x)**2 + 1)\n",
    "res = minimize_scalar(f)\n",
    "res.x"
   ]
  },
  {
   "cell_type": "code",
   "execution_count": 12,
   "metadata": {},
   "outputs": [
    {
     "name": "stdout",
     "output_type": "stream",
     "text": [
      "4.242640687119286\n"
     ]
    }
   ],
   "source": [
    "a = np.array([2,2]); b = np.array([1,1])\n",
    "print(norm(a) + norm(b))"
   ]
  },
  {
   "cell_type": "code",
   "execution_count": null,
   "metadata": {},
   "outputs": [],
   "source": []
  },
  {
   "cell_type": "code",
   "execution_count": null,
   "metadata": {},
   "outputs": [],
   "source": []
  },
  {
   "cell_type": "code",
   "execution_count": 63,
   "metadata": {
    "execution": {
     "iopub.execute_input": "2021-05-27T20:03:03.330367Z",
     "iopub.status.busy": "2021-05-27T20:03:03.328018Z",
     "iopub.status.idle": "2021-05-27T20:03:03.391581Z",
     "shell.execute_reply": "2021-05-27T20:03:03.390131Z",
     "shell.execute_reply.started": "2021-05-27T20:03:03.330088Z"
    }
   },
   "outputs": [
    {
     "data": {
      "text/plain": [
       "array([[0.        , 0.        , 0.        , 0.38619117, 0.48273896,\n",
       "        2.19856805, 2.56499606]])"
      ]
     },
     "execution_count": 63,
     "metadata": {},
     "output_type": "execute_result"
    }
   ],
   "source": [
    "p = 7\n",
    "starts, ends = [0, 3, 5], [2, 4, 6]\n",
    "r = OGL1(Lambda=20, dim=p, starts=starts, ends=ends)\n",
    "xk = 1.0* np.array([1, 2, 3, 4, 5, 6, 7]).reshape(-1, 1)\n",
    "gradfxk = 0.1 * np.array([1, 2, 3, 4, 5, 6, 7]).reshape(-1, 1)\n",
    "alphak = 0.2\n",
    "uk = xk - alphak * gradfxk\n",
    "\n",
    "proximal = np.zeros_like(xk)\n",
    "for i in range(len(starts)):\n",
    "    start, end = r.starts[i], r.ends[i]\n",
    "    ukg = uk[start:end]\n",
    "    ukg_norm = np.sqrt(np.dot(ukg.T, ukg))[0][0]\n",
    "    if ukg_norm != 0:\n",
    "        temp = 1 - ((r.Lambda_group[i] * alphak) / ukg_norm)\n",
    "    else:\n",
    "        temp = -1\n",
    "    proximal[start:end] = max(temp, 0) * ukg\n",
    "proximal.T"
   ]
  },
  {
   "cell_type": "code",
   "execution_count": null,
   "metadata": {},
   "outputs": [],
   "source": [
    "0.517089950113724   1.034179900227449   1.551269850341173   3.036547791401228   3.795684739251535   4.959642013383156 5.786249015613682\n"
   ]
  },
  {
   "cell_type": "code",
   "execution_count": 50,
   "metadata": {
    "execution": {
     "iopub.execute_input": "2021-05-27T18:24:02.160447Z",
     "iopub.status.busy": "2021-05-27T18:24:02.160192Z",
     "iopub.status.idle": "2021-05-27T18:24:02.171284Z",
     "shell.execute_reply": "2021-05-27T18:24:02.169984Z",
     "shell.execute_reply.started": "2021-05-27T18:24:02.160420Z"
    }
   },
   "outputs": [
    {
     "data": {
      "text/plain": [
       "0.0"
      ]
     },
     "execution_count": 50,
     "metadata": {},
     "output_type": "execute_result"
    }
   ],
   "source": [
    "temp = (proximal - uk) / alphak\n",
    "dual_norm = r.dual(temp)\n",
    "y = min(1, 1 / dual_norm) * temp\n",
    "temp2 = proximal - uk\n",
    "rproximal = 0\n",
    "for i in range(3):\n",
    "    start, end = r.starts[i], r.ends[i]\n",
    "    proximalg = proximal[start:end]\n",
    "    temp3 = np.sqrt(np.sum(proximalg*proximalg))\n",
    "    rproximal += r.Lambda_group[i] * temp3\n",
    "primal = np.dot(temp2.T, temp2)[0][0] / (2 * alphak) + rproximal\n",
    "dual_negative = ((alphak / 2) * (np.dot(y.T, y)) + np.dot(uk.T, y))[0][0]\n",
    "primal + dual_negative"
   ]
  },
  {
   "cell_type": "code",
   "execution_count": 52,
   "metadata": {
    "execution": {
     "iopub.execute_input": "2021-05-27T18:25:14.398009Z",
     "iopub.status.busy": "2021-05-27T18:25:14.397767Z",
     "iopub.status.idle": "2021-05-27T18:25:14.868296Z",
     "shell.execute_reply": "2021-05-27T18:25:14.867544Z",
     "shell.execute_reply.started": "2021-05-27T18:25:14.397983Z"
    }
   },
   "outputs": [
    {
     "data": {
      "text/plain": [
       "0.0"
      ]
     },
     "execution_count": 52,
     "metadata": {},
     "output_type": "execute_result"
    }
   ],
   "source": [
    "temp = (proximal - uk) / alphak\n",
    "dual_norm = r.dual(temp)\n",
    "y = min(1, 1 / dual_norm) * temp\n",
    "temp2 = proximal - uk\n",
    "primal = np.dot(temp2.T, temp2)[0][0] / (2 * alphak) + r.func_ub(proximal)\n",
    "dual_negative = ((alphak / 2) * (np.dot(y.T, y)) + np.dot(uk.T, y))[0][0]\n",
    "primal + dual_negative"
   ]
  },
  {
   "cell_type": "code",
   "execution_count": 62,
   "metadata": {
    "execution": {
     "iopub.execute_input": "2021-05-27T19:37:14.533661Z",
     "iopub.status.busy": "2021-05-27T19:37:14.533430Z",
     "iopub.status.idle": "2021-05-27T19:37:14.542835Z",
     "shell.execute_reply": "2021-05-27T19:37:14.541763Z",
     "shell.execute_reply.started": "2021-05-27T19:37:14.533636Z"
    }
   },
   "outputs": [
    {
     "data": {
      "text/plain": [
       "array([[0.51708995, 1.0341799 , 1.55126985, 3.03654779, 3.79568474,\n",
       "        4.95964201, 5.78624902]])"
      ]
     },
     "execution_count": 62,
     "metadata": {},
     "output_type": "execute_result"
    }
   ],
   "source": [
    "vk = np.zeros_like(uk)\n",
    "for i in range(3):\n",
    "    start, end = r.starts[i], r.ends[i]\n",
    "    ukg = uk[start:end]\n",
    "    ukg_norm = np.sqrt(np.sum(ukg*ukg))\n",
    "    vk[start:end] = (r.Lambda_group[i]* alphak/ukg_norm) * ukg\n",
    "(uk-vk).T"
   ]
  },
  {
   "cell_type": "code",
   "execution_count": 60,
   "metadata": {
    "execution": {
     "iopub.execute_input": "2021-05-27T19:29:22.041687Z",
     "iopub.status.busy": "2021-05-27T19:29:22.041401Z",
     "iopub.status.idle": "2021-05-27T19:29:22.052800Z",
     "shell.execute_reply": "2021-05-27T19:29:22.051740Z",
     "shell.execute_reply.started": "2021-05-27T19:29:22.041658Z"
    }
   },
   "outputs": [
    {
     "data": {
      "text/plain": [
       "array([[2.31455025, 4.6291005 , 6.94365075, 4.41726104, 5.5215763 ,\n",
       "        4.60178993, 5.36875492]])"
      ]
     },
     "execution_count": 60,
     "metadata": {},
     "output_type": "execute_result"
    }
   ],
   "source": [
    "vk.T"
   ]
  },
  {
   "cell_type": "code",
   "execution_count": 61,
   "metadata": {
    "execution": {
     "iopub.execute_input": "2021-05-27T19:29:37.254813Z",
     "iopub.status.busy": "2021-05-27T19:29:37.254451Z",
     "iopub.status.idle": "2021-05-27T19:29:37.263362Z",
     "shell.execute_reply": "2021-05-27T19:29:37.262264Z",
     "shell.execute_reply.started": "2021-05-27T19:29:37.254770Z"
    }
   },
   "outputs": [
    {
     "data": {
      "text/plain": [
       "array([[0.46291005, 0.9258201 , 1.38873015, 0.88345221, 1.10431526,\n",
       "        0.92035799, 1.07375098]])"
      ]
     },
     "execution_count": 61,
     "metadata": {},
     "output_type": "execute_result"
    }
   ],
   "source": [
    "(uk - proximal).T"
   ]
  },
  {
   "cell_type": "code",
   "execution_count": 1,
   "metadata": {},
   "outputs": [],
   "source": [
    "import numpy as np\n",
    "from numpy.linalg import norm"
   ]
  },
  {
   "cell_type": "code",
   "execution_count": 20,
   "metadata": {},
   "outputs": [],
   "source": [
    "def check_feasibility(z, starts, ends, bounds):\n",
    "    for i in range(len(starts)):\n",
    "        start, end = starts[i], ends[i]\n",
    "        zg = z[start:end]\n",
    "        zg_norm = np.sqrt(np.sum(zg*zg))\n",
    "        if zg_norm > bounds[i]:\n",
    "            z[start:end] = (bounds[i]/zg_norm) * zg\n",
    "    return z\n"
   ]
  },
  {
   "cell_type": "code",
   "execution_count": 24,
   "metadata": {},
   "outputs": [
    {
     "data": {
      "text/plain": [
       "array([3.        , 1.2493901 , 1.56173762])"
      ]
     },
     "execution_count": 24,
     "metadata": {},
     "output_type": "execute_result"
    }
   ],
   "source": [
    "z = np.array([3.0,4.0,5.0])\n",
    "starts = [0,1]\n",
    "ends = [2,3]\n",
    "check_feasibility(z, starts, ends, [5, 2])"
   ]
  },
  {
   "cell_type": "code",
   "execution_count": 18,
   "metadata": {},
   "outputs": [],
   "source": [
    "class GenOverlapGroup:\n",
    "    def __init__(self, dim, num_grp=None, grp_size=None, overlap_ratio=None):\n",
    "        self.dim = dim\n",
    "        self.num_grp = num_grp\n",
    "        self.grp_size = grp_size\n",
    "        self.overlap_ratio = overlap_ratio\n",
    "\n",
    "    def get_group(self):\n",
    "        if self.num_grp is not None and self.grp_size is not None:\n",
    "            if self.grp_size * self.num_grp <= self.dim:\n",
    "                raise ValueError(\"grp_size is too small to have overlapping.\")\n",
    "            if self.grp_size >= self.dim:\n",
    "                raise ValueError(\"grp_size is too large that each group has all variables.\")\n",
    "            exceed = self.num_grp * self.grp_size - self.dim\n",
    "            overlap_per_group = int(exceed / (self.num_grp - 1))\n",
    "            starts = [0] * self.num_grp\n",
    "            ends = [0] * self.num_grp\n",
    "            for i in range(self.num_grp):\n",
    "                if i == 0:\n",
    "                    start = 0\n",
    "                    end = start + self.grp_size - 1\n",
    "                else:\n",
    "                    start = end - overlap_per_group + 1\n",
    "                    end = min(start + self.grp_size - 1, self.dim - 1)\n",
    "                    if start == starts[i - 1] and end == ends[i - 1]:\n",
    "                        self.num_grp = i\n",
    "                        print(f\"The actual number of group is {self.num_grp}\")\n",
    "                        break\n",
    "                starts[i] = start\n",
    "                ends[i] = end\n",
    "            return starts[:i + 1], ends[:i + 1]\n",
    "        elif self.grp_size is not None and self.overlap_ratio is not None:\n",
    "            if self.grp_size >= self.dim:\n",
    "                raise ValueError(\"grp_size is too large that each group has all variables.\")\n",
    "            overlap = int(self.grp_size * self.overlap_ratio)\n",
    "            if overlap < 1:\n",
    "                msg = \"current config of grp_size and overlap_ratio cannot produce overlapping groups.\\n\"\n",
    "                msg += \"overlap_ratio is adjusted to have at least one overlap.\"\n",
    "                warnings.warn(msg)\n",
    "                overlap = 1\n",
    "            starts = []\n",
    "            ends = []\n",
    "            self.num_grp = 0\n",
    "            start = 0\n",
    "            end = self.grp_size - 1\n",
    "            while True:\n",
    "                print(start, end)\n",
    "                starts.append(start)\n",
    "                ends.append(end)\n",
    "                self.num_grp += 1\n",
    "                # update\n",
    "                start = end - (overlap - 1)\n",
    "                end = min(start + self.grp_size - 1, self.dim - 1)\n",
    "                if end == ends[-1]:\n",
    "                    break\n",
    "            \n",
    "            return starts, ends\n",
    "        else:\n",
    "            raise ValueError(\"check your inputs!\")"
   ]
  },
  {
   "cell_type": "code",
   "execution_count": 20,
   "metadata": {
    "tags": []
   },
   "outputs": [
    {
     "name": "stdout",
     "output_type": "stream",
     "text": [
      "0 29\n",
      "6 35\n",
      "12 41\n",
      "18 47\n",
      "24 53\n",
      "30 59\n",
      "36 65\n",
      "42 71\n",
      "48 77\n",
      "54 83\n",
      "60 89\n",
      "66 95\n",
      "72 99\n"
     ]
    },
    {
     "data": {
      "text/plain": [
       "([0, 6, 12, 18, 24, 30, 36, 42, 48, 54, 60, 66, 72],\n",
       " [29, 35, 41, 47, 53, 59, 65, 71, 77, 83, 89, 95, 99])"
      ]
     },
     "execution_count": 20,
     "metadata": {},
     "output_type": "execute_result"
    }
   ],
   "source": [
    "gen = GenOverlapGroup(100, grp_size=30, overlap_ratio=0.8)\n",
    "gen.get_group()"
   ]
  },
  {
   "cell_type": "code",
   "execution_count": 13,
   "metadata": {},
   "outputs": [],
   "source": [
    "import sys\n",
    "import numpy as np\n",
    "from numba import jit\n",
    "sys.path.append(\"../\")\n",
    "from src.utils import GenOverlapGroup"
   ]
  },
  {
   "cell_type": "code",
   "execution_count": 36,
   "metadata": {},
   "outputs": [],
   "source": [
    "class natOG:\n",
    "    def __init__(self, Lambda, dim, starts, ends):\n",
    "        \"\"\"\n",
    "        Lambda: scalar > 0\n",
    "        starts: a list of numbers speficy the starting index of each group\n",
    "          ends: a list of numbers speficy the end index of each group\n",
    "\n",
    "        For example, a overlapping group configuration, the number stands for\n",
    "        the index of the variable.\n",
    "        {g0=[0,1,2,3,4],g1=[3,4,5,6,7], g2=[5,6,7,8,9]}\n",
    "        stars = [0, 3, 5]\n",
    "        ends  = [4, 7, 9]\n",
    "        \"\"\"\n",
    "        self.p = dim\n",
    "        self.Lambda = Lambda\n",
    "        self.K = len(starts)\n",
    "        # a np.array that stores the number of group that each coordinate belongs to\n",
    "        # self.freq = np.zeros((self.p, 1))\n",
    "        self.group_size = np.zeros(self.K, dtype=np.int64)\n",
    "        self.groups = {}\n",
    "        for i in range(self.K):\n",
    "            # self.freq[starts[i]:ends[i] + 1] += 1\n",
    "            self.group_size[i] = ends[i] - starts[i] + 1\n",
    "            self.groups[i] = np.arange(starts[i], ends[i] + 1)\n",
    "        self.Lambda_group = Lambda * np.sqrt(self.group_size)\n",
    "        self.starts = np.array(starts)\n",
    "        # since python `start:end` will include `start` and exclude `end`,\n",
    "        # we add 1 to the `end` so the G_i-th block of X is indexed by X[start:end]\n",
    "        self.ends = np.array(ends) + 1\n",
    "\n",
    "    def __str__(self):\n",
    "        return(\"Natural Overlapping Group L1\")\n",
    "\n",
    "    def func(self, X):\n",
    "        return _natf(X, self.starts, self.ends, self.Lambda_group)\n",
    "\n",
    "    def createYStartsEnds(self):\n",
    "        self.Ystarts = [0] * self.K\n",
    "        self.Yends = [0] * self.K\n",
    "        start = 0\n",
    "        for i in range(self.K):\n",
    "            end = start + self.group_size[i] - 1\n",
    "            self.Ystarts[i] = start\n",
    "            self.Yends[i] = end + 1\n",
    "            start = end + 1"
   ]
  },
  {
   "cell_type": "code",
   "execution_count": 37,
   "metadata": {},
   "outputs": [
    {
     "name": "stdout",
     "output_type": "stream",
     "text": [
      "0 4\n",
      "4 8\n",
      "8 12\n",
      "12 16\n",
      "16 20\n",
      "20 24\n",
      "24 28\n",
      "28 29\n"
     ]
    }
   ],
   "source": [
    "p = 30\n",
    "grp_size = 5\n",
    "overlap_ratio = 0.2\n",
    "generator = GenOverlapGroup(p, grp_size=grp_size,overlap_ratio=overlap_ratio)\n",
    "starts, ends = generator.get_group()\n",
    "for i in range(len(starts)):\n",
    "    print(starts[i], ends[i])"
   ]
  },
  {
   "cell_type": "code",
   "execution_count": 38,
   "metadata": {},
   "outputs": [],
   "source": [
    "r = natOG(1, p, starts, ends)\n",
    "r.createYStartsEnds()"
   ]
  },
  {
   "cell_type": "code",
   "execution_count": 44,
   "metadata": {},
   "outputs": [
    {
     "name": "stdout",
     "output_type": "stream",
     "text": [
      "0 5\n",
      "0 5\n",
      "====\n",
      "4 9\n",
      "5 10\n",
      "====\n",
      "8 13\n",
      "10 15\n",
      "====\n",
      "12 17\n",
      "15 20\n",
      "====\n",
      "16 21\n",
      "20 25\n",
      "====\n",
      "20 25\n",
      "25 30\n",
      "====\n",
      "24 29\n",
      "30 35\n",
      "====\n",
      "28 30\n",
      "35 37\n",
      "====\n"
     ]
    }
   ],
   "source": [
    "for i in range(r.K):\n",
    "    print(r.starts[i], r.ends[i])\n",
    "    print(r.Ystarts[i], r.Yends[i])\n",
    "    print(\"====\")"
   ]
  },
  {
   "cell_type": "code",
   "execution_count": 43,
   "metadata": {},
   "outputs": [
    {
     "data": {
      "text/plain": [
       "(5, 5)"
      ]
     },
     "execution_count": 43,
     "metadata": {},
     "output_type": "execute_result"
    }
   ],
   "source": [
    "r.ends[1]- r.starts[1],  r.Yends[1]- r.Ystarts[1]"
   ]
  },
  {
   "cell_type": "code",
   "execution_count": 35,
   "metadata": {},
   "outputs": [
    {
     "data": {
      "text/plain": [
       "(array([  2, 100,  -1]), array([  2, 100,  -1]))"
      ]
     },
     "execution_count": 35,
     "metadata": {},
     "output_type": "execute_result"
    }
   ],
   "source": [
    "def changeU(u):\n",
    "    u[0] = 2\n",
    "    return u\n",
    "u = np.array([1,100,-1])\n",
    "changeU(u), u"
   ]
  },
  {
   "cell_type": "code",
   "execution_count": 45,
   "metadata": {},
   "outputs": [
    {
     "data": {
      "text/plain": [
       "(array([ True, False,  True]), array([ True,  True,  True,  True]))"
      ]
     },
     "execution_count": 45,
     "metadata": {},
     "output_type": "execute_result"
    }
   ],
   "source": [
    "np.array([0.0,1.0,0.0]) == 0.0, np.full(4, True)"
   ]
  },
  {
   "cell_type": "code",
   "execution_count": 100,
   "metadata": {},
   "outputs": [
    {
     "name": "stdout",
     "output_type": "stream",
     "text": [
      "[[3 0 2]\n",
      " [0 0 6]\n",
      " [4 1 7]\n",
      " [9 1 0]]\n",
      "[[0 2]\n",
      " [1 7]]\n",
      "[[3 0 2]\n",
      " [0 0 6]\n",
      " [4 1 7]\n",
      " [9 1 0]]\n"
     ]
    }
   ],
   "source": [
    "from scipy.sparse import csc_matrix\n",
    "\n",
    "row = np.array([0, 2, 2, 0, 1, 2,3,3])\n",
    "col = np.array([0, 0, 1, 2, 2, 2,0,1])\n",
    "data = np.array([3, 4, 1, 2, 6, 7,9,1])\n",
    "Y = csc_matrix((data, (row, col)), shape=(4, 3))\n",
    "print(Y.toarray())\n",
    "row_sub = np.arange(4)[np.array([True, False, True, False]).reshape(-1,1).reshape(-1)].reshape(-1,1)\n",
    "col_sub = np.array([False, True, True])\n",
    "Ysub = Y[row_sub, col_sub]\n",
    "print(Ysub.toarray())\n",
    "Y[row_sub, col_sub] = csc_matrix((2,2))\n",
    "print(Y.toarray())\n",
    "# indptr = np.array([0, 2, 3, 6])\n",
    "# indices = np.array([0, 2, 2, 0, 1, 2])\n",
    "# data = np.array([1, 2, 3, 4, 5, 6])\n",
    "# csc_matrix((data, indices, indptr), shape=(3, 3)).toarray()\n"
   ]
  },
  {
   "cell_type": "code",
   "execution_count": 86,
   "metadata": {},
   "outputs": [
    {
     "data": {
      "text/plain": [
       "array([[ 7,  8,  9],\n",
       "       [13, 14, 15]])"
      ]
     },
     "execution_count": 86,
     "metadata": {},
     "output_type": "execute_result"
    }
   ],
   "source": [
    "A = np.arange(24).reshape(4,6)\n",
    "M=csc_matrix(A)\n",
    "A[[[1],[2]],[1,2,3]]"
   ]
  },
  {
   "cell_type": "code",
   "execution_count": 89,
   "metadata": {},
   "outputs": [
    {
     "data": {
      "text/plain": [
       "array([[ 7,  8,  9],\n",
       "       [13, 14, 15]], dtype=int64)"
      ]
     },
     "execution_count": 89,
     "metadata": {},
     "output_type": "execute_result"
    }
   ],
   "source": [
    "M[[[1],[2]],[1,2,3]].toarray()"
   ]
  },
  {
   "cell_type": "code",
   "execution_count": 101,
   "metadata": {},
   "outputs": [
    {
     "data": {
      "text/plain": [
       "array([[ 0,  1,  2,  3,  4,  5],\n",
       "       [ 6,  7,  8,  9, 10, 11],\n",
       "       [12, 13, 14, 15, 16, 17],\n",
       "       [18, 19, 20, 21, 22, 23]], dtype=int64)"
      ]
     },
     "execution_count": 101,
     "metadata": {},
     "output_type": "execute_result"
    }
   ],
   "source": [
    "M.A"
   ]
  },
  {
   "cell_type": "code",
   "execution_count": 10,
   "metadata": {},
   "outputs": [],
   "source": [
    "from scipy.sparse import csc_matrix\n",
    "import numpy as np"
   ]
  },
  {
   "cell_type": "code",
   "execution_count": 39,
   "metadata": {},
   "outputs": [],
   "source": [
    "def create_I(starts, ends, GA):\n",
    "    indices = []\n",
    "    indptr = [0]\n",
    "    num_elements = 0\n",
    "    for j in range(GA):\n",
    "        num_elements +=  ends[j] - starts[j]\n",
    "        indices += list(range(starts[j],ends[j]))\n",
    "        indptr.append(num_elements)\n",
    "    indices = np.array(indices)\n",
    "    indptr = np.array(indptr)\n",
    "    data = np.ones_like(indices)\n",
    "    return data, indices, indptr"
   ]
  },
  {
   "cell_type": "code",
   "execution_count": 40,
   "metadata": {},
   "outputs": [
    {
     "data": {
      "text/plain": [
       "array([[1, 0],\n",
       "       [1, 0],\n",
       "       [1, 0],\n",
       "       [1, 1],\n",
       "       [1, 1],\n",
       "       [0, 1],\n",
       "       [0, 1],\n",
       "       [0, 0]])"
      ]
     },
     "execution_count": 40,
     "metadata": {},
     "output_type": "execute_result"
    }
   ],
   "source": [
    "starts, ends, GA = [0,3], [5,7], 2\n",
    "data, indices, indptr = create_I(starts, ends, GA)\n",
    "I = csc_matrix((data, indices, indptr), shape=(8, 2))\n",
    "I.toarray()"
   ]
  },
  {
   "cell_type": "code",
   "execution_count": 38,
   "metadata": {},
   "outputs": [
    {
     "data": {
      "text/plain": [
       "(array([1, 1, 1, 1, 1, 1, 1, 1, 1]),\n",
       " array([0, 1, 2, 3, 4, 3, 4, 5, 6]),\n",
       " array([0, 5, 4]))"
      ]
     },
     "execution_count": 38,
     "metadata": {},
     "output_type": "execute_result"
    }
   ],
   "source": [
    "data, indices, indptr"
   ]
  },
  {
   "cell_type": "code",
   "execution_count": null,
   "metadata": {},
   "outputs": [],
   "source": [
    "I = np.zeros((self.p, GA))\n",
    "# set up the indicator functio 1{j\\in g}\n",
    "for j in range(GA):\n",
    "    I[starts[j]:ends[j], j] = 1"
   ]
  }
 ],
 "metadata": {
  "interpreter": {
   "hash": "703517ed9bdc81570f26788304b686af16b08fb69c73a3571779325daddaa49b"
  },
  "kernelspec": {
   "display_name": "Python 3",
   "language": "python",
   "name": "python3"
  },
  "language_info": {
   "codemirror_mode": {
    "name": "ipython",
    "version": 3
   },
   "file_extension": ".py",
   "mimetype": "text/x-python",
   "name": "python",
   "nbconvert_exporter": "python",
   "pygments_lexer": "ipython3",
   "version": "3.7.7"
  },
  "metadata": {
   "interpreter": {
    "hash": "aee8b7b246df8f9039afb4144a1f6fd8d2ca17a180786b69acc140d282b71a49"
   }
  }
 },
 "nbformat": 4,
 "nbformat_minor": 4
}
