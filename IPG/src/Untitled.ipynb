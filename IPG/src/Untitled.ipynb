{
 "cells": [
  {
   "cell_type": "code",
   "execution_count": 16,
   "id": "humanitarian-international",
   "metadata": {
    "execution": {
     "iopub.execute_input": "2021-08-27T19:37:30.696519Z",
     "iopub.status.busy": "2021-08-27T19:37:30.696205Z",
     "iopub.status.idle": "2021-08-27T19:37:33.305121Z",
     "shell.execute_reply": "2021-08-27T19:37:33.304391Z",
     "shell.execute_reply.started": "2021-08-27T19:37:30.696466Z"
    }
   },
   "outputs": [],
   "source": [
    "import numpy as np\n",
    "from numpy.linalg import norm, eigh\n",
    "from regularizer import GL1\n",
    "from lossfunction import SimpleQudratic, LogisticLoss\n",
    "from params import *\n",
    "import matplotlib.pyplot as plt\n",
    "import utils\n",
    "from scipy.io import savemat, loadmat\n",
    "import os"
   ]
  },
  {
   "cell_type": "code",
   "execution_count": 2,
   "id": "humanitarian-closure",
   "metadata": {
    "execution": {
     "iopub.execute_input": "2021-08-25T18:15:20.487656Z",
     "iopub.status.busy": "2021-08-25T18:15:20.487099Z",
     "iopub.status.idle": "2021-08-25T18:15:20.502663Z",
     "shell.execute_reply": "2021-08-25T18:15:20.501183Z",
     "shell.execute_reply.started": "2021-08-25T18:15:20.487619Z"
    }
   },
   "outputs": [],
   "source": [
    "def primal(x,uk,alphak):\n",
    "    return (0.5/alphak) * norm(x-uk) ** 2 + r.func(x)\n",
    "def dual(y,uk,alphak):\n",
    "    return -(alphak/2 * norm(y) ** 2 + uk.T@y)\n",
    "def projGL1Ball(y):\n",
    "    yans = y.copy()\n",
    "    projected_group = []\n",
    "    for i in range(r.K):\n",
    "        start, end = r.starts[i], r.ends[i]\n",
    "        y_Gi = y[start:end]\n",
    "        norm_y_Gi = norm(y_Gi)\n",
    "        if norm_y_Gi > r.Lambda_group[i]:\n",
    "            yans[start:end] = (r.Lambda_group[i] / norm_y_Gi) * y_Gi\n",
    "            projected_group.append(i)\n",
    "    return yans, projected_group\n",
    "def prox_gl1(uk):\n",
    "    prox = np.zeros_like(xk)\n",
    "    gradstep = uk\n",
    "    for i in range(len(r.starts)):\n",
    "        start, end = r.starts[i], r.ends[i]\n",
    "        gradstep_Gi = gradstep[start:end]\n",
    "        prox[start:end] = max(0, 1 - (r.Lambda_group[i] * alphak/np.sqrt(np.sum(gradstep_Gi*gradstep_Gi)))) * gradstep_Gi\n",
    "    return prox            "
   ]
  },
  {
   "cell_type": "code",
   "execution_count": 3,
   "id": "devoted-density",
   "metadata": {
    "execution": {
     "iopub.execute_input": "2021-08-25T18:15:20.520358Z",
     "iopub.status.busy": "2021-08-25T18:15:20.519970Z",
     "iopub.status.idle": "2021-08-25T18:15:20.561846Z",
     "shell.execute_reply": "2021-08-25T18:15:20.560769Z",
     "shell.execute_reply.started": "2021-08-25T18:15:20.520308Z"
    }
   },
   "outputs": [
    {
     "name": "stdout",
     "output_type": "stream",
     "text": [
      "Working on: diabetes...\n",
      "loading lammax from: /Users/ym/Documents/GroupFaRSA/db/lammax-diabetes-0.3.mat\n",
      "loading Lipschitz constant from: /Users/ym/Documents/GroupFaRSA/db/Lip-diabetes.mat\n"
     ]
    }
   ],
   "source": [
    "# setup problems\n",
    "loss = 'logit'\n",
    "datasetName = 'diabetes'\n",
    "frac = 0.3; lam_shrink = 0.8\n",
    "fileType = fileTypeDict[datasetName]\n",
    "print(\"Working on: {}...\".format(datasetName))\n",
    "X, y = utils.set_up_xy(datasetName, fileType, dbDir='/Users/ym/Documents/GroupFaRSA/db/')\n",
    "if loss == 'logit':\n",
    "    f = LogisticLoss(X, y, datasetName)\n",
    "\n",
    "p = X.shape[1]\n",
    "num_of_groups = max(int(p * frac), 2)\n",
    "group = utils.gen_group(p, num_of_groups)\n",
    "lammax_path = f'/Users/ym/Documents/GroupFaRSA/db/lammax-{datasetName}-{frac}.mat'\n",
    "Lip_path = f'/Users/ym/Documents/GroupFaRSA/db/Lip-{datasetName}.mat'\n",
    "if os.path.exists(lammax_path):\n",
    "    lammax = loadmat(lammax_path)[\"lammax\"][0][0]\n",
    "    print(f\"loading lammax from: {lammax_path}\")\n",
    "else:\n",
    "    lammax = utils.lam_max(X, y, group, loss)\n",
    "    savemat(lammax_path, {\"lammax\": lammax})\n",
    "    print(f\"save lammax to: {lammax_path}\")\n",
    "if os.path.exists(Lip_path):\n",
    "    L = loadmat(Lip_path)[\"L\"][0][0]\n",
    "    print(f\"loading Lipschitz constant from: {Lip_path}\")\n",
    "else:\n",
    "    L = utils.estimate_lipschitz(X, loss)\n",
    "    savemat(Lip_path, {\"L\": L})\n",
    "    print(f\"save Lipschitz constant to: {Lip_path}\")\n",
    "Lambda = lammax * lam_shrink\n",
    "r = GL1(Lambda=Lambda, group=group)"
   ]
  },
  {
   "cell_type": "code",
   "execution_count": 4,
   "id": "romantic-brazilian",
   "metadata": {
    "execution": {
     "iopub.execute_input": "2021-08-25T18:15:20.575688Z",
     "iopub.status.busy": "2021-08-25T18:15:20.574297Z",
     "iopub.status.idle": "2021-08-25T18:15:21.579411Z",
     "shell.execute_reply": "2021-08-25T18:15:21.578510Z",
     "shell.execute_reply.started": "2021-08-25T18:15:20.575307Z"
    }
   },
   "outputs": [
    {
     "name": "stdout",
     "output_type": "stream",
     "text": [
      "k:  0 | F:6.931e-01| subits:   1 | stepsize:7.159e-01 | gap:+0.000e+00 | tarGap:+1.000e+00 | OptimApprox: 6.508e-02 | Optim: 6.508e-02 \n",
      "k:  1 | F:6.909e-01| subits:   1 | stepsize:7.159e-01 | gap:+1.388e-17 | tarGap:+1.250e-01 | OptimApprox: 3.057e-02 | Optim: 3.057e-02 \n",
      "k:  2 | F:6.904e-01| subits:   1 | stepsize:7.159e-01 | gap:+0.000e+00 | tarGap:+3.704e-02 | OptimApprox: 1.457e-02 | Optim: 1.457e-02 \n",
      "k:  3 | F:6.903e-01| subits:   1 | stepsize:7.159e-01 | gap:+0.000e+00 | tarGap:+1.562e-02 | OptimApprox: 7.029e-03 | Optim: 7.029e-03 \n",
      "k:  4 | F:6.903e-01| subits:   1 | stepsize:7.159e-01 | gap:+6.939e-18 | tarGap:+8.000e-03 | OptimApprox: 3.423e-03 | Optim: 3.423e-03 \n",
      "k:  5 | F:6.903e-01| subits:   1 | stepsize:7.159e-01 | gap:+6.939e-18 | tarGap:+4.630e-03 | OptimApprox: 1.677e-03 | Optim: 1.677e-03 \n",
      "k:  6 | F:6.903e-01| subits:   1 | stepsize:7.159e-01 | gap:+0.000e+00 | tarGap:+2.915e-03 | OptimApprox: 8.246e-04 | Optim: 8.246e-04 \n",
      "k:  7 | F:6.903e-01| subits:   1 | stepsize:7.159e-01 | gap:-6.939e-18 | tarGap:+1.953e-03 | OptimApprox: 4.065e-04 | Optim: 4.065e-04 \n",
      "k:  8 | F:6.903e-01| subits:   1 | stepsize:7.159e-01 | gap:-1.388e-17 | tarGap:+1.372e-03 | OptimApprox: 2.007e-04 | Optim: 2.007e-04 \n",
      "k:  9 | F:6.903e-01| subits:   1 | stepsize:7.159e-01 | gap:-6.939e-18 | tarGap:+1.000e-03 | OptimApprox: 9.920e-05 | Optim: 9.920e-05 \n",
      "k: 10 | F:6.903e-01| subits:   1 | stepsize:7.159e-01 | gap:+0.000e+00 | tarGap:+7.513e-04 | OptimApprox: 4.905e-05 | Optim: 4.905e-05 \n",
      "k: 11 | F:6.903e-01| subits:   1 | stepsize:7.159e-01 | gap:+2.082e-17 | tarGap:+5.787e-04 | OptimApprox: 2.426e-05 | Optim: 2.426e-05 \n",
      "k: 12 | F:6.903e-01| subits:   1 | stepsize:7.159e-01 | gap:-6.939e-18 | tarGap:+4.552e-04 | OptimApprox: 1.200e-05 | Optim: 1.200e-05 \n",
      "k: 13 | F:6.903e-01| subits:   1 | stepsize:7.159e-01 | gap:+0.000e+00 | tarGap:+3.644e-04 | OptimApprox: 5.940e-06 | Optim: 5.940e-06 \n"
     ]
    }
   ],
   "source": [
    "# initialization\n",
    "k = 0\n",
    "# constant stepsize rule\n",
    "alphak = 1/L * 0.8\n",
    "xk = np.zeros((p,1))\n",
    "y_last_round = xk.copy()\n",
    "while True:\n",
    "    fxk = f.func(xk)\n",
    "    rxk = r.func(xk)\n",
    "    gradfxk = f.grad(xk)\n",
    "    uk = xk - alphak * gradfxk\n",
    "    prox_actual = prox_gl1(uk)\n",
    "    # constant stepsize rule\n",
    "    stepsize = 1 / alphak\n",
    "    y_current = y_last_round\n",
    "    inner_iters = 0\n",
    "    while True:\n",
    "        inner_iters += 1\n",
    "        ytrial, projected_group = projGL1Ball(y_current - stepsize * (alphak * y_current + uk))\n",
    "        xtrial = alphak * ytrial + uk\n",
    "        xtrial_proj = xtrial.copy()\n",
    "        for i in range(r.K):\n",
    "            if i not in projected_group:\n",
    "                start, end = r.starts[i], r.ends[i]\n",
    "                xtrial_proj[start:end] = 0.0\n",
    "        # check for termination\n",
    "        dualVal = dual(ytrial, uk, alphak)\n",
    "        primalValProj = primal(xtrial_proj, uk, alphak)\n",
    "        gapProj = (primalValProj - dualVal)[0][0]\n",
    "        if gapProj < 1/(k+1)**3:\n",
    "            xtrial = xtrial_proj\n",
    "            gap = gapProj\n",
    "            break\n",
    "        primalVal = primal(xtrial, uk, alphak)\n",
    "        gap = (primalVal - dualVal)[0][0]\n",
    "        if gap < 1/(k+1)**3:\n",
    "            break\n",
    "        if inner_iters > 3:\n",
    "            break\n",
    "        y_current = ytrial\n",
    "        stepsize *= 0.8\n",
    "    y_last_round = ytrial\n",
    "    optim_approx = norm(xtrial - xk)\n",
    "    optim_actual = norm(prox_actual - xk)\n",
    "    print(f\"k:{k:3d} | F:{fxk+rxk:3.3e}| subits:{inner_iters:4d} | stepsize:{stepsize:3.3e} | gap:{gap:+3.3e} | tarGap:{1/(k+1)**3:+3.3e} | OptimApprox: {optim_approx:3.3e} | Optim: {optim_actual:3.3e} \")\n",
    "    if optim_actual < 1e-5:\n",
    "        break\n",
    "    k += 1\n",
    "    xk = xtrial"
   ]
  },
  {
   "cell_type": "code",
   "execution_count": 5,
   "id": "convinced-exception",
   "metadata": {
    "execution": {
     "iopub.execute_input": "2021-08-25T18:15:21.581300Z",
     "iopub.status.busy": "2021-08-25T18:15:21.580952Z",
     "iopub.status.idle": "2021-08-25T18:15:21.590622Z",
     "shell.execute_reply": "2021-08-25T18:15:21.589488Z",
     "shell.execute_reply.started": "2021-08-25T18:15:21.581259Z"
    }
   },
   "outputs": [
    {
     "data": {
      "text/plain": [
       "array([[ 0.        ,  0.        ,  0.        ,  0.        , -0.07203054,\n",
       "        -0.02478641, -0.06501051, -0.0728183 ]])"
      ]
     },
     "execution_count": 5,
     "metadata": {},
     "output_type": "execute_result"
    }
   ],
   "source": [
    "xk.T"
   ]
  },
  {
   "cell_type": "code",
   "execution_count": 6,
   "id": "fundamental-adapter",
   "metadata": {
    "execution": {
     "iopub.execute_input": "2021-08-25T18:15:21.591863Z",
     "iopub.status.busy": "2021-08-25T18:15:21.591574Z",
     "iopub.status.idle": "2021-08-25T18:15:21.598391Z",
     "shell.execute_reply": "2021-08-25T18:15:21.597057Z",
     "shell.execute_reply.started": "2021-08-25T18:15:21.591820Z"
    }
   },
   "outputs": [
    {
     "name": "stdout",
     "output_type": "stream",
     "text": [
      "#nz: 1\n"
     ]
    }
   ],
   "source": [
    "print(\"#nz:\", utils.get_group_structure(xtrial, r.K, r.starts, r.ends))"
   ]
  },
  {
   "cell_type": "code",
   "execution_count": 10,
   "id": "shared-guide",
   "metadata": {
    "execution": {
     "iopub.execute_input": "2021-08-25T18:16:38.211726Z",
     "iopub.status.busy": "2021-08-25T18:16:38.211454Z",
     "iopub.status.idle": "2021-08-25T18:16:38.253495Z",
     "shell.execute_reply": "2021-08-25T18:16:38.251715Z",
     "shell.execute_reply.started": "2021-08-25T18:16:38.211700Z"
    }
   },
   "outputs": [
    {
     "name": "stdout",
     "output_type": "stream",
     "text": [
      "projection accepted!\n",
      "k:  0 | subits:   3 | projGrp:[1] | gap:+9.191e-01 | tarGap:+1.000e+00 | OptimApprox: 3.205e+00 | Optim: 3.127e+00 \n",
      "projection accepted!\n",
      "k:  1 | subits:   1 | projGrp:[1] | gap:+4.274e-03 | tarGap:+1.250e-01 | OptimApprox: 5.725e-01 | Optim: 5.736e-01 \n",
      "projection accepted!\n",
      "k:  2 | subits:   1 | projGrp:[1] | gap:+8.845e-04 | tarGap:+3.704e-02 | OptimApprox: 1.153e-01 | Optim: 1.163e-01 \n",
      "projection accepted!\n",
      "k:  3 | subits:   1 | projGrp:[1] | gap:+3.323e-04 | tarGap:+1.562e-02 | OptimApprox: 2.375e-02 | Optim: 2.445e-02 \n",
      "projection accepted!\n",
      "k:  4 | subits:   1 | projGrp:[1] | gap:+2.130e-04 | tarGap:+8.000e-03 | OptimApprox: 5.233e-03 | Optim: 5.684e-03 \n",
      "projection accepted!\n",
      "k:  5 | subits:   1 | projGrp:[1] | gap:+1.644e-04 | tarGap:+4.630e-03 | OptimApprox: 1.342e-03 | Optim: 1.587e-03 \n",
      "projection accepted!\n",
      "k:  6 | subits:   1 | projGrp:[1] | gap:+1.320e-04 | tarGap:+2.915e-03 | OptimApprox: 4.182e-04 | Optim: 5.283e-04 \n",
      "projection accepted!\n",
      "k:  7 | subits:   1 | projGrp:[1] | gap:+1.067e-04 | tarGap:+1.953e-03 | OptimApprox: 1.482e-04 | Optim: 1.926e-04 \n",
      "projection accepted!\n",
      "k:  8 | subits:   1 | projGrp:[1] | gap:+8.641e-05 | tarGap:+1.372e-03 | OptimApprox: 5.525e-05 | Optim: 7.250e-05 \n",
      "projection accepted!\n",
      "k:  9 | subits:   1 | projGrp:[1] | gap:+6.999e-05 | tarGap:+1.000e-03 | OptimApprox: 2.093e-05 | Optim: 2.754e-05 \n",
      "projection accepted!\n",
      "k: 10 | subits:   1 | projGrp:[1] | gap:+5.669e-05 | tarGap:+7.513e-04 | OptimApprox: 7.968e-06 | Optim: 1.049e-05 \n",
      "projection accepted!\n",
      "k: 11 | subits:   1 | projGrp:[1] | gap:+4.592e-05 | tarGap:+5.787e-04 | OptimApprox: 3.037e-06 | Optim: 3.999e-06 \n"
     ]
    }
   ],
   "source": [
    "# setup problems\n",
    "Q = np.diag([1,1,2,2,]); b = np.array([1/2, 1/2, -33/5, -44/5]).reshape(-1,1); c=0\n",
    "f = SimpleQudratic(Q,b,c)\n",
    "Lambda_group = np.array([1.0,1.0]); group = np.array([1,1,2,2])\n",
    "r = GL1(group, Lambda_group=Lambda_group)\n",
    "\n",
    "# initialization\n",
    "k = 0\n",
    "# constant stepsize rule\n",
    "alphak = 1/np.max(eigh(Q)[0]) * 0.8\n",
    "xk = np.ones((Q.shape[0],1)) + 0.02\n",
    "y_last_round = xk.copy()\n",
    "xseq = []\n",
    "yseq = []\n",
    "xseq.append(xk)\n",
    "yseq.append(y_last_round)\n",
    "while True:\n",
    "    gradfxk = f.grad(xk)\n",
    "    uk = xk - alphak * gradfxk\n",
    "    prox_actual = prox_gl1(uk)\n",
    "    # projected gradient solve the dual proximal gradient problem\n",
    "    # http://www.princeton.edu/~yc5/ele522_optimization/lectures/grad_descent_constrained.pdf\n",
    "    # constant stepsize rule\n",
    "    stepsize = 1 / alphak * 0.1\n",
    "    y_current = y_last_round\n",
    "    inner_iters = 0\n",
    "    while True:\n",
    "        inner_iters += 1\n",
    "        ytrial, projected_group = projGL1Ball(y_current - stepsize * (alphak * y_current + uk))\n",
    "        xtrial = alphak * ytrial + uk\n",
    "        xtrial_proj = xtrial.copy()\n",
    "        for i in range(r.K):\n",
    "            if i not in projected_group:\n",
    "                start, end = r.starts[i], r.ends[i]\n",
    "                xtrial_proj[start:end] = 0.0\n",
    "        # check for termination\n",
    "        dualVal = dual(ytrial, uk, alphak)\n",
    "        primalValProj = primal(xtrial_proj, uk, alphak)\n",
    "        gapProj = (primalValProj - dualVal)[0][0]\n",
    "        if gapProj < 1/(k+1)**3:\n",
    "            print(\"projection accepted!\")\n",
    "            xtrial = xtrial_proj\n",
    "            gap = gapProj\n",
    "            break\n",
    "        primalVal = primal(xtrial, uk, alphak)\n",
    "        gap = (primalVal - dualVal)[0][0]\n",
    "        if gap < 1/(k+1)**3:\n",
    "            print(\"projection not accepted!\")\n",
    "            break\n",
    "        if inner_iters > 1000:\n",
    "            break\n",
    "        y_current = ytrial\n",
    "        stepsize *= 0.8\n",
    "    y_last_round = ytrial\n",
    "    optim_approx = norm(xtrial - xk)\n",
    "    optim_actual = norm(prox_actual - xk)\n",
    "    print(f\"k:{k:3d} | subits:{inner_iters:4d} | projGrp:{projected_group} | gap:{gap:+3.3e} | tarGap:{1/(k+1)**3:+3.3e} | OptimApprox: {optim_approx:3.3e} | Optim: {optim_actual:3.3e} \")\n",
    "    if optim_actual < 1e-5:\n",
    "        break\n",
    "    k += 1\n",
    "    xk = xtrial\n",
    "    xseq.append(xk)\n",
    "    yseq.append(y_last_round)\n"
   ]
  },
  {
   "cell_type": "code",
   "execution_count": null,
   "id": "finished-turkish",
   "metadata": {},
   "outputs": [],
   "source": []
  },
  {
   "cell_type": "code",
   "execution_count": null,
   "id": "false-continent",
   "metadata": {},
   "outputs": [],
   "source": [
    "# initialization\n",
    "k = 0\n",
    "# constant stepsize rule\n",
    "alphak = 1/np.max(eigh(Q)[0]) * 0.8\n",
    "xk = np.ones((Q.shape[0],1)) + 0.02\n",
    "y_last_round = xk.copy()\n",
    "xseq = []\n",
    "yseq = []\n",
    "xseq.append(xk)\n",
    "yseq.append(y_last_round)\n",
    "while True:\n",
    "    gradfxk = f.grad(xk)\n",
    "    uk = xk - alphak * gradfxk\n",
    "    prox_actual = prox_gl1(uk)\n",
    "    # projected gradient solve the dual proximal gradient problem\n",
    "    # http://www.princeton.edu/~yc5/ele522_optimization/lectures/grad_descent_constrained.pdf\n",
    "    # constant stepsize rule\n",
    "    stepsize = 1/alphak * 0.1\n",
    "    y_current = y_last_round\n",
    "    inner_iters = 0\n",
    "    while True:\n",
    "        inner_iters += 1\n",
    "        ytrial, projected_group = projGL1Ball(y_current - stepsize * (alphak * y_current + uk))\n",
    "        xtrial = alphak * ytrial + uk\n",
    "        # check for termination\n",
    "        primalVal = primal(xtrial, uk, alphak)\n",
    "        dualVal = dual(ytrial, uk, alphak)\n",
    "        gap = (primalVal - dualVal)[0][0]\n",
    "        if gap < 1/(k+1)**3:\n",
    "            break\n",
    "        if inner_iters > 1000:\n",
    "            break\n",
    "        y_current = ytrial\n",
    "    y_last_round = ytrial\n",
    "    optim_approx = norm(xtrial - xk)\n",
    "    optim_actual = norm(prox_actual - xk)\n",
    "    print(f\"k:{k:3d} | subits:{inner_iters:4d} | projGrp:{projected_group} |gap:{gap:+3.3e} | tarGap:{1/(k+1)**3:+3.3e} | OptimApprox: {optim_approx:3.3e} | Optim: {optim_actual:3.3e} \")\n",
    "    if optim_actual < 1e-5:\n",
    "        break\n",
    "    k += 1\n",
    "    xk = xtrial\n",
    "    xseq.append(xk)\n",
    "    yseq.append(y_last_round)"
   ]
  },
  {
   "cell_type": "code",
   "execution_count": null,
   "id": "binding-ticket",
   "metadata": {},
   "outputs": [],
   "source": []
  },
  {
   "cell_type": "markdown",
   "id": "brown-madagascar",
   "metadata": {},
   "source": [
    "# Overlapping"
   ]
  },
  {
   "cell_type": "code",
   "execution_count": 16,
   "id": "beneficial-museum",
   "metadata": {
    "execution": {
     "iopub.execute_input": "2021-08-29T19:05:12.905934Z",
     "iopub.status.busy": "2021-08-29T19:05:12.905696Z",
     "iopub.status.idle": "2021-08-29T19:05:12.918078Z",
     "shell.execute_reply": "2021-08-29T19:05:12.916810Z",
     "shell.execute_reply.started": "2021-08-29T19:05:12.905907Z"
    }
   },
   "outputs": [
    {
     "name": "stdout",
     "output_type": "stream",
     "text": [
      "[[ 0.24474511 -0.61829389  0.          0.          0.          0.28600374\n",
      "   0.27711426 -0.20520255  0.0050602  -0.72299715]]\n"
     ]
    }
   ],
   "source": [
    "from scipy.sparse import csc_matrix\n",
    "import spams\n",
    "# import os\n",
    "# os.environ['KMP_DUPLICATE_LIB_OK']='True'\n",
    "import numpy as np\n",
    "from numpy.linalg import norm, eigh\n",
    "param = {'numThreads' : -1,'verbose' : True,\n",
    "         'pos' : False, 'intercept' : False, 'lambda1' : 1}\n",
    "m = 10\n",
    "n = 1\n",
    "np.random.seed(1234)\n",
    "U = np.asfortranarray(np.random.normal(size = (m,n)),dtype=np.float64)\n",
    "# Example 1 of tree structure\n",
    "# tree structured groups:\n",
    "# g1= {0 1 2 3 4 5 6 7 8 9}\n",
    "# g2= {2 3 4}\n",
    "# g3= {5 6 7 8 9}\n",
    "own_variables =  np.array([0,2,5],dtype=np.int32) # pointer to the first variable of each group\n",
    "N_own_variables =  np.array([2,3,5],dtype=np.int32) # number of \"root\" variables in each group\n",
    "# (variables that are in a group, but not in its descendants).\n",
    "# for instance root(g1)={0,1}, root(g2)={2 3 4}, root(g3)={5 6 7 8 9}\n",
    "eta_g = np.array([1,30,1],dtype=np.float64) # weights for each group, they should be non-zero to use fenchel duality\n",
    "groups = np.asfortranarray([[0,0,0],\n",
    "                            [1,0,0],\n",
    "                            [1,0,0]],dtype = np.bool)\n",
    "# first group should always be the root of the tree\n",
    "# non-zero entriees mean inclusion relation ship, here g2 is a children of g1,\n",
    "# g3 is a children of g1\n",
    "groups = csc_matrix(groups,dtype=np.bool)\n",
    "tree = {'eta_g': eta_g,'groups' : groups,'own_variables' : own_variables,\n",
    "        'N_own_variables' : N_own_variables}\n",
    "\n",
    "param['regul'] = 'tree-l2'\n",
    "alpha = spams.proximalTree(U,tree,False,**param)\n",
    "print(alpha.T)"
   ]
  },
  {
   "cell_type": "code",
   "execution_count": 2,
   "id": "improving-patent",
   "metadata": {
    "execution": {
     "iopub.execute_input": "2021-08-29T18:43:27.691121Z",
     "iopub.status.busy": "2021-08-29T18:43:27.690823Z",
     "iopub.status.idle": "2021-08-29T18:43:27.710091Z",
     "shell.execute_reply": "2021-08-29T18:43:27.707680Z",
     "shell.execute_reply.started": "2021-08-29T18:43:27.691067Z"
    }
   },
   "outputs": [],
   "source": [
    "def groups_to_matrix(groups):\n",
    "    lifted_dimension = sum([len(g) for g in groups])\n",
    "    groups_flattern = []\n",
    "    for g in groups:\n",
    "        groups_flattern += g\n",
    "    p = max(groups_flattern) + 1\n",
    "    A = np.zeros((p, lifted_dimension))\n",
    "    for (colidx, rowidx) in enumerate(groups_flattern):\n",
    "        A[rowidx, colidx] = 1.0\n",
    "    #return lifted_dimension, groups_flattern, A\n",
    "    return A\n",
    "def relabel(groups):\n",
    "    group_size = [len(g) for g in groups]\n",
    "    starts, ends = [] * len(groups) , [] * len(groups)\n",
    "    start = 0\n",
    "    for i in group_size:\n",
    "        starts.append(start)\n",
    "        end = start + i \n",
    "        ends.append(end)\n",
    "        start = end \n",
    "    return starts, ends\n",
    "def projGL1Ball(y, starts, ends, weights, K):\n",
    "    yans = y.copy()\n",
    "    projected_group = []\n",
    "    for i in range(K):\n",
    "        start, end = starts[i], ends[i]\n",
    "        y_Gi = y[start:end]\n",
    "        norm_y_Gi = norm(y_Gi)\n",
    "        if norm_y_Gi > weights[i]:\n",
    "            yans[start:end] = (weights[i] / norm_y_Gi) * y_Gi\n",
    "            projected_group.append(i)\n",
    "    return yans, projected_group\n",
    "def primal(x,uk,alphak):\n",
    "    return (0.5/alphak) * norm(x-uk) ** 2 + r.func(x)\n",
    "def dual(y,uk,alphak):\n",
    "    return -(alphak/2 * norm(y) ** 2 + uk.T@y)\n",
    "# groups = [[0,1,2], [1,2,3], [2,4]]\n",
    "# A = groups_to_matrix(groups)\n",
    "# relabel(groups)"
   ]
  },
  {
   "cell_type": "code",
   "execution_count": 3,
   "id": "excessive-masters",
   "metadata": {
    "execution": {
     "iopub.execute_input": "2021-08-29T18:43:27.953957Z",
     "iopub.status.busy": "2021-08-29T18:43:27.953680Z",
     "iopub.status.idle": "2021-08-29T18:43:27.966063Z",
     "shell.execute_reply": "2021-08-29T18:43:27.964915Z",
     "shell.execute_reply.started": "2021-08-29T18:43:27.953919Z"
    }
   },
   "outputs": [],
   "source": [
    "class natOG:\n",
    "    def __init__(self, groups, penalty=1.0, weights=None):\n",
    "        assert len(groups) == len(weights), \"should be of the same lengthg\"\n",
    "        self.penalty = penalty\n",
    "        self.groups = groups\n",
    "        self.K = len(groups)\n",
    "        if weights is None:\n",
    "            weights = np.array([np.sqrt(len(g)) for g in groups])\n",
    "        self.weights = self.penalty * weights\n",
    "    def func(self, x):\n",
    "        ans = 0.0\n",
    "        for i,g in enumerate(self.groups):\n",
    "            xg = x[g]\n",
    "            ans += norm(xg) * self.weights[i]\n",
    "        return ans"
   ]
  },
  {
   "cell_type": "code",
   "execution_count": 4,
   "id": "ongoing-there",
   "metadata": {
    "execution": {
     "iopub.execute_input": "2021-08-29T18:43:28.445124Z",
     "iopub.status.busy": "2021-08-29T18:43:28.444892Z",
     "iopub.status.idle": "2021-08-29T18:43:28.452307Z",
     "shell.execute_reply": "2021-08-29T18:43:28.451276Z",
     "shell.execute_reply.started": "2021-08-29T18:43:28.445097Z"
    }
   },
   "outputs": [],
   "source": [
    "g0= [0, 1, 2, 3, 4, 5, 6, 7, 8, 9]\n",
    "g1= [2, 3, 4]\n",
    "g2= [5, 6, 7, 8, 9]\n",
    "groups = [g0, g1, g2]\n",
    "groups_dict = {}\n",
    "for i in range(len(groups)):\n",
    "    groups_dict[i] = groups[i]\n",
    "A = groups_to_matrix(groups)\n",
    "starts, ends = relabel(groups)\n",
    "weights = np.array([1.0,30.0,1.0])\n",
    "r = natOG(groups, penalty=1.0, weights=weights)"
   ]
  },
  {
   "cell_type": "code",
   "execution_count": 10,
   "id": "unlikely-editor",
   "metadata": {
    "execution": {
     "iopub.execute_input": "2021-08-29T18:43:49.112998Z",
     "iopub.status.busy": "2021-08-29T18:43:49.112660Z",
     "iopub.status.idle": "2021-08-29T18:43:49.157401Z",
     "shell.execute_reply": "2021-08-29T18:43:49.156082Z",
     "shell.execute_reply.started": "2021-08-29T18:43:49.112944Z"
    }
   },
   "outputs": [
    {
     "name": "stdout",
     "output_type": "stream",
     "text": [
      "72 9.896261587982735e-11\n"
     ]
    }
   ],
   "source": [
    "alphak = 1.0\n",
    "stepsize = 1 / alphak \n",
    "# stepsize = 1 / ( alphak * max(eigh(A.T@A)[0]))\n",
    "lifted_dim = A.shape[1]\n",
    "y_lifted = np.zeros((lifted_dim,  1))\n",
    "inner_iters = 0\n",
    "np.random.seed(1234)\n",
    "uk = np.random.normal(size = (m,n))\n",
    "while True:\n",
    "    inner_iters += 1\n",
    "    y_lifted_trial, projected_group = projGL1Ball(y_lifted - stepsize * (alphak * A.T@A@y_lifted + A.T@uk), starts, ends, r.weights, len(groups))\n",
    "    xtrial = alphak * (A@y_lifted_trial) + uk\n",
    "    xtrial_proj = xtrial.copy()\n",
    "    for g in range(r.K):\n",
    "        if g not in projected_group:\n",
    "            xtrial_proj[groups_dict[g]] = 0.0\n",
    "    # check for termination\n",
    "    primalVal = primal(xtrial, uk, alphak)\n",
    "    dualVal = dual(A@y_lifted_trial, uk, alphak)\n",
    "    gap = (primalVal - dualVal)[0][0]\n",
    "    if gap < 1e-10:\n",
    "        break\n",
    "    if inner_iters > 1000:\n",
    "        break\n",
    "    y_lifted = y_lifted_trial\n",
    "print(inner_iters,gap)\n"
   ]
  },
  {
   "cell_type": "code",
   "execution_count": null,
   "id": "healthy-consent",
   "metadata": {},
   "outputs": [],
   "source": []
  },
  {
   "cell_type": "code",
   "execution_count": 11,
   "id": "ignored-ratio",
   "metadata": {
    "execution": {
     "iopub.execute_input": "2021-08-29T18:43:49.697373Z",
     "iopub.status.busy": "2021-08-29T18:43:49.697071Z",
     "iopub.status.idle": "2021-08-29T18:43:49.704446Z",
     "shell.execute_reply": "2021-08-29T18:43:49.702852Z",
     "shell.execute_reply.started": "2021-08-29T18:43:49.697339Z"
    }
   },
   "outputs": [
    {
     "name": "stdout",
     "output_type": "stream",
     "text": [
      "[[ 0.24474511 -0.61829389  0.          0.          0.          0.28600374\n",
      "   0.27711426 -0.20520255  0.0050602  -0.72299715]]\n",
      "diff:\n",
      "[[ 0.00000000e+00  0.00000000e+00  0.00000000e+00  0.00000000e+00\n",
      "   0.00000000e+00 -5.55111512e-17 -5.55111512e-17  2.77555756e-17\n",
      "  -8.67361738e-19 -1.11022302e-16]]\n"
     ]
    }
   ],
   "source": [
    "print(xtrial_proj.T)\n",
    "print(\"diff:\")\n",
    "print((xtrial_proj - alpha).T)"
   ]
  },
  {
   "cell_type": "code",
   "execution_count": 28,
   "id": "rational-carnival",
   "metadata": {
    "execution": {
     "iopub.execute_input": "2021-08-29T18:38:11.488946Z",
     "iopub.status.busy": "2021-08-29T18:38:11.488718Z",
     "iopub.status.idle": "2021-08-29T18:38:11.497079Z",
     "shell.execute_reply": "2021-08-29T18:38:11.495879Z",
     "shell.execute_reply.started": "2021-08-29T18:38:11.488920Z"
    }
   },
   "outputs": [
    {
     "data": {
      "text/plain": [
       "array([1., 1., 1., 1., 1., 1., 1., 1.])"
      ]
     },
     "execution_count": 28,
     "metadata": {},
     "output_type": "execute_result"
    }
   ],
   "source": [
    "# g0, g1, g2 = [0,1,3], [2,4,5], [6,7]\n",
    "# g0, g1, g2 = [0,1,3,6], [0,1,2,3,6,7], [0,1,3,4,5,6,7,8]\n",
    "# g0, g1, g2 = [0, 1, 2, 3, 4], [3, 4, 5, 6, 7, 8], [6, 7, 8, 9]\n",
    "groups = [g0, g1, g2]\n",
    "A = groups_to_matrix(groups)\n",
    "lam, _ = eigh(A.T@A)\n",
    "lam"
   ]
  },
  {
   "cell_type": "code",
   "execution_count": 55,
   "id": "incomplete-samoa",
   "metadata": {
    "execution": {
     "iopub.execute_input": "2021-08-27T21:29:29.201729Z",
     "iopub.status.busy": "2021-08-27T21:29:29.201459Z",
     "iopub.status.idle": "2021-08-27T21:29:29.212023Z",
     "shell.execute_reply": "2021-08-27T21:29:29.209754Z",
     "shell.execute_reply.started": "2021-08-27T21:29:29.201702Z"
    }
   },
   "outputs": [],
   "source": [
    "xk = np.array([-1.1, -2.2, -3.3, 4.4, 5.5, 6.6, 7.7, 8.8, 9.9, 11.4]).reshape(-1,1)\n",
    "gradfxk = 0.01*np.array([11.1, 2.2, 33.3, -44.4, -5.5, 36.6, 77.7, 8.8, 9.9, 11.4]).reshape(-1,1)\n",
    "alphak = 0.2;\n",
    "uk = xk - alphak * gradfxk\n",
    "g0= [0, 1, 2, 3, 4]\n",
    "g1= [3, 4, 5, 6, 7, 8]\n",
    "g2= [6, 7, 8, 9]\n",
    "groups = [g0, g1, g2]\n",
    "groups_dict = {}\n",
    "for i in range(len(groups)):\n",
    "    groups_dict[i] = groups[i]\n",
    "A = groups_to_matrix(groups)\n",
    "starts, ends = relabel(groups)\n",
    "weights = np.array([np.sqrt(1000),np.sqrt(2),np.sqrt(10)]) * 2.0\n",
    "r = natOG(groups, penalty=1.0, weights=weights)"
   ]
  },
  {
   "cell_type": "code",
   "execution_count": 56,
   "id": "expanded-department",
   "metadata": {
    "execution": {
     "iopub.execute_input": "2021-08-27T21:29:29.565703Z",
     "iopub.status.busy": "2021-08-27T21:29:29.564904Z",
     "iopub.status.idle": "2021-08-27T21:29:29.572927Z",
     "shell.execute_reply": "2021-08-27T21:29:29.571881Z",
     "shell.execute_reply.started": "2021-08-27T21:29:29.565625Z"
    }
   },
   "outputs": [
    {
     "data": {
      "text/plain": [
       "([0, 5, 11], [5, 11, 15])"
      ]
     },
     "execution_count": 56,
     "metadata": {},
     "output_type": "execute_result"
    }
   ],
   "source": [
    "starts, ends"
   ]
  },
  {
   "cell_type": "code",
   "execution_count": 57,
   "id": "widespread-decimal",
   "metadata": {
    "execution": {
     "iopub.execute_input": "2021-08-27T21:29:30.012020Z",
     "iopub.status.busy": "2021-08-27T21:29:30.010881Z",
     "iopub.status.idle": "2021-08-27T21:29:30.039472Z",
     "shell.execute_reply": "2021-08-27T21:29:30.037852Z",
     "shell.execute_reply.started": "2021-08-27T21:29:30.011831Z"
    }
   },
   "outputs": [
    {
     "name": "stdout",
     "output_type": "stream",
     "text": [
      "0\n",
      "0\n",
      "0\n",
      "0\n",
      "0\n",
      "0\n",
      "0\n",
      "0\n",
      "0\n",
      "0\n",
      "0\n",
      "0\n",
      "0\n",
      "0\n",
      "0\n",
      "0\n",
      "0\n",
      "17 6.440359356929548e-11\n"
     ]
    }
   ],
   "source": [
    "stepsize = 1 / alphak\n",
    "lifted_dim = A.shape[1]\n",
    "y_lifted = np.zeros((lifted_dim,  1))\n",
    "inner_iters = 0\n",
    "while True:\n",
    "    inner_iters += 1\n",
    "    y_lifted_trial, projected_group = projGL1Ball(y_lifted - stepsize * (alphak * A.T@A@y_lifted + A.T@uk), starts, ends, r.weights, len(groups))\n",
    "    xtrial = alphak * (A@y_lifted_trial) + uk\n",
    "    xtrial_proj = xtrial.copy()\n",
    "    for g in range(r.K):\n",
    "        if g not in projected_group:\n",
    "            xtrial_proj[groups_dict[g]] = 0.0\n",
    "    # check for termination\n",
    "    primalVal = primal(xtrial, uk, alphak)\n",
    "    dualVal = dual(A@y_lifted_trial, uk, alphak)\n",
    "    gap = (primalVal - dualVal)[0][0]\n",
    "    if gap < 1e-10:\n",
    "        break\n",
    "    if inner_iters > 1000:\n",
    "        break\n",
    "    y_lifted = y_lifted_trial\n",
    "print(inner_iters,gap)"
   ]
  },
  {
   "cell_type": "code",
   "execution_count": 58,
   "id": "established-filing",
   "metadata": {
    "execution": {
     "iopub.execute_input": "2021-08-27T21:29:30.997509Z",
     "iopub.status.busy": "2021-08-27T21:29:30.997114Z",
     "iopub.status.idle": "2021-08-27T21:29:31.005586Z",
     "shell.execute_reply": "2021-08-27T21:29:31.004544Z",
     "shell.execute_reply.started": "2021-08-27T21:29:30.997469Z"
    }
   },
   "outputs": [
    {
     "data": {
      "text/plain": [
       "array([[ 0.        ],\n",
       "       [ 0.        ],\n",
       "       [ 0.        ],\n",
       "       [ 0.        ],\n",
       "       [ 0.        ],\n",
       "       [ 6.29082982],\n",
       "       [ 6.7938454 ],\n",
       "       [ 7.90847332],\n",
       "       [ 8.89703248],\n",
       "       [10.60321887]])"
      ]
     },
     "execution_count": 58,
     "metadata": {},
     "output_type": "execute_result"
    }
   ],
   "source": [
    "xtrial_proj"
   ]
  },
  {
   "cell_type": "code",
   "execution_count": 48,
   "id": "august-empty",
   "metadata": {
    "execution": {
     "iopub.execute_input": "2021-08-27T21:20:31.841346Z",
     "iopub.status.busy": "2021-08-27T21:20:31.841086Z",
     "iopub.status.idle": "2021-08-27T21:20:31.850168Z",
     "shell.execute_reply": "2021-08-27T21:20:31.848927Z",
     "shell.execute_reply.started": "2021-08-27T21:20:31.841318Z"
    }
   },
   "outputs": [
    {
     "data": {
      "text/plain": [
       "array([[-1.1222],\n",
       "       [-2.2044],\n",
       "       [-3.3666],\n",
       "       [ 4.4888],\n",
       "       [ 5.511 ],\n",
       "       [ 6.5268],\n",
       "       [ 7.5446],\n",
       "       [ 8.7824],\n",
       "       [ 9.8802],\n",
       "       [11.3772]])"
      ]
     },
     "execution_count": 48,
     "metadata": {},
     "output_type": "execute_result"
    }
   ],
   "source": [
    "uk"
   ]
  },
  {
   "cell_type": "code",
   "execution_count": 19,
   "id": "blond-blank",
   "metadata": {
    "execution": {
     "iopub.execute_input": "2021-08-29T19:51:46.323484Z",
     "iopub.status.busy": "2021-08-29T19:51:46.323252Z",
     "iopub.status.idle": "2021-08-29T19:51:46.332491Z",
     "shell.execute_reply": "2021-08-29T19:51:46.331169Z",
     "shell.execute_reply.started": "2021-08-29T19:51:46.323457Z"
    }
   },
   "outputs": [
    {
     "data": {
      "text/plain": [
       "array([[inf],\n",
       "       [inf],\n",
       "       [inf]])"
      ]
     },
     "execution_count": 19,
     "metadata": {},
     "output_type": "execute_result"
    }
   ],
   "source": []
  },
  {
   "cell_type": "code",
   "execution_count": 46,
   "id": "geographic-replacement",
   "metadata": {
    "execution": {
     "iopub.execute_input": "2021-08-29T21:50:43.480475Z",
     "iopub.status.busy": "2021-08-29T21:50:43.480242Z",
     "iopub.status.idle": "2021-08-29T21:50:43.490467Z",
     "shell.execute_reply": "2021-08-29T21:50:43.489544Z",
     "shell.execute_reply.started": "2021-08-29T21:50:43.480449Z"
    }
   },
   "outputs": [],
   "source": [
    "import yaml\n",
    "with open('./config.yaml', \"r\") as f:\n",
    "    config = yaml.load(f, Loader=yaml.SafeLoader)"
   ]
  },
  {
   "cell_type": "code",
   "execution_count": 49,
   "id": "minimal-lithuania",
   "metadata": {
    "execution": {
     "iopub.execute_input": "2021-08-29T21:52:48.095453Z",
     "iopub.status.busy": "2021-08-29T21:52:48.095193Z",
     "iopub.status.idle": "2021-08-29T21:52:48.104994Z",
     "shell.execute_reply": "2021-08-29T21:52:48.103646Z",
     "shell.execute_reply.started": "2021-08-29T21:52:48.095425Z"
    }
   },
   "outputs": [
    {
     "data": {
      "text/plain": [
       "{'delta': 3, 'c': 1.0}"
      ]
     },
     "execution_count": 49,
     "metadata": {},
     "output_type": "execute_result"
    }
   ],
   "source": [
    "inexact_strategy_name = config['mainsolver']['inexact_strategy']\n",
    "config['inexactpg'][inexact_strategy_name]"
   ]
  },
  {
   "cell_type": "code",
   "execution_count": 50,
   "id": "robust-creature",
   "metadata": {
    "execution": {
     "iopub.execute_input": "2021-08-30T02:28:12.071908Z",
     "iopub.status.busy": "2021-08-30T02:28:12.070313Z",
     "iopub.status.idle": "2021-08-30T02:28:12.091256Z",
     "shell.execute_reply": "2021-08-30T02:28:12.089742Z",
     "shell.execute_reply.started": "2021-08-30T02:28:12.071774Z"
    }
   },
   "outputs": [],
   "source": [
    "A = np.diag([1,2]); B = np.array([[1,2],[3,4]])"
   ]
  },
  {
   "cell_type": "code",
   "execution_count": 51,
   "id": "reliable-problem",
   "metadata": {
    "execution": {
     "iopub.execute_input": "2021-08-30T02:28:14.565272Z",
     "iopub.status.busy": "2021-08-30T02:28:14.564987Z",
     "iopub.status.idle": "2021-08-30T02:28:14.578931Z",
     "shell.execute_reply": "2021-08-30T02:28:14.577873Z",
     "shell.execute_reply.started": "2021-08-30T02:28:14.565240Z"
    }
   },
   "outputs": [
    {
     "data": {
      "text/plain": [
       "(array([[1, 0],\n",
       "        [0, 2]]),\n",
       " array([[1, 2],\n",
       "        [3, 4]]))"
      ]
     },
     "execution_count": 51,
     "metadata": {},
     "output_type": "execute_result"
    }
   ],
   "source": [
    "A, B"
   ]
  },
  {
   "cell_type": "code",
   "execution_count": 52,
   "id": "permanent-cedar",
   "metadata": {
    "execution": {
     "iopub.execute_input": "2021-08-30T02:28:22.333639Z",
     "iopub.status.busy": "2021-08-30T02:28:22.333217Z",
     "iopub.status.idle": "2021-08-30T02:28:22.340268Z",
     "shell.execute_reply": "2021-08-30T02:28:22.339060Z",
     "shell.execute_reply.started": "2021-08-30T02:28:22.333601Z"
    }
   },
   "outputs": [
    {
     "data": {
      "text/plain": [
       "(array([[1, 2],\n",
       "        [6, 8]]),\n",
       " array([[1, 4],\n",
       "        [3, 8]]))"
      ]
     },
     "execution_count": 52,
     "metadata": {},
     "output_type": "execute_result"
    }
   ],
   "source": [
    "A@B, B@A"
   ]
  },
  {
   "cell_type": "code",
   "execution_count": null,
   "id": "defined-mirror",
   "metadata": {},
   "outputs": [],
   "source": []
  }
 ],
 "metadata": {
  "interpreter": {
   "hash": "703517ed9bdc81570f26788304b686af16b08fb69c73a3571779325daddaa49b"
  },
  "kernelspec": {
   "display_name": "Python 3",
   "language": "python",
   "name": "python3"
  },
  "language_info": {
   "codemirror_mode": {
    "name": "ipython",
    "version": 3
   },
   "file_extension": ".py",
   "mimetype": "text/x-python",
   "name": "python",
   "nbconvert_exporter": "python",
   "pygments_lexer": "ipython3",
   "version": "3.7.10"
  }
 },
 "nbformat": 4,
 "nbformat_minor": 5
}
